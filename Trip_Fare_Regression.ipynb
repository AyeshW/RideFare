{
  "nbformat": 4,
  "nbformat_minor": 0,
  "metadata": {
    "colab": {
      "name": "Trip Fare - Regression.ipynb",
      "provenance": [],
      "authorship_tag": "ABX9TyOOelODmHP2QS5CLJMGoOuq"
    },
    "kernelspec": {
      "name": "python3",
      "display_name": "Python 3"
    }
  },
  "cells": [
    {
      "cell_type": "code",
      "metadata": {
        "id": "f_J_FSBD0S1L",
        "colab_type": "code",
        "outputId": "c5688864-d44f-4f99-ef49-b5d56009a4af",
        "colab": {
          "base_uri": "https://localhost:8080/",
          "height": 34
        }
      },
      "source": [
        "from google.colab import drive, files\n",
        "drive.mount('/content/gdrive')"
      ],
      "execution_count": 0,
      "outputs": [
        {
          "output_type": "stream",
          "text": [
            "Drive already mounted at /content/gdrive; to attempt to forcibly remount, call drive.mount(\"/content/gdrive\", force_remount=True).\n"
          ],
          "name": "stdout"
        }
      ]
    },
    {
      "cell_type": "code",
      "metadata": {
        "id": "K0nRre1O3u3X",
        "colab_type": "code",
        "colab": {}
      },
      "source": [
        "import pandas as pd\n",
        "import numpy as np\n",
        "\n",
        "pd.set_option(\"display.max_columns\", 100)"
      ],
      "execution_count": 0,
      "outputs": []
    },
    {
      "cell_type": "code",
      "metadata": {
        "id": "Dj61qdUs4HJ5",
        "colab_type": "code",
        "colab": {}
      },
      "source": [
        "df = pd.read_csv(\n",
        "    \"/content/gdrive/My Drive/Colab Notebooks/TaxiFare/train.csv\", \n",
        "    index_col=\"tripid\"\n",
        ")\n",
        "print(df.dtypes)\n",
        "df.head()"
      ],
      "execution_count": 0,
      "outputs": []
    },
    {
      "cell_type": "code",
      "metadata": {
        "id": "NCHah5-r39i2",
        "colab_type": "code",
        "colab": {}
      },
      "source": [
        "labels ={\"label\": {\"correct\": 1, \"incorrect\": 0}}\n",
        "df.replace(labels, inplace=True)\n",
        "df.head()"
      ],
      "execution_count": 0,
      "outputs": []
    },
    {
      "cell_type": "code",
      "metadata": {
        "id": "x2iZrxIM5XjW",
        "colab_type": "code",
        "colab": {}
      },
      "source": [
        "missing_indices = np.where(df['fare'].isnull())[0]\n",
        "df.drop(df.index[missing_indices], inplace=True)\n",
        "\n",
        "correct_indices = np.where(df['label']==1)[0]\n",
        "incorrect_indices = np.where(df['label']==0)[0]"
      ],
      "execution_count": 0,
      "outputs": []
    },
    {
      "cell_type": "code",
      "metadata": {
        "id": "QFlOj_g-6o2U",
        "colab_type": "code",
        "outputId": "340e2477-e428-44ea-d059-8378d8c717c5",
        "colab": {
          "base_uri": "https://localhost:8080/",
          "height": 102
        }
      },
      "source": [
        "correct_df = df.drop(df.index[incorrect_indices])\n",
        "correct_df.drop(columns='label', inplace=True)\n",
        "\n",
        "incorrect_df = df.drop(df.index[correct_indices])\n",
        "incorrect_df.drop(columns='label', inplace=True)"
      ],
      "execution_count": 0,
      "outputs": [
        {
          "output_type": "stream",
          "text": [
            "/usr/local/lib/python3.6/dist-packages/pandas/core/frame.py:3997: SettingWithCopyWarning: \n",
            "A value is trying to be set on a copy of a slice from a DataFrame\n",
            "\n",
            "See the caveats in the documentation: https://pandas.pydata.org/pandas-docs/stable/user_guide/indexing.html#returning-a-view-versus-a-copy\n",
            "  errors=errors,\n"
          ],
          "name": "stderr"
        }
      ]
    },
    {
      "cell_type": "code",
      "metadata": {
        "id": "-76T47EY9OEl",
        "colab_type": "code",
        "outputId": "aa715c12-376b-49dd-eca3-2b449408baf4",
        "colab": {
          "base_uri": "https://localhost:8080/",
          "height": 102
        }
      },
      "source": [
        "fare_df = pd.DataFrame(correct_df['fare'])\n",
        "correct_df.drop(columns='fare', inplace=True)\n",
        "\n",
        "incorrect_fare = pd.DataFrame(incorrect_df['fare'])\n",
        "incorrect_df.drop(columns='fare', inplace=True)"
      ],
      "execution_count": 0,
      "outputs": [
        {
          "output_type": "stream",
          "text": [
            "/usr/local/lib/python3.6/dist-packages/pandas/core/frame.py:3997: SettingWithCopyWarning: \n",
            "A value is trying to be set on a copy of a slice from a DataFrame\n",
            "\n",
            "See the caveats in the documentation: https://pandas.pydata.org/pandas-docs/stable/user_guide/indexing.html#returning-a-view-versus-a-copy\n",
            "  errors=errors,\n"
          ],
          "name": "stderr"
        }
      ]
    },
    {
      "cell_type": "markdown",
      "metadata": {
        "id": "g2-ClJyI8cs0",
        "colab_type": "text"
      },
      "source": [
        "Working with the correct_df to make a models for correct fare values"
      ]
    },
    {
      "cell_type": "code",
      "metadata": {
        "id": "wn79paxMPfF_",
        "colab_type": "code",
        "colab": {}
      },
      "source": [
        "def set_trip_time(df):\n",
        "    df['pickup_time'] = pd.to_datetime(df['pickup_time'])\n",
        "    df['drop_time'] = pd.to_datetime(df['drop_time'])\n",
        "    df['trip_time'] = (df['drop_time'] - df['pickup_time']).dt.total_seconds()\n",
        "    df.drop(columns=['pickup_time', 'drop_time'], inplace=True)\n",
        "\n",
        "set_trip_time(correct_df)\n",
        "set_trip_time(incorrect_df)"
      ],
      "execution_count": 0,
      "outputs": []
    },
    {
      "cell_type": "code",
      "metadata": {
        "id": "1yVBRtIrshZT",
        "colab_type": "code",
        "colab": {}
      },
      "source": [
        "def get_distance(lat1, lon1, lat2, lon2):\n",
        "    # haversine_distance\n",
        "   r = 6371\n",
        "   phi1 = np.radians(lat1)\n",
        "   phi2 = np.radians(lat2)\n",
        "   lamb1 = np.radians(lon1)\n",
        "   lamb2 = np.radians(lon2)\n",
        "\n",
        "   delta_phi = phi2 - phi1\n",
        "   delta_lambda = lamb2 - lamb1\n",
        "   a = np.sin(delta_phi / 2)**2 + np.cos(phi1) * np.cos(phi2) *   np.sin(delta_lambda / 2)**2\n",
        "   res = r * 2 * np.arctan2(np.sqrt(a), np.sqrt(1 - a))\n",
        "   return np.round(res, 3)\n",
        "\n",
        "def set_distance(feature_df):\n",
        "    distances = []\n",
        "    for row in feature_df.itertuples(index=False):\n",
        "        distances.append(get_distance(row.pick_lat, row.pick_lon, row.drop_lat, row.drop_lon))\n",
        "    \n",
        "    feature_df['trip_distance'] = distances\n",
        "    feature_df.drop(columns=['pick_lat', 'pick_lon', 'drop_lat', 'drop_lon'], inplace=True)\n",
        "\n",
        "# Calling the set_distance to set a distance column and remove coordinates columns\n",
        "set_distance(correct_df)\n",
        "set_distance(incorrect_df)"
      ],
      "execution_count": 0,
      "outputs": []
    },
    {
      "cell_type": "code",
      "metadata": {
        "id": "P-_IDhSNHHAn",
        "colab_type": "code",
        "colab": {}
      },
      "source": [
        "def set_time_error(feature_df):\n",
        "    time_errors = []\n",
        "    feature_df['time_error'] = (feature_df['duration'] - feature_df['trip_time'])**2\n",
        "    #feature_df.drop(columns=['duration', 'trip_time'], inplace=True)\n",
        "\n",
        "set_time_error(correct_df)\n",
        "set_time_error(incorrect_df)"
      ],
      "execution_count": 0,
      "outputs": []
    },
    {
      "cell_type": "code",
      "metadata": {
        "id": "bapffGZ7Rd6d",
        "colab_type": "code",
        "colab": {}
      },
      "source": [
        "def add_missing_col(df):\n",
        "    '''\n",
        "        This function adds an additional binary column to the df based on all\n",
        "        additional_fare, duration, meter_waiting, meter_waiting_fare, meter_waiting_till_pickup, time_error\n",
        "        has NaN values\n",
        "    '''\n",
        "    df['ismissing'] = np.where(df[['additional_fare', 'duration', 'meter_waiting', 'meter_waiting_fare', 'meter_waiting_till_pickup', 'time_error']].isnull().all(1), 1, 0)\n",
        "\n",
        "add_missing_col(correct_df)\n",
        "add_missing_col(incorrect_df)\n",
        "correct_df.head()"
      ],
      "execution_count": 0,
      "outputs": []
    },
    {
      "cell_type": "code",
      "metadata": {
        "id": "agtN40lTxo9O",
        "colab_type": "code",
        "colab": {}
      },
      "source": [
        "def test_feature_process(feature_df):\n",
        "    set_trip_time(feature_df)\n",
        "    set_distance(feature_df)\n",
        "    set_time_error(feature_df)\n",
        "    add_missing_col(feature_df)\n",
        "    test_fare = feature_df['fare']\n",
        "    test_df = feature_df.drop(columns=['additional_fare', 'meter_waiting_fare', 'meter_waiting_till_pickup', 'time_error', 'ismissing', 'fare'])\n",
        "\n",
        "    return (test_df, test_fare)"
      ],
      "execution_count": 0,
      "outputs": []
    },
    {
      "cell_type": "code",
      "metadata": {
        "id": "lRR0uma7_fPr",
        "colab_type": "code",
        "outputId": "9f60c794-006f-4070-9195-86cc1b1e0d88",
        "colab": {
          "base_uri": "https://localhost:8080/",
          "height": 317
        }
      },
      "source": [
        "correct_df.describe()"
      ],
      "execution_count": 0,
      "outputs": [
        {
          "output_type": "execute_result",
          "data": {
            "text/html": [
              "<div>\n",
              "<style scoped>\n",
              "    .dataframe tbody tr th:only-of-type {\n",
              "        vertical-align: middle;\n",
              "    }\n",
              "\n",
              "    .dataframe tbody tr th {\n",
              "        vertical-align: top;\n",
              "    }\n",
              "\n",
              "    .dataframe thead th {\n",
              "        text-align: right;\n",
              "    }\n",
              "</style>\n",
              "<table border=\"1\" class=\"dataframe\">\n",
              "  <thead>\n",
              "    <tr style=\"text-align: right;\">\n",
              "      <th></th>\n",
              "      <th>additional_fare</th>\n",
              "      <th>duration</th>\n",
              "      <th>meter_waiting</th>\n",
              "      <th>meter_waiting_fare</th>\n",
              "      <th>meter_waiting_till_pickup</th>\n",
              "      <th>trip_time</th>\n",
              "      <th>trip_distance</th>\n",
              "      <th>time_error</th>\n",
              "      <th>ismissing</th>\n",
              "    </tr>\n",
              "  </thead>\n",
              "  <tbody>\n",
              "    <tr>\n",
              "      <th>count</th>\n",
              "      <td>15442.000000</td>\n",
              "      <td>15442.000000</td>\n",
              "      <td>15442.000000</td>\n",
              "      <td>15442.000000</td>\n",
              "      <td>15442.000000</td>\n",
              "      <td>15495.000000</td>\n",
              "      <td>15495.000000</td>\n",
              "      <td>15442.000000</td>\n",
              "      <td>15495.000000</td>\n",
              "    </tr>\n",
              "    <tr>\n",
              "      <th>mean</th>\n",
              "      <td>12.444340</td>\n",
              "      <td>1413.967232</td>\n",
              "      <td>356.655679</td>\n",
              "      <td>16.909938</td>\n",
              "      <td>107.549152</td>\n",
              "      <td>1415.244918</td>\n",
              "      <td>4.863254</td>\n",
              "      <td>601.525968</td>\n",
              "      <td>0.003420</td>\n",
              "    </tr>\n",
              "    <tr>\n",
              "      <th>std</th>\n",
              "      <td>10.913368</td>\n",
              "      <td>4186.012968</td>\n",
              "      <td>3997.973278</td>\n",
              "      <td>231.323228</td>\n",
              "      <td>446.786272</td>\n",
              "      <td>4179.765286</td>\n",
              "      <td>45.248851</td>\n",
              "      <td>741.138784</td>\n",
              "      <td>0.058386</td>\n",
              "    </tr>\n",
              "    <tr>\n",
              "      <th>min</th>\n",
              "      <td>0.000000</td>\n",
              "      <td>22.000000</td>\n",
              "      <td>0.000000</td>\n",
              "      <td>0.000000</td>\n",
              "      <td>0.000000</td>\n",
              "      <td>0.000000</td>\n",
              "      <td>0.000000</td>\n",
              "      <td>0.000000</td>\n",
              "      <td>0.000000</td>\n",
              "    </tr>\n",
              "    <tr>\n",
              "      <th>25%</th>\n",
              "      <td>10.500000</td>\n",
              "      <td>552.000000</td>\n",
              "      <td>33.250000</td>\n",
              "      <td>0.000000</td>\n",
              "      <td>25.000000</td>\n",
              "      <td>540.000000</td>\n",
              "      <td>1.528000</td>\n",
              "      <td>64.000000</td>\n",
              "      <td>0.000000</td>\n",
              "    </tr>\n",
              "    <tr>\n",
              "      <th>50%</th>\n",
              "      <td>10.500000</td>\n",
              "      <td>1003.000000</td>\n",
              "      <td>122.000000</td>\n",
              "      <td>0.291035</td>\n",
              "      <td>71.000000</td>\n",
              "      <td>1020.000000</td>\n",
              "      <td>3.227000</td>\n",
              "      <td>324.000000</td>\n",
              "      <td>0.000000</td>\n",
              "    </tr>\n",
              "    <tr>\n",
              "      <th>75%</th>\n",
              "      <td>10.500000</td>\n",
              "      <td>1753.000000</td>\n",
              "      <td>340.000000</td>\n",
              "      <td>14.089896</td>\n",
              "      <td>141.000000</td>\n",
              "      <td>1740.000000</td>\n",
              "      <td>6.095000</td>\n",
              "      <td>900.000000</td>\n",
              "      <td>0.000000</td>\n",
              "    </tr>\n",
              "    <tr>\n",
              "      <th>max</th>\n",
              "      <td>221.000000</td>\n",
              "      <td>453872.000000</td>\n",
              "      <td>453650.000000</td>\n",
              "      <td>26198.601400</td>\n",
              "      <td>51288.000000</td>\n",
              "      <td>453840.000000</td>\n",
              "      <td>5609.521000</td>\n",
              "      <td>23409.000000</td>\n",
              "      <td>1.000000</td>\n",
              "    </tr>\n",
              "  </tbody>\n",
              "</table>\n",
              "</div>"
            ],
            "text/plain": [
              "       additional_fare       duration  meter_waiting  meter_waiting_fare  \\\n",
              "count     15442.000000   15442.000000   15442.000000        15442.000000   \n",
              "mean         12.444340    1413.967232     356.655679           16.909938   \n",
              "std          10.913368    4186.012968    3997.973278          231.323228   \n",
              "min           0.000000      22.000000       0.000000            0.000000   \n",
              "25%          10.500000     552.000000      33.250000            0.000000   \n",
              "50%          10.500000    1003.000000     122.000000            0.291035   \n",
              "75%          10.500000    1753.000000     340.000000           14.089896   \n",
              "max         221.000000  453872.000000  453650.000000        26198.601400   \n",
              "\n",
              "       meter_waiting_till_pickup      trip_time  trip_distance    time_error  \\\n",
              "count               15442.000000   15495.000000   15495.000000  15442.000000   \n",
              "mean                  107.549152    1415.244918       4.863254    601.525968   \n",
              "std                   446.786272    4179.765286      45.248851    741.138784   \n",
              "min                     0.000000       0.000000       0.000000      0.000000   \n",
              "25%                    25.000000     540.000000       1.528000     64.000000   \n",
              "50%                    71.000000    1020.000000       3.227000    324.000000   \n",
              "75%                   141.000000    1740.000000       6.095000    900.000000   \n",
              "max                 51288.000000  453840.000000    5609.521000  23409.000000   \n",
              "\n",
              "          ismissing  \n",
              "count  15495.000000  \n",
              "mean       0.003420  \n",
              "std        0.058386  \n",
              "min        0.000000  \n",
              "25%        0.000000  \n",
              "50%        0.000000  \n",
              "75%        0.000000  \n",
              "max        1.000000  "
            ]
          },
          "metadata": {
            "tags": []
          },
          "execution_count": 529
        }
      ]
    },
    {
      "cell_type": "markdown",
      "metadata": {
        "id": "yUodcgUa_zV7",
        "colab_type": "text"
      },
      "source": [
        "# Handle Outliers"
      ]
    },
    {
      "cell_type": "code",
      "metadata": {
        "id": "B92yEPdH_yFz",
        "colab_type": "code",
        "outputId": "fbd68b34-0627-4be9-b20f-d481b0239625",
        "colab": {
          "base_uri": "https://localhost:8080/",
          "height": 68
        }
      },
      "source": [
        "from scipy import stats\n",
        "from sklearn.impute import SimpleImputer\n",
        "\n",
        "def remove_outliers(xdf, ydf):\n",
        "    columns = xdf.columns\n",
        "    index = xdf.index.values\n",
        "    simple_imputer = SimpleImputer(strategy='median')\n",
        "    data = simple_imputer.fit_transform(xdf)\n",
        "    xdf = pd.DataFrame(data=data, columns=columns, index=index)\n",
        "    xdf.index.name = 'tripid'\n",
        "    z = np.abs(stats.zscore(xdf.drop(columns='ismissing')))\n",
        "    outliers = np.where(z > 2.5)[0]\n",
        "    print(len(set(outliers)))\n",
        "    xdf = xdf.drop(xdf.index[outliers])\n",
        "    ydf = ydf.drop(ydf.index[outliers])\n",
        "\n",
        "    return (xdf, ydf)\n",
        "\n",
        "print(\"Before: {}|{}\".format(correct_df.shape, fare_df.shape))\n",
        "correct_df, fare_df = remove_outliers(correct_df, fare_df)\n",
        "print(\"After: {}|{}\".format(correct_df.shape, fare_df.shape))"
      ],
      "execution_count": 0,
      "outputs": [
        {
          "output_type": "stream",
          "text": [
            "Before: (15495, 9)|(15495, 1)\n",
            "1114\n",
            "After: (14381, 9)|(14381, 1)\n"
          ],
          "name": "stdout"
        }
      ]
    },
    {
      "cell_type": "code",
      "metadata": {
        "id": "iSB73KAxB5BJ",
        "colab_type": "code",
        "outputId": "8efe9986-6c5b-45ae-b471-1c264f94d5f8",
        "colab": {
          "base_uri": "https://localhost:8080/",
          "height": 317
        }
      },
      "source": [
        "correct_df.describe()"
      ],
      "execution_count": 0,
      "outputs": [
        {
          "output_type": "execute_result",
          "data": {
            "text/html": [
              "<div>\n",
              "<style scoped>\n",
              "    .dataframe tbody tr th:only-of-type {\n",
              "        vertical-align: middle;\n",
              "    }\n",
              "\n",
              "    .dataframe tbody tr th {\n",
              "        vertical-align: top;\n",
              "    }\n",
              "\n",
              "    .dataframe thead th {\n",
              "        text-align: right;\n",
              "    }\n",
              "</style>\n",
              "<table border=\"1\" class=\"dataframe\">\n",
              "  <thead>\n",
              "    <tr style=\"text-align: right;\">\n",
              "      <th></th>\n",
              "      <th>additional_fare</th>\n",
              "      <th>duration</th>\n",
              "      <th>meter_waiting</th>\n",
              "      <th>meter_waiting_fare</th>\n",
              "      <th>meter_waiting_till_pickup</th>\n",
              "      <th>trip_time</th>\n",
              "      <th>trip_distance</th>\n",
              "      <th>time_error</th>\n",
              "      <th>ismissing</th>\n",
              "    </tr>\n",
              "  </thead>\n",
              "  <tbody>\n",
              "    <tr>\n",
              "      <th>count</th>\n",
              "      <td>14381.00000</td>\n",
              "      <td>14381.000000</td>\n",
              "      <td>14381.000000</td>\n",
              "      <td>14381.000000</td>\n",
              "      <td>14381.000000</td>\n",
              "      <td>14381.000000</td>\n",
              "      <td>14381.000000</td>\n",
              "      <td>14381.000000</td>\n",
              "      <td>14381.000000</td>\n",
              "    </tr>\n",
              "    <tr>\n",
              "      <th>mean</th>\n",
              "      <td>10.50153</td>\n",
              "      <td>1324.750435</td>\n",
              "      <td>292.420972</td>\n",
              "      <td>13.179845</td>\n",
              "      <td>101.316807</td>\n",
              "      <td>1327.464015</td>\n",
              "      <td>4.457888</td>\n",
              "      <td>531.928169</td>\n",
              "      <td>0.003685</td>\n",
              "    </tr>\n",
              "    <tr>\n",
              "      <th>std</th>\n",
              "      <td>3.25539</td>\n",
              "      <td>1197.872151</td>\n",
              "      <td>521.013243</td>\n",
              "      <td>30.533840</td>\n",
              "      <td>112.644220</td>\n",
              "      <td>1201.812655</td>\n",
              "      <td>4.407770</td>\n",
              "      <td>592.548302</td>\n",
              "      <td>0.060598</td>\n",
              "    </tr>\n",
              "    <tr>\n",
              "      <th>min</th>\n",
              "      <td>0.00000</td>\n",
              "      <td>22.000000</td>\n",
              "      <td>0.000000</td>\n",
              "      <td>0.000000</td>\n",
              "      <td>0.000000</td>\n",
              "      <td>0.000000</td>\n",
              "      <td>0.000000</td>\n",
              "      <td>0.000000</td>\n",
              "      <td>0.000000</td>\n",
              "    </tr>\n",
              "    <tr>\n",
              "      <th>25%</th>\n",
              "      <td>10.50000</td>\n",
              "      <td>546.000000</td>\n",
              "      <td>32.000000</td>\n",
              "      <td>0.000000</td>\n",
              "      <td>24.000000</td>\n",
              "      <td>540.000000</td>\n",
              "      <td>1.510000</td>\n",
              "      <td>64.000000</td>\n",
              "      <td>0.000000</td>\n",
              "    </tr>\n",
              "    <tr>\n",
              "      <th>50%</th>\n",
              "      <td>10.50000</td>\n",
              "      <td>990.000000</td>\n",
              "      <td>120.000000</td>\n",
              "      <td>0.174900</td>\n",
              "      <td>71.000000</td>\n",
              "      <td>960.000000</td>\n",
              "      <td>3.185000</td>\n",
              "      <td>289.000000</td>\n",
              "      <td>0.000000</td>\n",
              "    </tr>\n",
              "    <tr>\n",
              "      <th>75%</th>\n",
              "      <td>10.50000</td>\n",
              "      <td>1718.000000</td>\n",
              "      <td>330.000000</td>\n",
              "      <td>13.294000</td>\n",
              "      <td>140.000000</td>\n",
              "      <td>1740.000000</td>\n",
              "      <td>6.027000</td>\n",
              "      <td>841.000000</td>\n",
              "      <td>0.000000</td>\n",
              "    </tr>\n",
              "    <tr>\n",
              "      <th>max</th>\n",
              "      <td>35.00000</td>\n",
              "      <td>11797.000000</td>\n",
              "      <td>9397.000000</td>\n",
              "      <td>547.845100</td>\n",
              "      <td>1205.000000</td>\n",
              "      <td>11820.000000</td>\n",
              "      <td>58.718000</td>\n",
              "      <td>2401.000000</td>\n",
              "      <td>1.000000</td>\n",
              "    </tr>\n",
              "  </tbody>\n",
              "</table>\n",
              "</div>"
            ],
            "text/plain": [
              "       additional_fare      duration  meter_waiting  meter_waiting_fare  \\\n",
              "count      14381.00000  14381.000000   14381.000000        14381.000000   \n",
              "mean          10.50153   1324.750435     292.420972           13.179845   \n",
              "std            3.25539   1197.872151     521.013243           30.533840   \n",
              "min            0.00000     22.000000       0.000000            0.000000   \n",
              "25%           10.50000    546.000000      32.000000            0.000000   \n",
              "50%           10.50000    990.000000     120.000000            0.174900   \n",
              "75%           10.50000   1718.000000     330.000000           13.294000   \n",
              "max           35.00000  11797.000000    9397.000000          547.845100   \n",
              "\n",
              "       meter_waiting_till_pickup     trip_time  trip_distance    time_error  \\\n",
              "count               14381.000000  14381.000000   14381.000000  14381.000000   \n",
              "mean                  101.316807   1327.464015       4.457888    531.928169   \n",
              "std                   112.644220   1201.812655       4.407770    592.548302   \n",
              "min                     0.000000      0.000000       0.000000      0.000000   \n",
              "25%                    24.000000    540.000000       1.510000     64.000000   \n",
              "50%                    71.000000    960.000000       3.185000    289.000000   \n",
              "75%                   140.000000   1740.000000       6.027000    841.000000   \n",
              "max                  1205.000000  11820.000000      58.718000   2401.000000   \n",
              "\n",
              "          ismissing  \n",
              "count  14381.000000  \n",
              "mean       0.003685  \n",
              "std        0.060598  \n",
              "min        0.000000  \n",
              "25%        0.000000  \n",
              "50%        0.000000  \n",
              "75%        0.000000  \n",
              "max        1.000000  "
            ]
          },
          "metadata": {
            "tags": []
          },
          "execution_count": 531
        }
      ]
    },
    {
      "cell_type": "markdown",
      "metadata": {
        "id": "hlD9koQIJ0yB",
        "colab_type": "text"
      },
      "source": [
        "## Feature Coorelation"
      ]
    },
    {
      "cell_type": "code",
      "metadata": {
        "id": "lng0vhrSC-pS",
        "colab_type": "code",
        "outputId": "2afde591-94d9-4871-894c-eb6087127f4e",
        "colab": {
          "base_uri": "https://localhost:8080/",
          "height": 339
        }
      },
      "source": [
        "%matplotlib inline\n",
        "import matplotlib.pyplot as plt\n",
        "import seaborn as sns\n",
        "\n",
        "corr_df = correct_df.copy()\n",
        "columns = corr_df.columns\n",
        "\n",
        "cor = []\n",
        "for col in columns:\n",
        "    cor.append(corr_df[col].corr(fare_df['fare'], method=\"pearson\"))\n",
        "\n",
        "plt.figure(figsize=(40,10))\n",
        "plt.title(\"Feature Coorelation\")\n",
        "sns.barplot(x=columns, y=cor)\n",
        "plt.ylabel(\"Pearson Coeerelation\")"
      ],
      "execution_count": 0,
      "outputs": [
        {
          "output_type": "execute_result",
          "data": {
            "text/plain": [
              "Text(0, 0.5, 'Pearson Coeerelation')"
            ]
          },
          "metadata": {
            "tags": []
          },
          "execution_count": 532
        },
        {
          "output_type": "display_data",
          "data": {
            "image/png": "[encoded data removed]",
            "text/plain": [
              "<Figure size 2880x720 with 1 Axes>"
            ]
          },
          "metadata": {
            "tags": [],
            "needs_background": "light"
          }
        }
      ]
    },
    {
      "cell_type": "code",
      "metadata": {
        "id": "qeYFfEwI2tkp",
        "colab_type": "code",
        "colab": {}
      },
      "source": [
        "correct_df.drop(columns=['additional_fare', 'meter_waiting_fare', 'meter_waiting_till_pickup', 'time_error', 'ismissing'], inplace=True)\n",
        "incorrect_df.drop(columns=['additional_fare', 'meter_waiting_fare', 'meter_waiting_till_pickup', 'time_error', 'ismissing'], inplace=True)"
      ],
      "execution_count": 0,
      "outputs": []
    },
    {
      "cell_type": "markdown",
      "metadata": {
        "id": "gaEGCpol15TP",
        "colab_type": "text"
      },
      "source": [
        "# Building Models"
      ]
    },
    {
      "cell_type": "code",
      "metadata": {
        "id": "KfSrgd1X13y5",
        "colab_type": "code",
        "colab": {}
      },
      "source": [
        "from sklearn.preprocessing import StandardScaler, MinMaxScaler\n",
        "from sklearn.impute import SimpleImputer\n",
        "\n",
        "from xgboost.sklearn import XGBRegressor\n",
        "\n",
        "from sklearn.pipeline import Pipeline\n",
        "\n",
        "from sklearn.model_selection import train_test_split, GridSearchCV, cross_val_score\n",
        "\n",
        "from sklearn.metrics import f1_score\n",
        "\n",
        "RANDOM_SEED = 6    # Set a random seed for reproducibility!"
      ],
      "execution_count": 0,
      "outputs": []
    },
    {
      "cell_type": "markdown",
      "metadata": {
        "id": "hZyhYZV73THz",
        "colab_type": "text"
      },
      "source": [
        "## Setting-up the Pre-Processor"
      ]
    },
    {
      "cell_type": "code",
      "metadata": {
        "id": "9kz0psA43aQo",
        "colab_type": "code",
        "colab": {}
      },
      "source": [
        "# chain preprocessing into a Pipeline object\n",
        "# each step is a tuple of (name you chose, sklearn transformer)\n",
        "\n",
        "# SimpleImputer(strategy='median', add_indicator=False) - RandomForest model\n",
        "# SimpleImputer(strategy='median', add_indicator=True) - LogisticRegression\n",
        "# SimpleImputer(strategy='most_frequent', add_indicator=True) -XGBClassifier\n",
        "preprocessor = Pipeline([\n",
        "    ('simple_imputer', SimpleImputer(strategy='median')), #, add_indicator=True\n",
        "    ('scaler', MinMaxScaler())\n",
        "])"
      ],
      "execution_count": 0,
      "outputs": []
    },
    {
      "cell_type": "markdown",
      "metadata": {
        "id": "RKoj1iZsAFVe",
        "colab_type": "text"
      },
      "source": [
        "# Train & Evaluation"
      ]
    },
    {
      "cell_type": "markdown",
      "metadata": {
        "id": "oM8S_pcwjQyT",
        "colab_type": "text"
      },
      "source": [
        "### Building XGBoostWithEarlyStop esitimators to use with pipelines"
      ]
    },
    {
      "cell_type": "code",
      "metadata": {
        "id": "jiQNIcf4TPkK",
        "colab_type": "code",
        "colab": {}
      },
      "source": [
        "from sklearn.base import BaseEstimator\n",
        "from sklearn.model_selection import train_test_split\n",
        "from xgboost import XGBRegressor, XGBClassifier\n",
        "\n",
        "class XGBoostWithEarlyStop(BaseEstimator):\n",
        "    def __init__(self, early_stopping_rounds=50, test_size=0.2, \n",
        "                 eval_metric=['mae'], **estimator_params):\n",
        "        self.early_stopping_rounds = early_stopping_rounds\n",
        "        self.test_size = test_size\n",
        "        self.eval_metric=eval_metric        \n",
        "        if self.estimator is not None:\n",
        "            self.set_params(**estimator_params)\n",
        "\n",
        "    def set_params(self, **params):\n",
        "        return self.estimator.set_params(**params)\n",
        "\n",
        "    def get_params(self, **params):\n",
        "        return self.estimator.get_params()\n",
        "\n",
        "    def fit(self, X, y):\n",
        "        x_train, x_val, y_train, y_val = train_test_split(X, y, test_size=self.test_size)\n",
        "        self.estimator.fit(x_train, y_train, \n",
        "                           early_stopping_rounds=self.early_stopping_rounds, \n",
        "                           eval_metric=self.eval_metric, eval_set=[(x_train, y_train),(x_val, y_val)])\n",
        "        return self\n",
        "\n",
        "    def predict(self, X):\n",
        "        return self.estimator.predict(X)\n",
        "\n",
        "class XGBoostRegressorWithEarlyStop(XGBoostWithEarlyStop):\n",
        "    def __init__(self, *args, **kwargs):\n",
        "        self.estimator = XGBRegressor()\n",
        "        super(XGBoostRegressorWithEarlyStop, self).__init__(*args, **kwargs)\n",
        "\n",
        "class XGBoostClassifierWithEarlyStop(XGBoostWithEarlyStop):\n",
        "    def __init__(self, *args, **kwargs):\n",
        "        self.estimator = XGBClassifier()\n",
        "        super(XGBoostClassifierWithEarlyStop, self).__init__(*args, **kwargs)"
      ],
      "execution_count": 0,
      "outputs": []
    },
    {
      "cell_type": "code",
      "metadata": {
        "id": "_XRCzgSvkoo3",
        "colab_type": "code",
        "colab": {}
      },
      "source": [
        "estimator = XGBoostRegressorWithEarlyStop(max_depth=10, learning_rate=0.01, n_estimators=1000, eval_metric='rmse') #\n",
        "\n",
        "# estimator = XGBRegressor(booster='dart', subsample=0.8, min_child_weight=1, max_depth=12, learning_rate=0.05, gamma=0.2, colsample_bytree=1,\n",
        "#                            colsample_bynode=1, colsample_bylevel=1, base_score=0.5, n_estimators=1000,\n",
        "#                        importance_type='gain', max_delta_step=0, missing=None, monotone_constrains=None, silent=True, \n",
        "#                        njobs=6, num_parallel_tree=1, nthread=6, random_state=0, eval_metric='rmse', reg_alpha=0, reg_lambda=1, scale_pos_weight=1, tree_method='hist', \n",
        "#                        validate_parameters=False)"
      ],
      "execution_count": 0,
      "outputs": []
    },
    {
      "cell_type": "code",
      "metadata": {
        "id": "jDDIvPJrAMrS",
        "colab_type": "code",
        "colab": {}
      },
      "source": [
        "#estimator=RandomForestClassifier(class_weight={1: 0.8, 0: 0.2}, criterion='entropy', max_depth=15, max_features=5, min_impurity_decrease=0, n_estimators=300, random_state=6)\n",
        "#estimator = LogisticRegression(C=100, class_weight={1: 0.2, 0: 0.8}, max_iter=100, penalty='l1', solver='liblinear', random_state=0, n_jobs=-1)\n",
        "# XGBClassifier(max_depth=10, learning_rate=0.01, n_estimators=1000, eval_metric='rmse') #, objective='binary:hinge'\n",
        "#subsample=0.8, min_child_weight=1, max_depth=8/4, learning_rate=0.05, gamma=0.2, colsample_bytree=1, n_estimators=1000, objective='binary:logistic', silent=True, nthread=6, tree_method='hist', eval_metric='auc'\n",
        "\n",
        "# estimator = XGBClassifier(booster='dart', subsample=0.8, min_child_weight=7, max_depth=15, learning_rate=0.01, gamma=0.4, colsample_bytree=1,\n",
        "#                           colsample_bynode=1, colsample_bylevel=1, base_score=0.5, n_estimators=1000, objective='binary:logistic',\n",
        "#                       importance_type='gain', max_delta_step=0, missing=None, monotone_constrains=None, silent=True, \n",
        "#                       njobs=6, num_parallel_tree=1, nthread=6, random_state=0, eval_metric='auc', reg_alpha=0, reg_lambda=1, scale_pos_weight=1, tree_method='hist', \n",
        "#                       validate_parameters=False)\n",
        "\n",
        "# estimator = XGBClassifier(max_depth=10, learning_rate=0.01, n_estimators=1000, eval_metric='rmse')\n",
        "\n",
        "# estimator = XGBClassifier(booster='dart', subsample=0.8, min_child_weight=1, max_depth=12, learning_rate=0.05, gamma=0.2, colsample_bytree=1,\n",
        "#                           colsample_bynode=1, colsample_bylevel=1, base_score=0.5, n_estimators=1000, objective='binary:logitraw',\n",
        "#                       importance_type='gain', max_delta_step=0, missing=None, monotone_constrains=None, silent=True, \n",
        "#                       njobs=6, num_parallel_tree=1, nthread=6, random_state=0, eval_metric='rmse', reg_alpha=0, reg_lambda=1, scale_pos_weight=1, tree_method='hist', \n",
        "#                       validate_parameters=False)\n",
        "full_pipeline = Pipeline([\n",
        "    (\"preprocessor\", preprocessor),\n",
        "    (\"estimators\", estimator),\n",
        "])"
      ],
      "execution_count": 0,
      "outputs": []
    },
    {
      "cell_type": "code",
      "metadata": {
        "id": "4s8CUKpIAv9E",
        "colab_type": "code",
        "colab": {}
      },
      "source": [
        "X_train, X_eval, y_train, y_eval = train_test_split(\n",
        "    correct_df,\n",
        "    fare_df,\n",
        "    test_size=0.33,\n",
        "    shuffle=True,\n",
        "    random_state=RANDOM_SEED\n",
        ")"
      ],
      "execution_count": 0,
      "outputs": []
    },
    {
      "cell_type": "code",
      "metadata": {
        "id": "RcSrwte2BQ4s",
        "colab_type": "code",
        "outputId": "2a4f2889-bdf0-402c-a978-dbd79eb71941",
        "colab": {
          "base_uri": "https://localhost:8080/",
          "height": 1000
        }
      },
      "source": [
        "%%time\n",
        "\n",
        "# Train model\n",
        "full_pipeline.fit(X_train, y_train)\n",
        "\n",
        "# Predict on evaluation set\n",
        "preds = full_pipeline.predict(X_eval)\n",
        "print(preds)\n",
        "\n",
        "incorrect_preds = full_pipeline.predict(incorrect_df)"
      ],
      "execution_count": 0,
      "outputs": [
        {
          "output_type": "stream",
          "text": [
            "[15:14:34] WARNING: /workspace/src/objective/regression_obj.cu:152: reg:linear is now deprecated in favor of reg:squarederror.\n",
            "[0]\tvalidation_0-rmse:345.931\tvalidation_1-rmse:354.088\n",
            "Multiple eval metrics have been passed: 'validation_1-rmse' will be used for early stopping.\n",
            "\n",
            "Will train until validation_1-rmse hasn't improved in 50 rounds.\n",
            "[1]\tvalidation_0-rmse:342.646\tvalidation_1-rmse:350.807\n",
            "[2]\tvalidation_0-rmse:339.394\tvalidation_1-rmse:347.545\n",
            "[3]\tvalidation_0-rmse:336.175\tvalidation_1-rmse:344.301\n",
            "[4]\tvalidation_0-rmse:332.987\tvalidation_1-rmse:341.111\n",
            "[5]\tvalidation_0-rmse:329.833\tvalidation_1-rmse:337.926\n",
            "[6]\tvalidation_0-rmse:326.71\tvalidation_1-rmse:334.801\n",
            "[7]\tvalidation_0-rmse:323.619\tvalidation_1-rmse:331.71\n",
            "[8]\tvalidation_0-rmse:320.559\tvalidation_1-rmse:328.619\n",
            "[9]\tvalidation_0-rmse:317.53\tvalidation_1-rmse:325.598\n",
            "[10]\tvalidation_0-rmse:314.531\tvalidation_1-rmse:322.559\n",
            "[11]\tvalidation_0-rmse:311.562\tvalidation_1-rmse:319.587\n",
            "[12]\tvalidation_0-rmse:308.621\tvalidation_1-rmse:316.65\n",
            "[13]\tvalidation_0-rmse:305.711\tvalidation_1-rmse:313.726\n",
            "[14]\tvalidation_0-rmse:302.832\tvalidation_1-rmse:310.816\n",
            "[15]\tvalidation_0-rmse:299.979\tvalidation_1-rmse:307.962\n",
            "[16]\tvalidation_0-rmse:297.158\tvalidation_1-rmse:305.116\n",
            "[17]\tvalidation_0-rmse:294.363\tvalidation_1-rmse:302.296\n",
            "[18]\tvalidation_0-rmse:291.597\tvalidation_1-rmse:299.531\n",
            "[19]\tvalidation_0-rmse:288.858\tvalidation_1-rmse:296.794\n",
            "[20]\tvalidation_0-rmse:286.148\tvalidation_1-rmse:294.059\n",
            "[21]\tvalidation_0-rmse:283.467\tvalidation_1-rmse:291.361\n",
            "[22]\tvalidation_0-rmse:280.81\tvalidation_1-rmse:288.711\n",
            "[23]\tvalidation_0-rmse:278.181\tvalidation_1-rmse:286.075\n",
            "[24]\tvalidation_0-rmse:275.579\tvalidation_1-rmse:283.458\n",
            "[25]\tvalidation_0-rmse:273.002\tvalidation_1-rmse:280.89\n",
            "[26]\tvalidation_0-rmse:270.452\tvalidation_1-rmse:278.315\n",
            "[27]\tvalidation_0-rmse:267.928\tvalidation_1-rmse:275.8\n",
            "[28]\tvalidation_0-rmse:265.429\tvalidation_1-rmse:273.31\n",
            "[29]\tvalidation_0-rmse:262.952\tvalidation_1-rmse:270.829\n",
            "[30]\tvalidation_0-rmse:260.503\tvalidation_1-rmse:268.36\n",
            "[31]\tvalidation_0-rmse:258.077\tvalidation_1-rmse:265.927\n",
            "[32]\tvalidation_0-rmse:255.677\tvalidation_1-rmse:263.523\n",
            "[33]\tvalidation_0-rmse:253.303\tvalidation_1-rmse:261.124\n",
            "[34]\tvalidation_0-rmse:250.948\tvalidation_1-rmse:258.77\n",
            "[35]\tvalidation_0-rmse:248.619\tvalidation_1-rmse:256.4\n",
            "[36]\tvalidation_0-rmse:246.313\tvalidation_1-rmse:254.091\n",
            "[37]\tvalidation_0-rmse:244.033\tvalidation_1-rmse:251.796\n",
            "[38]\tvalidation_0-rmse:241.773\tvalidation_1-rmse:249.538\n",
            "[39]\tvalidation_0-rmse:239.538\tvalidation_1-rmse:247.302\n",
            "[40]\tvalidation_0-rmse:237.326\tvalidation_1-rmse:245.088\n",
            "[41]\tvalidation_0-rmse:235.134\tvalidation_1-rmse:242.904\n",
            "[42]\tvalidation_0-rmse:232.967\tvalidation_1-rmse:240.722\n",
            "[43]\tvalidation_0-rmse:230.819\tvalidation_1-rmse:238.568\n",
            "[44]\tvalidation_0-rmse:228.697\tvalidation_1-rmse:236.434\n",
            "[45]\tvalidation_0-rmse:226.596\tvalidation_1-rmse:234.322\n",
            "[46]\tvalidation_0-rmse:224.512\tvalidation_1-rmse:232.249\n",
            "[47]\tvalidation_0-rmse:222.453\tvalidation_1-rmse:230.192\n",
            "[48]\tvalidation_0-rmse:220.412\tvalidation_1-rmse:228.162\n",
            "[49]\tvalidation_0-rmse:218.395\tvalidation_1-rmse:226.154\n",
            "[50]\tvalidation_0-rmse:216.395\tvalidation_1-rmse:224.162\n",
            "[51]\tvalidation_0-rmse:214.417\tvalidation_1-rmse:222.176\n",
            "[52]\tvalidation_0-rmse:212.457\tvalidation_1-rmse:220.225\n",
            "[53]\tvalidation_0-rmse:210.521\tvalidation_1-rmse:218.286\n",
            "[54]\tvalidation_0-rmse:208.602\tvalidation_1-rmse:216.376\n",
            "[55]\tvalidation_0-rmse:206.704\tvalidation_1-rmse:214.474\n",
            "[56]\tvalidation_0-rmse:204.816\tvalidation_1-rmse:212.599\n",
            "[57]\tvalidation_0-rmse:202.956\tvalidation_1-rmse:210.739\n",
            "[58]\tvalidation_0-rmse:201.113\tvalidation_1-rmse:208.909\n",
            "[59]\tvalidation_0-rmse:199.282\tvalidation_1-rmse:207.094\n",
            "[60]\tvalidation_0-rmse:197.479\tvalidation_1-rmse:205.278\n",
            "[61]\tvalidation_0-rmse:195.696\tvalidation_1-rmse:203.495\n",
            "[62]\tvalidation_0-rmse:193.923\tvalidation_1-rmse:201.757\n",
            "[63]\tvalidation_0-rmse:192.167\tvalidation_1-rmse:200.04\n",
            "[64]\tvalidation_0-rmse:190.434\tvalidation_1-rmse:198.298\n",
            "[65]\tvalidation_0-rmse:188.719\tvalidation_1-rmse:196.579\n",
            "[66]\tvalidation_0-rmse:187.015\tvalidation_1-rmse:194.868\n",
            "[67]\tvalidation_0-rmse:185.336\tvalidation_1-rmse:193.174\n",
            "[68]\tvalidation_0-rmse:183.669\tvalidation_1-rmse:191.532\n",
            "[69]\tvalidation_0-rmse:182.024\tvalidation_1-rmse:189.885\n",
            "[70]\tvalidation_0-rmse:180.395\tvalidation_1-rmse:188.257\n",
            "[71]\tvalidation_0-rmse:178.775\tvalidation_1-rmse:186.662\n",
            "[72]\tvalidation_0-rmse:177.173\tvalidation_1-rmse:185.074\n",
            "[73]\tvalidation_0-rmse:175.595\tvalidation_1-rmse:183.494\n",
            "[74]\tvalidation_0-rmse:174.026\tvalidation_1-rmse:181.939\n",
            "[75]\tvalidation_0-rmse:172.479\tvalidation_1-rmse:180.389\n",
            "[76]\tvalidation_0-rmse:170.939\tvalidation_1-rmse:178.879\n",
            "[77]\tvalidation_0-rmse:169.419\tvalidation_1-rmse:177.382\n",
            "[78]\tvalidation_0-rmse:167.92\tvalidation_1-rmse:175.89\n",
            "[79]\tvalidation_0-rmse:166.431\tvalidation_1-rmse:174.429\n",
            "[80]\tvalidation_0-rmse:164.962\tvalidation_1-rmse:172.968\n",
            "[81]\tvalidation_0-rmse:163.503\tvalidation_1-rmse:171.532\n",
            "[82]\tvalidation_0-rmse:162.064\tvalidation_1-rmse:170.107\n",
            "[83]\tvalidation_0-rmse:160.631\tvalidation_1-rmse:168.704\n",
            "[84]\tvalidation_0-rmse:159.222\tvalidation_1-rmse:167.321\n",
            "[85]\tvalidation_0-rmse:157.822\tvalidation_1-rmse:165.94\n",
            "[86]\tvalidation_0-rmse:156.437\tvalidation_1-rmse:164.583\n",
            "[87]\tvalidation_0-rmse:155.063\tvalidation_1-rmse:163.242\n",
            "[88]\tvalidation_0-rmse:153.71\tvalidation_1-rmse:161.908\n",
            "[89]\tvalidation_0-rmse:152.368\tvalidation_1-rmse:160.589\n",
            "[90]\tvalidation_0-rmse:151.039\tvalidation_1-rmse:159.288\n",
            "[91]\tvalidation_0-rmse:149.724\tvalidation_1-rmse:157.994\n",
            "[92]\tvalidation_0-rmse:148.426\tvalidation_1-rmse:156.737\n",
            "[93]\tvalidation_0-rmse:147.137\tvalidation_1-rmse:155.478\n",
            "[94]\tvalidation_0-rmse:145.861\tvalidation_1-rmse:154.234\n",
            "[95]\tvalidation_0-rmse:144.599\tvalidation_1-rmse:153.001\n",
            "[96]\tvalidation_0-rmse:143.35\tvalidation_1-rmse:151.772\n",
            "[97]\tvalidation_0-rmse:142.114\tvalidation_1-rmse:150.567\n",
            "[98]\tvalidation_0-rmse:140.892\tvalidation_1-rmse:149.367\n",
            "[99]\tvalidation_0-rmse:139.683\tvalidation_1-rmse:148.205\n",
            "[100]\tvalidation_0-rmse:138.483\tvalidation_1-rmse:147.055\n",
            "[101]\tvalidation_0-rmse:137.301\tvalidation_1-rmse:145.913\n",
            "[102]\tvalidation_0-rmse:136.127\tvalidation_1-rmse:144.762\n",
            "[103]\tvalidation_0-rmse:134.963\tvalidation_1-rmse:143.632\n",
            "[104]\tvalidation_0-rmse:133.815\tvalidation_1-rmse:142.532\n",
            "[105]\tvalidation_0-rmse:132.678\tvalidation_1-rmse:141.444\n",
            "[106]\tvalidation_0-rmse:131.552\tvalidation_1-rmse:140.346\n",
            "[107]\tvalidation_0-rmse:130.435\tvalidation_1-rmse:139.304\n",
            "[108]\tvalidation_0-rmse:129.333\tvalidation_1-rmse:138.256\n",
            "[109]\tvalidation_0-rmse:128.243\tvalidation_1-rmse:137.218\n",
            "[110]\tvalidation_0-rmse:127.161\tvalidation_1-rmse:136.206\n",
            "[111]\tvalidation_0-rmse:126.092\tvalidation_1-rmse:135.183\n",
            "[112]\tvalidation_0-rmse:125.034\tvalidation_1-rmse:134.145\n",
            "[113]\tvalidation_0-rmse:123.985\tvalidation_1-rmse:133.175\n",
            "[114]\tvalidation_0-rmse:122.951\tvalidation_1-rmse:132.175\n",
            "[115]\tvalidation_0-rmse:121.924\tvalidation_1-rmse:131.201\n",
            "[116]\tvalidation_0-rmse:120.907\tvalidation_1-rmse:130.253\n",
            "[117]\tvalidation_0-rmse:119.903\tvalidation_1-rmse:129.263\n",
            "[118]\tvalidation_0-rmse:118.91\tvalidation_1-rmse:128.286\n",
            "[119]\tvalidation_0-rmse:117.924\tvalidation_1-rmse:127.348\n",
            "[120]\tvalidation_0-rmse:116.951\tvalidation_1-rmse:126.415\n",
            "[121]\tvalidation_0-rmse:115.988\tvalidation_1-rmse:125.506\n",
            "[122]\tvalidation_0-rmse:115.031\tvalidation_1-rmse:124.626\n",
            "[123]\tvalidation_0-rmse:114.089\tvalidation_1-rmse:123.73\n",
            "[124]\tvalidation_0-rmse:113.152\tvalidation_1-rmse:122.881\n",
            "[125]\tvalidation_0-rmse:112.227\tvalidation_1-rmse:122.02\n",
            "[126]\tvalidation_0-rmse:111.309\tvalidation_1-rmse:121.189\n",
            "[127]\tvalidation_0-rmse:110.406\tvalidation_1-rmse:120.359\n",
            "[128]\tvalidation_0-rmse:109.509\tvalidation_1-rmse:119.526\n",
            "[129]\tvalidation_0-rmse:108.622\tvalidation_1-rmse:118.721\n",
            "[130]\tvalidation_0-rmse:107.747\tvalidation_1-rmse:117.88\n",
            "[131]\tvalidation_0-rmse:106.88\tvalidation_1-rmse:117.092\n",
            "[132]\tvalidation_0-rmse:106.02\tvalidation_1-rmse:116.305\n",
            "[133]\tvalidation_0-rmse:105.168\tvalidation_1-rmse:115.539\n",
            "[134]\tvalidation_0-rmse:104.329\tvalidation_1-rmse:114.775\n",
            "[135]\tvalidation_0-rmse:103.49\tvalidation_1-rmse:114.08\n",
            "[136]\tvalidation_0-rmse:102.661\tvalidation_1-rmse:113.39\n",
            "[137]\tvalidation_0-rmse:101.847\tvalidation_1-rmse:112.644\n",
            "[138]\tvalidation_0-rmse:101.035\tvalidation_1-rmse:111.979\n",
            "[139]\tvalidation_0-rmse:100.231\tvalidation_1-rmse:111.321\n",
            "[140]\tvalidation_0-rmse:99.4414\tvalidation_1-rmse:110.585\n",
            "[141]\tvalidation_0-rmse:98.6527\tvalidation_1-rmse:109.868\n",
            "[142]\tvalidation_0-rmse:97.8728\tvalidation_1-rmse:109.164\n",
            "[143]\tvalidation_0-rmse:97.1006\tvalidation_1-rmse:108.47\n",
            "[144]\tvalidation_0-rmse:96.3379\tvalidation_1-rmse:107.787\n",
            "[145]\tvalidation_0-rmse:95.5833\tvalidation_1-rmse:107.104\n",
            "[146]\tvalidation_0-rmse:94.8365\tvalidation_1-rmse:106.443\n",
            "[147]\tvalidation_0-rmse:94.0969\tvalidation_1-rmse:105.779\n",
            "[148]\tvalidation_0-rmse:93.3647\tvalidation_1-rmse:105.124\n",
            "[149]\tvalidation_0-rmse:92.6408\tvalidation_1-rmse:104.478\n",
            "[150]\tvalidation_0-rmse:91.9244\tvalidation_1-rmse:103.872\n",
            "[151]\tvalidation_0-rmse:91.2155\tvalidation_1-rmse:103.241\n",
            "[152]\tvalidation_0-rmse:90.5135\tvalidation_1-rmse:102.649\n",
            "[153]\tvalidation_0-rmse:89.8193\tvalidation_1-rmse:102.065\n",
            "[154]\tvalidation_0-rmse:89.1344\tvalidation_1-rmse:101.467\n",
            "[155]\tvalidation_0-rmse:88.4533\tvalidation_1-rmse:100.92\n",
            "[156]\tvalidation_0-rmse:87.7785\tvalidation_1-rmse:100.353\n",
            "[157]\tvalidation_0-rmse:87.1117\tvalidation_1-rmse:99.8185\n",
            "[158]\tvalidation_0-rmse:86.4527\tvalidation_1-rmse:99.2927\n",
            "[159]\tvalidation_0-rmse:85.8019\tvalidation_1-rmse:98.7774\n",
            "[160]\tvalidation_0-rmse:85.1562\tvalidation_1-rmse:98.2387\n",
            "[161]\tvalidation_0-rmse:84.5198\tvalidation_1-rmse:97.7311\n",
            "[162]\tvalidation_0-rmse:83.8882\tvalidation_1-rmse:97.2414\n",
            "[163]\tvalidation_0-rmse:83.2641\tvalidation_1-rmse:96.7518\n",
            "[164]\tvalidation_0-rmse:82.6485\tvalidation_1-rmse:96.2445\n",
            "[165]\tvalidation_0-rmse:82.0361\tvalidation_1-rmse:95.7753\n",
            "[166]\tvalidation_0-rmse:81.4313\tvalidation_1-rmse:95.2988\n",
            "[167]\tvalidation_0-rmse:80.8333\tvalidation_1-rmse:94.822\n",
            "[168]\tvalidation_0-rmse:80.2392\tvalidation_1-rmse:94.3129\n",
            "[169]\tvalidation_0-rmse:79.6504\tvalidation_1-rmse:93.8069\n",
            "[170]\tvalidation_0-rmse:79.0711\tvalidation_1-rmse:93.3114\n",
            "[171]\tvalidation_0-rmse:78.494\tvalidation_1-rmse:92.8144\n",
            "[172]\tvalidation_0-rmse:77.9252\tvalidation_1-rmse:92.3433\n",
            "[173]\tvalidation_0-rmse:77.3635\tvalidation_1-rmse:91.8612\n",
            "[174]\tvalidation_0-rmse:76.8055\tvalidation_1-rmse:91.3828\n",
            "[175]\tvalidation_0-rmse:76.2546\tvalidation_1-rmse:90.9278\n",
            "[176]\tvalidation_0-rmse:75.711\tvalidation_1-rmse:90.4634\n",
            "[177]\tvalidation_0-rmse:75.1725\tvalidation_1-rmse:90.0065\n",
            "[178]\tvalidation_0-rmse:74.6376\tvalidation_1-rmse:89.5634\n",
            "[179]\tvalidation_0-rmse:74.111\tvalidation_1-rmse:89.1261\n",
            "[180]\tvalidation_0-rmse:73.5891\tvalidation_1-rmse:88.6837\n",
            "[181]\tvalidation_0-rmse:73.0718\tvalidation_1-rmse:88.2607\n",
            "[182]\tvalidation_0-rmse:72.5615\tvalidation_1-rmse:87.8292\n",
            "[183]\tvalidation_0-rmse:72.0547\tvalidation_1-rmse:87.4167\n",
            "[184]\tvalidation_0-rmse:71.5549\tvalidation_1-rmse:86.9979\n",
            "[185]\tvalidation_0-rmse:71.0604\tvalidation_1-rmse:86.5941\n",
            "[186]\tvalidation_0-rmse:70.5707\tvalidation_1-rmse:86.1981\n",
            "[187]\tvalidation_0-rmse:70.0863\tvalidation_1-rmse:85.7932\n",
            "[188]\tvalidation_0-rmse:69.6078\tvalidation_1-rmse:85.3951\n",
            "[189]\tvalidation_0-rmse:69.1311\tvalidation_1-rmse:85.016\n",
            "[190]\tvalidation_0-rmse:68.6616\tvalidation_1-rmse:84.6309\n",
            "[191]\tvalidation_0-rmse:68.1959\tvalidation_1-rmse:84.2641\n",
            "[192]\tvalidation_0-rmse:67.7386\tvalidation_1-rmse:83.8895\n",
            "[193]\tvalidation_0-rmse:67.2842\tvalidation_1-rmse:83.5313\n",
            "[194]\tvalidation_0-rmse:66.8338\tvalidation_1-rmse:83.1665\n",
            "[195]\tvalidation_0-rmse:66.3843\tvalidation_1-rmse:82.8189\n",
            "[196]\tvalidation_0-rmse:65.9463\tvalidation_1-rmse:82.4879\n",
            "[197]\tvalidation_0-rmse:65.509\tvalidation_1-rmse:82.1509\n",
            "[198]\tvalidation_0-rmse:65.0805\tvalidation_1-rmse:81.8054\n",
            "[199]\tvalidation_0-rmse:64.6508\tvalidation_1-rmse:81.4763\n",
            "[200]\tvalidation_0-rmse:64.2299\tvalidation_1-rmse:81.1424\n",
            "[201]\tvalidation_0-rmse:63.8098\tvalidation_1-rmse:80.8132\n",
            "[202]\tvalidation_0-rmse:63.3987\tvalidation_1-rmse:80.4867\n",
            "[203]\tvalidation_0-rmse:62.9881\tvalidation_1-rmse:80.1701\n",
            "[204]\tvalidation_0-rmse:62.5869\tvalidation_1-rmse:79.8471\n",
            "[205]\tvalidation_0-rmse:62.1869\tvalidation_1-rmse:79.5547\n",
            "[206]\tvalidation_0-rmse:61.7903\tvalidation_1-rmse:79.2436\n",
            "[207]\tvalidation_0-rmse:61.3983\tvalidation_1-rmse:78.9377\n",
            "[208]\tvalidation_0-rmse:61.0094\tvalidation_1-rmse:78.6311\n",
            "[209]\tvalidation_0-rmse:60.6259\tvalidation_1-rmse:78.3664\n",
            "[210]\tvalidation_0-rmse:60.2451\tvalidation_1-rmse:78.0707\n",
            "[211]\tvalidation_0-rmse:59.8704\tvalidation_1-rmse:77.7847\n",
            "[212]\tvalidation_0-rmse:59.4955\tvalidation_1-rmse:77.5026\n",
            "[213]\tvalidation_0-rmse:59.125\tvalidation_1-rmse:77.2475\n",
            "[214]\tvalidation_0-rmse:58.7573\tvalidation_1-rmse:76.9997\n",
            "[215]\tvalidation_0-rmse:58.3941\tvalidation_1-rmse:76.7244\n",
            "[216]\tvalidation_0-rmse:58.035\tvalidation_1-rmse:76.4793\n",
            "[217]\tvalidation_0-rmse:57.6785\tvalidation_1-rmse:76.2153\n",
            "[218]\tvalidation_0-rmse:57.3286\tvalidation_1-rmse:75.984\n",
            "[219]\tvalidation_0-rmse:56.9802\tvalidation_1-rmse:75.7388\n",
            "[220]\tvalidation_0-rmse:56.6372\tvalidation_1-rmse:75.4874\n",
            "[221]\tvalidation_0-rmse:56.2978\tvalidation_1-rmse:75.2592\n",
            "[222]\tvalidation_0-rmse:55.9624\tvalidation_1-rmse:75.0219\n",
            "[223]\tvalidation_0-rmse:55.6317\tvalidation_1-rmse:74.7913\n",
            "[224]\tvalidation_0-rmse:55.3026\tvalidation_1-rmse:74.5777\n",
            "[225]\tvalidation_0-rmse:54.9761\tvalidation_1-rmse:74.3504\n",
            "[226]\tvalidation_0-rmse:54.6546\tvalidation_1-rmse:74.1325\n",
            "[227]\tvalidation_0-rmse:54.3363\tvalidation_1-rmse:73.9176\n",
            "[228]\tvalidation_0-rmse:54.0199\tvalidation_1-rmse:73.6922\n",
            "[229]\tvalidation_0-rmse:53.7101\tvalidation_1-rmse:73.479\n",
            "[230]\tvalidation_0-rmse:53.4052\tvalidation_1-rmse:73.2658\n",
            "[231]\tvalidation_0-rmse:53.103\tvalidation_1-rmse:73.0644\n",
            "[232]\tvalidation_0-rmse:52.8044\tvalidation_1-rmse:72.8518\n",
            "[233]\tvalidation_0-rmse:52.5041\tvalidation_1-rmse:72.6536\n",
            "[234]\tvalidation_0-rmse:52.2081\tvalidation_1-rmse:72.4524\n",
            "[235]\tvalidation_0-rmse:51.913\tvalidation_1-rmse:72.2598\n",
            "[236]\tvalidation_0-rmse:51.6208\tvalidation_1-rmse:72.0759\n",
            "[237]\tvalidation_0-rmse:51.3331\tvalidation_1-rmse:71.8906\n",
            "[238]\tvalidation_0-rmse:51.0482\tvalidation_1-rmse:71.71\n",
            "[239]\tvalidation_0-rmse:50.7653\tvalidation_1-rmse:71.5315\n",
            "[240]\tvalidation_0-rmse:50.4869\tvalidation_1-rmse:71.3541\n",
            "[241]\tvalidation_0-rmse:50.2122\tvalidation_1-rmse:71.1752\n",
            "[242]\tvalidation_0-rmse:49.9407\tvalidation_1-rmse:71.0033\n",
            "[243]\tvalidation_0-rmse:49.6706\tvalidation_1-rmse:70.8253\n",
            "[244]\tvalidation_0-rmse:49.4073\tvalidation_1-rmse:70.6698\n",
            "[245]\tvalidation_0-rmse:49.1425\tvalidation_1-rmse:70.4996\n",
            "[246]\tvalidation_0-rmse:48.8807\tvalidation_1-rmse:70.3283\n",
            "[247]\tvalidation_0-rmse:48.626\tvalidation_1-rmse:70.1723\n",
            "[248]\tvalidation_0-rmse:48.3658\tvalidation_1-rmse:70.0152\n",
            "[249]\tvalidation_0-rmse:48.1153\tvalidation_1-rmse:69.8598\n",
            "[250]\tvalidation_0-rmse:47.8685\tvalidation_1-rmse:69.7097\n",
            "[251]\tvalidation_0-rmse:47.6237\tvalidation_1-rmse:69.5653\n",
            "[252]\tvalidation_0-rmse:47.3774\tvalidation_1-rmse:69.4072\n",
            "[253]\tvalidation_0-rmse:47.1342\tvalidation_1-rmse:69.2706\n",
            "[254]\tvalidation_0-rmse:46.8943\tvalidation_1-rmse:69.124\n",
            "[255]\tvalidation_0-rmse:46.6546\tvalidation_1-rmse:68.9777\n",
            "[256]\tvalidation_0-rmse:46.42\tvalidation_1-rmse:68.8349\n",
            "[257]\tvalidation_0-rmse:46.1859\tvalidation_1-rmse:68.6878\n",
            "[258]\tvalidation_0-rmse:45.9557\tvalidation_1-rmse:68.5469\n",
            "[259]\tvalidation_0-rmse:45.7265\tvalidation_1-rmse:68.4265\n",
            "[260]\tvalidation_0-rmse:45.5002\tvalidation_1-rmse:68.2935\n",
            "[261]\tvalidation_0-rmse:45.2778\tvalidation_1-rmse:68.157\n",
            "[262]\tvalidation_0-rmse:45.057\tvalidation_1-rmse:68.0439\n",
            "[263]\tvalidation_0-rmse:44.8343\tvalidation_1-rmse:67.9077\n",
            "[264]\tvalidation_0-rmse:44.619\tvalidation_1-rmse:67.7773\n",
            "[265]\tvalidation_0-rmse:44.4038\tvalidation_1-rmse:67.6503\n",
            "[266]\tvalidation_0-rmse:44.1924\tvalidation_1-rmse:67.5289\n",
            "[267]\tvalidation_0-rmse:43.9827\tvalidation_1-rmse:67.4022\n",
            "[268]\tvalidation_0-rmse:43.7746\tvalidation_1-rmse:67.2797\n",
            "[269]\tvalidation_0-rmse:43.5696\tvalidation_1-rmse:67.1545\n",
            "[270]\tvalidation_0-rmse:43.3654\tvalidation_1-rmse:67.0404\n",
            "[271]\tvalidation_0-rmse:43.1654\tvalidation_1-rmse:66.9247\n",
            "[272]\tvalidation_0-rmse:42.9681\tvalidation_1-rmse:66.8134\n",
            "[273]\tvalidation_0-rmse:42.7715\tvalidation_1-rmse:66.7275\n",
            "[274]\tvalidation_0-rmse:42.5773\tvalidation_1-rmse:66.6167\n",
            "[275]\tvalidation_0-rmse:42.385\tvalidation_1-rmse:66.5074\n",
            "[276]\tvalidation_0-rmse:42.1954\tvalidation_1-rmse:66.4012\n",
            "[277]\tvalidation_0-rmse:42.0074\tvalidation_1-rmse:66.297\n",
            "[278]\tvalidation_0-rmse:41.8221\tvalidation_1-rmse:66.1958\n",
            "[279]\tvalidation_0-rmse:41.6378\tvalidation_1-rmse:66.096\n",
            "[280]\tvalidation_0-rmse:41.4546\tvalidation_1-rmse:65.9966\n",
            "[281]\tvalidation_0-rmse:41.275\tvalidation_1-rmse:65.9063\n",
            "[282]\tvalidation_0-rmse:41.0994\tvalidation_1-rmse:65.8036\n",
            "[283]\tvalidation_0-rmse:40.9231\tvalidation_1-rmse:65.7065\n",
            "[284]\tvalidation_0-rmse:40.7473\tvalidation_1-rmse:65.6164\n",
            "[285]\tvalidation_0-rmse:40.5751\tvalidation_1-rmse:65.5399\n",
            "[286]\tvalidation_0-rmse:40.4048\tvalidation_1-rmse:65.4507\n",
            "[287]\tvalidation_0-rmse:40.2382\tvalidation_1-rmse:65.3679\n",
            "[288]\tvalidation_0-rmse:40.0687\tvalidation_1-rmse:65.2797\n",
            "[289]\tvalidation_0-rmse:39.904\tvalidation_1-rmse:65.2053\n",
            "[290]\tvalidation_0-rmse:39.7389\tvalidation_1-rmse:65.1277\n",
            "[291]\tvalidation_0-rmse:39.5737\tvalidation_1-rmse:65.0398\n",
            "[292]\tvalidation_0-rmse:39.4139\tvalidation_1-rmse:64.9498\n",
            "[293]\tvalidation_0-rmse:39.2533\tvalidation_1-rmse:64.8821\n",
            "[294]\tvalidation_0-rmse:39.0981\tvalidation_1-rmse:64.8014\n",
            "[295]\tvalidation_0-rmse:38.9392\tvalidation_1-rmse:64.7258\n",
            "[296]\tvalidation_0-rmse:38.7843\tvalidation_1-rmse:64.6611\n",
            "[297]\tvalidation_0-rmse:38.6319\tvalidation_1-rmse:64.5883\n",
            "[298]\tvalidation_0-rmse:38.4833\tvalidation_1-rmse:64.513\n",
            "[299]\tvalidation_0-rmse:38.333\tvalidation_1-rmse:64.4523\n",
            "[300]\tvalidation_0-rmse:38.1839\tvalidation_1-rmse:64.3948\n",
            "[301]\tvalidation_0-rmse:38.0378\tvalidation_1-rmse:64.336\n",
            "[302]\tvalidation_0-rmse:37.8948\tvalidation_1-rmse:64.263\n",
            "[303]\tvalidation_0-rmse:37.7534\tvalidation_1-rmse:64.2066\n",
            "[304]\tvalidation_0-rmse:37.6123\tvalidation_1-rmse:64.1537\n",
            "[305]\tvalidation_0-rmse:37.4745\tvalidation_1-rmse:64.102\n",
            "[306]\tvalidation_0-rmse:37.3385\tvalidation_1-rmse:64.0302\n",
            "[307]\tvalidation_0-rmse:37.2018\tvalidation_1-rmse:63.974\n",
            "[308]\tvalidation_0-rmse:37.0635\tvalidation_1-rmse:63.9203\n",
            "[309]\tvalidation_0-rmse:36.927\tvalidation_1-rmse:63.8671\n",
            "[310]\tvalidation_0-rmse:36.7927\tvalidation_1-rmse:63.8152\n",
            "[311]\tvalidation_0-rmse:36.6627\tvalidation_1-rmse:63.7648\n",
            "[312]\tvalidation_0-rmse:36.5315\tvalidation_1-rmse:63.7133\n",
            "[313]\tvalidation_0-rmse:36.4037\tvalidation_1-rmse:63.6635\n",
            "[314]\tvalidation_0-rmse:36.2772\tvalidation_1-rmse:63.5997\n",
            "[315]\tvalidation_0-rmse:36.1533\tvalidation_1-rmse:63.5382\n",
            "[316]\tvalidation_0-rmse:36.0313\tvalidation_1-rmse:63.4776\n",
            "[317]\tvalidation_0-rmse:35.9105\tvalidation_1-rmse:63.4204\n",
            "[318]\tvalidation_0-rmse:35.7905\tvalidation_1-rmse:63.3612\n",
            "[319]\tvalidation_0-rmse:35.6724\tvalidation_1-rmse:63.3159\n",
            "[320]\tvalidation_0-rmse:35.5576\tvalidation_1-rmse:63.252\n",
            "[321]\tvalidation_0-rmse:35.4405\tvalidation_1-rmse:63.2042\n",
            "[322]\tvalidation_0-rmse:35.3267\tvalidation_1-rmse:63.143\n",
            "[323]\tvalidation_0-rmse:35.2123\tvalidation_1-rmse:63.0976\n",
            "[324]\tvalidation_0-rmse:35.1023\tvalidation_1-rmse:63.039\n",
            "[325]\tvalidation_0-rmse:34.9926\tvalidation_1-rmse:62.9965\n",
            "[326]\tvalidation_0-rmse:34.8838\tvalidation_1-rmse:62.9382\n",
            "[327]\tvalidation_0-rmse:34.7729\tvalidation_1-rmse:62.8969\n",
            "[328]\tvalidation_0-rmse:34.6653\tvalidation_1-rmse:62.8451\n",
            "[329]\tvalidation_0-rmse:34.5585\tvalidation_1-rmse:62.806\n",
            "[330]\tvalidation_0-rmse:34.4556\tvalidation_1-rmse:62.7562\n",
            "[331]\tvalidation_0-rmse:34.3499\tvalidation_1-rmse:62.7193\n",
            "[332]\tvalidation_0-rmse:34.2494\tvalidation_1-rmse:62.6718\n",
            "[333]\tvalidation_0-rmse:34.1472\tvalidation_1-rmse:62.6379\n",
            "[334]\tvalidation_0-rmse:34.0481\tvalidation_1-rmse:62.592\n",
            "[335]\tvalidation_0-rmse:33.9479\tvalidation_1-rmse:62.5595\n",
            "[336]\tvalidation_0-rmse:33.8468\tvalidation_1-rmse:62.5277\n",
            "[337]\tvalidation_0-rmse:33.7479\tvalidation_1-rmse:62.4851\n",
            "[338]\tvalidation_0-rmse:33.6498\tvalidation_1-rmse:62.4538\n",
            "[339]\tvalidation_0-rmse:33.556\tvalidation_1-rmse:62.4143\n",
            "[340]\tvalidation_0-rmse:33.4579\tvalidation_1-rmse:62.3821\n",
            "[341]\tvalidation_0-rmse:33.3615\tvalidation_1-rmse:62.3561\n",
            "[342]\tvalidation_0-rmse:33.2683\tvalidation_1-rmse:62.3162\n",
            "[343]\tvalidation_0-rmse:33.1742\tvalidation_1-rmse:62.2877\n",
            "[344]\tvalidation_0-rmse:33.0813\tvalidation_1-rmse:62.2568\n",
            "[345]\tvalidation_0-rmse:32.9909\tvalidation_1-rmse:62.2205\n",
            "[346]\tvalidation_0-rmse:32.9019\tvalidation_1-rmse:62.1947\n",
            "[347]\tvalidation_0-rmse:32.8095\tvalidation_1-rmse:62.1696\n",
            "[348]\tvalidation_0-rmse:32.7201\tvalidation_1-rmse:62.1312\n",
            "[349]\tvalidation_0-rmse:32.6316\tvalidation_1-rmse:62.1065\n",
            "[350]\tvalidation_0-rmse:32.5443\tvalidation_1-rmse:62.0814\n",
            "[351]\tvalidation_0-rmse:32.4557\tvalidation_1-rmse:62.0581\n",
            "[352]\tvalidation_0-rmse:32.3758\tvalidation_1-rmse:62.0252\n",
            "[353]\tvalidation_0-rmse:32.2945\tvalidation_1-rmse:61.9904\n",
            "[354]\tvalidation_0-rmse:32.2132\tvalidation_1-rmse:61.9686\n",
            "[355]\tvalidation_0-rmse:32.13\tvalidation_1-rmse:61.9476\n",
            "[356]\tvalidation_0-rmse:32.0516\tvalidation_1-rmse:61.9192\n",
            "[357]\tvalidation_0-rmse:31.9713\tvalidation_1-rmse:61.8942\n",
            "[358]\tvalidation_0-rmse:31.8942\tvalidation_1-rmse:61.8716\n",
            "[359]\tvalidation_0-rmse:31.8142\tvalidation_1-rmse:61.8393\n",
            "[360]\tvalidation_0-rmse:31.7372\tvalidation_1-rmse:61.8167\n",
            "[361]\tvalidation_0-rmse:31.66\tvalidation_1-rmse:61.7856\n",
            "[362]\tvalidation_0-rmse:31.5868\tvalidation_1-rmse:61.7642\n",
            "[363]\tvalidation_0-rmse:31.5115\tvalidation_1-rmse:61.7331\n",
            "[364]\tvalidation_0-rmse:31.4375\tvalidation_1-rmse:61.7035\n",
            "[365]\tvalidation_0-rmse:31.3619\tvalidation_1-rmse:61.6769\n",
            "[366]\tvalidation_0-rmse:31.2909\tvalidation_1-rmse:61.6567\n",
            "[367]\tvalidation_0-rmse:31.2171\tvalidation_1-rmse:61.63\n",
            "[368]\tvalidation_0-rmse:31.1437\tvalidation_1-rmse:61.6018\n",
            "[369]\tvalidation_0-rmse:31.0723\tvalidation_1-rmse:61.5759\n",
            "[370]\tvalidation_0-rmse:31.0015\tvalidation_1-rmse:61.5476\n",
            "[371]\tvalidation_0-rmse:30.9309\tvalidation_1-rmse:61.5181\n",
            "[372]\tvalidation_0-rmse:30.8631\tvalidation_1-rmse:61.5001\n",
            "[373]\tvalidation_0-rmse:30.7942\tvalidation_1-rmse:61.476\n",
            "[374]\tvalidation_0-rmse:30.7249\tvalidation_1-rmse:61.4546\n",
            "[375]\tvalidation_0-rmse:30.6595\tvalidation_1-rmse:61.4298\n",
            "[376]\tvalidation_0-rmse:30.5941\tvalidation_1-rmse:61.4076\n",
            "[377]\tvalidation_0-rmse:30.5267\tvalidation_1-rmse:61.3871\n",
            "[378]\tvalidation_0-rmse:30.4637\tvalidation_1-rmse:61.367\n",
            "[379]\tvalidation_0-rmse:30.401\tvalidation_1-rmse:61.3426\n",
            "[380]\tvalidation_0-rmse:30.3359\tvalidation_1-rmse:61.3217\n",
            "[381]\tvalidation_0-rmse:30.272\tvalidation_1-rmse:61.3078\n",
            "[382]\tvalidation_0-rmse:30.2102\tvalidation_1-rmse:61.2874\n",
            "[383]\tvalidation_0-rmse:30.1498\tvalidation_1-rmse:61.2705\n",
            "[384]\tvalidation_0-rmse:30.089\tvalidation_1-rmse:61.2511\n",
            "[385]\tvalidation_0-rmse:30.0301\tvalidation_1-rmse:61.2317\n",
            "[386]\tvalidation_0-rmse:29.9715\tvalidation_1-rmse:61.2116\n",
            "[387]\tvalidation_0-rmse:29.9093\tvalidation_1-rmse:61.1935\n",
            "[388]\tvalidation_0-rmse:29.8521\tvalidation_1-rmse:61.1733\n",
            "[389]\tvalidation_0-rmse:29.7948\tvalidation_1-rmse:61.1519\n",
            "[390]\tvalidation_0-rmse:29.7347\tvalidation_1-rmse:61.132\n",
            "[391]\tvalidation_0-rmse:29.679\tvalidation_1-rmse:61.1154\n",
            "[392]\tvalidation_0-rmse:29.6226\tvalidation_1-rmse:61.0976\n",
            "[393]\tvalidation_0-rmse:29.5694\tvalidation_1-rmse:61.0812\n",
            "[394]\tvalidation_0-rmse:29.5162\tvalidation_1-rmse:61.0703\n",
            "[395]\tvalidation_0-rmse:29.4636\tvalidation_1-rmse:61.056\n",
            "[396]\tvalidation_0-rmse:29.4092\tvalidation_1-rmse:61.0363\n",
            "[397]\tvalidation_0-rmse:29.3558\tvalidation_1-rmse:61.0208\n",
            "[398]\tvalidation_0-rmse:29.3018\tvalidation_1-rmse:61.007\n",
            "[399]\tvalidation_0-rmse:29.2516\tvalidation_1-rmse:60.9954\n",
            "[400]\tvalidation_0-rmse:29.2015\tvalidation_1-rmse:60.9815\n",
            "[401]\tvalidation_0-rmse:29.1529\tvalidation_1-rmse:60.9731\n",
            "[402]\tvalidation_0-rmse:29.1061\tvalidation_1-rmse:60.9553\n",
            "[403]\tvalidation_0-rmse:29.0563\tvalidation_1-rmse:60.9434\n",
            "[404]\tvalidation_0-rmse:29.008\tvalidation_1-rmse:60.9325\n",
            "[405]\tvalidation_0-rmse:28.9598\tvalidation_1-rmse:60.9239\n",
            "[406]\tvalidation_0-rmse:28.913\tvalidation_1-rmse:60.907\n",
            "[407]\tvalidation_0-rmse:28.8655\tvalidation_1-rmse:60.8945\n",
            "[408]\tvalidation_0-rmse:28.8185\tvalidation_1-rmse:60.8783\n",
            "[409]\tvalidation_0-rmse:28.773\tvalidation_1-rmse:60.8673\n",
            "[410]\tvalidation_0-rmse:28.7265\tvalidation_1-rmse:60.8573\n",
            "[411]\tvalidation_0-rmse:28.6805\tvalidation_1-rmse:60.8419\n",
            "[412]\tvalidation_0-rmse:28.6379\tvalidation_1-rmse:60.8323\n",
            "[413]\tvalidation_0-rmse:28.5956\tvalidation_1-rmse:60.8164\n",
            "[414]\tvalidation_0-rmse:28.5538\tvalidation_1-rmse:60.8035\n",
            "[415]\tvalidation_0-rmse:28.5119\tvalidation_1-rmse:60.7915\n",
            "[416]\tvalidation_0-rmse:28.466\tvalidation_1-rmse:60.7849\n",
            "[417]\tvalidation_0-rmse:28.424\tvalidation_1-rmse:60.773\n",
            "[418]\tvalidation_0-rmse:28.3847\tvalidation_1-rmse:60.7643\n",
            "[419]\tvalidation_0-rmse:28.3415\tvalidation_1-rmse:60.7595\n",
            "[420]\tvalidation_0-rmse:28.3004\tvalidation_1-rmse:60.7528\n",
            "[421]\tvalidation_0-rmse:28.2589\tvalidation_1-rmse:60.7447\n",
            "[422]\tvalidation_0-rmse:28.221\tvalidation_1-rmse:60.7354\n",
            "[423]\tvalidation_0-rmse:28.1789\tvalidation_1-rmse:60.7261\n",
            "[424]\tvalidation_0-rmse:28.1389\tvalidation_1-rmse:60.718\n",
            "[425]\tvalidation_0-rmse:28.0994\tvalidation_1-rmse:60.7045\n",
            "[426]\tvalidation_0-rmse:28.0593\tvalidation_1-rmse:60.7024\n",
            "[427]\tvalidation_0-rmse:28.018\tvalidation_1-rmse:60.6932\n",
            "[428]\tvalidation_0-rmse:27.9782\tvalidation_1-rmse:60.6804\n",
            "[429]\tvalidation_0-rmse:27.941\tvalidation_1-rmse:60.6796\n",
            "[430]\tvalidation_0-rmse:27.9026\tvalidation_1-rmse:60.6681\n",
            "[431]\tvalidation_0-rmse:27.8647\tvalidation_1-rmse:60.6559\n",
            "[432]\tvalidation_0-rmse:27.8293\tvalidation_1-rmse:60.6458\n",
            "[433]\tvalidation_0-rmse:27.7923\tvalidation_1-rmse:60.6402\n",
            "[434]\tvalidation_0-rmse:27.7553\tvalidation_1-rmse:60.6275\n",
            "[435]\tvalidation_0-rmse:27.7195\tvalidation_1-rmse:60.6184\n",
            "[436]\tvalidation_0-rmse:27.6876\tvalidation_1-rmse:60.6113\n",
            "[437]\tvalidation_0-rmse:27.6567\tvalidation_1-rmse:60.5997\n",
            "[438]\tvalidation_0-rmse:27.626\tvalidation_1-rmse:60.5946\n",
            "[439]\tvalidation_0-rmse:27.5909\tvalidation_1-rmse:60.5877\n",
            "[440]\tvalidation_0-rmse:27.5561\tvalidation_1-rmse:60.5813\n",
            "[441]\tvalidation_0-rmse:27.5222\tvalidation_1-rmse:60.5739\n",
            "[442]\tvalidation_0-rmse:27.4917\tvalidation_1-rmse:60.5638\n",
            "[443]\tvalidation_0-rmse:27.4585\tvalidation_1-rmse:60.5583\n",
            "[444]\tvalidation_0-rmse:27.4251\tvalidation_1-rmse:60.5522\n",
            "[445]\tvalidation_0-rmse:27.3927\tvalidation_1-rmse:60.547\n",
            "[446]\tvalidation_0-rmse:27.3608\tvalidation_1-rmse:60.5377\n",
            "[447]\tvalidation_0-rmse:27.3297\tvalidation_1-rmse:60.5311\n",
            "[448]\tvalidation_0-rmse:27.2984\tvalidation_1-rmse:60.5234\n",
            "[449]\tvalidation_0-rmse:27.2674\tvalidation_1-rmse:60.5148\n",
            "[450]\tvalidation_0-rmse:27.2369\tvalidation_1-rmse:60.5073\n",
            "[451]\tvalidation_0-rmse:27.2065\tvalidation_1-rmse:60.4966\n",
            "[452]\tvalidation_0-rmse:27.1763\tvalidation_1-rmse:60.4895\n",
            "[453]\tvalidation_0-rmse:27.1466\tvalidation_1-rmse:60.4824\n",
            "[454]\tvalidation_0-rmse:27.1174\tvalidation_1-rmse:60.4749\n",
            "[455]\tvalidation_0-rmse:27.0897\tvalidation_1-rmse:60.4672\n",
            "[456]\tvalidation_0-rmse:27.0616\tvalidation_1-rmse:60.4612\n",
            "[457]\tvalidation_0-rmse:27.0316\tvalidation_1-rmse:60.4536\n",
            "[458]\tvalidation_0-rmse:27.0055\tvalidation_1-rmse:60.4476\n",
            "[459]\tvalidation_0-rmse:26.9762\tvalidation_1-rmse:60.4379\n",
            "[460]\tvalidation_0-rmse:26.9503\tvalidation_1-rmse:60.4335\n",
            "[461]\tvalidation_0-rmse:26.9217\tvalidation_1-rmse:60.4252\n",
            "[462]\tvalidation_0-rmse:26.8939\tvalidation_1-rmse:60.4174\n",
            "[463]\tvalidation_0-rmse:26.869\tvalidation_1-rmse:60.4108\n",
            "[464]\tvalidation_0-rmse:26.8425\tvalidation_1-rmse:60.4011\n",
            "[465]\tvalidation_0-rmse:26.8165\tvalidation_1-rmse:60.3921\n",
            "[466]\tvalidation_0-rmse:26.7915\tvalidation_1-rmse:60.3898\n",
            "[467]\tvalidation_0-rmse:26.7661\tvalidation_1-rmse:60.3847\n",
            "[468]\tvalidation_0-rmse:26.7406\tvalidation_1-rmse:60.3768\n",
            "[469]\tvalidation_0-rmse:26.7162\tvalidation_1-rmse:60.3727\n",
            "[470]\tvalidation_0-rmse:26.6919\tvalidation_1-rmse:60.366\n",
            "[471]\tvalidation_0-rmse:26.6689\tvalidation_1-rmse:60.3591\n",
            "[472]\tvalidation_0-rmse:26.6465\tvalidation_1-rmse:60.3517\n",
            "[473]\tvalidation_0-rmse:26.624\tvalidation_1-rmse:60.3454\n",
            "[474]\tvalidation_0-rmse:26.5983\tvalidation_1-rmse:60.3365\n",
            "[475]\tvalidation_0-rmse:26.574\tvalidation_1-rmse:60.33\n",
            "[476]\tvalidation_0-rmse:26.5462\tvalidation_1-rmse:60.3205\n",
            "[477]\tvalidation_0-rmse:26.5236\tvalidation_1-rmse:60.3151\n",
            "[478]\tvalidation_0-rmse:26.5001\tvalidation_1-rmse:60.3091\n",
            "[479]\tvalidation_0-rmse:26.4785\tvalidation_1-rmse:60.3053\n",
            "[480]\tvalidation_0-rmse:26.4573\tvalidation_1-rmse:60.2991\n",
            "[481]\tvalidation_0-rmse:26.4339\tvalidation_1-rmse:60.2956\n",
            "[482]\tvalidation_0-rmse:26.4108\tvalidation_1-rmse:60.2923\n",
            "[483]\tvalidation_0-rmse:26.3902\tvalidation_1-rmse:60.2888\n",
            "[484]\tvalidation_0-rmse:26.3679\tvalidation_1-rmse:60.2831\n",
            "[485]\tvalidation_0-rmse:26.3433\tvalidation_1-rmse:60.2826\n",
            "[486]\tvalidation_0-rmse:26.3236\tvalidation_1-rmse:60.2803\n",
            "[487]\tvalidation_0-rmse:26.3038\tvalidation_1-rmse:60.2764\n",
            "[488]\tvalidation_0-rmse:26.2831\tvalidation_1-rmse:60.2723\n",
            "[489]\tvalidation_0-rmse:26.264\tvalidation_1-rmse:60.2684\n",
            "[490]\tvalidation_0-rmse:26.2439\tvalidation_1-rmse:60.2677\n",
            "[491]\tvalidation_0-rmse:26.2233\tvalidation_1-rmse:60.2632\n",
            "[492]\tvalidation_0-rmse:26.2009\tvalidation_1-rmse:60.259\n",
            "[493]\tvalidation_0-rmse:26.1824\tvalidation_1-rmse:60.2557\n",
            "[494]\tvalidation_0-rmse:26.1638\tvalidation_1-rmse:60.2559\n",
            "[495]\tvalidation_0-rmse:26.1454\tvalidation_1-rmse:60.2562\n",
            "[496]\tvalidation_0-rmse:26.1275\tvalidation_1-rmse:60.2556\n",
            "[497]\tvalidation_0-rmse:26.1084\tvalidation_1-rmse:60.2522\n",
            "[498]\tvalidation_0-rmse:26.0867\tvalidation_1-rmse:60.2539\n",
            "[499]\tvalidation_0-rmse:26.0668\tvalidation_1-rmse:60.2507\n",
            "[500]\tvalidation_0-rmse:26.0503\tvalidation_1-rmse:60.2518\n",
            "[501]\tvalidation_0-rmse:26.0332\tvalidation_1-rmse:60.2521\n",
            "[502]\tvalidation_0-rmse:26.017\tvalidation_1-rmse:60.2525\n",
            "[503]\tvalidation_0-rmse:25.9994\tvalidation_1-rmse:60.2519\n",
            "[504]\tvalidation_0-rmse:25.9835\tvalidation_1-rmse:60.2519\n",
            "[505]\tvalidation_0-rmse:25.9631\tvalidation_1-rmse:60.2535\n",
            "[506]\tvalidation_0-rmse:25.9445\tvalidation_1-rmse:60.254\n",
            "[507]\tvalidation_0-rmse:25.9269\tvalidation_1-rmse:60.2551\n",
            "[508]\tvalidation_0-rmse:25.9073\tvalidation_1-rmse:60.2556\n",
            "[509]\tvalidation_0-rmse:25.8902\tvalidation_1-rmse:60.2576\n",
            "[510]\tvalidation_0-rmse:25.8742\tvalidation_1-rmse:60.2583\n",
            "[511]\tvalidation_0-rmse:25.8555\tvalidation_1-rmse:60.2598\n",
            "[512]\tvalidation_0-rmse:25.8387\tvalidation_1-rmse:60.2646\n",
            "[513]\tvalidation_0-rmse:25.8186\tvalidation_1-rmse:60.2685\n",
            "[514]\tvalidation_0-rmse:25.8023\tvalidation_1-rmse:60.2724\n",
            "[515]\tvalidation_0-rmse:25.7841\tvalidation_1-rmse:60.2756\n",
            "[516]\tvalidation_0-rmse:25.7667\tvalidation_1-rmse:60.2784\n",
            "[517]\tvalidation_0-rmse:25.7483\tvalidation_1-rmse:60.2823\n",
            "[518]\tvalidation_0-rmse:25.7284\tvalidation_1-rmse:60.2825\n",
            "[519]\tvalidation_0-rmse:25.7101\tvalidation_1-rmse:60.2878\n",
            "[520]\tvalidation_0-rmse:25.6907\tvalidation_1-rmse:60.2885\n",
            "[521]\tvalidation_0-rmse:25.671\tvalidation_1-rmse:60.2912\n",
            "[522]\tvalidation_0-rmse:25.6517\tvalidation_1-rmse:60.2936\n",
            "[523]\tvalidation_0-rmse:25.6351\tvalidation_1-rmse:60.298\n",
            "[524]\tvalidation_0-rmse:25.6165\tvalidation_1-rmse:60.2986\n",
            "[525]\tvalidation_0-rmse:25.5996\tvalidation_1-rmse:60.2997\n",
            "[526]\tvalidation_0-rmse:25.5801\tvalidation_1-rmse:60.3009\n",
            "[527]\tvalidation_0-rmse:25.5605\tvalidation_1-rmse:60.3028\n",
            "[528]\tvalidation_0-rmse:25.5447\tvalidation_1-rmse:60.3034\n",
            "[529]\tvalidation_0-rmse:25.5286\tvalidation_1-rmse:60.3067\n",
            "[530]\tvalidation_0-rmse:25.5103\tvalidation_1-rmse:60.3083\n",
            "[531]\tvalidation_0-rmse:25.4949\tvalidation_1-rmse:60.31\n",
            "[532]\tvalidation_0-rmse:25.4788\tvalidation_1-rmse:60.3126\n",
            "[533]\tvalidation_0-rmse:25.4637\tvalidation_1-rmse:60.3147\n",
            "[534]\tvalidation_0-rmse:25.4475\tvalidation_1-rmse:60.3167\n",
            "[535]\tvalidation_0-rmse:25.4326\tvalidation_1-rmse:60.3178\n",
            "[536]\tvalidation_0-rmse:25.4151\tvalidation_1-rmse:60.3202\n",
            "[537]\tvalidation_0-rmse:25.4005\tvalidation_1-rmse:60.3231\n",
            "[538]\tvalidation_0-rmse:25.3857\tvalidation_1-rmse:60.3257\n",
            "[539]\tvalidation_0-rmse:25.3705\tvalidation_1-rmse:60.3288\n",
            "[540]\tvalidation_0-rmse:25.3552\tvalidation_1-rmse:60.331\n",
            "[541]\tvalidation_0-rmse:25.3409\tvalidation_1-rmse:60.3328\n",
            "[542]\tvalidation_0-rmse:25.3271\tvalidation_1-rmse:60.3341\n",
            "[543]\tvalidation_0-rmse:25.3137\tvalidation_1-rmse:60.3354\n",
            "[544]\tvalidation_0-rmse:25.2993\tvalidation_1-rmse:60.3374\n",
            "[545]\tvalidation_0-rmse:25.285\tvalidation_1-rmse:60.3393\n",
            "[546]\tvalidation_0-rmse:25.2714\tvalidation_1-rmse:60.3402\n",
            "[547]\tvalidation_0-rmse:25.2589\tvalidation_1-rmse:60.3418\n",
            "[548]\tvalidation_0-rmse:25.2452\tvalidation_1-rmse:60.3458\n",
            "[549]\tvalidation_0-rmse:25.2334\tvalidation_1-rmse:60.348\n",
            "Stopping. Best iteration:\n",
            "[499]\tvalidation_0-rmse:26.0668\tvalidation_1-rmse:60.2507\n",
            "\n",
            "[417.88806  284.18594  448.63953  ...  80.48471  107.51864   73.410355]\n",
            "CPU times: user 8.55 s, sys: 183 ms, total: 8.73 s\n",
            "Wall time: 8.7 s\n"
          ],
          "name": "stdout"
        }
      ]
    },
    {
      "cell_type": "markdown",
      "metadata": {
        "id": "aHuQLizEyKNn",
        "colab_type": "text"
      },
      "source": [
        "### Plot error for checking for overfitting"
      ]
    },
    {
      "cell_type": "code",
      "metadata": {
        "id": "oYneHKh7yHaO",
        "colab_type": "code",
        "outputId": "54a68dfd-c761-44fb-b3eb-a1864647798c",
        "colab": {
          "base_uri": "https://localhost:8080/",
          "height": 281
        }
      },
      "source": [
        "\n",
        "# retrieve performance metrics\n",
        "results = full_pipeline[-1].estimator.evals_result()\n",
        "epochs = len(results['validation_0']['rmse'])\n",
        "x_axis = range(0, epochs)\n",
        "# plot log loss\n",
        "fig, ax = plt.subplots()\n",
        "ax.plot(x_axis, results['validation_0']['rmse'], label='Train')\n",
        "ax.plot(x_axis, results['validation_1']['rmse'], label='Test')\n",
        "ax.legend()\n",
        "plt.ylabel('MAE')\n",
        "plt.title('XGBoost Mean Absolute Error')\n",
        "plt.show()"
      ],
      "execution_count": 0,
      "outputs": [
        {
          "output_type": "display_data",
          "data": {
            "image/png": "[encoded data removed]",
            "text/plain": [
              "<Figure size 432x288 with 1 Axes>"
            ]
          },
          "metadata": {
            "tags": [],
            "needs_background": "light"
          }
        }
      ]
    },
    {
      "cell_type": "code",
      "metadata": {
        "id": "JFtSscvLoQS3",
        "colab_type": "code",
        "colab": {}
      },
      "source": [
        "# print(full_pipeline[-1].estimator.feature_importances_)\n",
        "# importances = full_pipeline[-1].estimator.feature_importances_\n",
        "# feature_cols = X_train.columns\n",
        "\n",
        "# importance_dict = {}\n",
        "# for i in range(len(feature_cols)):\n",
        "#     importance_dict[feature_cols[i]] = importances[i]\n",
        "\n",
        "# print(importance_dict)\n",
        "\n",
        "# import matplotlib.pyplot as plt\n",
        "# indices = np.argsort(importances)\n",
        "# # Plot the feature importances of the forest\n",
        "# plt.figure()\n",
        "# plt.title(\"Feature importances\")\n",
        "# plt.barh(range(X_train.shape[1]), importances[indices],\n",
        "#        color=\"b\", align=\"center\")\n",
        "# # If you want to define your own labels,\n",
        "# # change indices to a list of labels on the following line.\n",
        "# plt.yticks(range(X_train.shape[1]), indices)\n",
        "# plt.ylim([-1, X_train.shape[1]])\n",
        "# plt.show()"
      ],
      "execution_count": 0,
      "outputs": []
    },
    {
      "cell_type": "code",
      "metadata": {
        "id": "JKF7rG-0IIwC",
        "colab_type": "code",
        "outputId": "86c95af6-ea4d-4455-e6e0-a96dbb4d6368",
        "colab": {
          "base_uri": "https://localhost:8080/",
          "height": 85
        }
      },
      "source": [
        "from sklearn.metrics import mean_absolute_error, max_error\n",
        "\n",
        "print(\"MAE for correct predictions: \",mean_absolute_error(y_eval, preds))\n",
        "print(\"Max Error for correct predictions: \", max_error(y_eval, preds))\n",
        "\n",
        "print(\"MAE for incorrect predictions: \",mean_absolute_error(incorrect_fare, incorrect_preds))\n",
        "print(\"Max Error for incorrect predictions: \", max_error(incorrect_fare, incorrect_preds))"
      ],
      "execution_count": 0,
      "outputs": [
        {
          "output_type": "stream",
          "text": [
            "MAE for correct predictions:  32.97452298778047\n",
            "Max Error for correct predictions:  1042.311640625\n",
            "MAE for incorrect predictions:  456.35974093975796\n",
            "Max Error for incorrect predictions:  25175.673889160156\n"
          ],
          "name": "stdout"
        }
      ]
    },
    {
      "cell_type": "code",
      "metadata": {
        "id": "nQWJ-wq_J2Ql",
        "colab_type": "code",
        "colab": {}
      },
      "source": [
        "# CV = 5\n",
        "\n",
        "# mae = cross_val_score(estimator, correct_df, fare_df.fare, scoring='neg_mean_absolute_error', cv=CV)\n",
        "# print(\"Average MAE: {}\".format(mae.mean()))"
      ],
      "execution_count": 0,
      "outputs": []
    },
    {
      "cell_type": "code",
      "metadata": {
        "id": "v4VgyB-WM8Cp",
        "colab_type": "code",
        "outputId": "e37509e7-8a80-4861-d8de-faf6efc46990",
        "colab": {
          "base_uri": "https://localhost:8080/",
          "height": 51
        }
      },
      "source": [
        "correct_error = abs(y_eval['fare']-preds)\n",
        "correct_percentile = np.percentile(correct_error, 98)\n",
        "\n",
        "incorrect_error = abs(incorrect_fare['fare']-incorrect_preds)\n",
        "incorrect_percentile = np.percentile(incorrect_error, 40)\n",
        "\n",
        "print(\"correct_percentile: \", correct_percentile)\n",
        "print(\"incorrect_percentile: \", incorrect_percentile)"
      ],
      "execution_count": 0,
      "outputs": [
        {
          "output_type": "stream",
          "text": [
            "correct_percentile:  174.5950292968753\n",
            "incorrect_percentile:  128.3415289306641\n"
          ],
          "name": "stdout"
        }
      ]
    },
    {
      "cell_type": "code",
      "metadata": {
        "id": "Cr2BxpJmq_Tz",
        "colab_type": "code",
        "outputId": "57a63ac8-0477-4164-95fa-2b2494484b82",
        "colab": {
          "base_uri": "https://localhost:8080/",
          "height": 88
        }
      },
      "source": [
        "percentile = 140\n",
        "true = []\n",
        "predicted = []\n",
        "\n",
        "for i in range(len(correct_error)):\n",
        "    true.append(1)\n",
        "    if correct_error.values[i] <= percentile:\n",
        "        predicted.append(1)\n",
        "    else:\n",
        "        predicted.append(0)\n",
        "\n",
        "    if i == len(correct_error) - 1:\n",
        "        print(\"Correct accuracy: \", accuracy_score(true, predicted))\n",
        "\n",
        "for j in range(len(incorrect_error)):\n",
        "    true.append(0)\n",
        "    if incorrect_error.values[j] <= percentile:\n",
        "        predicted.append(1)\n",
        "    else:\n",
        "        predicted.append(0)\n",
        "\n",
        "print(true)\n",
        "print(predicted)"
      ],
      "execution_count": 0,
      "outputs": [
        {
          "output_type": "stream",
          "text": [
            "Correct accuracy:  0.9702907711757269\n",
            "[1, 1, 1, 1, 1, 1, 1, 1, 1, 1, 1, 1, 1, 1, 1, 1, 1, 1, 1, 1, 1, 1, 1, 1, 1, 1, 1, 1, 1, 1, 1, 1, 1, 1, 1, 1, 1, 1, 1, 1, 1, 1, 1, 1, 1, 1, 1, 1, 1, 1, 1, 1, 1, 1, 1, 1, 1, 1, 1, 1, 1, 1, 1, 1, 1, 1, 1, 1, 1, 1, 1, 1, 1, 1, 1, 1, 1, 1, 1, 1, 1, 1, 1, 1, 1, 1, 1, 1, 1, 1, 1, 1, 1, 1, 1, 1, 1, 1, 1, 1, 1, 1, 1, 1, 1, 1, 1, 1, 1, 1, 1, 1, 1, 1, 1, 1, 1, 1, 1, 1, 1, 1, 1, 1, 1, 1, 1, 1, 1, 1, 1, 1, 1, 1, 1, 1, 1, 1, 1, 1, 1, 1, 1, 1, 1, 1, 1, 1, 1, 1, 1, 1, 1, 1, 1, 1, 1, 1, 1, 1, 1, 1, 1, 1, 1, 1, 1, 1, 1, 1, 1, 1, 1, 1, 1, 1, 1, 1, 1, 1, 1, 1, 1, 1, 1, 1, 1, 1, 1, 1, 1, 1, 1, 1, 1, 1, 1, 1, 1, 1, 1, 1, 1, 1, 1, 1, 1, 1, 1, 1, 1, 1, 1, 1, 1, 1, 1, 1, 1, 1, 1, 1, 1, 1, 1, 1, 1, 1, 1, 1, 1, 1, 1, 1, 1, 1, 1, 1, 1, 1, 1, 1, 1, 1, 1, 1, 1, 1, 1, 1, 1, 1, 1, 1, 1, 1, 1, 1, 1, 1, 1, 1, 1, 1, 1, 1, 1, 1, 1, 1, 1, 1, 1, 1, 1, 1, 1, 1, 1, 1, 1, 1, 1, 1, 1, 1, 1, 1, 1, 1, 1, 1, 1, 1, 1, 1, 1, 1, 1, 1, 1, 1, 1, 1, 1, 1, 1, 1, 1, 1, 1, 1, 1, 1, 1, 1, 1, 1, 1, 1, 1, 1, 1, 1, 1, 1, 1, 1, 1, 1, 1, 1, 1, 1, 1, 1, 1, 1, 1, 1, 1, 1, 1, 1, 1, 1, 1, 1, 1, 1, 1, 1, 1, 1, 1, 1, 1, 1, 1, 1, 1, 1, 1, 1, 1, 1, 1, 1, 1, 1, 1, 1, 1, 1, 1, 1, 1, 1, 1, 1, 1, 1, 1, 1, 1, 1, 1, 1, 1, 1, 1, 1, 1, 1, 1, 1, 1, 1, 1, 1, 1, 1, 1, 1, 1, 1, 1, 1, 1, 1, 1, 1, 1, 1, 1, 1, 1, 1, 1, 1, 1, 1, 1, 1, 1, 1, 1, 1, 1, 1, 1, 1, 1, 1, 1, 1, 1, 1, 1, 1, 1, 1, 1, 1, 1, 1, 1, 1, 1, 1, 1, 1, 1, 1, 1, 1, 1, 1, 1, 1, 1, 1, 1, 1, 1, 1, 1, 1, 1, 1, 1, 1, 1, 1, 1, 1, 1, 1, 1, 1, 1, 1, 1, 1, 1, 1, 1, 1, 1, 1, 1, 1, 1, 1, 1, 1, 1, 1, 1, 1, 1, 1, 1, 1, 1, 1, 1, 1, 1, 1, 1, 1, 1, 1, 1, 1, 1, 1, 1, 1, 1, 1, 1, 1, 1, 1, 1, 1, 1, 1, 1, 1, 1, 1, 1, 1, 1, 1, 1, 1, 1, 1, 1, 1, 1, 1, 1, 1, 1, 1, 1, 1, 1, 1, 1, 1, 1, 1, 1, 1, 1, 1, 1, 1, 1, 1, 1, 1, 1, 1, 1, 1, 1, 1, 1, 1, 1, 1, 1, 1, 1, 1, 1, 1, 1, 1, 1, 1, 1, 1, 1, 1, 1, 1, 1, 1, 1, 1, 1, 1, 1, 1, 1, 1, 1, 1, 1, 1, 1, 1, 1, 1, 1, 1, 1, 1, 1, 1, 1, 1, 1, 1, 1, 1, 1, 1, 1, 1, 1, 1, 1, 1, 1, 1, 1, 1, 1, 1, 1, 1, 1, 1, 1, 1, 1, 1, 1, 1, 1, 1, 1, 1, 1, 1, 1, 1, 1, 1, 1, 1, 1, 1, 1, 1, 1, 1, 1, 1, 1, 1, 1, 1, 1, 1, 1, 1, 1, 1, 1, 1, 1, 1, 1, 1, 1, 1, 1, 1, 1, 1, 1, 1, 1, 1, 1, 1, 1, 1, 1, 1, 1, 1, 1, 1, 1, 1, 1, 1, 1, 1, 1, 1, 1, 1, 1, 1, 1, 1, 1, 1, 1, 1, 1, 1, 1, 1, 1, 1, 1, 1, 1, 1, 1, 1, 1, 1, 1, 1, 1, 1, 1, 1, 1, 1, 1, 1, 1, 1, 1, 1, 1, 1, 1, 1, 1, 1, 1, 1, 1, 1, 1, 1, 1, 1, 1, 1, 1, 1, 1, 1, 1, 1, 1, 1, 1, 1, 1, 1, 1, 1, 1, 1, 1, 1, 1, 1, 1, 1, 1, 1, 1, 1, 1, 1, 1, 1, 1, 1, 1, 1, 1, 1, 1, 1, 1, 1, 1, 1, 1, 1, 1, 1, 1, 1, 1, 1, 1, 1, 1, 1, 1, 1, 1, 1, 1, 1, 1, 1, 1, 1, 1, 1, 1, 1, 1, 1, 1, 1, 1, 1, 1, 1, 1, 1, 1, 1, 1, 1, 1, 1, 1, 1, 1, 1, 1, 1, 1, 1, 1, 1, 1, 1, 1, 1, 1, 1, 1, 1, 1, 1, 1, 1, 1, 1, 1, 1, 1, 1, 1, 1, 1, 1, 1, 1, 1, 1, 1, 1, 1, 1, 1, 1, 1, 1, 1, 1, 1, 1, 1, 1, 1, 1, 1, 1, 1, 1, 1, 1, 1, 1, 1, 1, 1, 1, 1, 1, 1, 1, 1, 1, 1, 1, 1, 1, 1, 1, 1, 1, 1, 1, 1, 1, 1, 1, 1, 1, 1, 1, 1, 1, 1, 1, 1, 1, 1, 1, 1, 1, 1, 1, 1, 1, 1, 1, 1, 1, 1, 1, 1, 1, 1, 1, 1, 1, 1, 1, 1, 1, 1, 1, 1, 1, 1, 1, 1, 1, 1, 1, 1, 1, 1, 1, 1, 1, 1, 1, 1, 1, 1, 1, 1, 1, 1, 1, 1, 1, 1, 1, 1, 1, 1, 1, 1, 1, 1, 1, 1, 1, 1, 1, 1, 1, 1, 1, 1, 1, 1, 1, 1, 1, 1, 1, 1, 1, 1, 1, 1, 1, 1, 1, 1, 1, 1, 1, 1, 1, 1, 1, 1, 1, 1, 1, 1, 1, 1, 1, 1, 1, 1, 1, 1, 1, 1, 1, 1, 1, 1, 1, 1, 1, 1, 1, 1, 1, 1, 1, 1, 1, 1, 1, 1, 1, 1, 1, 1, 1, 1, 1, 1, 1, 1, 1, 1, 1, 1, 1, 1, 1, 1, 1, 1, 1, 1, 1, 1, 1, 1, 1, 1, 1, 1, 1, 1, 1, 1, 1, 1, 1, 1, 1, 1, 1, 1, 1, 1, 1, 1, 1, 1, 1, 1, 1, 1, 1, 1, 1, 1, 1, 1, 1, 1, 1, 1, 1, 1, 1, 1, 1, 1, 1, 1, 1, 1, 1, 1, 1, 1, 1, 1, 1, 1, 1, 1, 1, 1, 1, 1, 1, 1, 1, 1, 1, 1, 1, 1, 1, 1, 1, 1, 1, 1, 1, 1, 1, 1, 1, 1, 1, 1, 1, 1, 1, 1, 1, 1, 1, 1, 1, 1, 1, 1, 1, 1, 1, 1, 1, 1, 1, 1, 1, 1, 1, 1, 1, 1, 1, 1, 1, 1, 1, 1, 1, 1, 1, 1, 1, 1, 1, 1, 1, 1, 1, 1, 1, 1, 1, 1, 1, 1, 1, 1, 1, 1, 1, 1, 1, 1, 1, 1, 1, 1, 1, 1, 1, 1, 1, 1, 1, 1, 1, 1, 1, 1, 1, 1, 1, 1, 1, 1, 1, 1, 1, 1, 1, 1, 1, 1, 1, 1, 1, 1, 1, 1, 1, 1, 1, 1, 1, 1, 1, 1, 1, 1, 1, 1, 1, 1, 1, 1, 1, 1, 1, 1, 1, 1, 1, 1, 1, 1, 1, 1, 1, 1, 1, 1, 1, 1, 1, 1, 1, 1, 1, 1, 1, 1, 1, 1, 1, 1, 1, 1, 1, 1, 1, 1, 1, 1, 1, 1, 1, 1, 1, 1, 1, 1, 1, 1, 1, 1, 1, 1, 1, 1, 1, 1, 1, 1, 1, 1, 1, 1, 1, 1, 1, 1, 1, 1, 1, 1, 1, 1, 1, 1, 1, 1, 1, 1, 1, 1, 1, 1, 1, 1, 1, 1, 1, 1, 1, 1, 1, 1, 1, 1, 1, 1, 1, 1, 1, 1, 1, 1, 1, 1, 1, 1, 1, 1, 1, 1, 1, 1, 1, 1, 1, 1, 1, 1, 1, 1, 1, 1, 1, 1, 1, 1, 1, 1, 1, 1, 1, 1, 1, 1, 1, 1, 1, 1, 1, 1, 1, 1, 1, 1, 1, 1, 1, 1, 1, 1, 1, 1, 1, 1, 1, 1, 1, 1, 1, 1, 1, 1, 1, 1, 1, 1, 1, 1, 1, 1, 1, 1, 1, 1, 1, 1, 1, 1, 1, 1, 1, 1, 1, 1, 1, 1, 1, 1, 1, 1, 1, 1, 1, 1, 1, 1, 1, 1, 1, 1, 1, 1, 1, 1, 1, 1, 1, 1, 1, 1, 1, 1, 1, 1, 1, 1, 1, 1, 1, 1, 1, 1, 1, 1, 1, 1, 1, 1, 1, 1, 1, 1, 1, 1, 1, 1, 1, 1, 1, 1, 1, 1, 1, 1, 1, 1, 1, 1, 1, 1, 1, 1, 1, 1, 1, 1, 1, 1, 1, 1, 1, 1, 1, 1, 1, 1, 1, 1, 1, 1, 1, 1, 1, 1, 1, 1, 1, 1, 1, 1, 1, 1, 1, 1, 1, 1, 1, 1, 1, 1, 1, 1, 1, 1, 1, 1, 1, 1, 1, 1, 1, 1, 1, 1, 1, 1, 1, 1, 1, 1, 1, 1, 1, 1, 1, 1, 1, 1, 1, 1, 1, 1, 1, 1, 1, 1, 1, 1, 1, 1, 1, 1, 1, 1, 1, 1, 1, 1, 1, 1, 1, 1, 1, 1, 1, 1, 1, 1, 1, 1, 1, 1, 1, 1, 1, 1, 1, 1, 1, 1, 1, 1, 1, 1, 1, 1, 1, 1, 1, 1, 1, 1, 1, 1, 1, 1, 1, 1, 1, 1, 1, 1, 1, 1, 1, 1, 1, 1, 1, 1, 1, 1, 1, 1, 1, 1, 1, 1, 1, 1, 1, 1, 1, 1, 1, 1, 1, 1, 1, 1, 1, 1, 1, 1, 1, 1, 1, 1, 1, 1, 1, 1, 1, 1, 1, 1, 1, 1, 1, 1, 1, 1, 1, 1, 1, 1, 1, 1, 1, 1, 1, 1, 1, 1, 1, 1, 1, 1, 1, 1, 1, 1, 1, 1, 1, 1, 1, 1, 1, 1, 1, 1, 1, 1, 1, 1, 1, 1, 1, 1, 1, 1, 1, 1, 1, 1, 1, 1, 1, 1, 1, 1, 1, 1, 1, 1, 1, 1, 1, 1, 1, 1, 1, 1, 1, 1, 1, 1, 1, 1, 1, 1, 1, 1, 1, 1, 1, 1, 1, 1, 1, 1, 1, 1, 1, 1, 1, 1, 1, 1, 1, 1, 1, 1, 1, 1, 1, 1, 1, 1, 1, 1, 1, 1, 1, 1, 1, 1, 1, 1, 1, 1, 1, 1, 1, 1, 1, 1, 1, 1, 1, 1, 1, 1, 1, 1, 1, 1, 1, 1, 1, 1, 1, 1, 1, 1, 1, 1, 1, 1, 1, 1, 1, 1, 1, 1, 1, 1, 1, 1, 1, 1, 1, 1, 1, 1, 1, 1, 1, 1, 1, 1, 1, 1, 1, 1, 1, 1, 1, 1, 1, 1, 1, 1, 1, 1, 1, 1, 1, 1, 1, 1, 1, 1, 1, 1, 1, 1, 1, 1, 1, 1, 1, 1, 1, 1, 1, 1, 1, 1, 1, 1, 1, 1, 1, 1, 1, 1, 1, 1, 1, 1, 1, 1, 1, 1, 1, 1, 1, 1, 1, 1, 1, 1, 1, 1, 1, 1, 1, 1, 1, 1, 1, 1, 1, 1, 1, 1, 1, 1, 1, 1, 1, 1, 1, 1, 1, 1, 1, 1, 1, 1, 1, 1, 1, 1, 1, 1, 1, 1, 1, 1, 1, 1, 1, 1, 1, 1, 1, 1, 1, 1, 1, 1, 1, 1, 1, 1, 1, 1, 1, 1, 1, 1, 1, 1, 1, 1, 1, 1, 1, 1, 1, 1, 1, 1, 1, 1, 1, 1, 1, 1, 1, 1, 1, 1, 1, 1, 1, 1, 1, 1, 1, 1, 1, 1, 1, 1, 1, 1, 1, 1, 1, 1, 1, 1, 1, 1, 1, 1, 1, 1, 1, 1, 1, 1, 1, 1, 1, 1, 1, 1, 1, 1, 1, 1, 1, 1, 1, 1, 1, 1, 1, 1, 1, 1, 1, 1, 1, 1, 1, 1, 1, 1, 1, 1, 1, 1, 1, 1, 1, 1, 1, 1, 1, 1, 1, 1, 1, 1, 1, 1, 1, 1, 1, 1, 1, 1, 1, 1, 1, 1, 1, 1, 1, 1, 1, 1, 1, 1, 1, 1, 1, 1, 1, 1, 1, 1, 1, 1, 1, 1, 1, 1, 1, 1, 1, 1, 1, 1, 1, 1, 1, 1, 1, 1, 1, 1, 1, 1, 1, 1, 1, 1, 1, 1, 1, 1, 1, 1, 1, 1, 1, 1, 1, 1, 1, 1, 1, 1, 1, 1, 1, 1, 1, 1, 1, 1, 1, 1, 1, 1, 1, 1, 1, 1, 1, 1, 1, 1, 1, 1, 1, 1, 1, 1, 1, 1, 1, 1, 1, 1, 1, 1, 1, 1, 1, 1, 1, 1, 1, 1, 1, 1, 1, 1, 1, 1, 1, 1, 1, 1, 1, 1, 1, 1, 1, 1, 1, 1, 1, 1, 1, 1, 1, 1, 1, 1, 1, 1, 1, 1, 1, 1, 1, 1, 1, 1, 1, 1, 1, 1, 1, 1, 1, 1, 1, 1, 1, 1, 1, 1, 1, 1, 1, 1, 1, 1, 1, 1, 1, 1, 1, 1, 1, 1, 1, 1, 1, 1, 1, 1, 1, 1, 1, 1, 1, 1, 1, 1, 1, 1, 1, 1, 1, 1, 1, 1, 1, 1, 1, 1, 1, 1, 1, 1, 1, 1, 1, 1, 1, 1, 1, 1, 1, 1, 1, 1, 1, 1, 1, 1, 1, 1, 1, 1, 1, 1, 1, 1, 1, 1, 1, 1, 1, 1, 1, 1, 1, 1, 1, 1, 1, 1, 1, 1, 1, 1, 1, 1, 1, 1, 1, 1, 1, 1, 1, 1, 1, 1, 1, 1, 1, 1, 1, 1, 1, 1, 1, 1, 1, 1, 1, 1, 1, 1, 1, 1, 1, 1, 1, 1, 1, 1, 1, 1, 1, 1, 1, 1, 1, 1, 1, 1, 1, 1, 1, 1, 1, 1, 1, 1, 1, 1, 1, 1, 1, 1, 1, 1, 1, 1, 1, 1, 1, 1, 1, 1, 1, 1, 1, 1, 1, 1, 1, 1, 1, 1, 1, 1, 1, 1, 1, 1, 1, 1, 1, 1, 1, 1, 1, 1, 1, 1, 1, 1, 1, 1, 1, 1, 1, 1, 1, 1, 1, 1, 1, 1, 1, 1, 1, 1, 1, 1, 1, 1, 1, 1, 1, 1, 1, 1, 1, 1, 1, 1, 1, 1, 1, 1, 1, 1, 1, 1, 1, 1, 1, 1, 1, 1, 1, 1, 1, 1, 1, 1, 1, 1, 1, 1, 1, 1, 1, 1, 1, 1, 1, 1, 1, 1, 1, 1, 1, 1, 1, 1, 1, 1, 1, 1, 1, 1, 1, 1, 1, 1, 1, 1, 1, 1, 1, 1, 1, 1, 1, 1, 1, 1, 1, 1, 1, 1, 1, 1, 1, 1, 1, 1, 1, 1, 1, 1, 1, 1, 1, 1, 1, 1, 1, 1, 1, 1, 1, 1, 1, 1, 1, 1, 1, 1, 1, 1, 1, 1, 1, 1, 1, 1, 1, 1, 1, 1, 1, 1, 1, 1, 1, 1, 1, 1, 1, 1, 1, 1, 1, 1, 1, 1, 1, 1, 1, 1, 1, 1, 1, 1, 1, 1, 1, 1, 1, 1, 1, 1, 1, 1, 1, 1, 1, 1, 1, 1, 1, 1, 1, 1, 1, 1, 1, 1, 1, 1, 1, 1, 1, 1, 1, 1, 1, 1, 1, 1, 1, 1, 1, 1, 1, 1, 1, 1, 1, 1, 1, 1, 1, 1, 1, 1, 1, 1, 1, 1, 1, 1, 1, 1, 1, 1, 1, 1, 1, 1, 1, 1, 1, 1, 1, 1, 1, 1, 1, 1, 1, 1, 1, 1, 1, 1, 1, 1, 1, 1, 1, 1, 1, 1, 1, 1, 1, 1, 1, 1, 1, 1, 1, 1, 1, 1, 1, 1, 1, 1, 1, 1, 1, 1, 1, 1, 1, 1, 1, 1, 1, 1, 1, 1, 1, 1, 1, 1, 1, 1, 1, 1, 1, 1, 1, 1, 1, 1, 1, 1, 1, 1, 1, 1, 1, 1, 1, 1, 1, 1, 1, 1, 1, 1, 1, 1, 1, 1, 1, 1, 1, 1, 1, 1, 1, 1, 1, 1, 1, 1, 1, 1, 1, 1, 1, 1, 1, 1, 1, 1, 1, 1, 1, 1, 1, 1, 1, 1, 1, 1, 1, 1, 1, 1, 1, 1, 1, 1, 1, 1, 1, 1, 1, 1, 1, 1, 1, 1, 1, 1, 1, 1, 1, 1, 1, 1, 1, 1, 1, 1, 1, 1, 1, 1, 1, 1, 1, 1, 1, 1, 1, 1, 1, 1, 1, 1, 1, 1, 1, 1, 1, 1, 1, 1, 1, 1, 1, 1, 1, 1, 1, 1, 1, 1, 1, 1, 1, 1, 1, 1, 1, 1, 1, 1, 1, 1, 1, 1, 1, 1, 1, 1, 1, 1, 1, 1, 1, 1, 1, 1, 1, 1, 1, 1, 1, 1, 1, 1, 1, 1, 1, 1, 1, 1, 1, 1, 1, 1, 1, 1, 1, 1, 1, 1, 1, 1, 1, 1, 1, 1, 1, 1, 1, 1, 1, 1, 1, 1, 1, 1, 1, 1, 1, 1, 1, 1, 1, 1, 1, 1, 1, 1, 1, 1, 1, 1, 1, 1, 1, 1, 1, 1, 1, 1, 1, 1, 1, 1, 1, 1, 1, 1, 1, 1, 1, 1, 1, 1, 1, 1, 1, 1, 1, 1, 1, 1, 1, 1, 1, 1, 1, 1, 1, 1, 1, 1, 1, 1, 1, 1, 1, 1, 1, 1, 1, 1, 1, 1, 1, 1, 1, 1, 1, 1, 1, 1, 1, 1, 1, 1, 1, 1, 1, 1, 1, 1, 1, 1, 1, 1, 1, 1, 1, 1, 1, 1, 1, 1, 1, 1, 1, 1, 1, 1, 1, 1, 1, 1, 1, 1, 1, 1, 1, 1, 1, 1, 1, 1, 1, 1, 1, 1, 1, 1, 1, 1, 1, 1, 1, 1, 1, 1, 1, 1, 1, 1, 1, 1, 1, 1, 1, 1, 1, 1, 1, 1, 1, 1, 1, 1, 1, 1, 1, 1, 1, 1, 1, 1, 1, 1, 1, 1, 1, 1, 1, 1, 1, 1, 1, 1, 1, 1, 1, 1, 1, 1, 1, 1, 1, 1, 1, 1, 1, 1, 1, 1, 1, 1, 1, 1, 1, 1, 1, 1, 1, 1, 1, 1, 1, 1, 1, 1, 1, 1, 1, 1, 1, 1, 1, 1, 1, 1, 1, 1, 1, 1, 1, 1, 1, 1, 1, 1, 1, 1, 1, 1, 1, 1, 1, 1, 1, 1, 1, 1, 1, 1, 1, 1, 1, 1, 1, 1, 1, 1, 1, 1, 1, 1, 1, 1, 1, 1, 1, 1, 1, 1, 1, 1, 1, 1, 1, 1, 1, 1, 1, 1, 1, 1, 1, 1, 1, 1, 1, 1, 1, 1, 1, 1, 1, 1, 1, 1, 1, 1, 1, 1, 1, 1, 1, 1, 1, 1, 1, 1, 1, 1, 1, 1, 1, 1, 1, 1, 1, 1, 1, 1, 1, 1, 1, 1, 1, 1, 1, 1, 1, 1, 1, 1, 1, 1, 1, 1, 1, 1, 1, 1, 1, 1, 1, 1, 1, 1, 1, 1, 1, 1, 1, 1, 1, 1, 1, 1, 1, 1, 1, 1, 1, 1, 1, 1, 1, 1, 1, 1, 1, 1, 1, 1, 1, 1, 1, 1, 1, 1, 1, 1, 1, 1, 1, 1, 1, 1, 1, 1, 1, 1, 1, 1, 1, 1, 1, 1, 1, 1, 1, 1, 1, 1, 1, 1, 1, 1, 1, 1, 1, 1, 1, 1, 1, 1, 1, 1, 1, 1, 1, 1, 1, 1, 1, 1, 1, 1, 1, 1, 1, 1, 1, 1, 1, 1, 1, 1, 1, 1, 1, 1, 1, 1, 1, 1, 1, 1, 1, 1, 1, 1, 1, 1, 1, 1, 1, 1, 1, 1, 1, 1, 1, 1, 1, 1, 1, 1, 1, 1, 1, 1, 1, 1, 1, 1, 1, 1, 1, 1, 1, 1, 1, 1, 1, 1, 1, 1, 1, 1, 1, 1, 1, 1, 1, 1, 1, 1, 1, 1, 1, 1, 1, 1, 1, 1, 1, 1, 1, 1, 1, 1, 1, 1, 1, 1, 1, 1, 1, 1, 1, 1, 1, 1, 1, 1, 1, 1, 1, 1, 1, 1, 1, 1, 1, 1, 1, 1, 1, 1, 1, 1, 1, 1, 1, 1, 1, 1, 1, 1, 1, 1, 1, 1, 1, 1, 1, 1, 1, 1, 1, 1, 1, 1, 1, 1, 1, 1, 1, 1, 1, 1, 1, 1, 1, 1, 1, 1, 1, 1, 1, 1, 1, 1, 1, 1, 1, 1, 1, 1, 1, 1, 1, 1, 1, 1, 1, 1, 1, 1, 1, 1, 1, 1, 1, 1, 1, 1, 1, 1, 1, 1, 1, 1, 1, 1, 1, 1, 1, 1, 1, 1, 1, 1, 1, 1, 1, 1, 1, 1, 1, 1, 1, 1, 1, 1, 1, 1, 1, 1, 1, 1, 1, 1, 1, 1, 1, 1, 1, 1, 1, 1, 1, 1, 1, 1, 1, 1, 1, 1, 1, 1, 1, 1, 1, 1, 1, 1, 1, 1, 1, 1, 1, 1, 1, 1, 1, 1, 1, 1, 1, 1, 1, 1, 1, 1, 1, 1, 1, 1, 1, 1, 1, 1, 1, 1, 1, 1, 1, 1, 1, 1, 1, 1, 1, 1, 1, 1, 1, 1, 1, 1, 1, 1, 1, 1, 1, 1, 1, 1, 1, 1, 1, 1, 1, 1, 1, 1, 1, 1, 1, 1, 1, 1, 1, 1, 1, 1, 1, 1, 1, 1, 1, 1, 1, 1, 1, 1, 1, 1, 1, 1, 1, 1, 1, 1, 1, 1, 1, 1, 1, 1, 1, 1, 1, 1, 1, 1, 1, 1, 1, 1, 1, 1, 1, 1, 1, 1, 1, 1, 1, 1, 1, 1, 1, 1, 1, 1, 1, 1, 1, 1, 1, 1, 1, 1, 1, 1, 1, 1, 1, 1, 1, 1, 1, 1, 1, 1, 1, 1, 1, 1, 1, 1, 1, 1, 1, 1, 1, 1, 1, 1, 1, 1, 1, 1, 1, 1, 1, 1, 1, 1, 1, 1, 1, 1, 1, 1, 1, 1, 1, 1, 1, 1, 1, 1, 1, 1, 1, 1, 1, 1, 1, 1, 1, 1, 1, 1, 1, 1, 1, 1, 1, 1, 1, 1, 1, 1, 1, 1, 1, 1, 1, 1, 1, 1, 1, 1, 1, 1, 1, 1, 1, 1, 1, 1, 1, 1, 1, 1, 1, 1, 1, 1, 1, 1, 1, 1, 1, 1, 1, 1, 1, 1, 1, 1, 1, 1, 1, 1, 1, 1, 1, 1, 1, 1, 1, 1, 1, 1, 1, 1, 1, 1, 1, 1, 1, 1, 1, 1, 1, 1, 1, 1, 1, 1, 1, 1, 1, 1, 1, 1, 1, 1, 1, 1, 1, 1, 1, 1, 1, 1, 1, 1, 1, 1, 1, 1, 1, 1, 1, 1, 1, 1, 1, 1, 1, 1, 1, 1, 1, 1, 1, 1, 1, 1, 1, 1, 1, 1, 1, 1, 1, 1, 1, 1, 1, 1, 1, 1, 1, 1, 1, 1, 1, 1, 1, 1, 1, 1, 1, 1, 1, 1, 1, 1, 1, 1, 1, 1, 1, 1, 1, 1, 1, 1, 1, 1, 1, 1, 1, 1, 1, 1, 1, 1, 1, 1, 1, 1, 1, 1, 1, 1, 1, 1, 1, 1, 1, 1, 1, 1, 1, 1, 1, 1, 1, 1, 1, 1, 1, 1, 1, 1, 1, 1, 1, 1, 1, 1, 1, 1, 1, 1, 1, 1, 1, 1, 1, 1, 1, 1, 1, 1, 1, 1, 1, 1, 1, 1, 1, 1, 1, 1, 1, 1, 1, 1, 1, 1, 1, 1, 1, 1, 1, 1, 1, 1, 1, 1, 1, 1, 1, 1, 1, 1, 1, 1, 1, 1, 1, 1, 1, 1, 1, 1, 1, 1, 1, 1, 1, 1, 1, 1, 1, 1, 1, 1, 1, 1, 1, 1, 1, 1, 1, 1, 1, 1, 1, 1, 1, 1, 1, 1, 1, 1, 1, 1, 1, 1, 1, 1, 1, 1, 1, 1, 1, 1, 1, 1, 1, 1, 1, 1, 1, 1, 1, 1, 1, 1, 1, 1, 1, 1, 1, 1, 1, 1, 1, 1, 1, 1, 1, 1, 1, 1, 1, 1, 1, 1, 1, 1, 1, 1, 1, 1, 1, 1, 1, 1, 1, 1, 1, 1, 1, 1, 1, 1, 1, 1, 1, 1, 1, 1, 1, 1, 1, 1, 1, 1, 1, 1, 1, 1, 1, 1, 1, 1, 1, 1, 1, 1, 1, 1, 1, 1, 1, 1, 1, 1, 1, 1, 1, 1, 1, 1, 1, 1, 1, 1, 1, 1, 1, 1, 1, 1, 1, 1, 1, 1, 1, 1, 1, 1, 1, 1, 1, 1, 1, 1, 1, 1, 1, 1, 1, 1, 1, 1, 1, 1, 1, 1, 1, 1, 1, 1, 1, 1, 1, 1, 1, 1, 1, 1, 1, 1, 1, 1, 1, 1, 1, 1, 1, 1, 1, 1, 1, 1, 1, 1, 1, 1, 1, 1, 1, 1, 1, 1, 1, 1, 1, 1, 1, 1, 1, 1, 1, 1, 1, 1, 1, 1, 1, 1, 1, 1, 1, 1, 1, 1, 1, 1, 1, 1, 1, 1, 1, 1, 1, 1, 1, 1, 1, 1, 1, 1, 1, 1, 1, 1, 1, 1, 1, 1, 1, 1, 1, 1, 1, 1, 1, 1, 1, 1, 1, 1, 1, 1, 1, 1, 1, 1, 1, 1, 1, 1, 1, 1, 1, 1, 1, 1, 1, 1, 1, 1, 1, 1, 1, 1, 1, 1, 1, 1, 1, 1, 1, 1, 1, 1, 1, 1, 1, 1, 1, 1, 1, 1, 1, 1, 1, 1, 1, 1, 1, 1, 1, 1, 1, 1, 1, 1, 1, 1, 1, 1, 1, 1, 1, 1, 1, 1, 1, 1, 1, 1, 1, 1, 1, 1, 1, 1, 1, 1, 1, 1, 1, 1, 1, 1, 1, 1, 1, 1, 1, 1, 1, 1, 1, 1, 1, 1, 1, 1, 1, 1, 1, 1, 1, 1, 1, 1, 1, 1, 1, 1, 1, 1, 1, 1, 1, 1, 1, 1, 1, 1, 1, 1, 1, 1, 1, 1, 1, 1, 1, 1, 1, 1, 1, 1, 1, 1, 1, 1, 1, 1, 1, 1, 1, 1, 1, 1, 1, 1, 1, 1, 1, 1, 1, 1, 1, 1, 1, 1, 1, 1, 1, 1, 1, 1, 1, 1, 1, 1, 1, 1, 1, 1, 1, 1, 1, 1, 1, 1, 1, 1, 1, 1, 1, 1, 1, 1, 1, 1, 1, 1, 1, 1, 1, 1, 1, 1, 1, 1, 1, 1, 1, 1, 1, 1, 1, 1, 1, 1, 1, 1, 1, 1, 1, 1, 1, 1, 1, 1, 1, 1, 1, 1, 1, 1, 1, 1, 1, 1, 1, 1, 1, 1, 1, 1, 1, 1, 1, 1, 1, 1, 1, 1, 1, 1, 1, 1, 1, 1, 1, 1, 1, 1, 1, 1, 1, 1, 1, 1, 1, 1, 1, 1, 1, 1, 1, 1, 1, 1, 1, 1, 1, 1, 1, 1, 1, 1, 1, 1, 1, 1, 1, 1, 1, 1, 1, 1, 1, 1, 1, 1, 1, 1, 1, 1, 1, 1, 1, 1, 1, 1, 1, 1, 1, 1, 1, 1, 1, 1, 1, 1, 1, 1, 1, 1, 1, 1, 1, 1, 1, 1, 1, 1, 1, 1, 1, 1, 1, 1, 1, 1, 1, 1, 1, 1, 1, 1, 1, 1, 1, 1, 1, 1, 1, 1, 1, 1, 1, 1, 1, 1, 1, 1, 1, 1, 1, 1, 1, 1, 1, 1, 1, 1, 1, 1, 1, 1, 1, 1, 1, 1, 1, 1, 1, 1, 1, 1, 1, 1, 1, 1, 1, 1, 1, 1, 1, 1, 1, 1, 1, 1, 1, 1, 1, 1, 1, 1, 1, 1, 1, 1, 1, 1, 1, 1, 1, 1, 1, 1, 1, 1, 1, 1, 1, 1, 1, 1, 1, 1, 1, 1, 1, 1, 1, 1, 1, 1, 1, 1, 1, 1, 1, 1, 1, 1, 1, 1, 1, 1, 1, 1, 1, 1, 1, 1, 1, 1, 1, 1, 1, 1, 1, 1, 1, 1, 1, 1, 1, 1, 1, 1, 1, 1, 1, 1, 1, 0, 0, 0, 0, 0, 0, 0, 0, 0, 0, 0, 0, 0, 0, 0, 0, 0, 0, 0, 0, 0, 0, 0, 0, 0, 0, 0, 0, 0, 0, 0, 0, 0, 0, 0, 0, 0, 0, 0, 0, 0, 0, 0, 0, 0, 0, 0, 0, 0, 0, 0, 0, 0, 0, 0, 0, 0, 0, 0, 0, 0, 0, 0, 0, 0, 0, 0, 0, 0, 0, 0, 0, 0, 0, 0, 0, 0, 0, 0, 0, 0, 0, 0, 0, 0, 0, 0, 0, 0, 0, 0, 0, 0, 0, 0, 0, 0, 0, 0, 0, 0, 0, 0, 0, 0, 0, 0, 0, 0, 0, 0, 0, 0, 0, 0, 0, 0, 0, 0, 0, 0, 0, 0, 0, 0, 0, 0, 0, 0, 0, 0, 0, 0, 0, 0, 0, 0, 0, 0, 0, 0, 0, 0, 0, 0, 0, 0, 0, 0, 0, 0, 0, 0, 0, 0, 0, 0, 0, 0, 0, 0, 0, 0, 0, 0, 0, 0, 0, 0, 0, 0, 0, 0, 0, 0, 0, 0, 0, 0, 0, 0, 0, 0, 0, 0, 0, 0, 0, 0, 0, 0, 0, 0, 0, 0, 0, 0, 0, 0, 0, 0, 0, 0, 0, 0, 0, 0, 0, 0, 0, 0, 0, 0, 0, 0, 0, 0, 0, 0, 0, 0, 0, 0, 0, 0, 0, 0, 0, 0, 0, 0, 0, 0, 0, 0, 0, 0, 0, 0, 0, 0, 0, 0, 0, 0, 0, 0, 0, 0, 0, 0, 0, 0, 0, 0, 0, 0, 0, 0, 0, 0, 0, 0, 0, 0, 0, 0, 0, 0, 0, 0, 0, 0, 0, 0, 0, 0, 0, 0, 0, 0, 0, 0, 0, 0, 0, 0, 0, 0, 0, 0, 0, 0, 0, 0, 0, 0, 0, 0, 0, 0, 0, 0, 0, 0, 0, 0, 0, 0, 0, 0, 0, 0, 0, 0, 0, 0, 0, 0, 0, 0, 0, 0, 0, 0, 0, 0, 0, 0, 0, 0, 0, 0, 0, 0, 0, 0, 0, 0, 0, 0, 0, 0, 0, 0, 0, 0, 0, 0, 0, 0, 0, 0, 0, 0, 0, 0, 0, 0, 0, 0, 0, 0, 0, 0, 0, 0, 0, 0, 0, 0, 0, 0, 0, 0, 0, 0, 0, 0, 0, 0, 0, 0, 0, 0, 0, 0, 0, 0, 0, 0, 0, 0, 0, 0, 0, 0, 0, 0, 0, 0, 0, 0, 0, 0, 0, 0, 0, 0, 0, 0, 0, 0, 0, 0, 0, 0, 0, 0, 0, 0, 0, 0, 0, 0, 0, 0, 0, 0, 0, 0, 0, 0, 0, 0, 0, 0, 0, 0, 0, 0, 0, 0, 0, 0, 0, 0, 0, 0, 0, 0, 0, 0, 0, 0, 0, 0, 0, 0, 0, 0, 0, 0, 0, 0, 0, 0, 0, 0, 0, 0, 0, 0, 0, 0, 0, 0, 0, 0, 0, 0, 0, 0, 0, 0, 0, 0, 0, 0, 0, 0, 0, 0, 0, 0, 0, 0, 0, 0, 0, 0, 0, 0, 0, 0, 0, 0, 0, 0, 0, 0, 0, 0, 0, 0, 0, 0, 0, 0, 0, 0, 0, 0, 0, 0, 0, 0, 0, 0, 0, 0, 0, 0, 0, 0, 0, 0, 0, 0, 0, 0, 0, 0, 0, 0, 0, 0, 0, 0, 0, 0, 0, 0, 0, 0, 0, 0, 0, 0, 0, 0, 0, 0, 0, 0, 0, 0, 0, 0, 0, 0, 0, 0, 0, 0, 0, 0, 0, 0, 0, 0, 0, 0, 0, 0, 0, 0, 0, 0, 0, 0, 0, 0, 0, 0, 0, 0, 0, 0, 0, 0, 0, 0, 0, 0, 0, 0, 0, 0, 0, 0, 0, 0, 0, 0, 0, 0, 0, 0, 0, 0, 0, 0, 0, 0, 0, 0, 0, 0, 0, 0, 0, 0, 0, 0, 0, 0, 0, 0, 0, 0, 0, 0, 0, 0, 0, 0, 0, 0, 0, 0, 0, 0, 0, 0, 0, 0, 0, 0, 0, 0, 0, 0, 0, 0, 0, 0, 0, 0, 0, 0, 0, 0, 0, 0, 0, 0, 0, 0, 0, 0, 0, 0, 0, 0, 0, 0, 0, 0, 0, 0, 0, 0, 0, 0, 0, 0, 0, 0, 0, 0, 0, 0, 0, 0, 0, 0, 0, 0, 0, 0, 0, 0, 0, 0, 0, 0, 0, 0, 0, 0, 0, 0, 0, 0, 0, 0, 0, 0, 0, 0, 0, 0, 0, 0, 0, 0, 0, 0, 0, 0, 0, 0, 0, 0, 0, 0, 0, 0, 0, 0, 0, 0, 0, 0, 0, 0, 0, 0, 0, 0, 0, 0, 0, 0, 0, 0, 0, 0, 0, 0, 0, 0, 0, 0, 0, 0, 0, 0, 0, 0, 0, 0, 0, 0, 0, 0, 0, 0, 0, 0, 0, 0, 0, 0, 0, 0, 0, 0, 0, 0, 0, 0, 0, 0, 0, 0, 0, 0, 0, 0, 0, 0, 0, 0, 0, 0, 0, 0, 0, 0, 0, 0, 0, 0, 0, 0, 0, 0, 0, 0, 0, 0, 0, 0, 0, 0, 0, 0, 0, 0, 0, 0, 0, 0, 0, 0, 0, 0, 0, 0, 0, 0, 0, 0, 0, 0, 0, 0, 0, 0, 0, 0, 0, 0, 0, 0, 0, 0, 0, 0, 0, 0, 0, 0, 0, 0, 0, 0, 0, 0, 0, 0, 0, 0, 0, 0, 0, 0, 0, 0, 0, 0, 0, 0, 0, 0, 0, 0, 0, 0, 0, 0, 0, 0, 0, 0, 0, 0, 0, 0, 0, 0, 0, 0, 0, 0, 0, 0, 0, 0, 0, 0, 0, 0, 0, 0, 0, 0, 0, 0, 0, 0, 0, 0, 0, 0, 0, 0, 0, 0, 0, 0, 0, 0, 0, 0, 0, 0, 0, 0, 0, 0, 0, 0, 0, 0, 0, 0, 0, 0, 0, 0, 0, 0, 0, 0, 0, 0, 0, 0, 0, 0, 0, 0, 0, 0, 0, 0, 0, 0, 0, 0, 0, 0, 0, 0, 0, 0, 0, 0, 0, 0, 0, 0, 0, 0, 0, 0, 0, 0, 0, 0, 0, 0, 0, 0, 0, 0, 0, 0, 0, 0, 0, 0, 0, 0, 0, 0, 0, 0, 0, 0, 0, 0, 0, 0, 0, 0, 0, 0, 0, 0, 0, 0, 0, 0, 0, 0, 0, 0, 0, 0, 0, 0, 0, 0, 0, 0, 0, 0, 0, 0, 0, 0, 0, 0, 0, 0, 0, 0, 0, 0, 0, 0, 0, 0, 0, 0, 0, 0, 0, 0, 0, 0, 0, 0, 0, 0, 0, 0, 0, 0, 0, 0, 0, 0, 0, 0, 0, 0, 0, 0, 0, 0, 0, 0, 0, 0, 0, 0, 0, 0, 0, 0, 0, 0, 0, 0, 0, 0, 0, 0, 0, 0, 0, 0, 0, 0, 0, 0, 0, 0, 0, 0, 0, 0, 0, 0, 0, 0, 0, 0, 0, 0, 0, 0, 0, 0, 0, 0, 0, 0, 0, 0, 0, 0, 0, 0, 0, 0, 0, 0, 0, 0, 0, 0, 0, 0, 0, 0, 0, 0, 0, 0, 0, 0, 0, 0, 0, 0, 0, 0, 0, 0, 0, 0, 0, 0, 0, 0, 0, 0, 0, 0, 0, 0, 0, 0, 0, 0, 0, 0, 0, 0, 0, 0, 0, 0, 0, 0, 0, 0, 0, 0, 0, 0, 0, 0, 0, 0, 0, 0, 0, 0, 0, 0, 0, 0, 0, 0, 0, 0, 0, 0, 0, 0, 0, 0, 0, 0, 0, 0, 0, 0, 0, 0, 0, 0, 0, 0, 0, 0, 0, 0, 0, 0, 0, 0, 0, 0, 0, 0, 0, 0, 0, 0, 0, 0, 0, 0, 0, 0, 0, 0, 0, 0, 0, 0, 0, 0, 0, 0, 0, 0, 0, 0, 0, 0, 0, 0, 0, 0, 0, 0, 0, 0, 0, 0, 0, 0, 0, 0, 0, 0, 0, 0, 0, 0, 0, 0, 0, 0, 0, 0, 0, 0, 0, 0, 0, 0, 0, 0, 0, 0, 0, 0, 0, 0, 0, 0, 0, 0, 0, 0, 0, 0, 0, 0, 0, 0, 0, 0, 0, 0, 0, 0, 0, 0, 0, 0, 0, 0, 0, 0, 0, 0, 0, 0, 0, 0, 0, 0, 0, 0, 0, 0, 0, 0, 0, 0, 0, 0, 0, 0, 0, 0, 0, 0, 0, 0, 0, 0, 0, 0, 0, 0, 0, 0, 0, 0, 0, 0, 0, 0, 0, 0, 0, 0, 0, 0, 0, 0, 0, 0, 0, 0, 0, 0, 0, 0, 0, 0, 0, 0, 0, 0, 0, 0, 0, 0, 0, 0, 0, 0, 0, 0, 0, 0, 0, 0, 0, 0, 0, 0, 0, 0, 0, 0, 0, 0, 0, 0, 0, 0, 0, 0, 0, 0, 0, 0, 0, 0, 0, 0, 0, 0, 0, 0, 0, 0, 0, 0, 0, 0, 0, 0, 0, 0, 0, 0, 0, 0, 0, 0, 0, 0, 0, 0, 0, 0, 0, 0, 0, 0, 0, 0, 0, 0, 0, 0, 0, 0, 0, 0, 0, 0, 0, 0, 0, 0, 0, 0, 0, 0, 0, 0, 0, 0, 0, 0, 0, 0, 0, 0, 0, 0, 0, 0, 0, 0, 0, 0, 0, 0, 0, 0, 0, 0, 0, 0, 0, 0, 0, 0, 0, 0, 0, 0, 0, 0, 0, 0, 0, 0, 0, 0, 0, 0, 0, 0, 0, 0, 0]\n",
            "[1, 1, 1, 1, 1, 1, 1, 1, 1, 1, 1, 1, 0, 1, 1, 1, 1, 1, 1, 1, 1, 1, 1, 1, 1, 1, 1, 1, 1, 1, 1, 1, 1, 1, 1, 1, 1, 1, 1, 1, 1, 1, 1, 1, 1, 1, 1, 1, 1, 1, 1, 1, 1, 1, 1, 1, 1, 1, 1, 0, 1, 1, 1, 1, 1, 1, 1, 1, 1, 1, 1, 1, 1, 1, 1, 1, 1, 1, 1, 1, 1, 1, 1, 1, 1, 1, 1, 1, 1, 1, 1, 1, 1, 1, 1, 1, 1, 1, 1, 1, 1, 1, 1, 1, 1, 1, 0, 1, 1, 1, 1, 1, 1, 1, 1, 1, 1, 1, 1, 1, 1, 1, 1, 1, 1, 1, 1, 1, 1, 1, 1, 1, 1, 1, 1, 1, 1, 0, 1, 1, 1, 1, 1, 1, 1, 1, 1, 1, 1, 1, 1, 1, 1, 1, 1, 1, 1, 0, 1, 1, 1, 1, 1, 1, 1, 1, 1, 1, 1, 1, 1, 1, 1, 1, 1, 1, 1, 1, 1, 1, 1, 1, 1, 0, 1, 1, 1, 1, 1, 1, 1, 1, 1, 1, 1, 1, 0, 1, 1, 1, 1, 1, 1, 1, 1, 1, 1, 1, 1, 0, 1, 1, 1, 1, 1, 1, 1, 1, 1, 1, 1, 1, 0, 1, 0, 1, 1, 1, 1, 1, 1, 1, 1, 1, 1, 1, 1, 1, 1, 1, 1, 1, 1, 1, 1, 0, 1, 1, 1, 1, 1, 1, 1, 1, 1, 1, 1, 1, 1, 1, 1, 1, 1, 1, 1, 1, 1, 1, 1, 1, 1, 1, 1, 1, 1, 1, 1, 1, 1, 1, 1, 1, 1, 1, 1, 1, 1, 1, 1, 1, 1, 1, 1, 1, 1, 1, 1, 1, 1, 1, 1, 1, 1, 1, 1, 1, 1, 1, 1, 1, 1, 1, 1, 1, 0, 1, 1, 1, 1, 1, 1, 1, 1, 1, 1, 1, 1, 1, 1, 1, 1, 1, 1, 1, 1, 1, 1, 1, 1, 1, 1, 1, 1, 1, 1, 1, 1, 1, 1, 1, 1, 0, 1, 1, 1, 1, 1, 1, 1, 1, 1, 1, 1, 1, 1, 1, 1, 1, 1, 1, 1, 1, 1, 1, 1, 1, 1, 1, 1, 1, 1, 1, 1, 1, 1, 1, 1, 1, 1, 0, 1, 1, 1, 1, 1, 1, 1, 1, 1, 1, 1, 1, 1, 1, 1, 1, 1, 1, 1, 1, 1, 1, 1, 1, 1, 1, 1, 1, 1, 1, 1, 1, 1, 1, 1, 1, 1, 1, 1, 1, 1, 0, 1, 1, 1, 1, 1, 1, 1, 1, 1, 1, 1, 1, 1, 1, 1, 1, 1, 1, 1, 1, 1, 1, 1, 1, 1, 1, 1, 1, 1, 1, 1, 1, 1, 1, 1, 1, 1, 1, 1, 1, 1, 1, 1, 1, 1, 1, 1, 1, 1, 1, 1, 1, 1, 1, 1, 1, 1, 1, 1, 1, 1, 1, 1, 1, 1, 1, 0, 1, 1, 1, 1, 1, 1, 1, 1, 1, 1, 1, 0, 1, 1, 1, 1, 1, 1, 1, 1, 1, 1, 1, 1, 0, 1, 1, 1, 1, 1, 1, 1, 1, 1, 1, 1, 1, 1, 1, 1, 1, 1, 1, 1, 1, 0, 1, 1, 1, 1, 1, 1, 1, 1, 1, 1, 1, 1, 1, 1, 1, 1, 0, 1, 1, 1, 1, 1, 1, 1, 1, 1, 1, 1, 1, 1, 1, 1, 1, 1, 1, 1, 1, 1, 1, 1, 1, 1, 1, 1, 1, 1, 1, 1, 1, 1, 1, 1, 1, 1, 1, 1, 1, 1, 1, 1, 1, 1, 1, 1, 1, 1, 1, 1, 1, 1, 1, 1, 1, 1, 1, 1, 1, 1, 1, 1, 1, 1, 1, 1, 1, 1, 1, 1, 1, 1, 1, 1, 1, 1, 1, 1, 1, 1, 1, 1, 1, 1, 1, 1, 1, 1, 1, 1, 1, 1, 1, 1, 1, 1, 1, 1, 1, 1, 1, 1, 1, 1, 1, 0, 1, 1, 1, 1, 1, 1, 1, 1, 1, 0, 1, 1, 1, 1, 1, 1, 1, 1, 1, 1, 1, 1, 1, 1, 1, 1, 1, 1, 1, 1, 1, 1, 1, 1, 1, 1, 1, 1, 1, 1, 1, 1, 1, 1, 1, 1, 1, 1, 0, 1, 1, 1, 1, 0, 1, 1, 1, 1, 1, 1, 1, 1, 1, 1, 1, 1, 1, 1, 1, 1, 1, 1, 1, 1, 1, 1, 1, 0, 1, 1, 1, 1, 1, 1, 1, 1, 1, 1, 1, 1, 1, 1, 1, 1, 1, 1, 1, 1, 1, 1, 1, 1, 1, 1, 1, 1, 1, 1, 1, 1, 1, 1, 0, 1, 1, 1, 1, 1, 1, 1, 1, 1, 1, 1, 1, 1, 1, 1, 1, 1, 1, 1, 1, 1, 1, 1, 1, 1, 1, 1, 1, 1, 1, 1, 1, 1, 1, 1, 1, 1, 1, 1, 1, 1, 1, 1, 1, 1, 1, 1, 1, 1, 1, 1, 1, 1, 1, 1, 1, 1, 1, 1, 1, 1, 1, 1, 1, 1, 0, 1, 1, 1, 1, 1, 1, 1, 1, 1, 1, 1, 1, 1, 1, 1, 1, 1, 1, 1, 1, 1, 1, 0, 1, 1, 1, 1, 1, 1, 1, 1, 1, 1, 1, 1, 1, 1, 1, 1, 1, 1, 1, 1, 1, 1, 1, 1, 1, 1, 1, 1, 1, 1, 1, 1, 1, 1, 1, 1, 1, 1, 1, 1, 1, 1, 0, 1, 0, 1, 1, 1, 0, 1, 1, 1, 1, 1, 0, 1, 1, 1, 1, 1, 1, 1, 1, 0, 1, 1, 1, 1, 1, 1, 1, 1, 1, 1, 1, 1, 1, 1, 1, 1, 1, 1, 1, 1, 1, 1, 1, 1, 1, 1, 1, 1, 1, 1, 1, 1, 1, 1, 1, 1, 1, 1, 1, 1, 1, 1, 1, 1, 1, 1, 1, 1, 1, 1, 1, 1, 1, 1, 1, 1, 1, 1, 1, 1, 1, 1, 1, 1, 1, 1, 1, 1, 1, 0, 1, 1, 1, 1, 1, 1, 1, 1, 1, 1, 1, 1, 1, 1, 1, 1, 1, 1, 1, 1, 1, 1, 1, 1, 1, 1, 1, 1, 1, 1, 1, 1, 1, 1, 1, 1, 1, 1, 1, 1, 1, 1, 1, 0, 1, 1, 1, 1, 1, 1, 1, 1, 1, 1, 1, 1, 1, 1, 1, 1, 1, 1, 1, 1, 1, 1, 1, 1, 1, 1, 1, 1, 1, 1, 1, 1, 1, 1, 1, 1, 1, 1, 1, 1, 1, 1, 1, 1, 1, 1, 1, 1, 1, 1, 1, 1, 1, 1, 1, 1, 0, 1, 0, 1, 1, 1, 1, 1, 1, 1, 1, 1, 1, 1, 1, 1, 1, 1, 0, 1, 1, 1, 1, 1, 1, 1, 1, 1, 1, 0, 1, 0, 1, 1, 1, 1, 1, 1, 1, 1, 1, 1, 1, 1, 1, 1, 1, 1, 1, 1, 0, 1, 1, 1, 1, 1, 1, 1, 1, 1, 1, 1, 1, 1, 1, 1, 0, 1, 1, 1, 1, 1, 1, 1, 1, 1, 1, 1, 1, 1, 1, 1, 1, 1, 1, 1, 1, 1, 1, 1, 1, 1, 1, 1, 1, 1, 1, 1, 1, 1, 1, 1, 1, 1, 1, 1, 1, 1, 1, 1, 1, 1, 1, 1, 1, 1, 1, 1, 1, 1, 1, 1, 1, 1, 1, 1, 1, 1, 1, 1, 1, 1, 1, 1, 1, 1, 1, 1, 1, 1, 1, 1, 1, 1, 1, 1, 1, 1, 1, 1, 1, 1, 1, 1, 1, 1, 1, 1, 1, 1, 1, 1, 1, 1, 1, 1, 1, 1, 1, 1, 1, 1, 1, 1, 1, 1, 1, 1, 1, 1, 1, 1, 1, 1, 1, 1, 1, 1, 1, 1, 1, 1, 1, 1, 1, 1, 1, 1, 1, 1, 1, 1, 1, 1, 1, 1, 1, 1, 0, 1, 1, 1, 1, 1, 1, 1, 1, 1, 1, 1, 1, 1, 1, 1, 1, 1, 1, 1, 1, 1, 1, 1, 1, 1, 1, 1, 1, 1, 0, 1, 1, 1, 1, 1, 1, 1, 1, 1, 1, 1, 1, 1, 1, 1, 0, 1, 1, 1, 1, 1, 1, 1, 1, 1, 1, 1, 1, 1, 1, 1, 1, 1, 1, 1, 1, 1, 1, 1, 1, 1, 1, 1, 1, 1, 1, 1, 1, 1, 1, 1, 1, 1, 1, 1, 1, 1, 1, 1, 1, 1, 1, 1, 0, 1, 1, 1, 1, 1, 1, 1, 1, 1, 1, 1, 1, 1, 1, 1, 1, 1, 1, 1, 1, 1, 1, 1, 1, 1, 1, 1, 1, 1, 1, 1, 1, 1, 1, 1, 1, 0, 1, 1, 1, 1, 1, 1, 1, 1, 1, 1, 1, 1, 1, 1, 1, 1, 1, 1, 1, 1, 1, 1, 1, 1, 1, 1, 1, 1, 1, 1, 1, 1, 1, 1, 1, 1, 1, 1, 1, 1, 1, 1, 1, 1, 1, 1, 1, 1, 1, 1, 1, 1, 1, 1, 1, 1, 1, 1, 1, 1, 1, 1, 1, 1, 1, 1, 1, 1, 1, 1, 1, 1, 1, 1, 1, 1, 1, 1, 1, 1, 1, 1, 1, 1, 1, 1, 1, 1, 1, 1, 1, 1, 1, 1, 1, 1, 1, 1, 1, 1, 1, 1, 1, 1, 1, 1, 1, 1, 1, 1, 1, 1, 1, 1, 1, 1, 1, 1, 1, 1, 0, 1, 1, 1, 1, 1, 1, 1, 1, 1, 1, 1, 1, 1, 1, 1, 1, 1, 1, 1, 1, 1, 1, 1, 1, 1, 1, 1, 1, 1, 1, 1, 1, 1, 1, 1, 0, 1, 1, 1, 1, 1, 1, 1, 1, 1, 1, 1, 1, 1, 1, 1, 1, 1, 1, 0, 1, 1, 1, 1, 1, 1, 1, 1, 1, 1, 1, 1, 1, 1, 1, 1, 1, 1, 1, 1, 1, 1, 1, 0, 1, 1, 1, 1, 1, 1, 1, 1, 1, 1, 1, 1, 1, 1, 1, 1, 1, 1, 1, 1, 1, 1, 1, 1, 1, 1, 1, 1, 1, 1, 1, 1, 1, 1, 1, 1, 1, 1, 1, 1, 1, 1, 1, 1, 1, 1, 1, 1, 1, 1, 1, 1, 1, 1, 1, 1, 1, 1, 1, 1, 1, 1, 1, 1, 1, 1, 1, 1, 1, 1, 1, 1, 1, 1, 1, 1, 1, 1, 1, 1, 1, 1, 1, 1, 1, 1, 1, 1, 1, 1, 1, 1, 1, 1, 1, 1, 1, 1, 1, 1, 1, 1, 1, 1, 1, 1, 1, 1, 1, 0, 1, 1, 1, 1, 1, 1, 1, 1, 1, 1, 1, 1, 1, 1, 1, 1, 1, 1, 1, 1, 1, 1, 1, 1, 1, 1, 1, 1, 1, 1, 1, 1, 1, 1, 1, 1, 1, 1, 1, 0, 1, 1, 1, 1, 1, 0, 1, 1, 1, 1, 1, 1, 1, 1, 1, 1, 1, 1, 1, 1, 1, 1, 1, 1, 1, 1, 1, 1, 1, 1, 1, 1, 0, 1, 1, 1, 1, 1, 1, 1, 1, 1, 1, 1, 1, 1, 0, 1, 1, 1, 1, 0, 1, 1, 1, 1, 1, 1, 1, 1, 1, 1, 1, 1, 1, 1, 1, 1, 1, 1, 1, 1, 1, 1, 1, 1, 1, 1, 1, 1, 1, 1, 1, 1, 1, 0, 0, 1, 1, 1, 1, 1, 1, 1, 1, 1, 1, 1, 1, 1, 1, 1, 1, 1, 1, 1, 1, 0, 1, 1, 1, 1, 1, 1, 1, 1, 1, 1, 1, 1, 1, 1, 1, 1, 0, 1, 1, 1, 1, 1, 1, 1, 1, 1, 1, 1, 1, 0, 1, 0, 1, 1, 1, 1, 1, 1, 1, 1, 1, 1, 1, 1, 1, 1, 1, 1, 1, 1, 1, 1, 1, 0, 1, 1, 1, 1, 1, 1, 1, 1, 1, 1, 0, 1, 1, 1, 1, 1, 1, 1, 0, 1, 1, 1, 1, 1, 1, 1, 1, 1, 1, 1, 1, 1, 1, 1, 1, 1, 1, 1, 1, 1, 1, 1, 1, 1, 1, 1, 1, 1, 1, 1, 1, 1, 1, 1, 1, 1, 1, 1, 1, 1, 1, 1, 1, 1, 1, 1, 1, 1, 1, 1, 1, 1, 1, 1, 1, 1, 1, 1, 1, 1, 1, 1, 1, 1, 1, 1, 1, 1, 1, 1, 1, 1, 0, 1, 1, 1, 1, 1, 1, 1, 1, 1, 1, 1, 1, 1, 1, 1, 1, 1, 1, 1, 1, 1, 1, 1, 1, 1, 1, 1, 1, 1, 1, 1, 1, 1, 1, 1, 1, 1, 1, 1, 1, 1, 1, 1, 1, 1, 1, 1, 1, 1, 1, 1, 1, 1, 1, 1, 1, 1, 1, 1, 1, 1, 1, 1, 1, 1, 1, 1, 1, 1, 1, 1, 1, 1, 1, 1, 1, 1, 1, 1, 1, 1, 1, 1, 1, 1, 1, 1, 1, 1, 1, 1, 1, 1, 1, 1, 1, 1, 1, 1, 1, 1, 1, 1, 1, 1, 1, 1, 1, 1, 1, 1, 1, 1, 1, 1, 1, 1, 1, 1, 1, 1, 1, 1, 1, 1, 1, 1, 1, 1, 1, 0, 0, 1, 1, 1, 1, 1, 1, 0, 1, 1, 1, 1, 1, 1, 1, 1, 1, 1, 1, 1, 1, 1, 1, 1, 1, 1, 1, 1, 1, 1, 1, 1, 1, 1, 1, 1, 1, 1, 1, 1, 1, 1, 1, 1, 1, 1, 1, 1, 1, 1, 1, 1, 1, 1, 1, 1, 1, 1, 1, 1, 1, 1, 1, 1, 1, 1, 1, 1, 1, 1, 1, 1, 1, 1, 1, 1, 1, 1, 1, 1, 1, 1, 1, 1, 1, 1, 1, 1, 1, 1, 1, 1, 1, 1, 1, 1, 1, 1, 1, 1, 1, 1, 1, 0, 1, 1, 1, 1, 1, 1, 1, 1, 1, 1, 1, 1, 1, 1, 1, 0, 1, 1, 0, 1, 1, 1, 1, 1, 1, 1, 1, 1, 1, 1, 1, 1, 1, 1, 1, 1, 1, 1, 1, 1, 1, 1, 1, 1, 1, 0, 1, 1, 1, 1, 1, 1, 1, 1, 1, 1, 1, 1, 1, 1, 1, 1, 1, 1, 1, 1, 1, 1, 1, 1, 1, 1, 1, 1, 1, 1, 1, 1, 1, 1, 1, 1, 1, 1, 1, 1, 1, 0, 1, 1, 1, 1, 1, 1, 1, 1, 1, 1, 1, 1, 0, 1, 0, 1, 1, 1, 1, 1, 1, 1, 1, 1, 1, 1, 1, 1, 1, 1, 1, 1, 1, 1, 1, 1, 1, 1, 1, 1, 1, 1, 0, 1, 1, 1, 1, 1, 1, 1, 1, 1, 1, 1, 1, 1, 1, 1, 1, 1, 1, 1, 1, 1, 1, 1, 1, 1, 1, 1, 1, 0, 1, 1, 1, 1, 1, 1, 1, 1, 1, 1, 1, 1, 1, 1, 1, 1, 1, 1, 1, 1, 1, 1, 1, 1, 1, 1, 1, 1, 1, 1, 1, 1, 1, 1, 1, 0, 1, 1, 1, 1, 1, 1, 1, 1, 1, 1, 1, 1, 1, 1, 1, 1, 1, 1, 1, 1, 1, 1, 1, 1, 1, 1, 1, 1, 1, 1, 1, 1, 1, 1, 1, 1, 1, 1, 1, 1, 1, 1, 1, 1, 1, 1, 1, 1, 1, 1, 1, 1, 1, 1, 1, 1, 1, 1, 1, 1, 1, 1, 1, 1, 1, 1, 1, 1, 1, 1, 1, 1, 1, 1, 1, 1, 1, 1, 1, 1, 1, 1, 1, 1, 1, 1, 1, 1, 1, 1, 1, 1, 1, 1, 1, 1, 1, 1, 1, 1, 1, 1, 1, 1, 1, 1, 1, 1, 1, 1, 1, 1, 1, 0, 1, 1, 1, 1, 1, 1, 1, 1, 1, 1, 1, 1, 1, 1, 1, 1, 1, 1, 1, 1, 1, 1, 1, 0, 1, 1, 1, 1, 1, 1, 1, 1, 1, 1, 1, 1, 1, 1, 1, 1, 1, 1, 1, 1, 1, 1, 1, 1, 1, 1, 1, 1, 1, 1, 1, 1, 1, 1, 1, 1, 1, 1, 1, 0, 1, 1, 1, 1, 1, 1, 1, 1, 1, 1, 1, 1, 1, 1, 1, 1, 1, 1, 1, 1, 1, 1, 1, 1, 1, 1, 1, 1, 1, 1, 1, 1, 1, 1, 1, 0, 1, 1, 1, 1, 1, 1, 1, 1, 1, 1, 0, 1, 1, 1, 1, 1, 1, 1, 1, 1, 1, 1, 1, 1, 1, 0, 1, 1, 1, 1, 1, 1, 1, 1, 1, 1, 1, 1, 1, 1, 1, 1, 1, 1, 1, 1, 1, 1, 1, 1, 1, 1, 1, 1, 1, 1, 1, 1, 1, 1, 1, 1, 1, 1, 1, 1, 1, 1, 1, 1, 1, 1, 1, 1, 1, 1, 1, 1, 1, 1, 1, 1, 1, 1, 1, 1, 1, 0, 1, 1, 1, 1, 1, 1, 1, 1, 1, 1, 1, 1, 1, 1, 1, 1, 1, 1, 1, 1, 1, 1, 1, 1, 1, 1, 1, 1, 1, 1, 1, 1, 1, 1, 1, 1, 1, 1, 1, 1, 1, 1, 1, 1, 1, 1, 1, 1, 1, 1, 1, 1, 1, 1, 1, 1, 0, 1, 1, 1, 1, 1, 1, 1, 1, 0, 1, 0, 1, 1, 1, 1, 1, 1, 1, 1, 1, 1, 1, 1, 1, 1, 1, 1, 1, 1, 1, 1, 1, 1, 1, 1, 1, 1, 1, 1, 1, 1, 1, 1, 1, 1, 1, 1, 1, 1, 1, 1, 1, 1, 1, 1, 1, 1, 1, 1, 1, 1, 1, 1, 1, 1, 0, 1, 1, 1, 0, 1, 1, 1, 1, 1, 1, 1, 1, 1, 1, 1, 1, 1, 1, 1, 1, 1, 1, 1, 1, 1, 1, 1, 1, 1, 1, 1, 1, 1, 1, 1, 1, 1, 0, 1, 1, 1, 1, 1, 1, 1, 1, 1, 1, 1, 1, 1, 1, 1, 1, 1, 1, 1, 1, 1, 1, 1, 1, 1, 1, 1, 1, 1, 1, 1, 1, 1, 1, 1, 1, 1, 1, 1, 1, 1, 1, 1, 1, 1, 1, 1, 1, 1, 1, 1, 1, 1, 1, 1, 1, 1, 1, 1, 1, 1, 1, 1, 1, 1, 1, 1, 1, 1, 0, 1, 1, 1, 1, 1, 1, 1, 1, 1, 1, 1, 1, 1, 1, 1, 1, 1, 1, 1, 1, 1, 1, 1, 1, 1, 1, 1, 1, 1, 1, 1, 1, 1, 1, 1, 1, 1, 1, 1, 1, 1, 1, 1, 1, 1, 1, 1, 1, 1, 1, 1, 1, 1, 1, 1, 1, 0, 1, 1, 1, 1, 1, 1, 1, 1, 0, 1, 1, 1, 1, 1, 1, 1, 1, 1, 1, 1, 1, 1, 1, 1, 1, 1, 1, 1, 1, 1, 1, 1, 1, 1, 1, 1, 1, 1, 1, 1, 1, 1, 1, 1, 1, 1, 1, 1, 1, 1, 1, 1, 1, 1, 1, 1, 1, 1, 1, 1, 1, 1, 1, 1, 1, 1, 1, 1, 1, 1, 1, 1, 1, 1, 1, 1, 1, 1, 1, 1, 1, 1, 1, 1, 1, 1, 1, 1, 1, 1, 1, 1, 1, 1, 1, 1, 1, 1, 1, 1, 1, 1, 1, 1, 1, 1, 1, 1, 1, 1, 1, 1, 1, 1, 1, 1, 1, 1, 1, 1, 1, 1, 1, 1, 1, 1, 1, 1, 1, 1, 1, 1, 1, 1, 1, 1, 1, 1, 1, 1, 1, 1, 1, 1, 1, 1, 1, 1, 1, 1, 1, 1, 1, 1, 1, 1, 1, 1, 1, 1, 0, 1, 1, 1, 1, 0, 1, 1, 1, 1, 1, 1, 1, 1, 1, 1, 1, 1, 1, 1, 1, 1, 1, 1, 1, 1, 1, 1, 1, 1, 1, 1, 1, 1, 1, 1, 1, 1, 1, 1, 0, 1, 1, 1, 1, 1, 1, 1, 1, 1, 1, 0, 1, 1, 1, 1, 1, 1, 1, 1, 1, 1, 1, 1, 1, 1, 1, 1, 1, 1, 1, 1, 1, 1, 1, 1, 1, 1, 1, 1, 1, 1, 1, 1, 1, 1, 1, 1, 1, 1, 1, 1, 1, 1, 1, 1, 0, 1, 1, 1, 1, 1, 1, 1, 1, 1, 1, 1, 1, 1, 1, 1, 1, 1, 1, 1, 1, 1, 1, 0, 1, 1, 1, 1, 1, 1, 1, 1, 1, 1, 1, 1, 1, 1, 1, 0, 1, 1, 0, 1, 1, 1, 1, 1, 1, 1, 0, 1, 1, 1, 1, 0, 1, 1, 0, 0, 1, 1, 1, 1, 1, 1, 1, 1, 1, 1, 1, 1, 1, 1, 1, 1, 1, 1, 1, 1, 1, 1, 1, 1, 1, 1, 1, 1, 1, 1, 1, 1, 1, 1, 1, 1, 1, 1, 1, 1, 1, 1, 1, 1, 1, 1, 1, 1, 1, 1, 1, 1, 1, 1, 1, 1, 1, 1, 1, 1, 1, 1, 1, 1, 1, 1, 1, 1, 1, 1, 1, 1, 1, 1, 1, 1, 1, 1, 0, 1, 1, 1, 1, 1, 1, 1, 1, 1, 1, 1, 1, 1, 1, 1, 1, 1, 1, 1, 1, 1, 1, 1, 1, 1, 1, 1, 1, 1, 1, 1, 1, 1, 1, 1, 1, 1, 1, 1, 1, 1, 1, 1, 0, 1, 1, 1, 1, 1, 1, 1, 1, 1, 1, 1, 1, 1, 1, 1, 1, 1, 1, 1, 1, 1, 1, 1, 1, 1, 1, 1, 1, 1, 1, 0, 1, 1, 1, 1, 1, 1, 1, 1, 1, 1, 1, 1, 1, 1, 1, 1, 1, 1, 1, 1, 1, 0, 1, 1, 1, 1, 1, 1, 1, 1, 1, 1, 1, 1, 1, 1, 1, 1, 1, 1, 1, 1, 1, 1, 1, 1, 1, 1, 1, 1, 1, 1, 1, 1, 1, 1, 1, 1, 1, 1, 1, 1, 1, 1, 1, 1, 1, 1, 1, 1, 1, 1, 1, 1, 1, 1, 1, 1, 1, 1, 1, 1, 1, 1, 1, 1, 1, 1, 1, 1, 1, 1, 1, 1, 1, 1, 1, 1, 1, 1, 1, 1, 1, 1, 0, 1, 1, 1, 1, 1, 1, 1, 1, 1, 1, 1, 1, 1, 1, 1, 1, 1, 1, 1, 1, 1, 1, 1, 1, 1, 1, 1, 1, 1, 1, 1, 0, 1, 1, 1, 1, 1, 1, 1, 1, 1, 1, 1, 1, 1, 1, 0, 1, 1, 1, 1, 1, 1, 1, 1, 1, 1, 1, 1, 1, 1, 1, 1, 1, 1, 1, 1, 1, 1, 1, 1, 1, 1, 1, 1, 1, 1, 1, 1, 1, 1, 1, 1, 1, 1, 1, 1, 1, 1, 1, 1, 1, 1, 1, 1, 1, 0, 1, 1, 1, 1, 1, 1, 1, 1, 1, 1, 1, 1, 1, 1, 1, 1, 1, 1, 1, 1, 1, 1, 1, 1, 1, 1, 1, 1, 1, 1, 1, 1, 1, 1, 1, 1, 1, 1, 1, 1, 1, 1, 1, 1, 1, 1, 1, 1, 1, 1, 1, 1, 1, 1, 1, 1, 1, 1, 1, 1, 1, 1, 1, 1, 1, 1, 1, 1, 1, 1, 1, 1, 1, 1, 1, 1, 1, 1, 1, 1, 1, 1, 1, 1, 1, 1, 1, 1, 1, 1, 1, 1, 1, 1, 1, 1, 1, 1, 1, 1, 1, 1, 1, 1, 1, 1, 1, 1, 1, 1, 1, 1, 1, 1, 1, 1, 1, 1, 1, 1, 1, 1, 1, 1, 1, 1, 0, 1, 1, 1, 1, 1, 1, 1, 1, 1, 1, 1, 1, 1, 1, 1, 1, 1, 1, 1, 1, 1, 1, 1, 1, 1, 1, 1, 1, 1, 1, 0, 1, 1, 1, 1, 1, 1, 1, 1, 1, 1, 1, 1, 1, 1, 1, 1, 1, 1, 1, 1, 1, 1, 1, 1, 1, 1, 1, 1, 1, 1, 1, 1, 1, 1, 1, 1, 1, 1, 1, 1, 1, 1, 1, 1, 1, 1, 1, 1, 1, 1, 1, 1, 1, 1, 1, 1, 1, 1, 1, 1, 1, 1, 1, 1, 1, 1, 1, 1, 1, 1, 1, 1, 1, 1, 1, 1, 1, 1, 1, 1, 1, 1, 1, 1, 1, 1, 1, 1, 0, 1, 1, 1, 1, 1, 1, 1, 1, 1, 0, 1, 1, 1, 1, 1, 1, 1, 1, 1, 1, 1, 1, 1, 1, 1, 1, 1, 1, 1, 1, 1, 1, 1, 1, 1, 1, 1, 1, 1, 0, 1, 1, 1, 1, 1, 1, 1, 1, 1, 1, 1, 1, 1, 1, 1, 1, 1, 1, 0, 1, 1, 1, 1, 1, 1, 1, 1, 1, 1, 1, 1, 1, 1, 1, 1, 1, 1, 1, 1, 1, 1, 1, 1, 1, 1, 1, 1, 1, 1, 1, 1, 1, 1, 1, 1, 1, 1, 1, 0, 1, 1, 1, 1, 1, 1, 1, 1, 1, 1, 1, 1, 1, 1, 1, 1, 1, 1, 1, 1, 1, 1, 1, 1, 1, 1, 1, 1, 1, 1, 1, 1, 1, 1, 1, 1, 1, 1, 1, 1, 1, 1, 1, 1, 1, 1, 1, 1, 1, 1, 0, 1, 1, 1, 1, 1, 1, 1, 1, 1, 1, 1, 1, 1, 1, 1, 1, 1, 1, 1, 1, 1, 1, 1, 0, 1, 1, 1, 1, 1, 1, 1, 1, 1, 1, 1, 0, 1, 1, 0, 1, 1, 1, 1, 1, 1, 1, 1, 1, 1, 1, 1, 1, 1, 1, 1, 1, 1, 1, 1, 1, 1, 1, 1, 1, 0, 1, 1, 1, 1, 1, 1, 1, 1, 1, 1, 1, 1, 1, 1, 1, 1, 1, 0, 1, 1, 1, 1, 1, 1, 1, 1, 1, 1, 1, 1, 1, 1, 1, 1, 1, 1, 1, 1, 0, 1, 1, 1, 1, 1, 1, 1, 1, 1, 1, 1, 1, 1, 1, 1, 1, 1, 1, 1, 1, 1, 1, 1, 1, 1, 1, 1, 1, 1, 1, 1, 1, 1, 1, 1, 1, 1, 1, 1, 1, 1, 1, 1, 1, 1, 1, 1, 0, 1, 1, 1, 1, 1, 1, 1, 1, 1, 1, 1, 1, 1, 1, 1, 1, 1, 1, 1, 1, 1, 1, 1, 1, 1, 1, 1, 1, 1, 1, 1, 1, 1, 1, 1, 1, 1, 1, 1, 1, 1, 1, 1, 1, 1, 1, 0, 1, 1, 1, 1, 1, 1, 1, 1, 1, 1, 1, 1, 1, 1, 1, 1, 1, 1, 1, 1, 1, 1, 1, 1, 1, 1, 1, 1, 1, 1, 1, 0, 1, 1, 1, 1, 1, 1, 1, 1, 1, 1, 1, 1, 1, 1, 1, 1, 1, 1, 1, 0, 1, 1, 1, 1, 1, 1, 1, 1, 1, 1, 1, 1, 1, 1, 0, 1, 1, 1, 1, 1, 1, 1, 1, 1, 1, 1, 1, 1, 1, 1, 1, 1, 1, 1, 1, 1, 1, 1, 1, 1, 1, 1, 1, 1, 1, 1, 1, 1, 1, 1, 1, 1, 0, 1, 1, 1, 1, 1, 1, 1, 1, 1, 1, 1, 1, 1, 1, 0, 1, 1, 1, 1, 1, 1, 1, 1, 1, 1, 1, 1, 1, 1, 1, 1, 1, 1, 1, 1, 1, 1, 1, 1, 1, 1, 1, 1, 1, 1, 1, 1, 1, 1, 1, 1, 1, 1, 1, 1, 1, 1, 1, 1, 1, 1, 1, 1, 1, 1, 1, 1, 1, 1, 1, 1, 1, 1, 1, 1, 1, 1, 1, 1, 1, 1, 1, 1, 1, 1, 1, 1, 1, 1, 1, 1, 1, 1, 1, 1, 1, 1, 1, 1, 1, 1, 1, 1, 1, 1, 1, 1, 1, 1, 1, 1, 1, 1, 1, 1, 1, 1, 1, 1, 1, 1, 1, 1, 1, 1, 1, 1, 1, 1, 1, 1, 1, 1, 1, 1, 1, 1, 1, 1, 1, 1, 1, 1, 1, 1, 1, 1, 0, 1, 1, 1, 1, 1, 1, 1, 1, 1, 1, 1, 1, 1, 1, 1, 1, 1, 1, 1, 1, 1, 1, 1, 1, 1, 1, 1, 1, 1, 1, 1, 1, 1, 1, 1, 1, 1, 1, 1, 1, 1, 1, 1, 1, 1, 1, 1, 1, 1, 1, 1, 1, 1, 1, 1, 1, 1, 1, 1, 1, 1, 1, 1, 1, 1, 1, 1, 1, 1, 1, 1, 1, 1, 1, 1, 1, 1, 0, 1, 1, 1, 1, 1, 1, 1, 1, 1, 1, 1, 1, 1, 1, 1, 1, 1, 0, 1, 1, 1, 1, 1, 1, 1, 1, 1, 1, 1, 1, 1, 1, 1, 1, 1, 1, 1, 1, 1, 1, 1, 1, 1, 1, 1, 1, 1, 1, 1, 1, 1, 1, 0, 1, 1, 1, 1, 1, 1, 1, 1, 1, 1, 1, 1, 1, 1, 1, 1, 1, 1, 1, 1, 1, 1, 1, 0, 1, 1, 1, 1, 0, 1, 1, 0, 0, 0, 1, 0, 0, 0, 0, 0, 0, 1, 1, 0, 0, 1, 0, 1, 0, 0, 0, 1, 0, 1, 0, 1, 0, 1, 1, 0, 0, 1, 0, 0, 0, 0, 0, 0, 0, 1, 0, 1, 1, 0, 0, 0, 1, 0, 0, 1, 1, 0, 1, 1, 1, 0, 1, 1, 1, 0, 1, 1, 1, 0, 0, 0, 0, 0, 0, 0, 0, 0, 1, 0, 0, 1, 1, 0, 1, 0, 0, 1, 1, 0, 0, 0, 1, 0, 1, 1, 1, 0, 1, 0, 0, 0, 1, 1, 0, 1, 1, 0, 1, 0, 0, 0, 0, 0, 1, 0, 1, 1, 1, 0, 1, 0, 0, 1, 0, 0, 1, 0, 1, 0, 0, 0, 0, 1, 1, 1, 0, 1, 0, 0, 0, 0, 0, 0, 1, 0, 1, 0, 0, 1, 1, 1, 0, 1, 0, 1, 0, 0, 1, 0, 0, 0, 0, 1, 1, 0, 0, 1, 1, 0, 1, 1, 1, 0, 1, 1, 1, 0, 1, 0, 1, 0, 0, 1, 1, 1, 0, 0, 1, 0, 0, 0, 1, 1, 1, 0, 0, 0, 1, 0, 0, 1, 1, 0, 0, 1, 0, 1, 0, 0, 1, 1, 0, 0, 1, 0, 0, 0, 0, 1, 0, 0, 0, 0, 0, 0, 1, 0, 0, 1, 1, 1, 1, 0, 1, 0, 0, 1, 0, 1, 0, 0, 1, 0, 1, 0, 0, 1, 1, 0, 1, 1, 0, 1, 0, 1, 1, 0, 0, 1, 1, 0, 1, 0, 0, 0, 0, 1, 0, 0, 0, 0, 0, 0, 0, 1, 1, 0, 0, 1, 0, 1, 0, 1, 1, 0, 0, 1, 0, 0, 0, 1, 0, 1, 0, 0, 0, 1, 0, 1, 0, 0, 1, 1, 0, 1, 1, 0, 1, 0, 0, 0, 1, 0, 0, 0, 0, 1, 1, 0, 0, 0, 0, 0, 0, 1, 0, 1, 0, 1, 0, 0, 1, 1, 0, 1, 1, 1, 0, 0, 0, 0, 0, 1, 0, 1, 0, 0, 0, 1, 0, 0, 1, 1, 0, 1, 1, 1, 0, 0, 0, 1, 0, 0, 1, 1, 0, 1, 0, 0, 0, 1, 0, 0, 0, 1, 0, 0, 0, 0, 1, 0, 1, 1, 1, 0, 1, 1, 1, 1, 0, 0, 1, 1, 1, 0, 0, 1, 0, 0, 1, 1, 0, 1, 0, 1, 0, 1, 0, 1, 1, 0, 1, 1, 1, 0, 0, 1, 0, 0, 0, 1, 0, 1, 0, 0, 0, 0, 1, 1, 0, 1, 1, 1, 1, 0, 0, 1, 1, 0, 0, 0, 0, 1, 0, 1, 1, 1, 0, 1, 0, 1, 1, 0, 0, 0, 1, 0, 0, 0, 0, 0, 0, 0, 0, 0, 1, 0, 0, 0, 0, 0, 0, 0, 0, 0, 0, 0, 0, 0, 0, 1, 0, 0, 0, 0, 1, 0, 1, 1, 0, 0, 0, 0, 1, 0, 1, 0, 0, 0, 0, 0, 1, 0, 0, 1, 0, 1, 0, 0, 0, 1, 0, 1, 0, 1, 0, 0, 0, 1, 0, 0, 1, 0, 0, 0, 1, 0, 0, 0, 0, 0, 1, 1, 1, 0, 0, 0, 1, 1, 1, 0, 1, 1, 0, 0, 1, 1, 0, 1, 0, 0, 0, 1, 1, 0, 0, 1, 0, 0, 1, 1, 0, 0, 0, 0, 0, 1, 1, 1, 1, 1, 1, 0, 1, 1, 0, 0, 1, 1, 0, 1, 0, 0, 0, 0, 0, 1, 1, 0, 0, 0, 1, 0, 1, 0, 1, 1, 1, 0, 1, 0, 0, 1, 0, 0, 0, 0, 0, 0, 0, 0, 0, 0, 0, 0, 0, 0, 1, 1, 0, 0, 0, 0, 0, 1, 0, 0, 1, 0, 1, 0, 1, 0, 0, 0, 0, 0, 1, 0, 1, 0, 0, 0, 0, 0, 0, 0, 0, 0, 0, 1, 0, 1, 0, 0, 1, 1, 0, 0, 1, 1, 0, 0, 0, 0, 0, 1, 0, 1, 1, 1, 0, 0, 1, 0, 0, 1, 1, 1, 0, 1, 1, 0, 0, 0, 1, 1, 0, 0, 1, 1, 1, 1, 0, 1, 1, 1, 1, 1, 1, 0, 1, 1, 0, 1, 0, 0, 1, 1, 1, 1, 0, 1, 0, 0, 0, 0, 0, 1, 0, 0, 1, 0, 0, 0, 0, 0, 0, 1, 0, 1, 0, 0, 0, 1, 1, 1, 1, 0, 0, 0, 0, 0, 0, 0, 1, 0, 1, 1, 1, 0, 0, 1, 1, 1, 0, 1, 0, 0, 0, 0, 1, 0, 0, 0, 1, 1, 0, 0, 0, 1, 1, 1, 0, 1, 0, 1, 0, 1, 1, 0, 0, 0, 1, 0, 0, 0, 0, 1, 1, 0, 0, 0, 0, 0, 0, 0, 0, 0, 1, 1, 0, 0, 0, 0, 1, 0, 0, 1, 1, 0, 0, 1, 1, 1, 1, 0, 0, 0, 0, 0, 1, 0, 0, 1, 0, 0, 0, 1, 0, 1, 0, 1, 0, 1, 1, 0, 0, 1, 1, 0, 1, 0, 0, 0, 1, 0, 0, 1, 1, 0, 1, 0, 1, 1, 1, 0, 0, 0, 0, 0, 1, 0, 1, 0, 1, 0, 0, 0, 0, 1, 0, 0, 0, 0, 0, 0, 1, 1, 1, 1, 0, 1, 0, 1, 0, 1, 0, 1, 1, 0, 1, 1, 0, 0, 0, 1, 0, 1, 1, 1, 0, 1, 0, 0, 0, 0, 1, 0, 1, 0, 0, 1, 0, 0, 1, 0, 1, 0, 1, 0, 0, 1, 0, 1, 0, 1, 0, 1, 0, 0, 1, 0, 1, 0, 0, 0, 0, 0, 1, 0, 1, 0, 0, 1, 0, 0, 0, 0, 1, 0, 0, 1, 0, 0, 1, 0, 0, 1, 0, 1, 0, 1, 1, 1, 1, 1, 0, 0, 0, 0, 0, 0, 1, 0, 0, 0, 0, 1, 1, 0, 1, 0, 0, 1, 1, 1, 0, 0, 0, 0, 1, 0, 0, 1, 1, 1, 0, 0, 0, 1, 1, 1, 1, 0, 0, 1, 0, 0, 0, 1, 0, 0, 1, 1, 0, 0, 0, 0, 0, 0, 0, 0, 0, 1, 0, 0, 0, 0, 0, 1, 1, 1, 0, 1, 1, 0, 0, 0, 1, 0, 0, 0, 0, 0, 0, 1, 1, 0, 0, 0, 0, 1, 0, 0, 0, 1, 1, 1, 1, 0, 0, 1, 1, 0, 0, 1, 1, 1, 1, 1, 0, 1, 0, 0, 1, 0, 0, 1, 1, 0, 1, 0, 0, 1, 1, 0, 0, 0, 0, 0, 0, 0, 0, 0, 0, 0, 0, 1, 1, 0, 0, 0, 0, 0, 0, 1, 1, 0, 1, 1, 0, 1, 0, 1, 1, 0, 0, 0, 0, 1, 0, 0, 0, 0, 0, 1, 0, 1, 1, 0, 0, 0, 1, 0, 1, 0, 0, 0, 0, 0, 0, 1, 1, 1, 1, 1, 0, 0, 1, 0, 0, 1, 0, 1, 0, 0, 0, 1, 1, 1, 0, 1, 1, 0, 1, 1, 1, 1, 0, 1, 0, 0, 0, 1, 0, 1, 1, 1, 0, 1, 0, 1, 1, 1, 0, 0, 0, 0, 0, 0, 0, 0, 1, 1, 1, 0, 0, 0, 0, 0, 1, 0, 0, 1, 0, 0, 0, 0, 1, 1, 1, 0, 1, 1, 0, 0, 1, 0, 0, 1, 0, 0, 1, 1, 0, 1, 1, 1, 0, 0, 1, 1, 1, 0, 1, 0, 1, 0, 0, 0, 1, 1, 0, 0, 1, 1, 0, 0, 1, 0, 1, 1, 1, 0, 0, 0, 0, 1, 1, 0, 0, 0, 1, 0, 1, 0, 1, 0, 1, 0, 1, 1, 1, 1, 1, 0, 1, 0, 0, 1, 1, 1, 0, 1, 1, 0, 0, 0, 0, 0, 0, 0, 0, 0, 0, 0, 0, 0, 0, 0, 0, 1, 1, 1, 0, 0, 0, 1, 1, 0, 0, 0, 0, 1, 1, 0, 0, 0, 1, 0, 0, 1, 1, 0, 1, 0, 1, 0, 1, 1, 1, 1, 1, 0, 1, 1, 1, 1, 1, 0, 0, 1, 0, 0, 1, 0, 0, 0, 1, 0, 1, 1, 1, 0, 1, 1, 1, 0, 1, 1, 0, 1, 0, 1, 1, 0, 1, 1, 1, 1, 0, 0, 0, 1, 1, 1, 0, 0, 1, 1, 0, 0, 0, 1, 0, 0, 0, 0, 0, 0, 1, 0, 1, 1, 0, 1, 0, 1, 1, 0, 1, 0, 0, 0, 1, 0, 0, 1, 1, 0, 0, 0, 1, 1, 0, 1, 0, 1, 1, 0, 0, 1, 0, 0, 0, 1, 1, 0, 0, 0, 1, 0, 1, 0, 0, 0, 0, 1, 0, 0, 0, 1, 0, 1, 1, 1, 0, 1, 0, 0, 1, 0, 0, 0, 0, 0, 0, 1, 1, 0, 1, 0, 1, 0, 1, 0, 1, 1, 1, 1, 0, 1, 1, 1, 0, 1, 0, 0, 1, 0, 0, 0, 0, 1, 1, 1, 0, 0, 0, 0, 0, 1, 0, 1, 0, 1, 1, 0, 0, 1, 1, 1, 1, 0, 0, 1, 1, 0, 0, 0, 0, 1, 0, 1, 1, 1, 1, 0, 0, 1, 1, 0, 1, 0, 1, 0, 0, 1, 1, 1, 0, 0, 1, 1, 1, 1, 1, 1, 0, 0, 1]\n"
          ],
          "name": "stdout"
        }
      ]
    },
    {
      "cell_type": "code",
      "metadata": {
        "id": "vKwrD9nptMYu",
        "colab_type": "code",
        "outputId": "6b07a3b8-3df6-40fd-95f4-8e4f2fe95130",
        "colab": {
          "base_uri": "https://localhost:8080/",
          "height": 68
        }
      },
      "source": [
        "from sklearn.metrics import f1_score, accuracy_score\n",
        "\n",
        "\n",
        "print(f1_score(true, predicted, average='macro'))\n",
        "print(f1_score(true, predicted))\n",
        "print(accuracy_score(true, predicted,))"
      ],
      "execution_count": 0,
      "outputs": [
        {
          "output_type": "stream",
          "text": [
            "0.8073992248062015\n",
            "0.921\n",
            "0.8744038155802861\n"
          ],
          "name": "stdout"
        }
      ]
    },
    {
      "cell_type": "markdown",
      "metadata": {
        "id": "N2AAldZ4r6sT",
        "colab_type": "text"
      },
      "source": [
        "# Predicting Results"
      ]
    },
    {
      "cell_type": "code",
      "metadata": {
        "id": "X1vtsEudvdF1",
        "colab_type": "code",
        "colab": {}
      },
      "source": [
        "estimator = XGBRegressor(max_depth=10, learning_rate=0.01, eval_metric='rmse', iterations=474)\n",
        "full_pipeline = Pipeline([\n",
        "    (\"preprocessor\", preprocessor),\n",
        "    (\"estimators\", estimator),\n",
        "])"
      ],
      "execution_count": 0,
      "outputs": []
    },
    {
      "cell_type": "code",
      "metadata": {
        "id": "Xoj24z2SB2E5",
        "colab_type": "code",
        "outputId": "2e0eaa1d-4ec6-43c9-9f7f-14d079d6e76b",
        "colab": {
          "base_uri": "https://localhost:8080/",
          "height": 68
        }
      },
      "source": [
        "%%time \n",
        "\n",
        "full_pipeline.fit(correct_df, fare_df)\n",
        "None"
      ],
      "execution_count": 0,
      "outputs": [
        {
          "output_type": "stream",
          "text": [
            "[15:19:41] WARNING: /workspace/src/objective/regression_obj.cu:152: reg:linear is now deprecated in favor of reg:squarederror.\n",
            "CPU times: user 1.72 s, sys: 6.77 ms, total: 1.73 s\n",
            "Wall time: 1.74 s\n"
          ],
          "name": "stdout"
        }
      ]
    },
    {
      "cell_type": "code",
      "metadata": {
        "id": "QZ0BZym5CByg",
        "colab_type": "code",
        "colab": {}
      },
      "source": [
        "test_features_df = pd.read_csv(\"/content/gdrive/My Drive/Colab Notebooks/TaxiFare/test.csv\", \n",
        "                               index_col=\"tripid\")\n",
        "\n",
        "test_features_df, test_fare = test_feature_process(test_features_df)\n",
        "print(test_features_df.shape)\n",
        "test_features_df.head()"
      ],
      "execution_count": 0,
      "outputs": []
    },
    {
      "cell_type": "code",
      "metadata": {
        "id": "aaHgpNAgCvIf",
        "colab_type": "code",
        "outputId": "8dcedd0e-3cd7-4e24-844c-4cd261b4f45f",
        "colab": {
          "base_uri": "https://localhost:8080/",
          "height": 51
        }
      },
      "source": [
        "test_predictions = full_pipeline.predict(test_features_df)\n",
        "test_predictions"
      ],
      "execution_count": 0,
      "outputs": [
        {
          "output_type": "execute_result",
          "data": {
            "text/plain": [
              "array([ 187.03957, 1015.00714,  189.65692, ...,   76.45001,  156.11526,\n",
              "        181.85426], dtype=float32)"
            ]
          },
          "metadata": {
            "tags": []
          },
          "execution_count": 561
        }
      ]
    },
    {
      "cell_type": "code",
      "metadata": {
        "id": "Eax5H5skw42G",
        "colab_type": "code",
        "colab": {}
      },
      "source": [
        "error = abs(test_fare - test_predictions)\n",
        "predicted = []\n",
        "\n",
        "for i in range(len(error)):\n",
        "    if error.values[i] <= percentile:\n",
        "        predicted.append(1)\n",
        "    else:\n",
        "        predicted.append(0)"
      ],
      "execution_count": 0,
      "outputs": []
    },
    {
      "cell_type": "code",
      "metadata": {
        "id": "fCoTGHsHzZTW",
        "colab_type": "code",
        "outputId": "4805f17b-d203-4943-bdd1-da5ce21c5129",
        "colab": {
          "base_uri": "https://localhost:8080/",
          "height": 34
        }
      },
      "source": [
        "predicted[:10]"
      ],
      "execution_count": 0,
      "outputs": [
        {
          "output_type": "execute_result",
          "data": {
            "text/plain": [
              "[1, 0, 0, 1, 1, 0, 1, 0, 1, 1]"
            ]
          },
          "metadata": {
            "tags": []
          },
          "execution_count": 564
        }
      ]
    },
    {
      "cell_type": "code",
      "metadata": {
        "id": "1ODZXlr1DE3w",
        "colab_type": "code",
        "colab": {}
      },
      "source": [
        "submission_df = pd.read_csv(\"/content/gdrive/My Drive/Colab Notebooks/TaxiFare/sample_submission.csv\", \n",
        "                            index_col=\"tripid\")"
      ],
      "execution_count": 0,
      "outputs": []
    },
    {
      "cell_type": "code",
      "metadata": {
        "id": "b6Q1R1DqDKBQ",
        "colab_type": "code",
        "colab": {}
      },
      "source": [
        "# Make sure we have the rows in the same order\n",
        "np.testing.assert_array_equal(test_features_df.index.values, \n",
        "                              submission_df.index.values)\n",
        "\n",
        "# Save predictions to submission data frame\n",
        "submission_df[\"prediction\"] = predicted\n",
        "\n",
        "submission_df.head()"
      ],
      "execution_count": 0,
      "outputs": []
    },
    {
      "cell_type": "code",
      "metadata": {
        "id": "DYVYuiR6DcbN",
        "colab_type": "code",
        "colab": {}
      },
      "source": [
        "submission_df.to_csv('/content/gdrive/My Drive/Colab Notebooks/TaxiFare/my_submission.csv', index=True)"
      ],
      "execution_count": 0,
      "outputs": []
    },
    {
      "cell_type": "code",
      "metadata": {
        "id": "keljbWu05m60",
        "colab_type": "code",
        "colab": {}
      },
      "source": [
        "!head /content/gdrive/My\\ Drive/Colab\\ Notebooks/TaxiFare/my_submission.csv"
      ],
      "execution_count": 0,
      "outputs": []
    }
  ]
}