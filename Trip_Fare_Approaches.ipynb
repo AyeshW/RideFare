{
  "nbformat": 4,
  "nbformat_minor": 0,
  "metadata": {
    "colab": {
      "name": "Trip Fare  - Approaches.ipynb",
      "provenance": [],
      "collapsed_sections": [],
      "authorship_tag": "ABX9TyOfgBj/fC9QGb5iIVW8zMsQ"
    },
    "kernelspec": {
      "name": "python3",
      "display_name": "Python 3"
    }
  },
  "cells": [
    {
      "cell_type": "code",
      "metadata": {
        "id": "f_J_FSBD0S1L",
        "colab_type": "code",
        "colab": {
          "base_uri": "https://localhost:8080/",
          "height": 122
        },
        "outputId": "12e9ef86-ea67-4093-98a1-58a8d78665fb"
      },
      "source": [
        "from google.colab import drive, files\n",
        "drive.mount('/content/gdrive')"
      ],
      "execution_count": null,
      "outputs": [
        {
          "output_type": "stream",
          "text": [
            "Go to this URL in a browser: https://accounts.google.com/o/oauth2/auth?client_id=947318989803-6bn6qk8qdgf4n4g3pfee6491hc0brc4i.apps.googleusercontent.com&redirect_uri=urn%3aietf%3awg%3aoauth%3a2.0%3aoob&response_type=code&scope=email%20https%3a%2f%2fwww.googleapis.com%2fauth%2fdocs.test%20https%3a%2f%2fwww.googleapis.com%2fauth%2fdrive%20https%3a%2f%2fwww.googleapis.com%2fauth%2fdrive.photos.readonly%20https%3a%2f%2fwww.googleapis.com%2fauth%2fpeopleapi.readonly\n",
            "\n",
            "Enter your authorization code:\n",
            "··········\n",
            "Mounted at /content/gdrive\n"
          ],
          "name": "stdout"
        }
      ]
    },
    {
      "cell_type": "code",
      "metadata": {
        "id": "MfCo5DxDOflW",
        "colab_type": "code",
        "colab": {
          "base_uri": "https://localhost:8080/",
          "height": 34
        },
        "outputId": "9cbcb7cf-c7b6-4638-f5a6-c24f7cc575e5"
      },
      "source": [
        "import tensorflow as tf\n",
        "tf.test.gpu_device_name()"
      ],
      "execution_count": null,
      "outputs": [
        {
          "output_type": "execute_result",
          "data": {
            "text/plain": [
              "''"
            ]
          },
          "metadata": {
            "tags": []
          },
          "execution_count": 2
        }
      ]
    },
    {
      "cell_type": "code",
      "metadata": {
        "id": "K0nRre1O3u3X",
        "colab_type": "code",
        "colab": {}
      },
      "source": [
        "import pandas as pd\n",
        "import numpy as np\n",
        "\n",
        "pd.set_option(\"display.max_columns\", 100)"
      ],
      "execution_count": null,
      "outputs": []
    },
    {
      "cell_type": "code",
      "metadata": {
        "id": "Dj61qdUs4HJ5",
        "colab_type": "code",
        "colab": {}
      },
      "source": [
        "df = pd.read_csv(\n",
        "    \"/content/gdrive/My Drive/Colab Notebooks/TaxiFare/train.csv\", \n",
        "    index_col=\"tripid\"\n",
        ")\n",
        "print(df.dtypes)\n",
        "df.head()"
      ],
      "execution_count": null,
      "outputs": []
    },
    {
      "cell_type": "code",
      "metadata": {
        "id": "Od_K_TUa4p2V",
        "colab_type": "code",
        "colab": {}
      },
      "source": [
        "label_df = pd.DataFrame(df['label'])\n",
        "feature_df = df.drop(columns='label')\n",
        "feature_df.head()"
      ],
      "execution_count": null,
      "outputs": []
    },
    {
      "cell_type": "code",
      "metadata": {
        "id": "t-lP0AD8__L2",
        "colab_type": "code",
        "colab": {}
      },
      "source": [
        "label_df['label_copy'] = label_df['label']\n",
        "labels ={\"label\": {\"correct\": 1, \"incorrect\": 0}}\n",
        "label_df.replace(labels, inplace=True)\n",
        "label_df.head()"
      ],
      "execution_count": null,
      "outputs": []
    },
    {
      "cell_type": "code",
      "metadata": {
        "id": "ua1t-DpEFfG2",
        "colab_type": "code",
        "colab": {
          "base_uri": "https://localhost:8080/",
          "height": 68
        },
        "outputId": "99d46209-b7f6-4f32-f01c-32bbf98a2aff"
      },
      "source": [
        "label_df['label'].value_counts()"
      ],
      "execution_count": null,
      "outputs": [
        {
          "output_type": "execute_result",
          "data": {
            "text/plain": [
              "1    15495\n",
              "0     1681\n",
              "Name: label, dtype: int64"
            ]
          },
          "metadata": {
            "tags": []
          },
          "execution_count": 7
        }
      ]
    },
    {
      "cell_type": "code",
      "metadata": {
        "id": "tVnX1fKDgSid",
        "colab_type": "code",
        "colab": {
          "base_uri": "https://localhost:8080/",
          "height": 68
        },
        "outputId": "b041f053-3883-45b7-ec27-ef4c1afa8bac"
      },
      "source": [
        "misid = np.where(feature_df[['fare']].isnull())[0]\n",
        "newl = label_df.drop(label_df.index[misid])\n",
        "newl['label'].value_counts()\n",
        "\n",
        "# All the fare missing 137 samples are incorrect samples"
      ],
      "execution_count": null,
      "outputs": [
        {
          "output_type": "execute_result",
          "data": {
            "text/plain": [
              "1    15495\n",
              "0     1544\n",
              "Name: label, dtype: int64"
            ]
          },
          "metadata": {
            "tags": []
          },
          "execution_count": 8
        }
      ]
    },
    {
      "cell_type": "code",
      "metadata": {
        "id": "cTSxMeijGPPw",
        "colab_type": "code",
        "colab": {}
      },
      "source": [
        "label_df.drop(columns='label_copy', inplace=True)\n",
        "label_df.head()"
      ],
      "execution_count": null,
      "outputs": []
    },
    {
      "cell_type": "code",
      "metadata": {
        "id": "wn79paxMPfF_",
        "colab_type": "code",
        "colab": {}
      },
      "source": [
        "def set_trip_time(df):\n",
        "    \n",
        "    df['pickup_time'] = pd.to_datetime(df['pickup_time'])\n",
        "    df['drop_time'] = pd.to_datetime(df['drop_time'])\n",
        "    df['trip_time'] = (df['drop_time'] - df['pickup_time']).dt.total_seconds()\n",
        "    #df['dayofweek'] = df['pickup_time'].dt.dayofweek\n",
        "    #df['is_weekend'] = np.where(df['dayofweek'].isin([5, 6]), 1, 0)\n",
        "    df.drop(columns=['pickup_time', 'drop_time'], inplace=True)\n",
        "\n",
        "set_trip_time(feature_df)"
      ],
      "execution_count": null,
      "outputs": []
    },
    {
      "cell_type": "code",
      "metadata": {
        "id": "1yVBRtIrshZT",
        "colab_type": "code",
        "colab": {}
      },
      "source": [
        "def get_distance(lat1, lon1, lat2, lon2):\n",
        "    # haversine_distance\n",
        "   r = 6371\n",
        "   phi1 = np.radians(lat1)\n",
        "   phi2 = np.radians(lat2)\n",
        "   lamb1 = np.radians(lon1)\n",
        "   lamb2 = np.radians(lon2)\n",
        "\n",
        "   delta_phi = phi2 - phi1\n",
        "   delta_lambda = lamb2 - lamb1\n",
        "   a = np.sin(delta_phi / 2)**2 + np.cos(phi1) * np.cos(phi2) *   np.sin(delta_lambda / 2)**2\n",
        "   res = r * 2 * np.arctan2(np.sqrt(a), np.sqrt(1 - a))\n",
        "   return np.round(res, 3)\n",
        "\n",
        "def set_distance(feature_df):\n",
        "    distances = []\n",
        "    for row in feature_df.itertuples(index=False):\n",
        "        distances.append(get_distance(row.pick_lat, row.pick_lon, row.drop_lat, row.drop_lon))\n",
        "    \n",
        "    feature_df['trip_distance'] = distances\n",
        "    feature_df.drop(columns=['pick_lat', 'pick_lon', 'drop_lat', 'drop_lon'], inplace=True)\n",
        "\n",
        "# Calling the set_distance to set a distance column and remove coordinates columns\n",
        "set_distance(feature_df)"
      ],
      "execution_count": null,
      "outputs": []
    },
    {
      "cell_type": "code",
      "metadata": {
        "id": "P-_IDhSNHHAn",
        "colab_type": "code",
        "colab": {}
      },
      "source": [
        "\n",
        "def set_time_error(feature_df):\n",
        "    time_errors = []\n",
        "    feature_df['time_error'] = (feature_df['duration'] - feature_df['trip_time'])**2\n",
        "    #feature_df.drop(columns=['duration', 'trip_time'], inplace=True)\n",
        "\n",
        "# set_time_error(feature_df)"
      ],
      "execution_count": null,
      "outputs": []
    },
    {
      "cell_type": "code",
      "metadata": {
        "id": "bapffGZ7Rd6d",
        "colab_type": "code",
        "colab": {}
      },
      "source": [
        "def add_missing_col(df):\n",
        "    '''\n",
        "        This function adds an additional binary column to the df based on all\n",
        "        additional_fare, duration, meter_waiting, meter_waiting_fare, meter_waiting_till_pickup, time_error\n",
        "        has NaN values\n",
        "    '''\n",
        "    df['ismissing'] = np.where(df[['additional_fare', 'duration', 'meter_waiting', 'meter_waiting_fare', 'meter_waiting_till_pickup', 'time_error']].isnull().all(1), 1, 0)\n",
        "\n",
        "# add_missing_col(feature_df)\n",
        "# feature_df.head()"
      ],
      "execution_count": null,
      "outputs": []
    },
    {
      "cell_type": "code",
      "metadata": {
        "id": "XRdhKiql2HSI",
        "colab_type": "code",
        "colab": {
          "base_uri": "https://localhost:8080/",
          "height": 34
        },
        "outputId": "92e2c9af-088a-4b08-cf98-55305d48f450"
      },
      "source": [
        "zeros = np.where((feature_df['trip_time']==0.0) | (feature_df['trip_distance']==0))[0]\n",
        "len(zeros) #feature_df['trip_distance']==0"
      ],
      "execution_count": null,
      "outputs": [
        {
          "output_type": "execute_result",
          "data": {
            "text/plain": [
              "219"
            ]
          },
          "metadata": {
            "tags": []
          },
          "execution_count": 14
        }
      ]
    },
    {
      "cell_type": "code",
      "metadata": {
        "id": "kcH4mwHlkiaI",
        "colab_type": "code",
        "colab": {
          "base_uri": "https://localhost:8080/",
          "height": 68
        },
        "outputId": "679ee79f-8b7a-481c-a7f0-2dcbba72d938"
      },
      "source": [
        "zeroid = np.where((feature_df['trip_time']==0.0) | (feature_df['trip_distance']==0))[0]\n",
        "newl = label_df.drop(label_df.index[zeroid])\n",
        "newl['label'].value_counts()"
      ],
      "execution_count": null,
      "outputs": [
        {
          "output_type": "execute_result",
          "data": {
            "text/plain": [
              "1    15382\n",
              "0     1575\n",
              "Name: label, dtype: int64"
            ]
          },
          "metadata": {
            "tags": []
          },
          "execution_count": 15
        }
      ]
    },
    {
      "cell_type": "code",
      "metadata": {
        "id": "Py3YMMCmmle0",
        "colab_type": "code",
        "colab": {
          "base_uri": "https://localhost:8080/",
          "height": 68
        },
        "outputId": "8f0324ec-8a29-43bb-c0eb-dde9df93132e"
      },
      "source": [
        "zeroid = np.where((feature_df['fare']==0.0))[0]\n",
        "newl = label_df.drop(label_df.index[zeroid])\n",
        "newl['label'].value_counts()"
      ],
      "execution_count": null,
      "outputs": [
        {
          "output_type": "execute_result",
          "data": {
            "text/plain": [
              "1    15494\n",
              "0     1668\n",
              "Name: label, dtype: int64"
            ]
          },
          "metadata": {
            "tags": []
          },
          "execution_count": 16
        }
      ]
    },
    {
      "cell_type": "code",
      "metadata": {
        "id": "fkh4ZZBryASX",
        "colab_type": "code",
        "colab": {}
      },
      "source": [
        "def set_cross_features(feature_df):\n",
        "    # zeros = np.where((feature_df['trip_time']==0) | (feature_df['trip_distance']==0))[0]\n",
        "    # feature_df.drop(feature_df.index[zeros], inplace=True)\n",
        "    # label_df.drop(label_df.index[zeros], inplace=True)\n",
        "\n",
        "    # feature_df['trip_time'] = np.where((feature_df['trip_time']==0), 0.01, feature_df['trip_time'])\n",
        "    # feature_df['trip_distance'] = np.where((feature_df['trip_distance']==0), 0.01, feature_df['trip_distance'])\n",
        "\n",
        "    # feature_df['fare_per_min'] = (feature_df['fare'] / feature_df['trip_time'])*60\n",
        "    # feature_df['fare_per_km'] = feature_df['fare'] / feature_df['trip_distance']\n",
        "    feature_df['fare_per_min'] = np.where((feature_df['trip_time']==0), -1, (feature_df['fare'] / feature_df['trip_time'])*60)\n",
        "    feature_df['fare_per_km'] = np.where((feature_df['trip_distance']==0), -1, (feature_df['fare'] / feature_df['trip_distance']))\n",
        "    feature_df['time_per_rs'] = np.where((feature_df['fare']==0), -1, ((feature_df['trip_time'] - feature_df['meter_waiting']) / feature_df['fare']))\n",
        "    feature_df['pickup_wait_per_rs'] = np.where((feature_df['fare']==0), -1, (feature_df['meter_waiting_till_pickup'] / feature_df['fare']))\n",
        "    #feature_df['additional_fare_factor'] = np.where((feature_df['fare']==0), -1, (feature_df['additional_fare'] / (feature_df['fare']+feature_df['additional_fare'])))\n",
        "    feature_df['speed'] = np.where(((feature_df['duration']-feature_df['meter_waiting'])==0), -1, (feature_df['trip_distance'] / (feature_df['duration']-feature_df['meter_waiting'])) * 3600)\n",
        "    feature_df['km_per_rs'] = np.where((feature_df['fare']==0), -1, (feature_df['trip_distance'] / feature_df['fare']))\n",
        "    feature_df['faretime_per_km'] = np.where((feature_df['trip_distance']==0), -1, ((feature_df['fare']*feature_df['trip_time']) / (feature_df['trip_distance']*60)))\n",
        "    feature_df['time_per_additional_rs'] = np.where((feature_df['additional_fare']==0), -1, (feature_df['trip_time'] / feature_df['additional_fare']))\n",
        "    feature_df['waiting_fare_factor'] = np.where((feature_df['fare']==0), -1, (feature_df['meter_waiting_fare'] / (feature_df['fare']+feature_df['meter_waiting_fare'])))\n",
        "    feature_df['waiting_rs_per_min'] = np.where((feature_df['meter_waiting']==0), -1, (feature_df['meter_waiting_fare'] / feature_df['meter_waiting'])*60)\n",
        "    feature_df['time_per_mobrs'] = np.where(((feature_df['fare']-feature_df['meter_waiting_fare'])==0), -1, \n",
        "                                            ((feature_df['trip_time'] - feature_df['meter_waiting']) / (feature_df['fare']-feature_df['meter_waiting_fare'])))\n",
        "    # feature_df['mobfare_per_min'] = np.where(((feature_df['trip_time'] - feature_df['meter_waiting'])==0), -1, \n",
        "    #                                         ((feature_df['fare']-feature_df['meter_waiting_fare']) / (feature_df['trip_time'] - feature_df['meter_waiting']))*60)\n",
        "\n",
        "    feature_df.drop(columns='trip_time', inplace=True)\n",
        "#feature_df['fare'].fillna(10000, inplace=True)\n",
        "#set_cross_features(feature_df)\n",
        "# feature_df.head()"
      ],
      "execution_count": null,
      "outputs": []
    },
    {
      "cell_type": "code",
      "metadata": {
        "id": "dETJfAtqUF4V",
        "colab_type": "code",
        "colab": {}
      },
      "source": [
        "pos = np.where(label_df['label']==1)[0]\n",
        "neg = np.where(label_df['label']==0)[0]\n",
        "posf = feature_df.drop(feature_df.index[neg])\n",
        "negf = feature_df.drop(feature_df.index[pos])\n",
        "# print(posf['additional_fare'].value_counts())\n",
        "# print(negf['additional_fare'].value_counts())"
      ],
      "execution_count": null,
      "outputs": []
    },
    {
      "cell_type": "code",
      "metadata": {
        "id": "agtN40lTxo9O",
        "colab_type": "code",
        "colab": {}
      },
      "source": [
        "def feature_process(feature_df):\n",
        "    #feature_df['fare'].fillna(10000, inplace=True)\n",
        "    set_trip_time(feature_df)\n",
        "    set_distance(feature_df)\n",
        "    #set_time_error(feature_df)\n",
        "    #add_missing_col(feature_df)\n",
        "    set_cross_features(feature_df)"
      ],
      "execution_count": null,
      "outputs": []
    },
    {
      "cell_type": "code",
      "metadata": {
        "id": "_mwzGILBa1fJ",
        "colab_type": "code",
        "colab": {
          "base_uri": "https://localhost:8080/",
          "height": 34
        },
        "outputId": "f38cab55-4b89-47e0-85df-dfa7a7c149f7"
      },
      "source": [
        "(feature_df.shape, label_df.shape)"
      ],
      "execution_count": null,
      "outputs": [
        {
          "output_type": "execute_result",
          "data": {
            "text/plain": [
              "((17176, 8), (17176, 1))"
            ]
          },
          "metadata": {
            "tags": []
          },
          "execution_count": 20
        }
      ]
    },
    {
      "cell_type": "code",
      "metadata": {
        "id": "k7QdXRTGe6Tf",
        "colab_type": "code",
        "colab": {
          "base_uri": "https://localhost:8080/",
          "height": 170
        },
        "outputId": "d94c4f6b-f15b-423f-b3cc-51c4b0b33447"
      },
      "source": [
        "feature_df.dtypes"
      ],
      "execution_count": null,
      "outputs": [
        {
          "output_type": "execute_result",
          "data": {
            "text/plain": [
              "additional_fare              float64\n",
              "duration                     float64\n",
              "meter_waiting                float64\n",
              "meter_waiting_fare           float64\n",
              "meter_waiting_till_pickup    float64\n",
              "fare                         float64\n",
              "trip_time                    float64\n",
              "trip_distance                float64\n",
              "dtype: object"
            ]
          },
          "metadata": {
            "tags": []
          },
          "execution_count": 21
        }
      ]
    },
    {
      "cell_type": "code",
      "metadata": {
        "id": "LQdWtk_3ntlY",
        "colab_type": "code",
        "colab": {
          "base_uri": "https://localhost:8080/",
          "height": 170
        },
        "outputId": "7e4cef0d-ee71-44ec-d3d4-398fb6c40b5d"
      },
      "source": [
        "feature_df.isnull().sum()"
      ],
      "execution_count": null,
      "outputs": [
        {
          "output_type": "execute_result",
          "data": {
            "text/plain": [
              "additional_fare              202\n",
              "duration                     202\n",
              "meter_waiting                202\n",
              "meter_waiting_fare           202\n",
              "meter_waiting_till_pickup    202\n",
              "fare                         137\n",
              "trip_time                      0\n",
              "trip_distance                  0\n",
              "dtype: int64"
            ]
          },
          "metadata": {
            "tags": []
          },
          "execution_count": 22
        }
      ]
    },
    {
      "cell_type": "markdown",
      "metadata": {
        "id": "ZRlrXB2na--b",
        "colab_type": "text"
      },
      "source": [
        "# Visualizing Data\n"
      ]
    },
    {
      "cell_type": "code",
      "metadata": {
        "id": "QgpFiXOLfXq1",
        "colab_type": "code",
        "colab": {
          "base_uri": "https://localhost:8080/",
          "height": 405
        },
        "outputId": "f0fa053d-f6ad-458f-8926-2b8b8417def7"
      },
      "source": [
        "#%%script false --no-raise-error\n",
        "from sklearn.decomposition import PCA\n",
        "from sklearn.impute import SimpleImputer\n",
        "import seaborn as sns\n",
        "\n",
        "%matplotlib inline\n",
        "import matplotlib.pyplot as plt\n",
        "\n",
        "imputer = SimpleImputer()\n",
        "data = imputer.fit_transform(feature_df)\n",
        "pca = PCA(n_components=2)\n",
        "pca_result = pca.fit_transform(data)\n",
        "\n",
        "temp_df = pd.DataFrame({'x': pca_result[:,0], 'y': pca_result[:,1], 'label': label_df['label']})\n",
        "\n",
        "# For reproducability of the results\n",
        "np.random.seed(42)\n",
        "rndperm = np.random.permutation(temp_df.shape[0])\n",
        "\n",
        "plt.figure(figsize=(5,5))\n",
        "sns.scatterplot(\n",
        "    x=\"x\", y=\"y\",\n",
        "    hue=\"label\",\n",
        "    palette=sns.color_palette(\"hls\", 2),\n",
        "    data=temp_df,\n",
        "    legend=\"full\",\n",
        "    alpha=0.6\n",
        ")"
      ],
      "execution_count": null,
      "outputs": [
        {
          "output_type": "stream",
          "text": [
            "/usr/local/lib/python3.6/dist-packages/statsmodels/tools/_testing.py:19: FutureWarning: pandas.util.testing is deprecated. Use the functions in the public API at pandas.testing instead.\n",
            "  import pandas.util.testing as tm\n"
          ],
          "name": "stderr"
        },
        {
          "output_type": "execute_result",
          "data": {
            "text/plain": [
              "<matplotlib.axes._subplots.AxesSubplot at 0x7f368c7df828>"
            ]
          },
          "metadata": {
            "tags": []
          },
          "execution_count": 23
        },
        {
          "output_type": "display_data",
          "data": {
            "image/png": "[encoded data removed]",
            "text/plain": [
              "<Figure size 360x360 with 1 Axes>"
            ]
          },
          "metadata": {
            "tags": [],
            "needs_background": "light"
          }
        }
      ]
    },
    {
      "cell_type": "markdown",
      "metadata": {
        "id": "HoivUBYgbcW6",
        "colab_type": "text"
      },
      "source": [
        "# Outlier Handling"
      ]
    },
    {
      "cell_type": "markdown",
      "metadata": {
        "id": "E29vgAjyKNfM",
        "colab_type": "text"
      },
      "source": [
        "## Visualizing Boxplots"
      ]
    },
    {
      "cell_type": "code",
      "metadata": {
        "id": "kHXHeq4PbWMC",
        "colab_type": "code",
        "colab": {}
      },
      "source": [
        "%%script false --no-raise-error\n",
        "%matplotlib inline\n",
        "import matplotlib.pyplot as plt\n",
        "import seaborn as sns\n",
        "from sklearn.impute import SimpleImputer\n",
        "\n",
        "columns = feature_df.columns\n",
        "simple_imputer = SimpleImputer(strategy='median')\n",
        "data = simple_imputer.fit_transform(feature_df)\n",
        "data = pd.DataFrame(data=data, columns=columns)\n",
        "fig, axs = plt.subplots(3,3)\n",
        "\n",
        "axs[0,0].boxplot(data['additional_fare'], 0, 'gD')\n",
        "axs[0,0].set_title('additional fare')\n",
        "\n",
        "axs[0,1].boxplot(data['duration'], 0, 'gD')\n",
        "axs[0,1].set_title('duration')\n",
        "\n",
        "axs[0,2].boxplot(data['fare'], 0, 'gD')\n",
        "axs[0,2].set_title('fare')\n",
        "\n",
        "axs[1,0].boxplot(data['meter_waiting'], 0, 'gD')\n",
        "axs[1,0].set_title('meter_waiting')\n",
        "\n",
        "axs[1,1].boxplot(data['meter_waiting_fare'], 0, 'gD')\n",
        "axs[1,1].set_title('meter_waiting_fare')\n",
        "\n",
        "axs[1,2].boxplot(data['meter_waiting_till_pickup'], 0, 'gD')\n",
        "axs[1,2].set_title('meter_waiting_till_pickup')\n",
        "\n",
        "axs[2,0].boxplot(data['time_error'], 0, 'gD')\n",
        "axs[2,0].set_title('time_error')\n",
        "\n",
        "axs[2,1].boxplot(data['trip_distance'], 0, 'gD')\n",
        "axs[2,1].set_title('trip_distance')\n",
        "\n",
        "axs[2,2].boxplot(data['trip_time'], 0, 'gD')\n",
        "axs[2,2].set_title('trip_time')\n",
        "\n",
        "fig.subplots_adjust(left=0.08, right=0.98, bottom=0.05, top=0.9,\n",
        "                    hspace=0.4, wspace=0.3)\n",
        "\n",
        "plt.figure(figsize=(10,10))\n",
        "\n",
        "plt.show()"
      ],
      "execution_count": null,
      "outputs": []
    },
    {
      "cell_type": "markdown",
      "metadata": {
        "id": "u2OVgJqaKWfO",
        "colab_type": "text"
      },
      "source": [
        "## Z-Score"
      ]
    },
    {
      "cell_type": "code",
      "metadata": {
        "id": "15ZmS9G7KZBu",
        "colab_type": "code",
        "colab": {}
      },
      "source": [
        "from scipy import stats\n",
        "from sklearn.impute import SimpleImputer\n",
        "\n",
        "# columns = feature_df.columns\n",
        "# simple_imputer = SimpleImputer(strategy='median')\n",
        "# data = simple_imputer.fit_transform(feature_df)\n",
        "# data = pd.DataFrame(data=data, columns=columns)\n",
        "\n",
        "# z = np.abs(stats.zscore(data.drop(columns=['ismissing', 'fare'])))\n",
        "# #z = np.abs(stats.zscore(data))\n",
        "# print(z)\n",
        "\n",
        "# outliers = np.where(z > 10)[0]\n",
        "# print(\"\\nNumber of outliers = {}\\n\".format(len(set(outliers))))\n",
        "\n",
        "# print(outliers)"
      ],
      "execution_count": null,
      "outputs": []
    },
    {
      "cell_type": "code",
      "metadata": {
        "id": "gvNBtHukMPZw",
        "colab_type": "code",
        "colab": {}
      },
      "source": [
        "# data.shape"
      ],
      "execution_count": null,
      "outputs": []
    },
    {
      "cell_type": "code",
      "metadata": {
        "id": "4S9cjlr1MX86",
        "colab_type": "code",
        "colab": {}
      },
      "source": [
        "# data = data.drop(outliers)\n",
        "# data.shape"
      ],
      "execution_count": null,
      "outputs": []
    },
    {
      "cell_type": "code",
      "metadata": {
        "id": "4Eea4FqsWqxO",
        "colab_type": "code",
        "colab": {}
      },
      "source": [
        "# qwe = np.where(label_df.loc[label_df.index[outliers]]['label']==0)\n",
        "# len(set(qwe[0]))"
      ],
      "execution_count": null,
      "outputs": []
    },
    {
      "cell_type": "code",
      "metadata": {
        "id": "9A6VMcHFDNKe",
        "colab_type": "code",
        "colab": {}
      },
      "source": [
        "feature_df.describe()"
      ],
      "execution_count": null,
      "outputs": []
    },
    {
      "cell_type": "code",
      "metadata": {
        "id": "NpAEjSH0wduS",
        "colab_type": "code",
        "colab": {}
      },
      "source": [
        "low = feature_df.quantile(0.001)\n",
        "high = feature_df.quantile(0.999)\n",
        "df = feature_df[~((feature_df < low) |(feature_df > high)).any(axis=1)]\n",
        "df.describe()"
      ],
      "execution_count": null,
      "outputs": []
    },
    {
      "cell_type": "code",
      "metadata": {
        "id": "ohXFFZ3g7CwK",
        "colab_type": "code",
        "colab": {
          "base_uri": "https://localhost:8080/",
          "height": 34
        },
        "outputId": "64d613f9-4698-411f-9680-cfaa68ffd6b9"
      },
      "source": [
        "df.shape"
      ],
      "execution_count": null,
      "outputs": [
        {
          "output_type": "execute_result",
          "data": {
            "text/plain": [
              "(17095, 8)"
            ]
          },
          "metadata": {
            "tags": []
          },
          "execution_count": 31
        }
      ]
    },
    {
      "cell_type": "code",
      "metadata": {
        "id": "inCHUsyZSa-g",
        "colab_type": "code",
        "colab": {
          "base_uri": "https://localhost:8080/",
          "height": 51
        },
        "outputId": "9ecb113a-70e5-4fbc-ce82-70341c772c1b"
      },
      "source": [
        "# def remove_outliers(xdf, ydf):\n",
        "#     columns = xdf.columns\n",
        "#     index = xdf.index.values\n",
        "#     simple_imputer = SimpleImputer(strategy='median')\n",
        "#     data = simple_imputer.fit_transform(xdf)\n",
        "#     xdf = pd.DataFrame(data=data, columns=columns, index=index)\n",
        "#     xdf.index.name = 'tripid'\n",
        "#     z = np.abs(stats.zscore(xdf.drop(columns=['ismissing', 'fare'])))\n",
        "#     #z = np.abs(stats.zscore(xdf))\n",
        "#     outliers = np.where(z > 10)[0]\n",
        "#     xdf = xdf.drop(xdf.index[outliers])\n",
        "#     ydf = ydf.drop(ydf.index[outliers])\n",
        "\n",
        "#     return (xdf, ydf)\n",
        "\n",
        "def remove_outliers(feature_df, label_df, low, high):\n",
        "    joined_df = feature_df.join(label_df)\n",
        "    low = joined_df.drop(columns='label').quantile(low)\n",
        "    high = joined_df.drop(columns='label').quantile(high)\n",
        "    joined_df = joined_df[~((joined_df.drop(columns='label') < low) |(joined_df.drop(columns='label') > high)).any(axis=1)]\n",
        "    index=joined_df.index.values\n",
        "    y_df = pd.DataFrame(data=joined_df['label'], columns=['label'], index=index)\n",
        "    feature_df = joined_df.drop(columns='label')\n",
        "\n",
        "    return (feature_df, y_df)\n",
        "\n",
        "print(\"Before: {}|{}\".format(feature_df.shape, label_df.shape))\n",
        "feature_df, label_df = remove_outliers(feature_df, label_df, 0.001, 0.999)\n",
        "print(\"After: {}|{}\".format(feature_df.shape, label_df.shape))"
      ],
      "execution_count": null,
      "outputs": [
        {
          "output_type": "stream",
          "text": [
            "Before: (17176, 8)|(17176, 1)\n",
            "After: (17103, 8)|(17103, 1)\n"
          ],
          "name": "stdout"
        }
      ]
    },
    {
      "cell_type": "code",
      "metadata": {
        "id": "1Ec52zm3Ztot",
        "colab_type": "code",
        "colab": {
          "base_uri": "https://localhost:8080/",
          "height": 68
        },
        "outputId": "c804e24d-6d78-47a7-d4aa-37df63ec7779"
      },
      "source": [
        "label_df['label'].value_counts()\n",
        "# Here 82 incorrect labeled records has been deleted as outliers"
      ],
      "execution_count": null,
      "outputs": [
        {
          "output_type": "execute_result",
          "data": {
            "text/plain": [
              "1    15460\n",
              "0     1643\n",
              "Name: label, dtype: int64"
            ]
          },
          "metadata": {
            "tags": []
          },
          "execution_count": 33
        }
      ]
    },
    {
      "cell_type": "code",
      "metadata": {
        "id": "bSpbkeDcxAty",
        "colab_type": "code",
        "colab": {}
      },
      "source": [
        "set_cross_features(feature_df)\n",
        "feature_df.head()"
      ],
      "execution_count": null,
      "outputs": []
    },
    {
      "cell_type": "code",
      "metadata": {
        "id": "Av7H_ucSc9pV",
        "colab_type": "code",
        "colab": {}
      },
      "source": [
        "feature_df.describe()"
      ],
      "execution_count": null,
      "outputs": []
    },
    {
      "cell_type": "markdown",
      "metadata": {
        "id": "hlD9koQIJ0yB",
        "colab_type": "text"
      },
      "source": [
        "## Feature Coorelation"
      ]
    },
    {
      "cell_type": "code",
      "metadata": {
        "id": "lng0vhrSC-pS",
        "colab_type": "code",
        "colab": {
          "base_uri": "https://localhost:8080/",
          "height": 337
        },
        "outputId": "154d10b3-2d71-478e-f9f1-d09a00def280"
      },
      "source": [
        "%matplotlib inline\n",
        "import matplotlib.pyplot as plt\n",
        "import seaborn as sns\n",
        "\n",
        "corr_df = feature_df.copy()\n",
        "columns = corr_df.columns\n",
        "\n",
        "cor = []\n",
        "for col in columns:\n",
        "    cor.append(corr_df[col].corr(label_df['label'], method=\"pearson\"))\n",
        "\n",
        "plt.figure(figsize=(40,10))\n",
        "plt.title(\"Feature Coorelation\")\n",
        "sns.barplot(x=columns, y=cor)\n",
        "plt.ylabel(\"Pearson Coeerelation\")"
      ],
      "execution_count": null,
      "outputs": [
        {
          "output_type": "execute_result",
          "data": {
            "text/plain": [
              "Text(0, 0.5, 'Pearson Coeerelation')"
            ]
          },
          "metadata": {
            "tags": []
          },
          "execution_count": 538
        },
        {
          "output_type": "display_data",
          "data": {
            "image/png": "[encoded data removed]",
            "text/plain": [
              "<Figure size 2880x720 with 1 Axes>"
            ]
          },
          "metadata": {
            "tags": [],
            "needs_background": "light"
          }
        }
      ]
    },
    {
      "cell_type": "code",
      "metadata": {
        "id": "KfSrgd1X13y5",
        "colab_type": "code",
        "colab": {}
      },
      "source": [
        "from sklearn.preprocessing import StandardScaler, MinMaxScaler\n",
        "from sklearn.impute import SimpleImputer\n",
        "from sklearn.compose import ColumnTransformer\n",
        "\n",
        "from sklearn.naive_bayes import MultinomialNB, BernoulliNB\n",
        "from sklearn.linear_model import LogisticRegression, SGDClassifier\n",
        "from sklearn.svm import LinearSVC\n",
        "from sklearn.ensemble import RandomForestClassifier\n",
        "from xgboost.sklearn import XGBClassifier\n",
        "\n",
        "from sklearn.pipeline import Pipeline\n",
        "\n",
        "from sklearn.model_selection import train_test_split, GridSearchCV, cross_val_score\n",
        "\n",
        "from sklearn.metrics import f1_score\n",
        "\n",
        "RANDOM_SEED = 6    # Set a random seed for reproducibility!"
      ],
      "execution_count": null,
      "outputs": []
    },
    {
      "cell_type": "markdown",
      "metadata": {
        "id": "gaEGCpol15TP",
        "colab_type": "text"
      },
      "source": [
        "# Building Models"
      ]
    },
    {
      "cell_type": "markdown",
      "metadata": {
        "id": "hZyhYZV73THz",
        "colab_type": "text"
      },
      "source": [
        "## Setting-up the Pre-Processor"
      ]
    },
    {
      "cell_type": "code",
      "metadata": {
        "id": "9kz0psA43aQo",
        "colab_type": "code",
        "colab": {}
      },
      "source": [
        "# chain preprocessing into a Pipeline object\n",
        "# each step is a tuple of (name you chose, sklearn transformer)\n",
        "\n",
        "# SimpleImputer(strategy='median', add_indicator=False) - RandomForest model\n",
        "# SimpleImputer(strategy='median', add_indicator=True) - LogisticRegression\n",
        "# SimpleImputer(strategy='most_frequent', add_indicator=True) -XGBClassifier\n",
        "preprocessor = Pipeline([\n",
        "    #('simple_imputer', SimpleImputer(strategy='median')), #, add_indicator=True\n",
        "    ('scaler', MinMaxScaler())\n",
        "])"
      ],
      "execution_count": null,
      "outputs": []
    },
    {
      "cell_type": "markdown",
      "metadata": {
        "id": "850dqckx4bOP",
        "colab_type": "text"
      },
      "source": [
        "## Selecting the best model"
      ]
    },
    {
      "cell_type": "code",
      "metadata": {
        "id": "JJKvqbqc4ijY",
        "colab_type": "code",
        "colab": {}
      },
      "source": [
        "%%script false --no-raise-error\n",
        "models = [\n",
        "    XGBClassifier(max_depth=7, learning_rate=0.01, n_estimators=500, eval_metric='rmse') #, objective='binary:hinge'\n",
        "    RandomForestClassifier(class_weight={1: 0.8, 0: 0.2}, criterion='entropy', max_depth=15, max_features=5, min_impurity_decrease=0, n_estimators=300, random_state=6),\n",
        "    LogisticRegression(C=100, class_weight={1: 0.2, 0: 0.8}, max_iter=100, penalty='l1', solver='liblinear', random_state=0, n_jobs=-1)\n",
        "    MultinomialNB(),\n",
        "    BernoulliNB(),\n",
        "    LogisticRegression(random_state=0),\n",
        "    SGDClassifier(),\n",
        "    LinearSVC()\n",
        "]\n",
        "\n",
        "processed_models = {}\n",
        "for model in models:\n",
        "    name = model.__class__.__name__\n",
        "    processed_models[name] = Pipeline([(\"preprocessor\", preprocessor),\n",
        "                                      (\"estimator\", model)])\n",
        "    \n",
        "CV = 5\n",
        "cv_df = pd.DataFrame(index=range(CV * len(models)))\n",
        "entries = []\n",
        "for (name, model) in processed_models.items():\n",
        "  f1_scores = cross_val_score(model, feature_df, label_df.label, scoring='f1_macro', cv=CV)\n",
        "  for fold_idx, f1 in enumerate(f1_scores):\n",
        "    entries.append((name, fold_idx, f1))\n",
        "cv_df = pd.DataFrame(entries, columns=['model_name', 'fold_idx', 'f1_score'])\n",
        "\n",
        "print(cv_df)\n",
        "print(cv_df.groupby('model_name').f1_score.mean())"
      ],
      "execution_count": null,
      "outputs": []
    },
    {
      "cell_type": "markdown",
      "metadata": {
        "id": "8L1mqhouMjqu",
        "colab_type": "text"
      },
      "source": [
        "# Hyper-Parameter Tuning"
      ]
    },
    {
      "cell_type": "markdown",
      "metadata": {
        "id": "hhJ8N1Jnokag",
        "colab_type": "text"
      },
      "source": [
        "## Grid Search"
      ]
    },
    {
      "cell_type": "code",
      "metadata": {
        "id": "DO-C3DwLLOjq",
        "colab_type": "code",
        "colab": {}
      },
      "source": [
        "%%script false --no-raise-error\n",
        "# RandomForestClassifier(class_weight={1: 0.8, 0: 0.2}, criterion='entropy', max_depth=15, max_features=5, min_impurity_decrease=0, n_estimators=300, random_state=6, n_jobs=-1)\n",
        "# LogisticRegression(C=100, class_weight={1: 0.2, 0: 0.8}, max_iter=100, penalty='l1', solver='liblinear', random_state=0, n_jobs=-1)\n",
        "cross_pipeline = Pipeline([\n",
        "    (\"preprocessor\", preprocessor),\n",
        "    (\"estimators\", XGBClassifier(booster='dart', objective='binary:logitraw', n_estimators=1000, max_depth=8, learning_rate=0.03, eval_metric='mae')),\n",
        "])\n",
        "\n",
        "# estimator parameter tuning - Random Forest\n",
        "criterion = ['gini', 'entropy']\n",
        "n_estimators = [100, 200, 300, 50]\n",
        "max_depth = [3, 5, 10, 15]\n",
        "max_features = [5, 'log2', 'auto']\n",
        "min_impurity_decrease = [0, 0.2, 0.5, 1.0]\n",
        "class_weight = [{1:0.5, 0:0.5}, {1:0.2, 0:0.8}, {1:0.8, 0:0.2}, {1:0.3, 0:0.7}]\n",
        "\n",
        "param_grid1 = dict(estimators__criterion =criterion,\n",
        "                  estimators__n_estimators =n_estimators,\n",
        "                  estimators__max_depth=max_depth,\n",
        "                  estimators__max_features =max_features,\n",
        "                  estimators__min_impurity_decrease=min_impurity_decrease,\n",
        "                  estimators__class_weight=class_weight)\n",
        "\n",
        "# estimator parameter tuning - Linear Regression\n",
        "penalty = ['l1', 'l2'] # , 'elasticnet'\n",
        "C = [0.001, 0.01, 0.1, 1, 10, 100]\n",
        "class_weight = [{1:0.5, 0:0.5}, {1:0.2, 0:0.8}, {1:0.8, 0:0.2}, {1:0.3, 0:0.7}]\n",
        "solver = ['newton-cg', 'lbfgs', 'liblinear', 'sag', 'saga']\n",
        "max_iter = [100, 200, 300]\n",
        "\n",
        "param_grid2 = dict(estimators__penalty = penalty,\n",
        "                  estimators__C = C,\n",
        "                  estimators__max_iter = max_iter,\n",
        "                  estimators__solver = solver,\n",
        "                  estimators__class_weight=class_weight)\n",
        "\n",
        "# estimator parameter tuning - XGBoost\n",
        "booster = ['gbtree', 'dart']\n",
        "max_depth = [5, 8, 10]\n",
        "learning_rate = [0.01, 0.05, 0.1, 0.4]\n",
        "n_estimators = [500, 800, 1000]\n",
        "eval_metric = ['rmse', 'mae', 'logloss']\n",
        "objective = ['reg:logistic', 'binary:logistic', 'binary:logitraw', 'binary:hinge']\n",
        "\n",
        "param_grid3 = dict(estimators__booster = booster,\n",
        "                   estimators__max_depth = max_depth,\n",
        "                   estimators__learning_rate = learning_rate,\n",
        "                   estimators__n_estimators = n_estimators,\n",
        "                   estimators__eval_metric = eval_metric,\n",
        "                   estimators__objective = objective)\n",
        "\n",
        "# preprocessor parameter tuning\n",
        "strategy = ['mean', 'median', 'most_frequent']\n",
        "indicator = [True, False]\n",
        "param_grid4 = dict(preprocessor__simple_imputer__strategy = strategy,\n",
        "                   preprocessor__simple_imputer__add_indicator = indicator)\n",
        "\n",
        "X_trainc, X_evalc, y_trainc, y_evalc = train_test_split(\n",
        "    feature_df,\n",
        "    label_df,\n",
        "    test_size=0.33,\n",
        "    shuffle=True,\n",
        "    stratify=label_df,\n",
        "    random_state=RANDOM_SEED\n",
        ")\n",
        "\n",
        "grid = GridSearchCV(estimator=cross_pipeline,\n",
        "                    param_grid=param_grid4,\n",
        "                    scoring='f1_macro',\n",
        "                    verbose=1,\n",
        "                    n_jobs=-1)\n",
        "grid.fit(X_trainc, y_trainc)\n",
        "\n",
        "print(\"Model: Random Forest\")\n",
        "print(\"Best param: \",grid.best_params_)\n",
        "print(\"Best estimator: \", grid.best_estimator_)\n",
        "#print(cross_pipeline.get_params().keys())"
      ],
      "execution_count": null,
      "outputs": []
    },
    {
      "cell_type": "markdown",
      "metadata": {
        "id": "HsqLOqCiosGb",
        "colab_type": "text"
      },
      "source": [
        "## Random Search"
      ]
    },
    {
      "cell_type": "code",
      "metadata": {
        "id": "guAn5R4tqEyC",
        "colab_type": "code",
        "colab": {}
      },
      "source": [
        "%%script false --no-raise-error\n",
        "from sklearn.model_selection import RandomizedSearchCV, StratifiedKFold\n",
        "\n",
        "cross_pipeline = Pipeline([\n",
        "    (\"preprocessor\", preprocessor),\n",
        "    (\"estimators\", XGBClassifier(\n",
        "                      silent=True, nthread=6, tree_method='hist', eval_metric='auc')),\n",
        "])\n",
        "\n",
        "# estimator parameter tuning - XGBoost\n",
        "booster = ['gbtree', 'dart']\n",
        "max_depth = [4, 5, 6, 8, 10, 12]\n",
        "learning_rate = [0.01, 0.03, 0.05, 0.1, 0.2]\n",
        "n_estimators = [500, 800, 1000]\n",
        "eval_metric = ['rmse', 'mae', 'logloss']\n",
        "objective = ['reg:logistic', 'binary:logistic', 'binary:logitraw', 'binary:hinge']\n",
        "\n",
        "param_grid1 = dict(estimators__booster = booster,\n",
        "                   estimators__max_depth = max_depth,\n",
        "                   estimators__learning_rate = learning_rate,\n",
        "                   estimators__n_estimators = n_estimators,\n",
        "                   estimators__eval_metric = eval_metric,\n",
        "                   estimators__objective = objective)\n",
        "\n",
        "param_grid2={\n",
        "  \"estimators__learning_rate\"    : [ 0.01, 0.02, 0.03, 0.04, 0.05, 0.1 ] ,\n",
        "  \"estimators__max_depth\"        : [ 3, 4, 5, 6, 8, 10, 12, 15 ],\n",
        "  \"estimators__min_child_weight\" : [ 1, 3, 5, 7 ],\n",
        "  \"estimators__subsample\"        : [0.8, 0.9, 1.0],\n",
        "  \"estimators__gamma\"            : [ 0.0, 0.1, 0.2 , 0.3, 0.4 ],\n",
        "  \"estimators__colsample_bytree\" : [ 0.7, 0.8, 0.9, 1 ]\n",
        " }\n",
        "\n",
        "skf = StratifiedKFold(n_splits=5, shuffle = True, random_state = 1001)\n",
        "\n",
        "random_grid = RandomizedSearchCV(estimator=cross_pipeline, \n",
        "                                 param_distributions = param_grid1, \n",
        "                                 n_iter=10, \n",
        "                                 scoring='f1_macro', \n",
        "                                 n_jobs=4, \n",
        "                                 cv=skf.split(feature_df,label_df), \n",
        "                                 verbose=3, \n",
        "                                 random_state=1001)\n",
        "\n",
        "random_grid.fit(feature_df, label_df)\n",
        "print(\"Best Params: \", random_grid.best_params_)\n",
        "print(\"Best Estimator: \", random_grid.best_estimator_)\n",
        "print(\"Best Score: \", random_grid.best_score_)"
      ],
      "execution_count": null,
      "outputs": []
    },
    {
      "cell_type": "markdown",
      "metadata": {
        "id": "RKoj1iZsAFVe",
        "colab_type": "text"
      },
      "source": [
        "# Train & Evaluation"
      ]
    },
    {
      "cell_type": "markdown",
      "metadata": {
        "id": "oM8S_pcwjQyT",
        "colab_type": "text"
      },
      "source": [
        "### Building XGBoostWithEarlyStop esitimators to use with pipelines"
      ]
    },
    {
      "cell_type": "code",
      "metadata": {
        "id": "jiQNIcf4TPkK",
        "colab_type": "code",
        "colab": {}
      },
      "source": [
        "from sklearn.base import BaseEstimator\n",
        "from sklearn.model_selection import train_test_split\n",
        "from xgboost import XGBRegressor, XGBClassifier\n",
        "\n",
        "class XGBoostWithEarlyStop(BaseEstimator):\n",
        "    def __init__(self, early_stopping_rounds=100, test_size=0.33, \n",
        "                 eval_metric=['error','logloss'], **estimator_params):\n",
        "        self.early_stopping_rounds = early_stopping_rounds\n",
        "        self.test_size = test_size\n",
        "        self.eval_metric=eval_metric        \n",
        "        if self.estimator is not None:\n",
        "            self.set_params(**estimator_params)\n",
        "\n",
        "    def set_params(self, **params):\n",
        "        return self.estimator.set_params(**params)\n",
        "\n",
        "    def get_params(self, **params):\n",
        "        return self.estimator.get_params()\n",
        "\n",
        "    def fit(self, X, y):\n",
        "        x_train, x_val, y_train, y_val = train_test_split(X, y, test_size=self.test_size, random_state=6)\n",
        "        self.estimator.fit(x_train, y_train, \n",
        "                           early_stopping_rounds=self.early_stopping_rounds, \n",
        "                           eval_metric=self.eval_metric, eval_set=[(x_train, y_train),(x_val, y_val)])\n",
        "        return self\n",
        "\n",
        "    def predict(self, X):\n",
        "        return self.estimator.predict(X)\n",
        "\n",
        "class XGBoostRegressorWithEarlyStop(XGBoostWithEarlyStop):\n",
        "    def __init__(self, *args, **kwargs):\n",
        "        self.estimator = XGBRegressor()\n",
        "        super(XGBoostRegressorWithEarlyStop, self).__init__(*args, **kwargs)\n",
        "\n",
        "class XGBoostClassifierWithEarlyStop(XGBoostWithEarlyStop):\n",
        "    def __init__(self, *args, **kwargs):\n",
        "        self.estimator = XGBClassifier()\n",
        "        super(XGBoostClassifierWithEarlyStop, self).__init__(*args, **kwargs)"
      ],
      "execution_count": null,
      "outputs": []
    },
    {
      "cell_type": "markdown",
      "metadata": {
        "id": "5n22pcxKzJ9g",
        "colab_type": "text"
      },
      "source": [
        "## Cross Validation"
      ]
    },
    {
      "cell_type": "code",
      "metadata": {
        "id": "F9VdL1q1zqQk",
        "colab_type": "code",
        "colab": {
          "base_uri": "https://localhost:8080/",
          "height": 102
        },
        "outputId": "bb4f51fb-9364-4fe3-9bf9-81be52952502"
      },
      "source": [
        "from sklearn.model_selection import cross_val_score\n",
        "\n",
        "X = feature_df\n",
        "y = label_df\n",
        "\n",
        "model = XGBClassifier(max_depth=10, learning_rate=0.01, n_estimators=1000, eval_metric='auc', reg_lambda=1.7, nthread=4)\n",
        "fit_params = {'verbose': 200}\n",
        "\n",
        "CV = 3\n",
        "cv_df = pd.DataFrame(index=range(CV))\n",
        "entries = []\n",
        "f1_scores = cross_val_score(model, X, y.label, scoring='f1_macro', cv=3, fit_params=fit_params)\n",
        "for fold_idx, f1 in enumerate(f1_scores):\n",
        "    entries.append((fold_idx, f1))\n",
        "cv_df = pd.DataFrame(entries, columns=['fold_idx', 'f1_macro'])\n",
        "\n",
        "print(cv_df)\n",
        "print(\"Mean F1_macro score: \", cv_df.f1_macro.mean())"
      ],
      "execution_count": null,
      "outputs": [
        {
          "output_type": "stream",
          "text": [
            "   fold_idx  f1_macro\n",
            "0         0  0.844235\n",
            "1         1  0.865786\n",
            "2         2  0.842560\n",
            "Mean F1_macro score:  0.8508601740033743\n"
          ],
          "name": "stdout"
        }
      ]
    },
    {
      "cell_type": "code",
      "metadata": {
        "id": "_XRCzgSvkoo3",
        "colab_type": "code",
        "colab": {}
      },
      "source": [
        "#estimator = XGBoostClassifierWithEarlyStop(max_depth=10, learning_rate=0.01, n_estimators=1000, eval_metric='rmse', reg_lambda=1.7) #, eval_metric='rmse'\n",
        "estimator = XGBClassifier(max_depth=10, learning_rate=0.01, n_estimators=1000, eval_metric='auc', reg_lambda=1.7)"
      ],
      "execution_count": null,
      "outputs": []
    },
    {
      "cell_type": "code",
      "metadata": {
        "id": "jDDIvPJrAMrS",
        "colab_type": "code",
        "colab": {}
      },
      "source": [
        "#estimator=RandomForestClassifier(class_weight={1: 0.8, 0: 0.2}, criterion='entropy', max_depth=15, max_features=5, min_impurity_decrease=0, n_estimators=300, random_state=6)\n",
        "#estimator = LogisticRegression(C=100, class_weight={1: 0.2, 0: 0.8}, max_iter=100, penalty='l1', solver='liblinear', random_state=0, n_jobs=-1)\n",
        "# XGBClassifier(max_depth=10, learning_rate=0.01, n_estimators=1000, eval_metric='rmse') #, objective='binary:hinge'\n",
        "#subsample=0.8, min_child_weight=1, max_depth=8/4, learning_rate=0.05, gamma=0.2, colsample_bytree=1, n_estimators=1000, objective='binary:logistic', silent=True, nthread=6, tree_method='hist', eval_metric='auc'\n",
        "\n",
        "# estimator = XGBClassifier(booster='dart', subsample=0.8, min_child_weight=7, max_depth=15, learning_rate=0.01, gamma=0.4, colsample_bytree=1,\n",
        "#                           colsample_bynode=1, colsample_bylevel=1, base_score=0.5, n_estimators=1000, objective='binary:logistic',\n",
        "#                       importance_type='gain', max_delta_step=0, missing=None, monotone_constrains=None, silent=True, \n",
        "#                       njobs=6, num_parallel_tree=1, nthread=6, random_state=0, eval_metric='auc', reg_alpha=0, reg_lambda=1, scale_pos_weight=1, tree_method='hist', \n",
        "#                       validate_parameters=False)\n",
        "\n",
        "# estimator = XGBClassifier(max_depth=10, learning_rate=0.01, n_estimators=1000, eval_metric='rmse')\n",
        "\n",
        "# estimator = XGBClassifier(booster='dart', subsample=0.8, min_child_weight=1, max_depth=12, learning_rate=0.05, gamma=0.2, colsample_bytree=1,\n",
        "#                           colsample_bynode=1, colsample_bylevel=1, base_score=0.5, n_estimators=1000, objective='binary:logitraw',\n",
        "#                       importance_type='gain', max_delta_step=0, missing=None, monotone_constrains=None, silent=True, \n",
        "#                       njobs=6, num_parallel_tree=1, nthread=6, random_state=0, eval_metric='rmse', reg_alpha=0, reg_lambda=1, scale_pos_weight=1, tree_method='hist', \n",
        "#                       validate_parameters=False)\n",
        "full_pipeline = Pipeline([\n",
        "    #(\"preprocessor\", preprocessor),\n",
        "    (\"estimators\", estimator),\n",
        "])"
      ],
      "execution_count": null,
      "outputs": []
    },
    {
      "cell_type": "code",
      "metadata": {
        "id": "GhhDqyHYrre0",
        "colab_type": "code",
        "colab": {
          "base_uri": "https://localhost:8080/",
          "height": 34
        },
        "outputId": "8d07f192-c945-45a5-d54e-1481c6076d1c"
      },
      "source": [
        "feature_df.shape"
      ],
      "execution_count": null,
      "outputs": [
        {
          "output_type": "execute_result",
          "data": {
            "text/plain": [
              "(17103, 18)"
            ]
          },
          "metadata": {
            "tags": []
          },
          "execution_count": 43
        }
      ]
    },
    {
      "cell_type": "code",
      "metadata": {
        "id": "4s8CUKpIAv9E",
        "colab_type": "code",
        "colab": {}
      },
      "source": [
        "X_train, X_eval, y_train, y_eval = train_test_split(\n",
        "    feature_df,\n",
        "    label_df,\n",
        "    test_size=0.33,\n",
        "    shuffle=True,\n",
        "    stratify=label_df,\n",
        "    random_state=RANDOM_SEED\n",
        ")"
      ],
      "execution_count": null,
      "outputs": []
    },
    {
      "cell_type": "code",
      "metadata": {
        "id": "RcSrwte2BQ4s",
        "colab_type": "code",
        "colab": {
          "base_uri": "https://localhost:8080/",
          "height": 156
        },
        "outputId": "8d1aa1ff-5605-456b-a980-70d2b7c29af9"
      },
      "source": [
        "%%time\n",
        "\n",
        "# Train model\n",
        "full_pipeline.fit(X_train, y_train)\n",
        "\n",
        "# Predict on evaluation set\n",
        "preds = full_pipeline.predict(X_eval)\n",
        "print(preds)"
      ],
      "execution_count": null,
      "outputs": [
        {
          "output_type": "stream",
          "text": [
            "/usr/local/lib/python3.6/dist-packages/sklearn/preprocessing/_label.py:235: DataConversionWarning: A column-vector y was passed when a 1d array was expected. Please change the shape of y to (n_samples, ), for example using ravel().\n",
            "  y = column_or_1d(y, warn=True)\n",
            "/usr/local/lib/python3.6/dist-packages/sklearn/preprocessing/_label.py:268: DataConversionWarning: A column-vector y was passed when a 1d array was expected. Please change the shape of y to (n_samples, ), for example using ravel().\n",
            "  y = column_or_1d(y, warn=True)\n"
          ],
          "name": "stderr"
        },
        {
          "output_type": "stream",
          "text": [
            "[1 1 1 ... 1 1 1]\n",
            "CPU times: user 1min 9s, sys: 65.6 ms, total: 1min 9s\n",
            "Wall time: 1min 9s\n"
          ],
          "name": "stdout"
        }
      ]
    },
    {
      "cell_type": "markdown",
      "metadata": {
        "id": "aHuQLizEyKNn",
        "colab_type": "text"
      },
      "source": [
        "### Plot error for checking for overfitting"
      ]
    },
    {
      "cell_type": "code",
      "metadata": {
        "id": "oYneHKh7yHaO",
        "colab_type": "code",
        "colab": {
          "base_uri": "https://localhost:8080/",
          "height": 281
        },
        "outputId": "e94f29fb-63df-42b1-b239-373c91b9cb5e"
      },
      "source": [
        "\n",
        "# retrieve performance metrics\n",
        "results = full_pipeline[-1].estimator.evals_result()\n",
        "epochs = len(results['validation_0']['rmse'])\n",
        "x_axis = range(0, epochs)\n",
        "\n",
        "fig, ax = plt.subplots()\n",
        "ax.plot(x_axis, results['validation_0']['rmse'], label='Train')\n",
        "ax.plot(x_axis, results['validation_1']['rmse'], label='Test')\n",
        "ax.legend()\n",
        "plt.ylabel('Classification Error')\n",
        "plt.title('XGBoost Classification Error')\n",
        "plt.show()"
      ],
      "execution_count": null,
      "outputs": [
        {
          "output_type": "display_data",
          "data": {
            "image/png": "[encoded data removed]",
            "text/plain": [
              "<Figure size 432x288 with 1 Axes>"
            ]
          },
          "metadata": {
            "tags": [],
            "needs_background": "light"
          }
        }
      ]
    },
    {
      "cell_type": "markdown",
      "metadata": {
        "id": "H5uaastetN-n",
        "colab_type": "text"
      },
      "source": [
        "## Identify Feature Importances"
      ]
    },
    {
      "cell_type": "code",
      "metadata": {
        "id": "JFtSscvLoQS3",
        "colab_type": "code",
        "colab": {
          "base_uri": "https://localhost:8080/",
          "height": 386
        },
        "outputId": "b319c93f-121e-4676-ff99-8dfdcb9cad50"
      },
      "source": [
        "print(full_pipeline[-1].feature_importances_)\n",
        "importances = full_pipeline[-1].feature_importances_\n",
        "feature_cols = X_train.columns\n",
        "\n",
        "importance_dict = {}\n",
        "for i in range(len(feature_cols)):\n",
        "    importance_dict[feature_cols[i]] = importances[i]\n",
        "\n",
        "print(importance_dict)\n",
        "\n",
        "import matplotlib.pyplot as plt\n",
        "indices = np.argsort(importances)\n",
        "# Plot the feature importances of the forest\n",
        "plt.figure()\n",
        "plt.title(\"Feature importances\")\n",
        "plt.barh(range(X_train.shape[1]), importances[indices],\n",
        "       color=\"b\", align=\"center\")\n",
        "# If you want to define your own labels,\n",
        "# change indices to a list of labels on the following line.\n",
        "plt.yticks(range(X_train.shape[1]), indices)\n",
        "plt.ylim([-1, X_train.shape[1]])\n",
        "plt.show()"
      ],
      "execution_count": null,
      "outputs": [
        {
          "output_type": "stream",
          "text": [
            "[0.03947121 0.03072667 0.02934278 0.02996339 0.02769251 0.11429037\n",
            " 0.02882728 0.03273835 0.04132978 0.27658364 0.02512566 0.04285924\n",
            " 0.07962227 0.04112973 0.02678323 0.03288443 0.03058815 0.05239107\n",
            " 0.01765026]\n",
            "{'additional_fare': 0.03947121, 'duration': 0.030726671, 'meter_waiting': 0.02934278, 'meter_waiting_fare': 0.029963389, 'meter_waiting_till_pickup': 0.027692512, 'fare': 0.11429037, 'trip_distance': 0.028827282, 'fare_per_min': 0.03273835, 'fare_per_km': 0.041329775, 'time_per_rs': 0.27658364, 'pickup_wait_per_rs': 0.025125658, 'speed': 0.04285924, 'km_per_rs': 0.07962227, 'faretime_per_km': 0.041129727, 'time_per_additional_rs': 0.026783234, 'waiting_fare_factor': 0.03288443, 'waiting_rs_per_min': 0.030588152, 'time_per_mobrs': 0.052391067, 'mobfare_per_min': 0.017650263}\n"
          ],
          "name": "stdout"
        },
        {
          "output_type": "display_data",
          "data": {
            "image/png": "[encoded data removed]",
            "text/plain": [
              "<Figure size 432x288 with 1 Axes>"
            ]
          },
          "metadata": {
            "tags": [],
            "needs_background": "light"
          }
        }
      ]
    },
    {
      "cell_type": "code",
      "metadata": {
        "id": "_l_QCfwE1Xin",
        "colab_type": "code",
        "colab": {
          "base_uri": "https://localhost:8080/",
          "height": 105
        },
        "outputId": "e2c5f211-26fc-417a-df7e-cdf2abb1a0f4"
      },
      "source": [
        "estimator = XGBClassifier(max_depth=10, learning_rate=0.01, n_estimators=1000, eval_metric='auc', reg_lambda=1.7)#, tree_method='hist')\n",
        "\n",
        "full_pipeline = Pipeline([\n",
        "    (\"preprocessor\", preprocessor),\n",
        "    (\"estimators\", estimator),\n",
        "])\n",
        "\n",
        "X_train, X_eval, y_train, y_eval = train_test_split(\n",
        "    feature_df,\n",
        "    label_df,\n",
        "    test_size=0.33,\n",
        "    shuffle=True,\n",
        "    stratify=label_df,\n",
        "    random_state=RANDOM_SEED\n",
        ")\n",
        "\n",
        "# Train model\n",
        "full_pipeline.fit(X_train, y_train)\n",
        "\n",
        "# Predict on evaluation set\n",
        "preds = full_pipeline.predict(X_eval)\n",
        "\n",
        "# Predict probability on evaluation set\n",
        "#y_proba = full_pipeline.predict_proba(X_eval)"
      ],
      "execution_count": null,
      "outputs": [
        {
          "output_type": "stream",
          "text": [
            "/usr/local/lib/python3.6/dist-packages/sklearn/preprocessing/_label.py:235: DataConversionWarning: A column-vector y was passed when a 1d array was expected. Please change the shape of y to (n_samples, ), for example using ravel().\n",
            "  y = column_or_1d(y, warn=True)\n",
            "/usr/local/lib/python3.6/dist-packages/sklearn/preprocessing/_label.py:268: DataConversionWarning: A column-vector y was passed when a 1d array was expected. Please change the shape of y to (n_samples, ), for example using ravel().\n",
            "  y = column_or_1d(y, warn=True)\n"
          ],
          "name": "stderr"
        }
      ]
    },
    {
      "cell_type": "code",
      "metadata": {
        "id": "O0qk62btmOhp",
        "colab_type": "code",
        "colab": {}
      },
      "source": [
        "def calibrate_imbalance(pred_proba, threshold):\n",
        "    '''\n",
        "        pred_proba (2D array): predicted probabilities for each sample for all classes\n",
        "        threshold (float): threshold probability to be taken for classification\n",
        "    '''\n",
        "    pos_proba = [i[1] for i in pred_proba]\n",
        "    labels = []\n",
        "    for prob in pos_proba:\n",
        "        if prob > threshold: \n",
        "            labels.append(1)\n",
        "        else:\n",
        "            labels.append(0)\n",
        "\n",
        "    return labels\n",
        "\n",
        "#preds = calibrate_imbalance(y_proba, 0.6)"
      ],
      "execution_count": null,
      "outputs": []
    },
    {
      "cell_type": "markdown",
      "metadata": {
        "id": "lGbuPGjpH195",
        "colab_type": "text"
      },
      "source": [
        "## Old Evaluation Results"
      ]
    },
    {
      "cell_type": "code",
      "metadata": {
        "id": "-vlv_NE0BmsL",
        "colab_type": "code",
        "colab": {
          "base_uri": "https://localhost:8080/",
          "height": 51
        },
        "outputId": "0b2e29cd-64ac-43ba-9fc4-174671829620"
      },
      "source": [
        "%%script false --no-raise-error\n",
        "# Submission 3\n",
        "print(\"F1_Score: {}\".format(f1_score(y_eval, preds)))\n",
        "print(\"Macro F1_Score: {}\".format(f1_score(y_eval, preds, average='macro')))"
      ],
      "execution_count": null,
      "outputs": [
        {
          "output_type": "stream",
          "text": [
            "F1_Score: 0.9728376035445965\n",
            "Macro F1_Score: 0.8389292620233442\n"
          ],
          "name": "stdout"
        }
      ]
    },
    {
      "cell_type": "code",
      "metadata": {
        "id": "r7_wH-NLDUGu",
        "colab_type": "code",
        "colab": {
          "base_uri": "https://localhost:8080/",
          "height": 51
        },
        "outputId": "248974d6-d1c6-428d-b26f-cd830cc0a717"
      },
      "source": [
        "%%script false --no-raise-error\n",
        "# Submission 4 - XGB with half of the parameter tuning - booster='dart', objective='binary:logitraw', n_estimators=1000, max_depth=8, learning_rate=0.03, eval_metric='mae'\n",
        "# Imputer - most_frequent\n",
        "print(\"F1_Score: {}\".format(f1_score(y_eval, preds)))\n",
        "print(\"Macro F1_Score: {}\".format(f1_score(y_eval, preds, average='macro')))"
      ],
      "execution_count": null,
      "outputs": [
        {
          "output_type": "stream",
          "text": [
            "F1_Score: 0.9719752609199845\n",
            "Macro F1_Score: 0.8395229839953459\n"
          ],
          "name": "stdout"
        }
      ]
    },
    {
      "cell_type": "code",
      "metadata": {
        "id": "FWpI2RGENo5y",
        "colab_type": "code",
        "colab": {
          "base_uri": "https://localhost:8080/",
          "height": 51
        },
        "outputId": "8b56f571-7071-486f-e105-76139027518a"
      },
      "source": [
        "%%script false --no-raise-error\n",
        "# Submission 4 - XGB with half of the parameter tuning - booster='dart', objective='binary:logitraw', n_estimators=1000, max_depth=8, learning_rate=0.03, eval_metric='mae'\n",
        "# Imputer - median\n",
        "print(\"F1_Score: {}\".format(f1_score(y_eval, preds)))\n",
        "print(\"Macro F1_Score: {}\".format(f1_score(y_eval, preds, average='macro')))"
      ],
      "execution_count": null,
      "outputs": [
        {
          "output_type": "stream",
          "text": [
            "F1_Score: 0.9720745965793796\n",
            "Macro F1_Score: 0.8399301193210346\n"
          ],
          "name": "stdout"
        }
      ]
    },
    {
      "cell_type": "code",
      "metadata": {
        "id": "pyAf1qPQYNqV",
        "colab_type": "code",
        "colab": {
          "base_uri": "https://localhost:8080/",
          "height": 51
        },
        "outputId": "a1d832f4-781b-4d37-d57e-b649a220ec81"
      },
      "source": [
        "%%script false --no-raise-error\n",
        "# Submission 5/6 - XGB with half of the parameter tuning - booster='dart', objective='binary:logitraw', n_estimators=1000, max_depth=10, learning_rate=0.03, eval_metric='mae'\n",
        "# Imputer - median \n",
        "print(\"F1_Score: {}\".format(f1_score(y_eval, preds)))\n",
        "print(\"Macro F1_Score: {}\".format(f1_score(y_eval, preds, average='macro')))"
      ],
      "execution_count": null,
      "outputs": [
        {
          "output_type": "stream",
          "text": [
            "F1_Score: 0.9724717473196176\n",
            "Macro F1_Score: 0.8415658228983875\n"
          ],
          "name": "stdout"
        }
      ]
    },
    {
      "cell_type": "code",
      "metadata": {
        "id": "K2uocE1ImkKD",
        "colab_type": "code",
        "colab": {
          "base_uri": "https://localhost:8080/",
          "height": 51
        },
        "outputId": "f5ac6c69-d094-4e89-fcd6-e4c4718569ea"
      },
      "source": [
        "%%script false --no-raise-error\n",
        "# Submission xxx - XGB with half of the parameter tuning\n",
        "# Imputer - median \n",
        "print(\"F1_Score: {}\".format(f1_score(y_eval, preds)))\n",
        "print(\"Macro F1_Score: {}\".format(f1_score(y_eval, preds, average='macro')))"
      ],
      "execution_count": null,
      "outputs": [
        {
          "output_type": "stream",
          "text": [
            "F1_Score: 0.9713020030816641\n",
            "Macro F1_Score: 0.8294665151676665\n"
          ],
          "name": "stdout"
        }
      ]
    },
    {
      "cell_type": "code",
      "metadata": {
        "id": "tPDYFtRYlLvt",
        "colab_type": "code",
        "colab": {
          "base_uri": "https://localhost:8080/",
          "height": 51
        },
        "outputId": "5a037d65-d88f-48be-dc2d-e70829d8f5ae"
      },
      "source": [
        "%%script false --no-raise-error\n",
        "# Submission 7 - XGB with half of the parameter tuning - booster='dart', objective='binary:logitraw', n_estimators=1000, max_depth=10, learning_rate=0.03, eval_metric='mae'\n",
        "# Outliers handled\n",
        "print(\"F1_Score: {}\".format(f1_score(y_eval, preds)))\n",
        "print(\"Macro F1_Score: {}\".format(f1_score(y_eval, preds, average='macro')))"
      ],
      "execution_count": null,
      "outputs": [
        {
          "output_type": "stream",
          "text": [
            "F1_Score: 0.9734496124031007\n",
            "Macro F1_Score: 0.8409801253504865\n"
          ],
          "name": "stdout"
        }
      ]
    },
    {
      "cell_type": "code",
      "metadata": {
        "id": "gWBan6PG13i0",
        "colab_type": "code",
        "colab": {
          "base_uri": "https://localhost:8080/",
          "height": 51
        },
        "outputId": "3927034b-2f1c-4766-e40e-0c4962de2e73"
      },
      "source": [
        "%%script false --no-raise-error\n",
        "# Submission 8 - max_depth=10, learning_rate=0.01, n_estimators=1000, eval_metric='rmse' with outlier handling\n",
        "print(\"F1_Score: {}\".format(f1_score(y_eval, preds)))\n",
        "print(\"Macro F1_Score: {}\".format(f1_score(y_eval, preds, average='macro')))"
      ],
      "execution_count": null,
      "outputs": [
        {
          "output_type": "stream",
          "text": [
            "F1_Score: 0.9736359246740706\n",
            "Macro F1_Score: 0.8359892330552674\n"
          ],
          "name": "stdout"
        }
      ]
    },
    {
      "cell_type": "code",
      "metadata": {
        "id": "i0CoyJcV3Zx0",
        "colab_type": "code",
        "colab": {
          "base_uri": "https://localhost:8080/",
          "height": 51
        },
        "outputId": "f46bd5c8-7ae0-419d-cebd-eb6f1ffca5be"
      },
      "source": [
        "%%script false --no-raise-error\n",
        "# Submission 9 - objective = 'binary:hinge', max_depth=10, learning_rate=0.01, n_estimators=1000, eval_metric='rmse' with outlier handling\n",
        "print(\"F1_Score: {}\".format(f1_score(y_eval, preds)))\n",
        "print(\"Macro F1_Score: {}\".format(f1_score(y_eval, preds, average='macro')))\n",
        "\n",
        "# leaderboard loss from submission 8"
      ],
      "execution_count": null,
      "outputs": [
        {
          "output_type": "stream",
          "text": [
            "F1_Score: 0.9729886726691839\n",
            "Macro F1_Score: 0.8366554534130022\n"
          ],
          "name": "stdout"
        }
      ]
    },
    {
      "cell_type": "code",
      "metadata": {
        "id": "hnivTIhJFz51",
        "colab_type": "code",
        "colab": {
          "base_uri": "https://localhost:8080/",
          "height": 51
        },
        "outputId": "47cb2f9e-0f49-43cb-e647-23b9b4401bf1"
      },
      "source": [
        "%%script false --no-raise-error\n",
        "# Submission 10 - submission 8 without time-error\n",
        "print(\"F1_Score: {}\".format(f1_score(y_eval, preds)))\n",
        "print(\"Macro F1_Score: {}\".format(f1_score(y_eval, preds, average='macro')))"
      ],
      "execution_count": null,
      "outputs": [
        {
          "output_type": "stream",
          "text": [
            "F1_Score: 0.9732393005506715\n",
            "Macro F1_Score: 0.8349219503848648\n"
          ],
          "name": "stdout"
        }
      ]
    },
    {
      "cell_type": "code",
      "metadata": {
        "id": "ZqxJpLSWJ9YP",
        "colab_type": "code",
        "colab": {
          "base_uri": "https://localhost:8080/",
          "height": 51
        },
        "outputId": "7bcde5e8-e5e9-4129-ca66-8814ce1eb985"
      },
      "source": [
        "%%script false --no-raise-error\n",
        "# Submission 11 - Submission 8 with ismissing column\n",
        "print(\"F1_Score: {}\".format(f1_score(y_eval, preds)))\n",
        "print(\"Macro F1_Score: {}\".format(f1_score(y_eval, preds, average='macro')))\n",
        "\n",
        "#3nd best model"
      ],
      "execution_count": null,
      "outputs": [
        {
          "output_type": "stream",
          "text": [
            "F1_Score: 0.9733539293299864\n",
            "Macro F1_Score: 0.8336836165496939\n"
          ],
          "name": "stdout"
        }
      ]
    },
    {
      "cell_type": "code",
      "metadata": {
        "id": "HN2MRuknhsjf",
        "colab_type": "code",
        "colab": {
          "base_uri": "https://localhost:8080/",
          "height": 51
        },
        "outputId": "4bad42d7-5cb9-4cef-a5b9-01c8683be986"
      },
      "source": [
        "%%script false --no-raise-error\n",
        "# XGBClassifier(booster='dart', subsample=0.8, min_child_weight=1, max_depth=12, learning_rate=0.05, gamma=0.2, colsample_bytree=1,\n",
        "#                           colsample_bynode=1, colsample_bylevel=1, base_score=0.5, n_estimators=1000, objective='binary:logitraw',\n",
        "#                       importance_type='gain', max_delta_step=0, missing=None, monotone_constrains=None, silent=True, \n",
        "#                       njobs=6, num_parallel_tree=1, nthread=6, random_state=0, eval_metric='rmse', reg_alpha=0, reg_lambda=1, scale_pos_weight=1, tree_method='hist', \n",
        "#                       validate_parameters=False)\n",
        "\n",
        "# Did not submit as with low score\n",
        "print(\"F1_Score: {}\".format(f1_score(y_eval, preds)))\n",
        "print(\"Macro F1_Score: {}\".format(f1_score(y_eval, preds, average='macro')))"
      ],
      "execution_count": null,
      "outputs": [
        {
          "output_type": "stream",
          "text": [
            "F1_Score: 0.9721146398140975\n",
            "Macro F1_Score: 0.8315508821388085\n"
          ],
          "name": "stdout"
        }
      ]
    },
    {
      "cell_type": "code",
      "metadata": {
        "id": "9PflrD1Qm0Ex",
        "colab_type": "code",
        "colab": {
          "base_uri": "https://localhost:8080/",
          "height": 51
        },
        "outputId": "88ceabb1-37de-4b58-8f7d-aa426c09693e"
      },
      "source": [
        "%%script false --no-raise-error\n",
        "# Submission 13 - submission 11 with learning_rate=0.05, eval_metric='logloss'\n",
        "print(\"F1_Score: {}\".format(f1_score(y_eval, preds)))\n",
        "print(\"Macro F1_Score: {}\".format(f1_score(y_eval, preds, average='macro')))"
      ],
      "execution_count": null,
      "outputs": [
        {
          "output_type": "stream",
          "text": [
            "F1_Score: 0.9731245166279968\n",
            "Macro F1_Score: 0.8348155334231686\n"
          ],
          "name": "stdout"
        }
      ]
    },
    {
      "cell_type": "code",
      "metadata": {
        "id": "iBKdKukXP4ra",
        "colab_type": "code",
        "colab": {
          "base_uri": "https://localhost:8080/",
          "height": 51
        },
        "outputId": "6a2a912b-40a7-49e2-a6f9-987d4aa2e665"
      },
      "source": [
        "%%script false --no-raise-error\n",
        "# Submission 14 - Submission 13 with reg_lambda=1.5\n",
        "print(\"F1_Score: {}\".format(f1_score(y_eval, preds)))\n",
        "print(\"Macro F1_Score: {}\".format(f1_score(y_eval, preds, average='macro')))\n",
        "\n",
        "#score 0.97703"
      ],
      "execution_count": null,
      "outputs": [
        {
          "output_type": "stream",
          "text": [
            "F1_Score: 0.9730304494925085\n",
            "Macro F1_Score: 0.8340562083528116\n"
          ],
          "name": "stdout"
        }
      ]
    },
    {
      "cell_type": "code",
      "metadata": {
        "id": "RijTZVDRUVmX",
        "colab_type": "code",
        "colab": {
          "base_uri": "https://localhost:8080/",
          "height": 51
        },
        "outputId": "205f738c-2ae4-4c01-c145-5fb2a8c3d03e"
      },
      "source": [
        "%%script false --no-raise-error\n",
        "# Submission 15 - Submission 11 with reg_lambda=1.7\n",
        "print(\"F1_Score: {}\".format(f1_score(y_eval, preds)))\n",
        "print(\"Macro F1_Score: {}\".format(f1_score(y_eval, preds, average='macro')))\n",
        "\n",
        "#score 0.97736"
      ],
      "execution_count": null,
      "outputs": [
        {
          "output_type": "stream",
          "text": [
            "F1_Score: 0.9737451737451738\n",
            "Macro F1_Score: 0.8357614757614757\n"
          ],
          "name": "stdout"
        }
      ]
    },
    {
      "cell_type": "code",
      "metadata": {
        "id": "0lq_xqxasyKO",
        "colab_type": "code",
        "colab": {
          "base_uri": "https://localhost:8080/",
          "height": 51
        },
        "outputId": "d1d08591-4bf3-4e9a-fa59-71bd3c76cbfe"
      },
      "source": [
        "# Submission 16 - booster='dart', n_jobs=6, objective='binary:logitraw', n_estimators=1000, max_depth=10, learning_rate=0.03, eval_metric='mae', reg_lambda=2\n",
        "print(\"F1_Score: {}\".format(f1_score(y_eval, preds)))\n",
        "print(\"Macro F1_Score: {}\".format(f1_score(y_eval, preds, average='macro')))"
      ],
      "execution_count": null,
      "outputs": [
        {
          "output_type": "stream",
          "text": [
            "F1_Score: 0.9722384003106194\n",
            "Macro F1_Score: 0.8368498890905915\n"
          ],
          "name": "stdout"
        }
      ]
    },
    {
      "cell_type": "code",
      "metadata": {
        "id": "-6Oe1CJ88eUV",
        "colab_type": "code",
        "colab": {
          "base_uri": "https://localhost:8080/",
          "height": 51
        },
        "outputId": "3dee54bc-47fc-4d91-a518-0f7aec435d64"
      },
      "source": [
        "# didn't submit - submission 11 with subsample=0.8, reg_lambda=1.5\n",
        "print(\"F1_Score: {}\".format(f1_score(y_eval, preds)))\n",
        "print(\"Macro F1_Score: {}\".format(f1_score(y_eval, preds, average='macro')))"
      ],
      "execution_count": null,
      "outputs": [
        {
          "output_type": "stream",
          "text": [
            "F1_Score: 0.9742402315484805\n",
            "Macro F1_Score: 0.8379581046010558\n"
          ],
          "name": "stdout"
        }
      ]
    },
    {
      "cell_type": "code",
      "metadata": {
        "id": "kCEkYhGVJBXD",
        "colab_type": "code",
        "colab": {
          "base_uri": "https://localhost:8080/",
          "height": 51
        },
        "outputId": "3596b451-8ab8-4ccf-b041-81c6ed2fa7aa"
      },
      "source": [
        "# did not submit\n",
        "print(\"F1_Score: {}\".format(f1_score(y_eval, preds))) # above without ismissing\n",
        "print(\"Macro F1_Score: {}\".format(f1_score(y_eval, preds, average='macro')))"
      ],
      "execution_count": null,
      "outputs": [
        {
          "output_type": "stream",
          "text": [
            "F1_Score: 0.9739583333333333\n",
            "Macro F1_Score: 0.835633875186846\n"
          ],
          "name": "stdout"
        }
      ]
    },
    {
      "cell_type": "code",
      "metadata": {
        "id": "_o92qncSNpiy",
        "colab_type": "code",
        "colab": {
          "base_uri": "https://localhost:8080/",
          "height": 51
        },
        "outputId": "f594b8ec-44fb-4d1a-f960-dc4d74de27c8"
      },
      "source": [
        "# Submission 17 - submission 11 with subsample=0.8, reg_lambda=1.5, max_delta_step=2\n",
        "print(\"F1_Score: {}\".format(f1_score(y_eval, preds)))\n",
        "print(\"Macro F1_Score: {}\".format(f1_score(y_eval, preds, average='macro')))"
      ],
      "execution_count": null,
      "outputs": [
        {
          "output_type": "stream",
          "text": [
            "F1_Score: 0.9745321242523636\n",
            "Macro F1_Score: 0.8396150554147723\n"
          ],
          "name": "stdout"
        }
      ]
    },
    {
      "cell_type": "code",
      "metadata": {
        "id": "-BwxhY3Hr5y4",
        "colab_type": "code",
        "colab": {
          "base_uri": "https://localhost:8080/",
          "height": 51
        },
        "outputId": "d70f8cf7-4d05-465f-af03-0534947c7d6a"
      },
      "source": [
        "# Submission 18 - max_depth=10, learning_rate=0.01, n_estimators=900, eval_metric='rmse', reg_lambda=1.7, subsample=0.8, max_delta_step=2, gamma=0.2 without 'ismissing'\n",
        "print(\"F1_Score: {}\".format(f1_score(y_eval, preds)))\n",
        "print(\"Macro F1_Score: {}\".format(f1_score(y_eval, preds, average='macro')))"
      ],
      "execution_count": null,
      "outputs": [
        {
          "output_type": "stream",
          "text": [
            "F1_Score: 0.9739583333333333\n",
            "Macro F1_Score: 0.835633875186846\n"
          ],
          "name": "stdout"
        }
      ]
    },
    {
      "cell_type": "code",
      "metadata": {
        "id": "YjJ8q-JyV3G_",
        "colab_type": "code",
        "colab": {
          "base_uri": "https://localhost:8080/",
          "height": 51
        },
        "outputId": "2bace960-0036-4996-c32e-fde68c22ce81"
      },
      "source": [
        "# Submission 19 - Submission 15 with probability thresholding = 0.7\n",
        "print(\"F1_Score: {}\".format(f1_score(y_eval, preds)))\n",
        "print(\"Macro F1_Score: {}\".format(f1_score(y_eval, preds, average='macro')))"
      ],
      "execution_count": null,
      "outputs": [
        {
          "output_type": "stream",
          "text": [
            "F1_Score: 0.9714229981468838\n",
            "Macro F1_Score: 0.8402298704736405\n"
          ],
          "name": "stdout"
        }
      ]
    },
    {
      "cell_type": "code",
      "metadata": {
        "id": "j9_DtGT7yofL",
        "colab_type": "code",
        "colab": {
          "base_uri": "https://localhost:8080/",
          "height": 51
        },
        "outputId": "942540e3-0d1a-41d4-f793-5fc9162011c9"
      },
      "source": [
        "# Submission 23 - Submission 15 with fare_per_min, fare_per_km features (0 time & duration points removed)\n",
        "print(\"F1_Score: {}\".format(f1_score(y_eval, preds)))\n",
        "print(\"Macro F1_Score: {}\".format(f1_score(y_eval, preds, average='macro')))\n",
        "\n",
        "#lowest score (test data above 0s repaced with median)"
      ],
      "execution_count": null,
      "outputs": [
        {
          "output_type": "stream",
          "text": [
            "F1_Score: 0.9798613403763619\n",
            "Macro F1_Score: 0.8531593697397504\n"
          ],
          "name": "stdout"
        }
      ]
    },
    {
      "cell_type": "code",
      "metadata": {
        "id": "35pIeY0Gfhzb",
        "colab_type": "code",
        "colab": {
          "base_uri": "https://localhost:8080/",
          "height": 51
        },
        "outputId": "2952b039-e481-4f40-e242-922c76f01053"
      },
      "source": [
        "# Submission 24 - Submission 15 with fare_per_min, fare_per_km features (0 time & duration points replaced with 0.01)\n",
        "print(\"F1_Score: {}\".format(f1_score(y_eval, preds)))\n",
        "print(\"Macro F1_Score: {}\".format(f1_score(y_eval, preds, average='macro')))\n",
        "\n",
        "#score - 0.97809 XGB best model"
      ],
      "execution_count": null,
      "outputs": [
        {
          "output_type": "stream",
          "text": [
            "F1_Score: 0.9789327344669019\n",
            "Macro F1_Score: 0.8717841689060913\n"
          ],
          "name": "stdout"
        }
      ]
    },
    {
      "cell_type": "code",
      "metadata": {
        "id": "rNT2p8XQ0_Wf",
        "colab_type": "code",
        "colab": {
          "base_uri": "https://localhost:8080/",
          "height": 51
        },
        "outputId": "120b6b95-8085-4d22-9fb6-6d20b863f0eb"
      },
      "source": [
        "# sub 24 couldn't be re generated\n",
        "# Submission 28 - fare_per_min, fare_per_km features (for 0 time & duration points fare_per_min, fare_per_km set to -1\n",
        "print(\"F1_Score: {}\".format(f1_score(y_eval, preds)))\n",
        "print(\"Macro F1_Score: {}\".format(f1_score(y_eval, preds, average='macro')))"
      ],
      "execution_count": null,
      "outputs": [
        {
          "output_type": "stream",
          "text": [
            "F1_Score: 0.9766223688039577\n",
            "Macro F1_Score: 0.8521529923115834\n"
          ],
          "name": "stdout"
        }
      ]
    },
    {
      "cell_type": "code",
      "metadata": {
        "id": "JVv3r6USC5i4",
        "colab_type": "code",
        "colab": {
          "base_uri": "https://localhost:8080/",
          "height": 51
        },
        "outputId": "4f28f4ae-9c11-4430-f0d1-6bd4d19a0549"
      },
      "source": [
        "# Submission 29 - Submission 28 with time_per_rs feature, Z = 10\n",
        "print(\"F1_Score: {}\".format(f1_score(y_eval, preds)))\n",
        "print(\"Macro F1_Score: {}\".format(f1_score(y_eval, preds, average='macro')))\n",
        "\n",
        "# Score - 0.97806"
      ],
      "execution_count": null,
      "outputs": [
        {
          "output_type": "stream",
          "text": [
            "F1_Score: 0.9766138384228837\n",
            "Macro F1_Score: 0.8567851800810071\n"
          ],
          "name": "stdout"
        }
      ]
    },
    {
      "cell_type": "code",
      "metadata": {
        "id": "Ke3qnCQNXqts",
        "colab_type": "code",
        "colab": {
          "base_uri": "https://localhost:8080/",
          "height": 51
        },
        "outputId": "bc6f4fa3-d517-4601-cc46-ec857099ff5c"
      },
      "source": [
        "# Submission 34 - sub 29 without outlier/missing/normalization\n",
        "print(\"F1_Score: {}\".format(f1_score(y_eval, preds)))\n",
        "print(\"Macro F1_Score: {}\".format(f1_score(y_eval, preds, average='macro')))\n",
        "\n",
        "# Best XGB Score - 0.97853"
      ],
      "execution_count": null,
      "outputs": [
        {
          "output_type": "stream",
          "text": [
            "F1_Score: 0.9749830966869508\n",
            "Macro F1_Score: 0.8560194671252013\n"
          ],
          "name": "stdout"
        }
      ]
    },
    {
      "cell_type": "code",
      "metadata": {
        "id": "xHbfK_R18ldV",
        "colab_type": "code",
        "colab": {
          "base_uri": "https://localhost:8080/",
          "height": 68
        },
        "outputId": "b370d716-9eda-4ada-ac1f-2b4dd4e22bbc"
      },
      "source": [
        "# Submission 35 - sub 34 with percentile outlier handling (low=0.001, high=0.999)\n",
        "print(\"F1_Score: {}\".format(f1_score(y_eval, preds)))\n",
        "print(\"Macro F1_Score: {}\".format(f1_score(y_eval, preds, average='macro')))\n",
        "print(\"Mean F1_macro score: \", cv_df.f1_macro.mean())\n",
        "# Best XGB Score - 0.97898"
      ],
      "execution_count": null,
      "outputs": [
        {
          "output_type": "stream",
          "text": [
            "F1_Score: 0.9756381636416578\n",
            "Macro F1_Score: 0.8544503251789586\n",
            "Mean F1_macro score:  0.8417539833145966\n"
          ],
          "name": "stdout"
        }
      ]
    },
    {
      "cell_type": "code",
      "metadata": {
        "id": "UdV0WZvQq7ol",
        "colab_type": "code",
        "colab": {
          "base_uri": "https://localhost:8080/",
          "height": 51
        },
        "outputId": "cb2ac096-a620-46d5-e4ac-3525e0ba20cf"
      },
      "source": [
        "# sub 35 with 'pickup_wait_per_rs', 'additional_fare_factor', removing 'time_error'\n",
        "print(\"F1_Score: {}\".format(f1_score(y_eval, preds)))\n",
        "print(\"Macro F1_Score: {}\".format(f1_score(y_eval, preds, average='macro')))"
      ],
      "execution_count": null,
      "outputs": [
        {
          "output_type": "stream",
          "text": [
            "F1_Score: 0.9771200467335215\n",
            "Macro F1_Score: 0.8670501991682085\n"
          ],
          "name": "stdout"
        }
      ]
    },
    {
      "cell_type": "code",
      "metadata": {
        "id": "DXLDX7Fk4JaS",
        "colab_type": "code",
        "colab": {
          "base_uri": "https://localhost:8080/",
          "height": 68
        },
        "outputId": "e475f4e0-bf39-479c-d7e6-6a6563e228ad"
      },
      "source": [
        "# Submission 41 - sub 35 with 'pickup_wait_per_rs', 'additional_fare_factor', 'speed' removing 'time_error'\n",
        "# cross features set after outlier removing\n",
        "print(\"F1_Score: {}\".format(f1_score(y_eval, preds)))\n",
        "print(\"Macro F1_Score: {}\".format(f1_score(y_eval, preds, average='macro')))\n",
        "print(\"Mean F1_macro score: \", cv_df.f1_macro.mean())\n",
        "\n",
        "# Best XGB Score - 0.97947"
      ],
      "execution_count": null,
      "outputs": [
        {
          "output_type": "stream",
          "text": [
            "F1_Score: 0.9769880570929216\n",
            "Macro F1_Score: 0.8686760305687055\n",
            "Mean F1_macro score:  0.8503323096718981\n"
          ],
          "name": "stdout"
        }
      ]
    },
    {
      "cell_type": "markdown",
      "metadata": {
        "id": "PrxgXbARpNSA",
        "colab_type": "text"
      },
      "source": [
        "## New Evaluation Results"
      ]
    },
    {
      "cell_type": "code",
      "metadata": {
        "id": "HFNGCKktKB4_",
        "colab_type": "code",
        "colab": {
          "base_uri": "https://localhost:8080/",
          "height": 68
        },
        "outputId": "6f84d2b6-2ab3-45e4-9fb3-800e951162fd"
      },
      "source": [
        "# sub 41 with 'dayofweek' feature\n",
        "print(\"F1_Score: {}\".format(f1_score(y_eval, preds)))\n",
        "print(\"Macro F1_Score: {}\".format(f1_score(y_eval, preds, average='macro')))\n",
        "print(\"Mean F1_macro score: \", cv_df.f1_macro.mean())"
      ],
      "execution_count": null,
      "outputs": [
        {
          "output_type": "stream",
          "text": [
            "F1_Score: 0.977471353660905\n",
            "Macro F1_Score: 0.8715639596587353\n",
            "Mean F1_macro score:  0.8496441396175153\n"
          ],
          "name": "stdout"
        }
      ]
    },
    {
      "cell_type": "code",
      "metadata": {
        "id": "PGJ1pBJ6D533",
        "colab_type": "code",
        "colab": {
          "base_uri": "https://localhost:8080/",
          "height": 68
        },
        "outputId": "bea89e04-be9c-4637-b6ce-82164f80cf56"
      },
      "source": [
        "# Submission 45 - sub 41 with 'dayofweek', 'km_per_rs', 'faretime_per_km' \n",
        "print(\"F1_Score: {}\".format(f1_score(y_eval, preds)))\n",
        "print(\"Macro F1_Score: {}\".format(f1_score(y_eval, preds, average='macro')))\n",
        "print(\"Mean F1_macro score: \", cv_df.f1_macro.mean())\n",
        "\n",
        "# best score - 0.97962"
      ],
      "execution_count": null,
      "outputs": [
        {
          "output_type": "stream",
          "text": [
            "F1_Score: 0.9774625995725665\n",
            "Macro F1_Score: 0.8720310985790398\n",
            "Mean F1_macro score:  0.8485893604034994\n"
          ],
          "name": "stdout"
        }
      ]
    },
    {
      "cell_type": "code",
      "metadata": {
        "id": "VAzdw9uXmQvK",
        "colab_type": "code",
        "colab": {
          "base_uri": "https://localhost:8080/",
          "height": 68
        },
        "outputId": "2d6a8466-97a6-45dc-a2d1-6710e4a4c997"
      },
      "source": [
        "#Submission 46 - sub 45 with 'time_per_additional_rs', 'waiting_fare_factor'\n",
        "print(\"F1_Score: {}\".format(f1_score(y_eval, preds)))\n",
        "print(\"Macro F1_Score: {}\".format(f1_score(y_eval, preds, average='macro')))\n",
        "print(\"Mean F1_macro score: \", cv_df.f1_macro.mean())\n",
        "\n",
        "# score - 0.97917"
      ],
      "execution_count": null,
      "outputs": [
        {
          "output_type": "stream",
          "text": [
            "F1_Score: 0.9775619232637202\n",
            "Macro F1_Score: 0.8724667622360898\n",
            "Mean F1_macro score:  0.8491833408251038\n"
          ],
          "name": "stdout"
        }
      ]
    },
    {
      "cell_type": "code",
      "metadata": {
        "id": "9c_jLIxfDE9H",
        "colab_type": "code",
        "colab": {
          "base_uri": "https://localhost:8080/",
          "height": 68
        },
        "outputId": "b5270777-2ada-4a57-e815-f84de7c33b6c"
      },
      "source": [
        "# Submission 48 - sub 46 with remove 'additional_fare_factor' & 'trip_time', add 'waiting_rs_per_min', 'time_per_mobrs'\n",
        "print(\"F1_Score: {}\".format(f1_score(y_eval, preds)))\n",
        "print(\"Macro F1_Score: {}\".format(f1_score(y_eval, preds, average='macro')))\n",
        "print(\"Mean F1_macro score: \", cv_df.f1_macro.mean())\n",
        "\n",
        "#score - 0.97900"
      ],
      "execution_count": null,
      "outputs": [
        {
          "output_type": "stream",
          "text": [
            "F1_Score: 0.9772727272727272\n",
            "Macro F1_Score: 0.8706928152492668\n",
            "Mean F1_macro score:  0.8508601740033743\n"
          ],
          "name": "stdout"
        }
      ]
    },
    {
      "cell_type": "code",
      "metadata": {
        "id": "zReFGMGGJ3Uw",
        "colab_type": "code",
        "colab": {
          "base_uri": "https://localhost:8080/",
          "height": 68
        },
        "outputId": "397b5132-251c-4846-f6a3-96e7b48a6fc8"
      },
      "source": [
        "# above 48 with 'mobfare_per_min'\n",
        "print(\"F1_Score: {}\".format(f1_score(y_eval, preds)))\n",
        "print(\"Macro F1_Score: {}\".format(f1_score(y_eval, preds, average='macro')))\n",
        "print(\"Mean F1_macro score: \", cv_df.f1_macro.mean())"
      ],
      "execution_count": null,
      "outputs": [
        {
          "output_type": "stream",
          "text": [
            "F1_Score: 0.9774844720496895\n",
            "Macro F1_Score: 0.8708560571630561\n",
            "Mean F1_macro score:  0.8486746834180442\n"
          ],
          "name": "stdout"
        }
      ]
    },
    {
      "cell_type": "code",
      "metadata": {
        "id": "_AegykXIDbjo",
        "colab_type": "code",
        "colab": {
          "base_uri": "https://localhost:8080/",
          "height": 299
        },
        "outputId": "382285c3-cff4-4097-d318-b2862fe84431"
      },
      "source": [
        "from sklearn.metrics import confusion_matrix\n",
        "import seaborn as sns\n",
        "\n",
        "conf_mat = confusion_matrix(y_eval, preds)\n",
        "sns.heatmap(conf_mat, annot=True, fmt='d')\n",
        "plt.ylabel('Actual')\n",
        "plt.xlabel('Predicted')"
      ],
      "execution_count": null,
      "outputs": [
        {
          "output_type": "execute_result",
          "data": {
            "text/plain": [
              "Text(0.5, 15.0, 'Predicted')"
            ]
          },
          "metadata": {
            "tags": []
          },
          "execution_count": 592
        },
        {
          "output_type": "display_data",
          "data": {
            "image/png": "[encoded data removed]",
            "text/plain": [
              "<Figure size 432x288 with 2 Axes>"
            ]
          },
          "metadata": {
            "tags": [],
            "needs_background": "light"
          }
        }
      ]
    },
    {
      "cell_type": "markdown",
      "metadata": {
        "id": "yqHJ9S1XuctN",
        "colab_type": "text"
      },
      "source": [
        "# Predicting on Test Data"
      ]
    },
    {
      "cell_type": "code",
      "metadata": {
        "id": "Xoj24z2SB2E5",
        "colab_type": "code",
        "colab": {
          "base_uri": "https://localhost:8080/",
          "height": 139
        },
        "outputId": "a95bf037-62f6-42e7-a8b9-f3f11a00c450"
      },
      "source": [
        "%%time \n",
        "\n",
        "full_pipeline.fit(feature_df, label_df)\n",
        "None"
      ],
      "execution_count": null,
      "outputs": [
        {
          "output_type": "stream",
          "text": [
            "/usr/local/lib/python3.6/dist-packages/sklearn/preprocessing/_label.py:235: DataConversionWarning: A column-vector y was passed when a 1d array was expected. Please change the shape of y to (n_samples, ), for example using ravel().\n",
            "  y = column_or_1d(y, warn=True)\n",
            "/usr/local/lib/python3.6/dist-packages/sklearn/preprocessing/_label.py:268: DataConversionWarning: A column-vector y was passed when a 1d array was expected. Please change the shape of y to (n_samples, ), for example using ravel().\n",
            "  y = column_or_1d(y, warn=True)\n"
          ],
          "name": "stderr"
        },
        {
          "output_type": "stream",
          "text": [
            "CPU times: user 1min 43s, sys: 71.5 ms, total: 1min 43s\n",
            "Wall time: 1min 43s\n"
          ],
          "name": "stdout"
        }
      ]
    },
    {
      "cell_type": "code",
      "metadata": {
        "id": "QZ0BZym5CByg",
        "colab_type": "code",
        "colab": {}
      },
      "source": [
        "test_features_df = pd.read_csv(\"/content/gdrive/My Drive/Colab Notebooks/TaxiFare/test.csv\", \n",
        "                               index_col=\"tripid\")\n",
        "\n",
        "feature_process(test_features_df)\n",
        "print(test_features_df.shape)\n",
        "test_features_df.head()"
      ],
      "execution_count": null,
      "outputs": []
    },
    {
      "cell_type": "code",
      "metadata": {
        "id": "pt80k6nOc0LS",
        "colab_type": "code",
        "colab": {
          "base_uri": "https://localhost:8080/",
          "height": 340
        },
        "outputId": "ff715939-b9c5-4e13-a40c-b9db3774c575"
      },
      "source": [
        "test_features_df.isna().sum()"
      ],
      "execution_count": null,
      "outputs": [
        {
          "output_type": "execute_result",
          "data": {
            "text/plain": [
              "additional_fare              0\n",
              "duration                     0\n",
              "meter_waiting                0\n",
              "meter_waiting_fare           0\n",
              "meter_waiting_till_pickup    0\n",
              "fare                         0\n",
              "trip_distance                0\n",
              "fare_per_min                 0\n",
              "fare_per_km                  0\n",
              "time_per_rs                  0\n",
              "pickup_wait_per_rs           0\n",
              "speed                        0\n",
              "km_per_rs                    0\n",
              "faretime_per_km              0\n",
              "time_per_additional_rs       0\n",
              "waiting_fare_factor          0\n",
              "waiting_rs_per_min           0\n",
              "time_per_mobrs               0\n",
              "dtype: int64"
            ]
          },
          "metadata": {
            "tags": []
          },
          "execution_count": 46
        }
      ]
    },
    {
      "cell_type": "code",
      "metadata": {
        "id": "aaHgpNAgCvIf",
        "colab_type": "code",
        "colab": {}
      },
      "source": [
        "test_predictions = full_pipeline.predict(test_features_df)\n",
        "# test_proba = full_pipeline.predict_proba(test_features_df)\n",
        "# test_predictions = calibrate_imbalance(test_proba, 0.7)"
      ],
      "execution_count": null,
      "outputs": []
    },
    {
      "cell_type": "code",
      "metadata": {
        "id": "1ODZXlr1DE3w",
        "colab_type": "code",
        "colab": {}
      },
      "source": [
        "submission_df = pd.read_csv(\"/content/gdrive/My Drive/Colab Notebooks/TaxiFare/sample_submission.csv\", \n",
        "                            index_col=\"tripid\")"
      ],
      "execution_count": null,
      "outputs": []
    },
    {
      "cell_type": "code",
      "metadata": {
        "id": "b6Q1R1DqDKBQ",
        "colab_type": "code",
        "colab": {
          "base_uri": "https://localhost:8080/",
          "height": 235
        },
        "outputId": "95430eaf-d4cd-460d-f99c-5e17a98d95b5"
      },
      "source": [
        "# Make sure we have the rows in the same order\n",
        "np.testing.assert_array_equal(test_features_df.index.values, \n",
        "                              submission_df.index.values)\n",
        "\n",
        "# Save predictions to submission data frame\n",
        "submission_df[\"prediction\"] = test_predictions\n",
        "\n",
        "submission_df.head()"
      ],
      "execution_count": null,
      "outputs": [
        {
          "output_type": "execute_result",
          "data": {
            "text/html": [
              "<div>\n",
              "<style scoped>\n",
              "    .dataframe tbody tr th:only-of-type {\n",
              "        vertical-align: middle;\n",
              "    }\n",
              "\n",
              "    .dataframe tbody tr th {\n",
              "        vertical-align: top;\n",
              "    }\n",
              "\n",
              "    .dataframe thead th {\n",
              "        text-align: right;\n",
              "    }\n",
              "</style>\n",
              "<table border=\"1\" class=\"dataframe\">\n",
              "  <thead>\n",
              "    <tr style=\"text-align: right;\">\n",
              "      <th></th>\n",
              "      <th>prediction</th>\n",
              "    </tr>\n",
              "    <tr>\n",
              "      <th>tripid</th>\n",
              "      <th></th>\n",
              "    </tr>\n",
              "  </thead>\n",
              "  <tbody>\n",
              "    <tr>\n",
              "      <th>213284604</th>\n",
              "      <td>1</td>\n",
              "    </tr>\n",
              "    <tr>\n",
              "      <th>213286352</th>\n",
              "      <td>1</td>\n",
              "    </tr>\n",
              "    <tr>\n",
              "      <th>213293973</th>\n",
              "      <td>1</td>\n",
              "    </tr>\n",
              "    <tr>\n",
              "      <th>213294622</th>\n",
              "      <td>1</td>\n",
              "    </tr>\n",
              "    <tr>\n",
              "      <th>213298687</th>\n",
              "      <td>1</td>\n",
              "    </tr>\n",
              "  </tbody>\n",
              "</table>\n",
              "</div>"
            ],
            "text/plain": [
              "           prediction\n",
              "tripid               \n",
              "213284604           1\n",
              "213286352           1\n",
              "213293973           1\n",
              "213294622           1\n",
              "213298687           1"
            ]
          },
          "metadata": {
            "tags": []
          },
          "execution_count": 49
        }
      ]
    },
    {
      "cell_type": "code",
      "metadata": {
        "id": "DYVYuiR6DcbN",
        "colab_type": "code",
        "colab": {}
      },
      "source": [
        "submission_df.to_csv('/content/gdrive/My Drive/Colab Notebooks/TaxiFare/my_submission.csv', index=True)"
      ],
      "execution_count": null,
      "outputs": []
    },
    {
      "cell_type": "code",
      "metadata": {
        "id": "keljbWu05m60",
        "colab_type": "code",
        "colab": {}
      },
      "source": [
        "!head /content/gdrive/My\\ Drive/Colab\\ Notebooks/TaxiFare/my_submission.csv"
      ],
      "execution_count": null,
      "outputs": []
    },
    {
      "cell_type": "code",
      "metadata": {
        "id": "Df7t1wvb5ajd",
        "colab_type": "code",
        "colab": {}
      },
      "source": [
        "%%script false --no-raise-error\n",
        "# memory footprint support libraries/code\n",
        "!ln -sf /opt/bin/nvidia-smi /usr/bin/nvidia-smi\n",
        "!pip install gputil\n",
        "!pip install psutil\n",
        "!pip install humanize\n",
        "import psutil\n",
        "import humanize\n",
        "import os\n",
        "import GPUtil as GPU\n",
        "GPUs = GPU.getGPUs()\n",
        "# XXX: only one GPU on Colab and isn’t guaranteed\n",
        "gpu = GPUs[0]\n",
        "def printm():\n",
        " process = psutil.Process(os.getpid())\n",
        " print(\"Gen RAM Free: \" + humanize.naturalsize( psutil.virtual_memory().available ), \" | Proc size: \" + humanize.naturalsize( process.memory_info().rss))\n",
        " print(\"GPU RAM Free: {0:.0f}MB | Used: {1:.0f}MB | Util {2:3.0f}% | Total {3:.0f}MB\".format(gpu.memoryFree, gpu.memoryUsed, gpu.memoryUtil*100, gpu.memoryTotal))\n",
        "printm() "
      ],
      "execution_count": null,
      "outputs": []
    }
  ]
}