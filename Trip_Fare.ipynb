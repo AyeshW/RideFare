{
  "nbformat": 4,
  "nbformat_minor": 0,
  "metadata": {
    "colab": {
      "name": "Trip Fare.ipynb",
      "provenance": [],
      "collapsed_sections": [],
      "authorship_tag": "ABX9TyOkqDTueuMakqhlRK+zD7IL",
      "include_colab_link": true
    },
    "kernelspec": {
      "name": "python3",
      "display_name": "Python 3"
    }
  },
  "cells": [
    {
      "cell_type": "markdown",
      "metadata": {
        "id": "view-in-github",
        "colab_type": "text"
      },
      "source": [
        "<a href=\"https://colab.research.google.com/github/AyeshW/TaxiFare/blob/master/Trip_Fare.ipynb\" target=\"_parent\"><img src=\"https://colab.research.google.com/assets/colab-badge.svg\" alt=\"Open In Colab\"/></a>"
      ]
    },
    {
      "cell_type": "code",
      "metadata": {
        "id": "f_J_FSBD0S1L",
        "colab_type": "code",
        "outputId": "7e136bfd-2588-4b2a-a146-48621b35e07f",
        "colab": {
          "base_uri": "https://localhost:8080/",
          "height": 122
        }
      },
      "source": [
        "from google.colab import drive, files\n",
        "drive.mount('/content/gdrive')"
      ],
      "execution_count": 0,
      "outputs": [
        {
          "output_type": "stream",
          "text": [
            "Go to this URL in a browser: https://accounts.google.com/o/oauth2/auth?client_id=947318989803-6bn6qk8qdgf4n4g3pfee6491hc0brc4i.apps.googleusercontent.com&redirect_uri=urn%3aietf%3awg%3aoauth%3a2.0%3aoob&response_type=code&scope=email%20https%3a%2f%2fwww.googleapis.com%2fauth%2fdocs.test%20https%3a%2f%2fwww.googleapis.com%2fauth%2fdrive%20https%3a%2f%2fwww.googleapis.com%2fauth%2fdrive.photos.readonly%20https%3a%2f%2fwww.googleapis.com%2fauth%2fpeopleapi.readonly\n",
            "\n",
            "Enter your authorization code:\n",
            "··········\n",
            "Mounted at /content/gdrive\n"
          ],
          "name": "stdout"
        }
      ]
    },
    {
      "cell_type": "code",
      "metadata": {
        "id": "MfCo5DxDOflW",
        "colab_type": "code",
        "outputId": "17bb07ee-67df-4b26-d3f0-ee23485525cb",
        "colab": {
          "base_uri": "https://localhost:8080/",
          "height": 34
        }
      },
      "source": [
        "import tensorflow as tf\n",
        "tf.test.gpu_device_name()"
      ],
      "execution_count": 0,
      "outputs": [
        {
          "output_type": "execute_result",
          "data": {
            "text/plain": [
              "''"
            ]
          },
          "metadata": {
            "tags": []
          },
          "execution_count": 2
        }
      ]
    },
    {
      "cell_type": "code",
      "metadata": {
        "id": "K0nRre1O3u3X",
        "colab_type": "code",
        "colab": {}
      },
      "source": [
        "import pandas as pd\n",
        "import numpy as np\n",
        "\n",
        "pd.set_option(\"display.max_columns\", 100)"
      ],
      "execution_count": 0,
      "outputs": []
    },
    {
      "cell_type": "code",
      "metadata": {
        "id": "Dj61qdUs4HJ5",
        "colab_type": "code",
        "outputId": "ad843aa3-4101-4f1d-ea49-eff2294f9684",
        "colab": {
          "base_uri": "https://localhost:8080/",
          "height": 578
        }
      },
      "source": [
        "df = pd.read_csv(\n",
        "    \"/content/gdrive/My Drive/Colab Notebooks/TaxiFare/train.csv\", \n",
        "    index_col=\"tripid\"\n",
        ")\n",
        "print(df.dtypes)\n",
        "df.head()"
      ],
      "execution_count": 0,
      "outputs": [
        {
          "output_type": "stream",
          "text": [
            "additional_fare              float64\n",
            "duration                     float64\n",
            "meter_waiting                float64\n",
            "meter_waiting_fare           float64\n",
            "meter_waiting_till_pickup    float64\n",
            "pickup_time                   object\n",
            "drop_time                     object\n",
            "pick_lat                     float64\n",
            "pick_lon                     float64\n",
            "drop_lat                     float64\n",
            "drop_lon                     float64\n",
            "fare                         float64\n",
            "label                         object\n",
            "dtype: object\n"
          ],
          "name": "stdout"
        },
        {
          "output_type": "execute_result",
          "data": {
            "text/html": [
              "<div>\n",
              "<style scoped>\n",
              "    .dataframe tbody tr th:only-of-type {\n",
              "        vertical-align: middle;\n",
              "    }\n",
              "\n",
              "    .dataframe tbody tr th {\n",
              "        vertical-align: top;\n",
              "    }\n",
              "\n",
              "    .dataframe thead th {\n",
              "        text-align: right;\n",
              "    }\n",
              "</style>\n",
              "<table border=\"1\" class=\"dataframe\">\n",
              "  <thead>\n",
              "    <tr style=\"text-align: right;\">\n",
              "      <th></th>\n",
              "      <th>additional_fare</th>\n",
              "      <th>duration</th>\n",
              "      <th>meter_waiting</th>\n",
              "      <th>meter_waiting_fare</th>\n",
              "      <th>meter_waiting_till_pickup</th>\n",
              "      <th>pickup_time</th>\n",
              "      <th>drop_time</th>\n",
              "      <th>pick_lat</th>\n",
              "      <th>pick_lon</th>\n",
              "      <th>drop_lat</th>\n",
              "      <th>drop_lon</th>\n",
              "      <th>fare</th>\n",
              "      <th>label</th>\n",
              "    </tr>\n",
              "    <tr>\n",
              "      <th>tripid</th>\n",
              "      <th></th>\n",
              "      <th></th>\n",
              "      <th></th>\n",
              "      <th></th>\n",
              "      <th></th>\n",
              "      <th></th>\n",
              "      <th></th>\n",
              "      <th></th>\n",
              "      <th></th>\n",
              "      <th></th>\n",
              "      <th></th>\n",
              "      <th></th>\n",
              "      <th></th>\n",
              "    </tr>\n",
              "  </thead>\n",
              "  <tbody>\n",
              "    <tr>\n",
              "      <th>189123628</th>\n",
              "      <td>10.5</td>\n",
              "      <td>834.0</td>\n",
              "      <td>56.0</td>\n",
              "      <td>0.0000</td>\n",
              "      <td>64.0</td>\n",
              "      <td>11/1/2019 0:20</td>\n",
              "      <td>11/1/2019 0:34</td>\n",
              "      <td>6.86252</td>\n",
              "      <td>79.8993</td>\n",
              "      <td>6.90330</td>\n",
              "      <td>79.8783</td>\n",
              "      <td>270.32</td>\n",
              "      <td>correct</td>\n",
              "    </tr>\n",
              "    <tr>\n",
              "      <th>189125358</th>\n",
              "      <td>10.5</td>\n",
              "      <td>791.0</td>\n",
              "      <td>47.0</td>\n",
              "      <td>0.0000</td>\n",
              "      <td>134.0</td>\n",
              "      <td>11/1/2019 0:56</td>\n",
              "      <td>11/1/2019 1:09</td>\n",
              "      <td>6.88589</td>\n",
              "      <td>79.8984</td>\n",
              "      <td>6.91373</td>\n",
              "      <td>79.8923</td>\n",
              "      <td>197.85</td>\n",
              "      <td>correct</td>\n",
              "    </tr>\n",
              "    <tr>\n",
              "      <th>189125719</th>\n",
              "      <td>10.5</td>\n",
              "      <td>1087.0</td>\n",
              "      <td>80.0</td>\n",
              "      <td>0.0000</td>\n",
              "      <td>61.0</td>\n",
              "      <td>11/1/2019 1:08</td>\n",
              "      <td>11/1/2019 1:26</td>\n",
              "      <td>6.90839</td>\n",
              "      <td>79.8651</td>\n",
              "      <td>6.93669</td>\n",
              "      <td>79.9146</td>\n",
              "      <td>301.64</td>\n",
              "      <td>correct</td>\n",
              "    </tr>\n",
              "    <tr>\n",
              "      <th>189127273</th>\n",
              "      <td>10.5</td>\n",
              "      <td>598.0</td>\n",
              "      <td>271.0</td>\n",
              "      <td>15.6638</td>\n",
              "      <td>68.0</td>\n",
              "      <td>11/1/2019 2:27</td>\n",
              "      <td>11/1/2019 2:37</td>\n",
              "      <td>6.92570</td>\n",
              "      <td>79.8895</td>\n",
              "      <td>6.92748</td>\n",
              "      <td>79.8971</td>\n",
              "      <td>82.30</td>\n",
              "      <td>correct</td>\n",
              "    </tr>\n",
              "    <tr>\n",
              "      <th>189128020</th>\n",
              "      <td>NaN</td>\n",
              "      <td>NaN</td>\n",
              "      <td>NaN</td>\n",
              "      <td>NaN</td>\n",
              "      <td>NaN</td>\n",
              "      <td>11/1/2019 3:34</td>\n",
              "      <td>11/1/2019 3:51</td>\n",
              "      <td>6.87441</td>\n",
              "      <td>79.8615</td>\n",
              "      <td>6.84478</td>\n",
              "      <td>79.9290</td>\n",
              "      <td>358.39</td>\n",
              "      <td>correct</td>\n",
              "    </tr>\n",
              "  </tbody>\n",
              "</table>\n",
              "</div>"
            ],
            "text/plain": [
              "           additional_fare  duration  meter_waiting  meter_waiting_fare  \\\n",
              "tripid                                                                    \n",
              "189123628             10.5     834.0           56.0              0.0000   \n",
              "189125358             10.5     791.0           47.0              0.0000   \n",
              "189125719             10.5    1087.0           80.0              0.0000   \n",
              "189127273             10.5     598.0          271.0             15.6638   \n",
              "189128020              NaN       NaN            NaN                 NaN   \n",
              "\n",
              "           meter_waiting_till_pickup     pickup_time       drop_time  \\\n",
              "tripid                                                                 \n",
              "189123628                       64.0  11/1/2019 0:20  11/1/2019 0:34   \n",
              "189125358                      134.0  11/1/2019 0:56  11/1/2019 1:09   \n",
              "189125719                       61.0  11/1/2019 1:08  11/1/2019 1:26   \n",
              "189127273                       68.0  11/1/2019 2:27  11/1/2019 2:37   \n",
              "189128020                        NaN  11/1/2019 3:34  11/1/2019 3:51   \n",
              "\n",
              "           pick_lat  pick_lon  drop_lat  drop_lon    fare    label  \n",
              "tripid                                                              \n",
              "189123628   6.86252   79.8993   6.90330   79.8783  270.32  correct  \n",
              "189125358   6.88589   79.8984   6.91373   79.8923  197.85  correct  \n",
              "189125719   6.90839   79.8651   6.93669   79.9146  301.64  correct  \n",
              "189127273   6.92570   79.8895   6.92748   79.8971   82.30  correct  \n",
              "189128020   6.87441   79.8615   6.84478   79.9290  358.39  correct  "
            ]
          },
          "metadata": {
            "tags": []
          },
          "execution_count": 4
        }
      ]
    },
    {
      "cell_type": "code",
      "metadata": {
        "id": "Od_K_TUa4p2V",
        "colab_type": "code",
        "outputId": "e9f44d55-083a-4810-8dc8-93ef171ffc69",
        "colab": {
          "base_uri": "https://localhost:8080/",
          "height": 340
        }
      },
      "source": [
        "label_df = pd.DataFrame(df['label'])\n",
        "feature_df = df.drop(columns='label')\n",
        "feature_df.head()"
      ],
      "execution_count": 0,
      "outputs": [
        {
          "output_type": "execute_result",
          "data": {
            "text/html": [
              "<div>\n",
              "<style scoped>\n",
              "    .dataframe tbody tr th:only-of-type {\n",
              "        vertical-align: middle;\n",
              "    }\n",
              "\n",
              "    .dataframe tbody tr th {\n",
              "        vertical-align: top;\n",
              "    }\n",
              "\n",
              "    .dataframe thead th {\n",
              "        text-align: right;\n",
              "    }\n",
              "</style>\n",
              "<table border=\"1\" class=\"dataframe\">\n",
              "  <thead>\n",
              "    <tr style=\"text-align: right;\">\n",
              "      <th></th>\n",
              "      <th>additional_fare</th>\n",
              "      <th>duration</th>\n",
              "      <th>meter_waiting</th>\n",
              "      <th>meter_waiting_fare</th>\n",
              "      <th>meter_waiting_till_pickup</th>\n",
              "      <th>pickup_time</th>\n",
              "      <th>drop_time</th>\n",
              "      <th>pick_lat</th>\n",
              "      <th>pick_lon</th>\n",
              "      <th>drop_lat</th>\n",
              "      <th>drop_lon</th>\n",
              "      <th>fare</th>\n",
              "    </tr>\n",
              "    <tr>\n",
              "      <th>tripid</th>\n",
              "      <th></th>\n",
              "      <th></th>\n",
              "      <th></th>\n",
              "      <th></th>\n",
              "      <th></th>\n",
              "      <th></th>\n",
              "      <th></th>\n",
              "      <th></th>\n",
              "      <th></th>\n",
              "      <th></th>\n",
              "      <th></th>\n",
              "      <th></th>\n",
              "    </tr>\n",
              "  </thead>\n",
              "  <tbody>\n",
              "    <tr>\n",
              "      <th>189123628</th>\n",
              "      <td>10.5</td>\n",
              "      <td>834.0</td>\n",
              "      <td>56.0</td>\n",
              "      <td>0.0000</td>\n",
              "      <td>64.0</td>\n",
              "      <td>11/1/2019 0:20</td>\n",
              "      <td>11/1/2019 0:34</td>\n",
              "      <td>6.86252</td>\n",
              "      <td>79.8993</td>\n",
              "      <td>6.90330</td>\n",
              "      <td>79.8783</td>\n",
              "      <td>270.32</td>\n",
              "    </tr>\n",
              "    <tr>\n",
              "      <th>189125358</th>\n",
              "      <td>10.5</td>\n",
              "      <td>791.0</td>\n",
              "      <td>47.0</td>\n",
              "      <td>0.0000</td>\n",
              "      <td>134.0</td>\n",
              "      <td>11/1/2019 0:56</td>\n",
              "      <td>11/1/2019 1:09</td>\n",
              "      <td>6.88589</td>\n",
              "      <td>79.8984</td>\n",
              "      <td>6.91373</td>\n",
              "      <td>79.8923</td>\n",
              "      <td>197.85</td>\n",
              "    </tr>\n",
              "    <tr>\n",
              "      <th>189125719</th>\n",
              "      <td>10.5</td>\n",
              "      <td>1087.0</td>\n",
              "      <td>80.0</td>\n",
              "      <td>0.0000</td>\n",
              "      <td>61.0</td>\n",
              "      <td>11/1/2019 1:08</td>\n",
              "      <td>11/1/2019 1:26</td>\n",
              "      <td>6.90839</td>\n",
              "      <td>79.8651</td>\n",
              "      <td>6.93669</td>\n",
              "      <td>79.9146</td>\n",
              "      <td>301.64</td>\n",
              "    </tr>\n",
              "    <tr>\n",
              "      <th>189127273</th>\n",
              "      <td>10.5</td>\n",
              "      <td>598.0</td>\n",
              "      <td>271.0</td>\n",
              "      <td>15.6638</td>\n",
              "      <td>68.0</td>\n",
              "      <td>11/1/2019 2:27</td>\n",
              "      <td>11/1/2019 2:37</td>\n",
              "      <td>6.92570</td>\n",
              "      <td>79.8895</td>\n",
              "      <td>6.92748</td>\n",
              "      <td>79.8971</td>\n",
              "      <td>82.30</td>\n",
              "    </tr>\n",
              "    <tr>\n",
              "      <th>189128020</th>\n",
              "      <td>NaN</td>\n",
              "      <td>NaN</td>\n",
              "      <td>NaN</td>\n",
              "      <td>NaN</td>\n",
              "      <td>NaN</td>\n",
              "      <td>11/1/2019 3:34</td>\n",
              "      <td>11/1/2019 3:51</td>\n",
              "      <td>6.87441</td>\n",
              "      <td>79.8615</td>\n",
              "      <td>6.84478</td>\n",
              "      <td>79.9290</td>\n",
              "      <td>358.39</td>\n",
              "    </tr>\n",
              "  </tbody>\n",
              "</table>\n",
              "</div>"
            ],
            "text/plain": [
              "           additional_fare  duration  meter_waiting  meter_waiting_fare  \\\n",
              "tripid                                                                    \n",
              "189123628             10.5     834.0           56.0              0.0000   \n",
              "189125358             10.5     791.0           47.0              0.0000   \n",
              "189125719             10.5    1087.0           80.0              0.0000   \n",
              "189127273             10.5     598.0          271.0             15.6638   \n",
              "189128020              NaN       NaN            NaN                 NaN   \n",
              "\n",
              "           meter_waiting_till_pickup     pickup_time       drop_time  \\\n",
              "tripid                                                                 \n",
              "189123628                       64.0  11/1/2019 0:20  11/1/2019 0:34   \n",
              "189125358                      134.0  11/1/2019 0:56  11/1/2019 1:09   \n",
              "189125719                       61.0  11/1/2019 1:08  11/1/2019 1:26   \n",
              "189127273                       68.0  11/1/2019 2:27  11/1/2019 2:37   \n",
              "189128020                        NaN  11/1/2019 3:34  11/1/2019 3:51   \n",
              "\n",
              "           pick_lat  pick_lon  drop_lat  drop_lon    fare  \n",
              "tripid                                                     \n",
              "189123628   6.86252   79.8993   6.90330   79.8783  270.32  \n",
              "189125358   6.88589   79.8984   6.91373   79.8923  197.85  \n",
              "189125719   6.90839   79.8651   6.93669   79.9146  301.64  \n",
              "189127273   6.92570   79.8895   6.92748   79.8971   82.30  \n",
              "189128020   6.87441   79.8615   6.84478   79.9290  358.39  "
            ]
          },
          "metadata": {
            "tags": []
          },
          "execution_count": 5
        }
      ]
    },
    {
      "cell_type": "code",
      "metadata": {
        "id": "t-lP0AD8__L2",
        "colab_type": "code",
        "outputId": "d23b923b-0f7e-4b7c-d2b1-7d2677850e6c",
        "colab": {
          "base_uri": "https://localhost:8080/",
          "height": 235
        }
      },
      "source": [
        "label_df['label_copy'] = label_df['label']\n",
        "labels ={\"label\": {\"correct\": 1, \"incorrect\": 0}}\n",
        "label_df.replace(labels, inplace=True)\n",
        "label_df.head()"
      ],
      "execution_count": 0,
      "outputs": [
        {
          "output_type": "execute_result",
          "data": {
            "text/html": [
              "<div>\n",
              "<style scoped>\n",
              "    .dataframe tbody tr th:only-of-type {\n",
              "        vertical-align: middle;\n",
              "    }\n",
              "\n",
              "    .dataframe tbody tr th {\n",
              "        vertical-align: top;\n",
              "    }\n",
              "\n",
              "    .dataframe thead th {\n",
              "        text-align: right;\n",
              "    }\n",
              "</style>\n",
              "<table border=\"1\" class=\"dataframe\">\n",
              "  <thead>\n",
              "    <tr style=\"text-align: right;\">\n",
              "      <th></th>\n",
              "      <th>label</th>\n",
              "      <th>label_copy</th>\n",
              "    </tr>\n",
              "    <tr>\n",
              "      <th>tripid</th>\n",
              "      <th></th>\n",
              "      <th></th>\n",
              "    </tr>\n",
              "  </thead>\n",
              "  <tbody>\n",
              "    <tr>\n",
              "      <th>189123628</th>\n",
              "      <td>1</td>\n",
              "      <td>correct</td>\n",
              "    </tr>\n",
              "    <tr>\n",
              "      <th>189125358</th>\n",
              "      <td>1</td>\n",
              "      <td>correct</td>\n",
              "    </tr>\n",
              "    <tr>\n",
              "      <th>189125719</th>\n",
              "      <td>1</td>\n",
              "      <td>correct</td>\n",
              "    </tr>\n",
              "    <tr>\n",
              "      <th>189127273</th>\n",
              "      <td>1</td>\n",
              "      <td>correct</td>\n",
              "    </tr>\n",
              "    <tr>\n",
              "      <th>189128020</th>\n",
              "      <td>1</td>\n",
              "      <td>correct</td>\n",
              "    </tr>\n",
              "  </tbody>\n",
              "</table>\n",
              "</div>"
            ],
            "text/plain": [
              "           label label_copy\n",
              "tripid                     \n",
              "189123628      1    correct\n",
              "189125358      1    correct\n",
              "189125719      1    correct\n",
              "189127273      1    correct\n",
              "189128020      1    correct"
            ]
          },
          "metadata": {
            "tags": []
          },
          "execution_count": 6
        }
      ]
    },
    {
      "cell_type": "code",
      "metadata": {
        "id": "ua1t-DpEFfG2",
        "colab_type": "code",
        "outputId": "1fdee63a-ad3b-4d31-b48c-dae19913ce5b",
        "colab": {
          "base_uri": "https://localhost:8080/",
          "height": 68
        }
      },
      "source": [
        "label_df['label'].value_counts()"
      ],
      "execution_count": 0,
      "outputs": [
        {
          "output_type": "execute_result",
          "data": {
            "text/plain": [
              "1    15495\n",
              "0     1681\n",
              "Name: label, dtype: int64"
            ]
          },
          "metadata": {
            "tags": []
          },
          "execution_count": 7
        }
      ]
    },
    {
      "cell_type": "code",
      "metadata": {
        "id": "cTSxMeijGPPw",
        "colab_type": "code",
        "outputId": "dc367273-92b4-426a-b4cb-897b9f7e7219",
        "colab": {
          "base_uri": "https://localhost:8080/",
          "height": 235
        }
      },
      "source": [
        "label_df.drop(columns='label_copy', inplace=True)\n",
        "label_df.head()"
      ],
      "execution_count": 0,
      "outputs": [
        {
          "output_type": "execute_result",
          "data": {
            "text/html": [
              "<div>\n",
              "<style scoped>\n",
              "    .dataframe tbody tr th:only-of-type {\n",
              "        vertical-align: middle;\n",
              "    }\n",
              "\n",
              "    .dataframe tbody tr th {\n",
              "        vertical-align: top;\n",
              "    }\n",
              "\n",
              "    .dataframe thead th {\n",
              "        text-align: right;\n",
              "    }\n",
              "</style>\n",
              "<table border=\"1\" class=\"dataframe\">\n",
              "  <thead>\n",
              "    <tr style=\"text-align: right;\">\n",
              "      <th></th>\n",
              "      <th>label</th>\n",
              "    </tr>\n",
              "    <tr>\n",
              "      <th>tripid</th>\n",
              "      <th></th>\n",
              "    </tr>\n",
              "  </thead>\n",
              "  <tbody>\n",
              "    <tr>\n",
              "      <th>189123628</th>\n",
              "      <td>1</td>\n",
              "    </tr>\n",
              "    <tr>\n",
              "      <th>189125358</th>\n",
              "      <td>1</td>\n",
              "    </tr>\n",
              "    <tr>\n",
              "      <th>189125719</th>\n",
              "      <td>1</td>\n",
              "    </tr>\n",
              "    <tr>\n",
              "      <th>189127273</th>\n",
              "      <td>1</td>\n",
              "    </tr>\n",
              "    <tr>\n",
              "      <th>189128020</th>\n",
              "      <td>1</td>\n",
              "    </tr>\n",
              "  </tbody>\n",
              "</table>\n",
              "</div>"
            ],
            "text/plain": [
              "           label\n",
              "tripid          \n",
              "189123628      1\n",
              "189125358      1\n",
              "189125719      1\n",
              "189127273      1\n",
              "189128020      1"
            ]
          },
          "metadata": {
            "tags": []
          },
          "execution_count": 8
        }
      ]
    },
    {
      "cell_type": "code",
      "metadata": {
        "id": "wn79paxMPfF_",
        "colab_type": "code",
        "outputId": "e16df051-ca85-4dbd-d94a-c3d721b4a692",
        "colab": {
          "base_uri": "https://localhost:8080/",
          "height": 255
        }
      },
      "source": [
        "def set_trip_time(df):\n",
        "    df['pickup_time'] = pd.to_datetime(df['pickup_time'])\n",
        "    df['drop_time'] = pd.to_datetime(df['drop_time'])\n",
        "    df['trip_time'] = (df['drop_time'] - df['pickup_time']).dt.total_seconds()\n",
        "    df.drop(columns=['pickup_time', 'drop_time'], inplace=True)\n",
        "\n",
        "set_trip_time(feature_df)\n",
        "feature_df.head()"
      ],
      "execution_count": 0,
      "outputs": [
        {
          "output_type": "execute_result",
          "data": {
            "text/html": [
              "<div>\n",
              "<style scoped>\n",
              "    .dataframe tbody tr th:only-of-type {\n",
              "        vertical-align: middle;\n",
              "    }\n",
              "\n",
              "    .dataframe tbody tr th {\n",
              "        vertical-align: top;\n",
              "    }\n",
              "\n",
              "    .dataframe thead th {\n",
              "        text-align: right;\n",
              "    }\n",
              "</style>\n",
              "<table border=\"1\" class=\"dataframe\">\n",
              "  <thead>\n",
              "    <tr style=\"text-align: right;\">\n",
              "      <th></th>\n",
              "      <th>additional_fare</th>\n",
              "      <th>duration</th>\n",
              "      <th>meter_waiting</th>\n",
              "      <th>meter_waiting_fare</th>\n",
              "      <th>meter_waiting_till_pickup</th>\n",
              "      <th>pick_lat</th>\n",
              "      <th>pick_lon</th>\n",
              "      <th>drop_lat</th>\n",
              "      <th>drop_lon</th>\n",
              "      <th>fare</th>\n",
              "      <th>trip_time</th>\n",
              "    </tr>\n",
              "    <tr>\n",
              "      <th>tripid</th>\n",
              "      <th></th>\n",
              "      <th></th>\n",
              "      <th></th>\n",
              "      <th></th>\n",
              "      <th></th>\n",
              "      <th></th>\n",
              "      <th></th>\n",
              "      <th></th>\n",
              "      <th></th>\n",
              "      <th></th>\n",
              "      <th></th>\n",
              "    </tr>\n",
              "  </thead>\n",
              "  <tbody>\n",
              "    <tr>\n",
              "      <th>189123628</th>\n",
              "      <td>10.5</td>\n",
              "      <td>834.0</td>\n",
              "      <td>56.0</td>\n",
              "      <td>0.0000</td>\n",
              "      <td>64.0</td>\n",
              "      <td>6.86252</td>\n",
              "      <td>79.8993</td>\n",
              "      <td>6.90330</td>\n",
              "      <td>79.8783</td>\n",
              "      <td>270.32</td>\n",
              "      <td>840.0</td>\n",
              "    </tr>\n",
              "    <tr>\n",
              "      <th>189125358</th>\n",
              "      <td>10.5</td>\n",
              "      <td>791.0</td>\n",
              "      <td>47.0</td>\n",
              "      <td>0.0000</td>\n",
              "      <td>134.0</td>\n",
              "      <td>6.88589</td>\n",
              "      <td>79.8984</td>\n",
              "      <td>6.91373</td>\n",
              "      <td>79.8923</td>\n",
              "      <td>197.85</td>\n",
              "      <td>780.0</td>\n",
              "    </tr>\n",
              "    <tr>\n",
              "      <th>189125719</th>\n",
              "      <td>10.5</td>\n",
              "      <td>1087.0</td>\n",
              "      <td>80.0</td>\n",
              "      <td>0.0000</td>\n",
              "      <td>61.0</td>\n",
              "      <td>6.90839</td>\n",
              "      <td>79.8651</td>\n",
              "      <td>6.93669</td>\n",
              "      <td>79.9146</td>\n",
              "      <td>301.64</td>\n",
              "      <td>1080.0</td>\n",
              "    </tr>\n",
              "    <tr>\n",
              "      <th>189127273</th>\n",
              "      <td>10.5</td>\n",
              "      <td>598.0</td>\n",
              "      <td>271.0</td>\n",
              "      <td>15.6638</td>\n",
              "      <td>68.0</td>\n",
              "      <td>6.92570</td>\n",
              "      <td>79.8895</td>\n",
              "      <td>6.92748</td>\n",
              "      <td>79.8971</td>\n",
              "      <td>82.30</td>\n",
              "      <td>600.0</td>\n",
              "    </tr>\n",
              "    <tr>\n",
              "      <th>189128020</th>\n",
              "      <td>NaN</td>\n",
              "      <td>NaN</td>\n",
              "      <td>NaN</td>\n",
              "      <td>NaN</td>\n",
              "      <td>NaN</td>\n",
              "      <td>6.87441</td>\n",
              "      <td>79.8615</td>\n",
              "      <td>6.84478</td>\n",
              "      <td>79.9290</td>\n",
              "      <td>358.39</td>\n",
              "      <td>1020.0</td>\n",
              "    </tr>\n",
              "  </tbody>\n",
              "</table>\n",
              "</div>"
            ],
            "text/plain": [
              "           additional_fare  duration  meter_waiting  meter_waiting_fare  \\\n",
              "tripid                                                                    \n",
              "189123628             10.5     834.0           56.0              0.0000   \n",
              "189125358             10.5     791.0           47.0              0.0000   \n",
              "189125719             10.5    1087.0           80.0              0.0000   \n",
              "189127273             10.5     598.0          271.0             15.6638   \n",
              "189128020              NaN       NaN            NaN                 NaN   \n",
              "\n",
              "           meter_waiting_till_pickup  pick_lat  pick_lon  drop_lat  drop_lon  \\\n",
              "tripid                                                                         \n",
              "189123628                       64.0   6.86252   79.8993   6.90330   79.8783   \n",
              "189125358                      134.0   6.88589   79.8984   6.91373   79.8923   \n",
              "189125719                       61.0   6.90839   79.8651   6.93669   79.9146   \n",
              "189127273                       68.0   6.92570   79.8895   6.92748   79.8971   \n",
              "189128020                        NaN   6.87441   79.8615   6.84478   79.9290   \n",
              "\n",
              "             fare  trip_time  \n",
              "tripid                        \n",
              "189123628  270.32      840.0  \n",
              "189125358  197.85      780.0  \n",
              "189125719  301.64     1080.0  \n",
              "189127273   82.30      600.0  \n",
              "189128020  358.39     1020.0  "
            ]
          },
          "metadata": {
            "tags": []
          },
          "execution_count": 9
        }
      ]
    },
    {
      "cell_type": "code",
      "metadata": {
        "id": "1yVBRtIrshZT",
        "colab_type": "code",
        "outputId": "86f16d93-17eb-49c8-d5fe-6d798290ff6e",
        "colab": {
          "base_uri": "https://localhost:8080/",
          "height": 235
        }
      },
      "source": [
        "def get_distance(lat1, lon1, lat2, lon2):\n",
        "    # haversine_distance\n",
        "   r = 6371\n",
        "   phi1 = np.radians(lat1)\n",
        "   phi2 = np.radians(lat2)\n",
        "   lamb1 = np.radians(lon1)\n",
        "   lamb2 = np.radians(lon2)\n",
        "\n",
        "   delta_phi = phi2 - phi1\n",
        "   delta_lambda = lamb2 - lamb1\n",
        "   a = np.sin(delta_phi / 2)**2 + np.cos(phi1) * np.cos(phi2) *   np.sin(delta_lambda / 2)**2\n",
        "   res = r * 2 * np.arctan2(np.sqrt(a), np.sqrt(1 - a))\n",
        "   return np.round(res, 3)\n",
        "\n",
        "def set_distance(feature_df):\n",
        "    distances = []\n",
        "    for row in feature_df.itertuples(index=False):\n",
        "        distances.append(get_distance(row.pick_lat, row.pick_lon, row.drop_lat, row.drop_lon))\n",
        "    \n",
        "    feature_df['trip_distance'] = distances\n",
        "    feature_df.drop(columns=['pick_lat', 'pick_lon', 'drop_lat', 'drop_lon'], inplace=True)\n",
        "\n",
        "# Calling the set_distance to set a distance column and remove coordinates columns\n",
        "set_distance(feature_df)\n",
        "feature_df.head()"
      ],
      "execution_count": 0,
      "outputs": [
        {
          "output_type": "execute_result",
          "data": {
            "text/html": [
              "<div>\n",
              "<style scoped>\n",
              "    .dataframe tbody tr th:only-of-type {\n",
              "        vertical-align: middle;\n",
              "    }\n",
              "\n",
              "    .dataframe tbody tr th {\n",
              "        vertical-align: top;\n",
              "    }\n",
              "\n",
              "    .dataframe thead th {\n",
              "        text-align: right;\n",
              "    }\n",
              "</style>\n",
              "<table border=\"1\" class=\"dataframe\">\n",
              "  <thead>\n",
              "    <tr style=\"text-align: right;\">\n",
              "      <th></th>\n",
              "      <th>additional_fare</th>\n",
              "      <th>duration</th>\n",
              "      <th>meter_waiting</th>\n",
              "      <th>meter_waiting_fare</th>\n",
              "      <th>meter_waiting_till_pickup</th>\n",
              "      <th>fare</th>\n",
              "      <th>trip_time</th>\n",
              "      <th>trip_distance</th>\n",
              "    </tr>\n",
              "    <tr>\n",
              "      <th>tripid</th>\n",
              "      <th></th>\n",
              "      <th></th>\n",
              "      <th></th>\n",
              "      <th></th>\n",
              "      <th></th>\n",
              "      <th></th>\n",
              "      <th></th>\n",
              "      <th></th>\n",
              "    </tr>\n",
              "  </thead>\n",
              "  <tbody>\n",
              "    <tr>\n",
              "      <th>189123628</th>\n",
              "      <td>10.5</td>\n",
              "      <td>834.0</td>\n",
              "      <td>56.0</td>\n",
              "      <td>0.0000</td>\n",
              "      <td>64.0</td>\n",
              "      <td>270.32</td>\n",
              "      <td>840.0</td>\n",
              "      <td>5.093</td>\n",
              "    </tr>\n",
              "    <tr>\n",
              "      <th>189125358</th>\n",
              "      <td>10.5</td>\n",
              "      <td>791.0</td>\n",
              "      <td>47.0</td>\n",
              "      <td>0.0000</td>\n",
              "      <td>134.0</td>\n",
              "      <td>197.85</td>\n",
              "      <td>780.0</td>\n",
              "      <td>3.168</td>\n",
              "    </tr>\n",
              "    <tr>\n",
              "      <th>189125719</th>\n",
              "      <td>10.5</td>\n",
              "      <td>1087.0</td>\n",
              "      <td>80.0</td>\n",
              "      <td>0.0000</td>\n",
              "      <td>61.0</td>\n",
              "      <td>301.64</td>\n",
              "      <td>1080.0</td>\n",
              "      <td>6.305</td>\n",
              "    </tr>\n",
              "    <tr>\n",
              "      <th>189127273</th>\n",
              "      <td>10.5</td>\n",
              "      <td>598.0</td>\n",
              "      <td>271.0</td>\n",
              "      <td>15.6638</td>\n",
              "      <td>68.0</td>\n",
              "      <td>82.30</td>\n",
              "      <td>600.0</td>\n",
              "      <td>0.862</td>\n",
              "    </tr>\n",
              "    <tr>\n",
              "      <th>189128020</th>\n",
              "      <td>NaN</td>\n",
              "      <td>NaN</td>\n",
              "      <td>NaN</td>\n",
              "      <td>NaN</td>\n",
              "      <td>NaN</td>\n",
              "      <td>358.39</td>\n",
              "      <td>1020.0</td>\n",
              "      <td>8.148</td>\n",
              "    </tr>\n",
              "  </tbody>\n",
              "</table>\n",
              "</div>"
            ],
            "text/plain": [
              "           additional_fare  duration  meter_waiting  meter_waiting_fare  \\\n",
              "tripid                                                                    \n",
              "189123628             10.5     834.0           56.0              0.0000   \n",
              "189125358             10.5     791.0           47.0              0.0000   \n",
              "189125719             10.5    1087.0           80.0              0.0000   \n",
              "189127273             10.5     598.0          271.0             15.6638   \n",
              "189128020              NaN       NaN            NaN                 NaN   \n",
              "\n",
              "           meter_waiting_till_pickup    fare  trip_time  trip_distance  \n",
              "tripid                                                                  \n",
              "189123628                       64.0  270.32      840.0          5.093  \n",
              "189125358                      134.0  197.85      780.0          3.168  \n",
              "189125719                       61.0  301.64     1080.0          6.305  \n",
              "189127273                       68.0   82.30      600.0          0.862  \n",
              "189128020                        NaN  358.39     1020.0          8.148  "
            ]
          },
          "metadata": {
            "tags": []
          },
          "execution_count": 10
        }
      ]
    },
    {
      "cell_type": "code",
      "metadata": {
        "id": "9A6VMcHFDNKe",
        "colab_type": "code",
        "outputId": "a9e4aa89-3cfd-4117-fbd9-c4c008eb9b43",
        "colab": {
          "base_uri": "https://localhost:8080/",
          "height": 297
        }
      },
      "source": [
        "feature_df.describe()"
      ],
      "execution_count": 0,
      "outputs": [
        {
          "output_type": "execute_result",
          "data": {
            "text/html": [
              "<div>\n",
              "<style scoped>\n",
              "    .dataframe tbody tr th:only-of-type {\n",
              "        vertical-align: middle;\n",
              "    }\n",
              "\n",
              "    .dataframe tbody tr th {\n",
              "        vertical-align: top;\n",
              "    }\n",
              "\n",
              "    .dataframe thead th {\n",
              "        text-align: right;\n",
              "    }\n",
              "</style>\n",
              "<table border=\"1\" class=\"dataframe\">\n",
              "  <thead>\n",
              "    <tr style=\"text-align: right;\">\n",
              "      <th></th>\n",
              "      <th>additional_fare</th>\n",
              "      <th>duration</th>\n",
              "      <th>meter_waiting</th>\n",
              "      <th>meter_waiting_fare</th>\n",
              "      <th>meter_waiting_till_pickup</th>\n",
              "      <th>fare</th>\n",
              "      <th>trip_time</th>\n",
              "      <th>trip_distance</th>\n",
              "    </tr>\n",
              "  </thead>\n",
              "  <tbody>\n",
              "    <tr>\n",
              "      <th>count</th>\n",
              "      <td>16974.000000</td>\n",
              "      <td>16974.000000</td>\n",
              "      <td>16974.000000</td>\n",
              "      <td>16974.000000</td>\n",
              "      <td>16974.000000</td>\n",
              "      <td>17039.000000</td>\n",
              "      <td>17176.000000</td>\n",
              "      <td>17176.000000</td>\n",
              "    </tr>\n",
              "    <tr>\n",
              "      <th>mean</th>\n",
              "      <td>13.719651</td>\n",
              "      <td>1702.858077</td>\n",
              "      <td>629.074231</td>\n",
              "      <td>32.057666</td>\n",
              "      <td>112.466832</td>\n",
              "      <td>312.655466</td>\n",
              "      <td>1713.929902</td>\n",
              "      <td>4.858258</td>\n",
              "    </tr>\n",
              "    <tr>\n",
              "      <th>std</th>\n",
              "      <td>98.975052</td>\n",
              "      <td>8120.160818</td>\n",
              "      <td>8063.260669</td>\n",
              "      <td>465.483573</td>\n",
              "      <td>442.054812</td>\n",
              "      <td>605.300565</td>\n",
              "      <td>8101.459112</td>\n",
              "      <td>43.015847</td>\n",
              "    </tr>\n",
              "    <tr>\n",
              "      <th>min</th>\n",
              "      <td>0.000000</td>\n",
              "      <td>0.000000</td>\n",
              "      <td>0.000000</td>\n",
              "      <td>0.000000</td>\n",
              "      <td>0.000000</td>\n",
              "      <td>0.000000</td>\n",
              "      <td>0.000000</td>\n",
              "      <td>0.000000</td>\n",
              "    </tr>\n",
              "    <tr>\n",
              "      <th>25%</th>\n",
              "      <td>10.500000</td>\n",
              "      <td>548.000000</td>\n",
              "      <td>33.000000</td>\n",
              "      <td>0.000000</td>\n",
              "      <td>26.000000</td>\n",
              "      <td>125.515000</td>\n",
              "      <td>540.000000</td>\n",
              "      <td>1.486000</td>\n",
              "    </tr>\n",
              "    <tr>\n",
              "      <th>50%</th>\n",
              "      <td>10.500000</td>\n",
              "      <td>1009.500000</td>\n",
              "      <td>123.000000</td>\n",
              "      <td>0.116600</td>\n",
              "      <td>73.000000</td>\n",
              "      <td>211.180000</td>\n",
              "      <td>1020.000000</td>\n",
              "      <td>3.218000</td>\n",
              "    </tr>\n",
              "    <tr>\n",
              "      <th>75%</th>\n",
              "      <td>10.500000</td>\n",
              "      <td>1803.000000</td>\n",
              "      <td>351.000000</td>\n",
              "      <td>14.341800</td>\n",
              "      <td>144.000000</td>\n",
              "      <td>366.465000</td>\n",
              "      <td>1800.000000</td>\n",
              "      <td>6.161250</td>\n",
              "    </tr>\n",
              "    <tr>\n",
              "      <th>max</th>\n",
              "      <td>12795.030000</td>\n",
              "      <td>453872.000000</td>\n",
              "      <td>453650.000000</td>\n",
              "      <td>26198.601400</td>\n",
              "      <td>51288.000000</td>\n",
              "      <td>26945.990000</td>\n",
              "      <td>453840.000000</td>\n",
              "      <td>5609.521000</td>\n",
              "    </tr>\n",
              "  </tbody>\n",
              "</table>\n",
              "</div>"
            ],
            "text/plain": [
              "       additional_fare       duration  meter_waiting  meter_waiting_fare  \\\n",
              "count     16974.000000   16974.000000   16974.000000        16974.000000   \n",
              "mean         13.719651    1702.858077     629.074231           32.057666   \n",
              "std          98.975052    8120.160818    8063.260669          465.483573   \n",
              "min           0.000000       0.000000       0.000000            0.000000   \n",
              "25%          10.500000     548.000000      33.000000            0.000000   \n",
              "50%          10.500000    1009.500000     123.000000            0.116600   \n",
              "75%          10.500000    1803.000000     351.000000           14.341800   \n",
              "max       12795.030000  453872.000000  453650.000000        26198.601400   \n",
              "\n",
              "       meter_waiting_till_pickup          fare      trip_time  trip_distance  \n",
              "count               16974.000000  17039.000000   17176.000000   17176.000000  \n",
              "mean                  112.466832    312.655466    1713.929902       4.858258  \n",
              "std                   442.054812    605.300565    8101.459112      43.015847  \n",
              "min                     0.000000      0.000000       0.000000       0.000000  \n",
              "25%                    26.000000    125.515000     540.000000       1.486000  \n",
              "50%                    73.000000    211.180000    1020.000000       3.218000  \n",
              "75%                   144.000000    366.465000    1800.000000       6.161250  \n",
              "max                 51288.000000  26945.990000  453840.000000    5609.521000  "
            ]
          },
          "metadata": {
            "tags": []
          },
          "execution_count": 11
        }
      ]
    },
    {
      "cell_type": "code",
      "metadata": {
        "id": "P-_IDhSNHHAn",
        "colab_type": "code",
        "outputId": "8ba2da69-86cb-4306-dbc6-14b2433f6b40",
        "colab": {
          "base_uri": "https://localhost:8080/",
          "height": 255
        }
      },
      "source": [
        "def set_time_error(feature_df):\n",
        "    time_errors = []\n",
        "    feature_df['time_error'] = (feature_df['duration'] - feature_df['trip_time'])**2\n",
        "    #feature_df.drop(columns=['duration', 'trip_time'], inplace=True)\n",
        "\n",
        "set_time_error(feature_df)\n",
        "feature_df.head()"
      ],
      "execution_count": 0,
      "outputs": [
        {
          "output_type": "execute_result",
          "data": {
            "text/html": [
              "<div>\n",
              "<style scoped>\n",
              "    .dataframe tbody tr th:only-of-type {\n",
              "        vertical-align: middle;\n",
              "    }\n",
              "\n",
              "    .dataframe tbody tr th {\n",
              "        vertical-align: top;\n",
              "    }\n",
              "\n",
              "    .dataframe thead th {\n",
              "        text-align: right;\n",
              "    }\n",
              "</style>\n",
              "<table border=\"1\" class=\"dataframe\">\n",
              "  <thead>\n",
              "    <tr style=\"text-align: right;\">\n",
              "      <th></th>\n",
              "      <th>additional_fare</th>\n",
              "      <th>duration</th>\n",
              "      <th>meter_waiting</th>\n",
              "      <th>meter_waiting_fare</th>\n",
              "      <th>meter_waiting_till_pickup</th>\n",
              "      <th>fare</th>\n",
              "      <th>trip_time</th>\n",
              "      <th>trip_distance</th>\n",
              "      <th>time_error</th>\n",
              "    </tr>\n",
              "    <tr>\n",
              "      <th>tripid</th>\n",
              "      <th></th>\n",
              "      <th></th>\n",
              "      <th></th>\n",
              "      <th></th>\n",
              "      <th></th>\n",
              "      <th></th>\n",
              "      <th></th>\n",
              "      <th></th>\n",
              "      <th></th>\n",
              "    </tr>\n",
              "  </thead>\n",
              "  <tbody>\n",
              "    <tr>\n",
              "      <th>189123628</th>\n",
              "      <td>10.5</td>\n",
              "      <td>834.0</td>\n",
              "      <td>56.0</td>\n",
              "      <td>0.0000</td>\n",
              "      <td>64.0</td>\n",
              "      <td>270.32</td>\n",
              "      <td>840.0</td>\n",
              "      <td>5.093</td>\n",
              "      <td>36.0</td>\n",
              "    </tr>\n",
              "    <tr>\n",
              "      <th>189125358</th>\n",
              "      <td>10.5</td>\n",
              "      <td>791.0</td>\n",
              "      <td>47.0</td>\n",
              "      <td>0.0000</td>\n",
              "      <td>134.0</td>\n",
              "      <td>197.85</td>\n",
              "      <td>780.0</td>\n",
              "      <td>3.168</td>\n",
              "      <td>121.0</td>\n",
              "    </tr>\n",
              "    <tr>\n",
              "      <th>189125719</th>\n",
              "      <td>10.5</td>\n",
              "      <td>1087.0</td>\n",
              "      <td>80.0</td>\n",
              "      <td>0.0000</td>\n",
              "      <td>61.0</td>\n",
              "      <td>301.64</td>\n",
              "      <td>1080.0</td>\n",
              "      <td>6.305</td>\n",
              "      <td>49.0</td>\n",
              "    </tr>\n",
              "    <tr>\n",
              "      <th>189127273</th>\n",
              "      <td>10.5</td>\n",
              "      <td>598.0</td>\n",
              "      <td>271.0</td>\n",
              "      <td>15.6638</td>\n",
              "      <td>68.0</td>\n",
              "      <td>82.30</td>\n",
              "      <td>600.0</td>\n",
              "      <td>0.862</td>\n",
              "      <td>4.0</td>\n",
              "    </tr>\n",
              "    <tr>\n",
              "      <th>189128020</th>\n",
              "      <td>NaN</td>\n",
              "      <td>NaN</td>\n",
              "      <td>NaN</td>\n",
              "      <td>NaN</td>\n",
              "      <td>NaN</td>\n",
              "      <td>358.39</td>\n",
              "      <td>1020.0</td>\n",
              "      <td>8.148</td>\n",
              "      <td>NaN</td>\n",
              "    </tr>\n",
              "  </tbody>\n",
              "</table>\n",
              "</div>"
            ],
            "text/plain": [
              "           additional_fare  duration  meter_waiting  meter_waiting_fare  \\\n",
              "tripid                                                                    \n",
              "189123628             10.5     834.0           56.0              0.0000   \n",
              "189125358             10.5     791.0           47.0              0.0000   \n",
              "189125719             10.5    1087.0           80.0              0.0000   \n",
              "189127273             10.5     598.0          271.0             15.6638   \n",
              "189128020              NaN       NaN            NaN                 NaN   \n",
              "\n",
              "           meter_waiting_till_pickup    fare  trip_time  trip_distance  \\\n",
              "tripid                                                                   \n",
              "189123628                       64.0  270.32      840.0          5.093   \n",
              "189125358                      134.0  197.85      780.0          3.168   \n",
              "189125719                       61.0  301.64     1080.0          6.305   \n",
              "189127273                       68.0   82.30      600.0          0.862   \n",
              "189128020                        NaN  358.39     1020.0          8.148   \n",
              "\n",
              "           time_error  \n",
              "tripid                 \n",
              "189123628        36.0  \n",
              "189125358       121.0  \n",
              "189125719        49.0  \n",
              "189127273         4.0  \n",
              "189128020         NaN  "
            ]
          },
          "metadata": {
            "tags": []
          },
          "execution_count": 12
        }
      ]
    },
    {
      "cell_type": "code",
      "metadata": {
        "id": "agtN40lTxo9O",
        "colab_type": "code",
        "colab": {}
      },
      "source": [
        "def feature_process(feature_df):\n",
        "    set_trip_time(feature_df)\n",
        "    set_distance(feature_df)\n",
        "    set_time_error(feature_df)"
      ],
      "execution_count": 0,
      "outputs": []
    },
    {
      "cell_type": "code",
      "metadata": {
        "id": "_mwzGILBa1fJ",
        "colab_type": "code",
        "outputId": "bdb72dda-9030-4f89-d354-6e8ddcb2d20b",
        "colab": {
          "base_uri": "https://localhost:8080/",
          "height": 34
        }
      },
      "source": [
        "(feature_df.shape, label_df.shape)"
      ],
      "execution_count": 0,
      "outputs": [
        {
          "output_type": "execute_result",
          "data": {
            "text/plain": [
              "((17176, 9), (17176, 1))"
            ]
          },
          "metadata": {
            "tags": []
          },
          "execution_count": 14
        }
      ]
    },
    {
      "cell_type": "code",
      "metadata": {
        "id": "k7QdXRTGe6Tf",
        "colab_type": "code",
        "outputId": "d17640e3-83d1-4412-dc12-b251c1b64e89",
        "colab": {
          "base_uri": "https://localhost:8080/",
          "height": 187
        }
      },
      "source": [
        "feature_df.dtypes"
      ],
      "execution_count": 0,
      "outputs": [
        {
          "output_type": "execute_result",
          "data": {
            "text/plain": [
              "additional_fare              float64\n",
              "duration                     float64\n",
              "meter_waiting                float64\n",
              "meter_waiting_fare           float64\n",
              "meter_waiting_till_pickup    float64\n",
              "fare                         float64\n",
              "trip_time                    float64\n",
              "trip_distance                float64\n",
              "time_error                   float64\n",
              "dtype: object"
            ]
          },
          "metadata": {
            "tags": []
          },
          "execution_count": 15
        }
      ]
    },
    {
      "cell_type": "code",
      "metadata": {
        "id": "LQdWtk_3ntlY",
        "colab_type": "code",
        "outputId": "429a8e92-3ee4-4ca3-965b-9cb2322d0df8",
        "colab": {
          "base_uri": "https://localhost:8080/",
          "height": 187
        }
      },
      "source": [
        "feature_df.isnull().sum()"
      ],
      "execution_count": 0,
      "outputs": [
        {
          "output_type": "execute_result",
          "data": {
            "text/plain": [
              "additional_fare              202\n",
              "duration                     202\n",
              "meter_waiting                202\n",
              "meter_waiting_fare           202\n",
              "meter_waiting_till_pickup    202\n",
              "fare                         137\n",
              "trip_time                      0\n",
              "trip_distance                  0\n",
              "time_error                   202\n",
              "dtype: int64"
            ]
          },
          "metadata": {
            "tags": []
          },
          "execution_count": 16
        }
      ]
    },
    {
      "cell_type": "markdown",
      "metadata": {
        "id": "ZRlrXB2na--b",
        "colab_type": "text"
      },
      "source": [
        "# Visualizing Data\n"
      ]
    },
    {
      "cell_type": "code",
      "metadata": {
        "id": "QgpFiXOLfXq1",
        "colab_type": "code",
        "colab": {}
      },
      "source": [
        "%%script false --no-raise-error\n",
        "from sklearn.decomposition import PCA\n",
        "from sklearn.impute import SimpleImputer\n",
        "import seaborn as sns\n",
        "\n",
        "%matplotlib inline\n",
        "import matplotlib.pyplot as plt\n",
        "\n",
        "imputer = SimpleImputer()\n",
        "data = imputer.fit_transform(feature_df)\n",
        "pca = PCA(n_components=2)\n",
        "pca_result = pca.fit_transform(data)\n",
        "\n",
        "temp_df = pd.DataFrame({'x': pca_result[:,0], 'y': pca_result[:,1], 'label': label_df['label']})\n",
        "\n",
        "# For reproducability of the results\n",
        "np.random.seed(42)\n",
        "rndperm = np.random.permutation(temp_df.shape[0])\n",
        "\n",
        "plt.figure(figsize=(5,5))\n",
        "sns.scatterplot(\n",
        "    x=\"x\", y=\"y\",\n",
        "    hue=\"label\",\n",
        "    palette=sns.color_palette(\"hls\", 2),\n",
        "    data=temp_df,\n",
        "    legend=\"full\",\n",
        "    alpha=0.6\n",
        ")"
      ],
      "execution_count": 0,
      "outputs": []
    },
    {
      "cell_type": "markdown",
      "metadata": {
        "id": "gaEGCpol15TP",
        "colab_type": "text"
      },
      "source": [
        "# Building Models"
      ]
    },
    {
      "cell_type": "code",
      "metadata": {
        "id": "KfSrgd1X13y5",
        "colab_type": "code",
        "colab": {}
      },
      "source": [
        "from sklearn.preprocessing import StandardScaler, MinMaxScaler\n",
        "from sklearn.impute import SimpleImputer\n",
        "from sklearn.compose import ColumnTransformer\n",
        "\n",
        "from sklearn.naive_bayes import MultinomialNB, BernoulliNB\n",
        "from sklearn.linear_model import LogisticRegression, SGDClassifier\n",
        "from sklearn.svm import LinearSVC\n",
        "from sklearn.ensemble import RandomForestClassifier\n",
        "from xgboost.sklearn import XGBClassifier\n",
        "\n",
        "from sklearn.pipeline import Pipeline\n",
        "\n",
        "from sklearn.model_selection import train_test_split, GridSearchCV, cross_val_score\n",
        "\n",
        "from sklearn.metrics import f1_score\n",
        "\n",
        "RANDOM_SEED = 6    # Set a random seed for reproducibility!"
      ],
      "execution_count": 0,
      "outputs": []
    },
    {
      "cell_type": "markdown",
      "metadata": {
        "id": "hZyhYZV73THz",
        "colab_type": "text"
      },
      "source": [
        "## Setting-up the Pre-Processor"
      ]
    },
    {
      "cell_type": "code",
      "metadata": {
        "id": "9kz0psA43aQo",
        "colab_type": "code",
        "colab": {}
      },
      "source": [
        "# chain preprocessing into a Pipeline object\n",
        "# each step is a tuple of (name you chose, sklearn transformer)\n",
        "\n",
        "# SimpleImputer(strategy='median', add_indicator=False) - RandomForest model\n",
        "# SimpleImputer(strategy='median', add_indicator=True) - LogisticRegression\n",
        "# SimpleImputer(strategy='most_frequent', add_indicator=True) -XGBClassifier\n",
        "preprocessor = Pipeline([\n",
        "    ('simple_imputer', SimpleImputer(strategy='median', add_indicator=True)),\n",
        "    ('scaler', MinMaxScaler())\n",
        "])"
      ],
      "execution_count": 0,
      "outputs": []
    },
    {
      "cell_type": "markdown",
      "metadata": {
        "id": "850dqckx4bOP",
        "colab_type": "text"
      },
      "source": [
        "## Selecting the best model"
      ]
    },
    {
      "cell_type": "code",
      "metadata": {
        "id": "JJKvqbqc4ijY",
        "colab_type": "code",
        "colab": {}
      },
      "source": [
        "%%script false --no-raise-error\n",
        "models = [\n",
        "    XGBClassifier(max_depth=7, learning_rate=0.01, n_estimators=500, eval_metric='rmse') #, objective='binary:hinge'\n",
        "    #RandomForestClassifier(class_weight={1: 0.8, 0: 0.2}, criterion='entropy', max_depth=15, max_features=5, min_impurity_decrease=0, n_estimators=300, random_state=6),\n",
        "    #LogisticRegression(C=100, class_weight={1: 0.2, 0: 0.8}, max_iter=100, penalty='l1', solver='liblinear', random_state=0, n_jobs=-1)\n",
        "    #MultinomialNB(),\n",
        "    #BernoulliNB(),\n",
        "    #LogisticRegression(random_state=0),\n",
        "    #SGDClassifier(),\n",
        "    #LinearSVC()\n",
        "]\n",
        "\n",
        "processed_models = {}\n",
        "for model in models:\n",
        "    name = model.__class__.__name__\n",
        "    processed_models[name] = Pipeline([(\"preprocessor\", preprocessor),\n",
        "                                      (\"estimator\", model)])\n",
        "    \n",
        "CV = 5\n",
        "cv_df = pd.DataFrame(index=range(CV * len(models)))\n",
        "entries = []\n",
        "for (name, model) in processed_models.items():\n",
        "  f1_scores = cross_val_score(model, feature_df, label_df.label, scoring='f1_macro', cv=CV)\n",
        "  for fold_idx, f1 in enumerate(f1_scores):\n",
        "    entries.append((name, fold_idx, f1))\n",
        "cv_df = pd.DataFrame(entries, columns=['model_name', 'fold_idx', 'f1_score'])\n",
        "\n",
        "print(cv_df)\n",
        "print(cv_df.groupby('model_name').f1_score.mean())"
      ],
      "execution_count": 0,
      "outputs": []
    },
    {
      "cell_type": "markdown",
      "metadata": {
        "id": "8L1mqhouMjqu",
        "colab_type": "text"
      },
      "source": [
        "## Hyper-Parameter Tuning"
      ]
    },
    {
      "cell_type": "markdown",
      "metadata": {
        "id": "hhJ8N1Jnokag",
        "colab_type": "text"
      },
      "source": [
        "## Grid Search"
      ]
    },
    {
      "cell_type": "code",
      "metadata": {
        "id": "DO-C3DwLLOjq",
        "colab_type": "code",
        "colab": {}
      },
      "source": [
        "%%script false --no-raise-error\n",
        "# RandomForestClassifier(class_weight={1: 0.8, 0: 0.2}, criterion='entropy', max_depth=15, max_features=5, min_impurity_decrease=0, n_estimators=300, random_state=6, n_jobs=-1)\n",
        "# LogisticRegression(C=100, class_weight={1: 0.2, 0: 0.8}, max_iter=100, penalty='l1', solver='liblinear', random_state=0, n_jobs=-1)\n",
        "cross_pipeline = Pipeline([\n",
        "    (\"preprocessor\", preprocessor),\n",
        "    (\"estimators\", XGBClassifier(booster='dart', objective='binary:logitraw', n_estimators=1000, max_depth=8, learning_rate=0.03, eval_metric='mae')),\n",
        "])\n",
        "\n",
        "# estimator parameter tuning - Random Forest\n",
        "criterion = ['gini', 'entropy']\n",
        "n_estimators = [100, 200, 300, 50]\n",
        "max_depth = [3, 5, 10, 15]\n",
        "max_features = [5, 'log2', 'auto']\n",
        "min_impurity_decrease = [0, 0.2, 0.5, 1.0]\n",
        "class_weight = [{1:0.5, 0:0.5}, {1:0.2, 0:0.8}, {1:0.8, 0:0.2}, {1:0.3, 0:0.7}]\n",
        "\n",
        "param_grid1 = dict(estimators__criterion =criterion,\n",
        "                  estimators__n_estimators =n_estimators,\n",
        "                  estimators__max_depth=max_depth,\n",
        "                  estimators__max_features =max_features,\n",
        "                  estimators__min_impurity_decrease=min_impurity_decrease,\n",
        "                  estimators__class_weight=class_weight)\n",
        "\n",
        "# estimator parameter tuning - Linear Regression\n",
        "penalty = ['l1', 'l2'] # , 'elasticnet'\n",
        "C = [0.001, 0.01, 0.1, 1, 10, 100]\n",
        "class_weight = [{1:0.5, 0:0.5}, {1:0.2, 0:0.8}, {1:0.8, 0:0.2}, {1:0.3, 0:0.7}]\n",
        "solver = ['newton-cg', 'lbfgs', 'liblinear', 'sag', 'saga']\n",
        "max_iter = [100, 200, 300]\n",
        "\n",
        "param_grid2 = dict(estimators__penalty = penalty,\n",
        "                  estimators__C = C,\n",
        "                  estimators__max_iter = max_iter,\n",
        "                  estimators__solver = solver,\n",
        "                  estimators__class_weight=class_weight)\n",
        "\n",
        "# estimator parameter tuning - XGBoost\n",
        "booster = ['gbtree', 'dart']\n",
        "max_depth = [5, 8, 10]\n",
        "learning_rate = [0.01, 0.05, 0.1, 0.4]\n",
        "n_estimators = [500, 800, 1000]\n",
        "eval_metric = ['rmse', 'mae', 'logloss']\n",
        "objective = ['reg:logistic', 'binary:logistic', 'binary:logitraw', 'binary:hinge']\n",
        "\n",
        "param_grid3 = dict(estimators__booster = booster,\n",
        "                   estimators__max_depth = max_depth,\n",
        "                   estimators__learning_rate = learning_rate,\n",
        "                   estimators__n_estimators = n_estimators,\n",
        "                   estimators__eval_metric = eval_metric,\n",
        "                   estimators__objective = objective)\n",
        "\n",
        "# preprocessor parameter tuning\n",
        "strategy = ['mean', 'median', 'most_frequent']\n",
        "indicator = [True, False]\n",
        "param_grid4 = dict(preprocessor__simple_imputer__strategy = strategy,\n",
        "                   preprocessor__simple_imputer__add_indicator = indicator)\n",
        "\n",
        "X_trainc, X_evalc, y_trainc, y_evalc = train_test_split(\n",
        "    feature_df,\n",
        "    label_df,\n",
        "    test_size=0.33,\n",
        "    shuffle=True,\n",
        "    stratify=label_df,\n",
        "    random_state=RANDOM_SEED\n",
        ")\n",
        "\n",
        "grid = GridSearchCV(estimator=cross_pipeline,\n",
        "                    param_grid=param_grid4,\n",
        "                    scoring='f1_macro',\n",
        "                    verbose=1,\n",
        "                    n_jobs=-1)\n",
        "grid.fit(X_trainc, y_trainc)\n",
        "\n",
        "print(\"Model: Random Forest\")\n",
        "print(\"Best param: \",grid.best_params_)\n",
        "print(\"Best estimator: \", grid.best_estimator_)\n",
        "#print(cross_pipeline.get_params().keys())"
      ],
      "execution_count": 0,
      "outputs": []
    },
    {
      "cell_type": "markdown",
      "metadata": {
        "id": "HsqLOqCiosGb",
        "colab_type": "text"
      },
      "source": [
        "# Random Search"
      ]
    },
    {
      "cell_type": "code",
      "metadata": {
        "id": "guAn5R4tqEyC",
        "colab_type": "code",
        "outputId": "2da47ace-e2df-4077-c92c-0dbd66bb1bf2",
        "colab": {
          "base_uri": "https://localhost:8080/",
          "height": 598
        }
      },
      "source": [
        "#%%script false --no-raise-error\n",
        "from sklearn.model_selection import RandomizedSearchCV, StratifiedKFold\n",
        "\n",
        "cross_pipeline = Pipeline([\n",
        "    (\"preprocessor\", preprocessor),\n",
        "    (\"estimators\", XGBClassifier(learning_rate=0.02, n_estimators=1000, objective='binary:logistic',\n",
        "                      silent=True, nthread=6, tree_method='hist', eval_metric='auc')),\n",
        "])\n",
        "\n",
        "# estimator parameter tuning - XGBoost\n",
        "booster = ['gbtree', 'dart']\n",
        "max_depth = [5, 6, 8, 10, 12]\n",
        "learning_rate = [0.01, 0.03, 0.05, 0.1, 0.2]\n",
        "n_estimators = [500, 800, 1000]\n",
        "eval_metric = ['rmse', 'mae', 'logloss']\n",
        "objective = ['reg:logistic', 'binary:logistic', 'binary:logitraw', 'binary:hinge']\n",
        "\n",
        "param_grid1 = dict(estimators__booster = booster,\n",
        "                   estimators__max_depth = max_depth,\n",
        "                   estimators__learning_rate = learning_rate,\n",
        "                   estimators__n_estimators = n_estimators,\n",
        "                   estimators__eval_metric = eval_metric,\n",
        "                   estimators__objective = objective)\n",
        "\n",
        "param_grid2={\n",
        "  \"estimators__learning_rate\"    : [ 0.01, 0.02, 0.03, 0.04, 0.05, 0.1 ] ,\n",
        "  \"estimators__max_depth\"        : [ 3, 4, 5, 6, 8, 10, 12, 15 ],\n",
        "  \"estimators__min_child_weight\" : [ 1, 3, 5, 7 ],\n",
        "  \"estimators__subsample\"        : [0.8, 0.9, 1.0],\n",
        "  \"estimators__gamma\"            : [ 0.0, 0.1, 0.2 , 0.3, 0.4 ],\n",
        "  \"estimators__colsample_bytree\" : [ 0.7, 0.8, 0.9, 1 ]\n",
        " }\n",
        "\n",
        "skf = StratifiedKFold(n_splits=5, shuffle = True, random_state = 1001)\n",
        "\n",
        "random_grid = RandomizedSearchCV(estimator=cross_pipeline, \n",
        "                                 param_distributions = param_grid2, \n",
        "                                 n_iter=10, \n",
        "                                 scoring='f1_macro', \n",
        "                                 n_jobs=4, \n",
        "                                 cv=skf.split(feature_df,label_df), \n",
        "                                 verbose=3, \n",
        "                                 random_state=1001)\n",
        "\n",
        "random_grid.fit(feature_df, label_df)\n",
        "print(\"Best Params: \", random_grid.best_params_)\n",
        "print(\"Best Estimator: \", random_grid.best_estimator_)"
      ],
      "execution_count": 0,
      "outputs": [
        {
          "output_type": "stream",
          "text": [
            "Fitting 5 folds for each of 10 candidates, totalling 50 fits\n"
          ],
          "name": "stdout"
        },
        {
          "output_type": "stream",
          "text": [
            "[Parallel(n_jobs=4)]: Using backend LokyBackend with 4 concurrent workers.\n",
            "[Parallel(n_jobs=4)]: Done  24 tasks      | elapsed: 12.3min\n",
            "[Parallel(n_jobs=4)]: Done  50 out of  50 | elapsed: 17.0min finished\n",
            "/usr/local/lib/python3.6/dist-packages/sklearn/preprocessing/_label.py:235: DataConversionWarning: A column-vector y was passed when a 1d array was expected. Please change the shape of y to (n_samples, ), for example using ravel().\n",
            "  y = column_or_1d(y, warn=True)\n",
            "/usr/local/lib/python3.6/dist-packages/sklearn/preprocessing/_label.py:268: DataConversionWarning: A column-vector y was passed when a 1d array was expected. Please change the shape of y to (n_samples, ), for example using ravel().\n",
            "  y = column_or_1d(y, warn=True)\n"
          ],
          "name": "stderr"
        },
        {
          "output_type": "stream",
          "text": [
            "Best Params:  {'estimators__subsample': 0.8, 'estimators__min_child_weight': 1, 'estimators__max_depth': 4, 'estimators__learning_rate': 0.05, 'estimators__gamma': 0.2, 'estimators__colsample_bytree': 1}\n",
            "Best Estimator:  Pipeline(memory=None,\n",
            "         steps=[('preprocessor',\n",
            "                 Pipeline(memory=None,\n",
            "                          steps=[('simple_imputer',\n",
            "                                  SimpleImputer(add_indicator=True, copy=True,\n",
            "                                                fill_value=None,\n",
            "                                                missing_values=nan,\n",
            "                                                strategy='median', verbose=0)),\n",
            "                                 ('scaler',\n",
            "                                  MinMaxScaler(copy=True,\n",
            "                                               feature_range=(0, 1)))],\n",
            "                          verbose=False)),\n",
            "                ('estimators',\n",
            "                 XGBClassifier(base_score=0.5, booster='gbtree',\n",
            "                               colsample_bylevel=1,...ample_bynode=1,\n",
            "                               colsample_bytree=1, eval_metric='auc', gamma=0.2,\n",
            "                               learning_rate=0.05, max_delta_step=0,\n",
            "                               max_depth=4, min_child_weight=1, missing=None,\n",
            "                               n_estimators=1000, n_jobs=1, nthread=6,\n",
            "                               objective='binary:logistic', random_state=0,\n",
            "                               reg_alpha=0, reg_lambda=1, scale_pos_weight=1,\n",
            "                               seed=None, silent=True, subsample=0.8,\n",
            "                               tree_method='hist', verbosity=1))],\n",
            "         verbose=False)\n"
          ],
          "name": "stdout"
        }
      ]
    },
    {
      "cell_type": "code",
      "metadata": {
        "id": "Dod2s2WhGduY",
        "colab_type": "code",
        "outputId": "f8c27bfe-bd9a-440c-9070-9be88b19f039",
        "colab": {
          "base_uri": "https://localhost:8080/",
          "height": 34
        }
      },
      "source": [
        "random_grid.best_score_"
      ],
      "execution_count": 0,
      "outputs": [
        {
          "output_type": "execute_result",
          "data": {
            "text/plain": [
              "0.8427821584515603"
            ]
          },
          "metadata": {
            "tags": []
          },
          "execution_count": 24
        }
      ]
    },
    {
      "cell_type": "markdown",
      "metadata": {
        "id": "RKoj1iZsAFVe",
        "colab_type": "text"
      },
      "source": [
        "# Train & Evaluation"
      ]
    },
    {
      "cell_type": "code",
      "metadata": {
        "id": "jDDIvPJrAMrS",
        "colab_type": "code",
        "colab": {}
      },
      "source": [
        "#estimator=RandomForestClassifier(class_weight={1: 0.8, 0: 0.2}, criterion='entropy', max_depth=15, max_features=5, min_impurity_decrease=0, n_estimators=300, random_state=6)\n",
        "#estimator = LogisticRegression(C=100, class_weight={1: 0.2, 0: 0.8}, max_iter=100, penalty='l1', solver='liblinear', random_state=0, n_jobs=-1)\n",
        "# XGBClassifier(max_depth=10, learning_rate=0.01, n_estimators=1000, eval_metric='rmse') #, objective='binary:hinge'\n",
        "#subsample=0.8, min_child_weight=1, max_depth=8, learning_rate=0.05, gamma=0.2, colsample_bytree=1, n_estimators=1000, objective='binary:logistic', silent=True, nthread=6, tree_method='hist', eval_metric='auc'\n",
        "\n",
        "estimator = XGBClassifier(booster='dart', subsample=0.8, min_child_weight=7, max_depth=15, learning_rate=0.01, gamma=0.4, colsample_bytree=1,\n",
        "                          colsample_bynode=1, colsample_bylevel=1, base_score=0.5, n_estimators=1000, objective='binary:logistic',\n",
        "                      importance_type='gain', max_delta_step=0, missing=None, monotone_constrains=None, silent=True, \n",
        "                      njobs=6, num_parallel_tree=1, nthread=6, random_state=0, eval_metric='auc', reg_alpha=0, reg_lambda=1, scale_pos_weight=1, tree_method='hist', \n",
        "                      validate_parameters=False)\n",
        "full_pipeline = Pipeline([\n",
        "    (\"preprocessor\", preprocessor),\n",
        "    (\"estimators\", estimator),\n",
        "])"
      ],
      "execution_count": 0,
      "outputs": []
    },
    {
      "cell_type": "code",
      "metadata": {
        "id": "4s8CUKpIAv9E",
        "colab_type": "code",
        "colab": {}
      },
      "source": [
        "X_train, X_eval, y_train, y_eval = train_test_split(\n",
        "    feature_df,\n",
        "    label_df,\n",
        "    test_size=0.33,\n",
        "    shuffle=True,\n",
        "    stratify=label_df,\n",
        "    random_state=RANDOM_SEED\n",
        ")"
      ],
      "execution_count": 0,
      "outputs": []
    },
    {
      "cell_type": "code",
      "metadata": {
        "id": "RcSrwte2BQ4s",
        "colab_type": "code",
        "outputId": "ab7c8322-2e53-410f-9514-392158e08c2a",
        "colab": {
          "base_uri": "https://localhost:8080/",
          "height": 156
        }
      },
      "source": [
        "%%time\n",
        "\n",
        "# Train model\n",
        "full_pipeline.fit(X_train, y_train)\n",
        "\n",
        "# Predict on evaluation set\n",
        "preds = full_pipeline.predict(X_eval)\n",
        "print(preds)"
      ],
      "execution_count": 0,
      "outputs": [
        {
          "output_type": "stream",
          "text": [
            "/usr/local/lib/python3.6/dist-packages/sklearn/preprocessing/_label.py:235: DataConversionWarning: A column-vector y was passed when a 1d array was expected. Please change the shape of y to (n_samples, ), for example using ravel().\n",
            "  y = column_or_1d(y, warn=True)\n",
            "/usr/local/lib/python3.6/dist-packages/sklearn/preprocessing/_label.py:268: DataConversionWarning: A column-vector y was passed when a 1d array was expected. Please change the shape of y to (n_samples, ), for example using ravel().\n",
            "  y = column_or_1d(y, warn=True)\n"
          ],
          "name": "stderr"
        },
        {
          "output_type": "stream",
          "text": [
            "[1 1 1 ... 1 0 1]\n",
            "CPU times: user 16min 18s, sys: 8.7 s, total: 16min 26s\n",
            "Wall time: 8min 25s\n"
          ],
          "name": "stdout"
        }
      ]
    },
    {
      "cell_type": "code",
      "metadata": {
        "id": "-vlv_NE0BmsL",
        "colab_type": "code",
        "outputId": "0b2e29cd-64ac-43ba-9fc4-174671829620",
        "colab": {
          "base_uri": "https://localhost:8080/",
          "height": 51
        }
      },
      "source": [
        "%%script false --no-raise-error\n",
        "# Submission 3\n",
        "print(\"F1_Score: {}\".format(f1_score(y_eval, preds)))\n",
        "print(\"Macro F1_Score: {}\".format(f1_score(y_eval, preds, average='macro')))"
      ],
      "execution_count": 0,
      "outputs": [
        {
          "output_type": "stream",
          "text": [
            "F1_Score: 0.9728376035445965\n",
            "Macro F1_Score: 0.8389292620233442\n"
          ],
          "name": "stdout"
        }
      ]
    },
    {
      "cell_type": "code",
      "metadata": {
        "id": "r7_wH-NLDUGu",
        "colab_type": "code",
        "outputId": "248974d6-d1c6-428d-b26f-cd830cc0a717",
        "colab": {
          "base_uri": "https://localhost:8080/",
          "height": 51
        }
      },
      "source": [
        "%%script false --no-raise-error\n",
        "# Submission 4 - XGB with half of the parameter tuning - booster='dart', objective='binary:logitraw', n_estimators=1000, max_depth=8, learning_rate=0.03, eval_metric='mae'\n",
        "# Imputer - most_frequent\n",
        "print(\"F1_Score: {}\".format(f1_score(y_eval, preds)))\n",
        "print(\"Macro F1_Score: {}\".format(f1_score(y_eval, preds, average='macro')))"
      ],
      "execution_count": 0,
      "outputs": [
        {
          "output_type": "stream",
          "text": [
            "F1_Score: 0.9719752609199845\n",
            "Macro F1_Score: 0.8395229839953459\n"
          ],
          "name": "stdout"
        }
      ]
    },
    {
      "cell_type": "code",
      "metadata": {
        "id": "FWpI2RGENo5y",
        "colab_type": "code",
        "outputId": "8b56f571-7071-486f-e105-76139027518a",
        "colab": {
          "base_uri": "https://localhost:8080/",
          "height": 51
        }
      },
      "source": [
        "%%script false --no-raise-error\n",
        "# Submission 4 - XGB with half of the parameter tuning - booster='dart', objective='binary:logitraw', n_estimators=1000, max_depth=8, learning_rate=0.03, eval_metric='mae'\n",
        "# Imputer - median\n",
        "print(\"F1_Score: {}\".format(f1_score(y_eval, preds)))\n",
        "print(\"Macro F1_Score: {}\".format(f1_score(y_eval, preds, average='macro')))"
      ],
      "execution_count": 0,
      "outputs": [
        {
          "output_type": "stream",
          "text": [
            "F1_Score: 0.9720745965793796\n",
            "Macro F1_Score: 0.8399301193210346\n"
          ],
          "name": "stdout"
        }
      ]
    },
    {
      "cell_type": "code",
      "metadata": {
        "id": "pyAf1qPQYNqV",
        "colab_type": "code",
        "outputId": "a1d832f4-781b-4d37-d57e-b649a220ec81",
        "colab": {
          "base_uri": "https://localhost:8080/",
          "height": 51
        }
      },
      "source": [
        "%%script false --no-raise-error\n",
        "# Submission 5/6 - XGB with half of the parameter tuning - booster='dart', objective='binary:logitraw', n_estimators=1000, max_depth=10, learning_rate=0.03, eval_metric='mae'\n",
        "# Imputer - median \n",
        "print(\"F1_Score: {}\".format(f1_score(y_eval, preds)))\n",
        "print(\"Macro F1_Score: {}\".format(f1_score(y_eval, preds, average='macro')))"
      ],
      "execution_count": 0,
      "outputs": [
        {
          "output_type": "stream",
          "text": [
            "F1_Score: 0.9724717473196176\n",
            "Macro F1_Score: 0.8415658228983875\n"
          ],
          "name": "stdout"
        }
      ]
    },
    {
      "cell_type": "code",
      "metadata": {
        "id": "K2uocE1ImkKD",
        "colab_type": "code",
        "outputId": "f5ac6c69-d094-4e89-fcd6-e4c4718569ea",
        "colab": {
          "base_uri": "https://localhost:8080/",
          "height": 51
        }
      },
      "source": [
        "# Submission xxx - XGB with half of the parameter tuning\n",
        "# Imputer - median \n",
        "print(\"F1_Score: {}\".format(f1_score(y_eval, preds)))\n",
        "print(\"Macro F1_Score: {}\".format(f1_score(y_eval, preds, average='macro')))"
      ],
      "execution_count": 0,
      "outputs": [
        {
          "output_type": "stream",
          "text": [
            "F1_Score: 0.9713020030816641\n",
            "Macro F1_Score: 0.8294665151676665\n"
          ],
          "name": "stdout"
        }
      ]
    },
    {
      "cell_type": "code",
      "metadata": {
        "id": "_AegykXIDbjo",
        "colab_type": "code",
        "outputId": "3ce36160-9c8b-4e32-f18a-87c8eda446eb",
        "colab": {
          "base_uri": "https://localhost:8080/",
          "height": 299
        }
      },
      "source": [
        "from sklearn.metrics import confusion_matrix\n",
        "import seaborn as sns\n",
        "\n",
        "conf_mat = confusion_matrix(y_eval, preds)\n",
        "sns.heatmap(conf_mat, annot=True, fmt='d')\n",
        "plt.ylabel('Actual')\n",
        "plt.xlabel('Predicted')"
      ],
      "execution_count": 0,
      "outputs": [
        {
          "output_type": "execute_result",
          "data": {
            "text/plain": [
              "Text(0.5, 15.0, 'Predicted')"
            ]
          },
          "metadata": {
            "tags": []
          },
          "execution_count": 52
        },
        {
          "output_type": "display_data",
          "data": {
            "image/png": "[encoded data removed]",
            "text/plain": [
              "<Figure size 432x288 with 2 Axes>"
            ]
          },
          "metadata": {
            "tags": [],
            "needs_background": "light"
          }
        }
      ]
    },
    {
      "cell_type": "markdown",
      "metadata": {
        "id": "yqHJ9S1XuctN",
        "colab_type": "text"
      },
      "source": [
        "# Predicting on Test Data"
      ]
    },
    {
      "cell_type": "code",
      "metadata": {
        "id": "Xoj24z2SB2E5",
        "colab_type": "code",
        "outputId": "510a4fec-169a-4278-c1b8-aee1af2ece85",
        "colab": {
          "base_uri": "https://localhost:8080/",
          "height": 139
        }
      },
      "source": [
        "%%time \n",
        "\n",
        "full_pipeline.fit(feature_df, label_df)\n",
        "None"
      ],
      "execution_count": 0,
      "outputs": [
        {
          "output_type": "stream",
          "text": [
            "/usr/local/lib/python3.6/dist-packages/sklearn/preprocessing/_label.py:235: DataConversionWarning: A column-vector y was passed when a 1d array was expected. Please change the shape of y to (n_samples, ), for example using ravel().\n",
            "  y = column_or_1d(y, warn=True)\n",
            "/usr/local/lib/python3.6/dist-packages/sklearn/preprocessing/_label.py:268: DataConversionWarning: A column-vector y was passed when a 1d array was expected. Please change the shape of y to (n_samples, ), for example using ravel().\n",
            "  y = column_or_1d(y, warn=True)\n"
          ],
          "name": "stderr"
        },
        {
          "output_type": "stream",
          "text": [
            "CPU times: user 18min 43s, sys: 215 ms, total: 18min 43s\n",
            "Wall time: 18min 44s\n"
          ],
          "name": "stdout"
        }
      ]
    },
    {
      "cell_type": "code",
      "metadata": {
        "id": "QZ0BZym5CByg",
        "colab_type": "code",
        "colab": {}
      },
      "source": [
        "test_features_df = pd.read_csv(\"/content/gdrive/My Drive/Colab Notebooks/TaxiFare/test.csv\", \n",
        "                               index_col=\"tripid\")"
      ],
      "execution_count": 0,
      "outputs": []
    },
    {
      "cell_type": "code",
      "metadata": {
        "id": "aaHgpNAgCvIf",
        "colab_type": "code",
        "outputId": "a2367fd9-4d31-4aff-b77e-d14da923df60",
        "colab": {
          "base_uri": "https://localhost:8080/",
          "height": 34
        }
      },
      "source": [
        "feature_process(test_features_df)\n",
        "test_predictions = full_pipeline.predict(test_features_df)\n",
        "test_predictions"
      ],
      "execution_count": 0,
      "outputs": [
        {
          "output_type": "execute_result",
          "data": {
            "text/plain": [
              "array([1, 0, 1, ..., 1, 1, 1])"
            ]
          },
          "metadata": {
            "tags": []
          },
          "execution_count": 55
        }
      ]
    },
    {
      "cell_type": "code",
      "metadata": {
        "id": "1ODZXlr1DE3w",
        "colab_type": "code",
        "colab": {}
      },
      "source": [
        "submission_df = pd.read_csv(\"/content/gdrive/My Drive/Colab Notebooks/TaxiFare/sample_submission.csv\", \n",
        "                            index_col=\"tripid\")"
      ],
      "execution_count": 0,
      "outputs": []
    },
    {
      "cell_type": "code",
      "metadata": {
        "id": "b6Q1R1DqDKBQ",
        "colab_type": "code",
        "outputId": "39a4a02b-8f7c-484f-b8a2-db27c49838a8",
        "colab": {
          "base_uri": "https://localhost:8080/",
          "height": 235
        }
      },
      "source": [
        "# Make sure we have the rows in the same order\n",
        "np.testing.assert_array_equal(test_features_df.index.values, \n",
        "                              submission_df.index.values)\n",
        "\n",
        "# Save predictions to submission data frame\n",
        "submission_df[\"prediction\"] = test_predictions\n",
        "\n",
        "submission_df.head()"
      ],
      "execution_count": 0,
      "outputs": [
        {
          "output_type": "execute_result",
          "data": {
            "text/html": [
              "<div>\n",
              "<style scoped>\n",
              "    .dataframe tbody tr th:only-of-type {\n",
              "        vertical-align: middle;\n",
              "    }\n",
              "\n",
              "    .dataframe tbody tr th {\n",
              "        vertical-align: top;\n",
              "    }\n",
              "\n",
              "    .dataframe thead th {\n",
              "        text-align: right;\n",
              "    }\n",
              "</style>\n",
              "<table border=\"1\" class=\"dataframe\">\n",
              "  <thead>\n",
              "    <tr style=\"text-align: right;\">\n",
              "      <th></th>\n",
              "      <th>prediction</th>\n",
              "    </tr>\n",
              "    <tr>\n",
              "      <th>tripid</th>\n",
              "      <th></th>\n",
              "    </tr>\n",
              "  </thead>\n",
              "  <tbody>\n",
              "    <tr>\n",
              "      <th>213284604</th>\n",
              "      <td>1</td>\n",
              "    </tr>\n",
              "    <tr>\n",
              "      <th>213286352</th>\n",
              "      <td>0</td>\n",
              "    </tr>\n",
              "    <tr>\n",
              "      <th>213293973</th>\n",
              "      <td>1</td>\n",
              "    </tr>\n",
              "    <tr>\n",
              "      <th>213294622</th>\n",
              "      <td>1</td>\n",
              "    </tr>\n",
              "    <tr>\n",
              "      <th>213298687</th>\n",
              "      <td>1</td>\n",
              "    </tr>\n",
              "  </tbody>\n",
              "</table>\n",
              "</div>"
            ],
            "text/plain": [
              "           prediction\n",
              "tripid               \n",
              "213284604           1\n",
              "213286352           0\n",
              "213293973           1\n",
              "213294622           1\n",
              "213298687           1"
            ]
          },
          "metadata": {
            "tags": []
          },
          "execution_count": 57
        }
      ]
    },
    {
      "cell_type": "code",
      "metadata": {
        "id": "DYVYuiR6DcbN",
        "colab_type": "code",
        "colab": {}
      },
      "source": [
        "submission_df.to_csv('/content/gdrive/My Drive/Colab Notebooks/TaxiFare/my_submission.csv', index=True)"
      ],
      "execution_count": 0,
      "outputs": []
    },
    {
      "cell_type": "code",
      "metadata": {
        "id": "keljbWu05m60",
        "colab_type": "code",
        "outputId": "cbb956d1-33a2-456c-f69d-d336227b6928",
        "colab": {
          "base_uri": "https://localhost:8080/",
          "height": 187
        }
      },
      "source": [
        "!head /content/gdrive/My\\ Drive/Colab\\ Notebooks/TaxiFare/my_submission.csv"
      ],
      "execution_count": 0,
      "outputs": [
        {
          "output_type": "stream",
          "text": [
            "tripid,prediction\n",
            "213284604,1\n",
            "213286352,0\n",
            "213293973,1\n",
            "213294622,1\n",
            "213298687,1\n",
            "213299545,1\n",
            "213302332,1\n",
            "213302671,1\n",
            "213305594,1\n"
          ],
          "name": "stdout"
        }
      ]
    },
    {
      "cell_type": "code",
      "metadata": {
        "id": "O8h2SMNEciHs",
        "colab_type": "code",
        "outputId": "da4e05cf-3069-49b7-cc8c-1ac1c380cb92",
        "colab": {
          "base_uri": "https://localhost:8080/",
          "height": 266
        }
      },
      "source": [
        "dat = pd.DataFrame({'A': [12,34,56,78, 23,None, None], 'B': [90,80,70,23,None, 78, None]})\n",
        "dat['B1'] = dat['B'].isnull()\n",
        "dat['A1'] = dat['A'].isnull()\n",
        "dat['ismissing'] = dat['A1'] == dat['B']\n",
        "dat"
      ],
      "execution_count": 0,
      "outputs": [
        {
          "output_type": "execute_result",
          "data": {
            "text/html": [
              "<div>\n",
              "<style scoped>\n",
              "    .dataframe tbody tr th:only-of-type {\n",
              "        vertical-align: middle;\n",
              "    }\n",
              "\n",
              "    .dataframe tbody tr th {\n",
              "        vertical-align: top;\n",
              "    }\n",
              "\n",
              "    .dataframe thead th {\n",
              "        text-align: right;\n",
              "    }\n",
              "</style>\n",
              "<table border=\"1\" class=\"dataframe\">\n",
              "  <thead>\n",
              "    <tr style=\"text-align: right;\">\n",
              "      <th></th>\n",
              "      <th>A</th>\n",
              "      <th>B</th>\n",
              "      <th>B1</th>\n",
              "      <th>A1</th>\n",
              "      <th>ismissing</th>\n",
              "    </tr>\n",
              "  </thead>\n",
              "  <tbody>\n",
              "    <tr>\n",
              "      <th>0</th>\n",
              "      <td>12.0</td>\n",
              "      <td>90.0</td>\n",
              "      <td>False</td>\n",
              "      <td>False</td>\n",
              "      <td>False</td>\n",
              "    </tr>\n",
              "    <tr>\n",
              "      <th>1</th>\n",
              "      <td>34.0</td>\n",
              "      <td>80.0</td>\n",
              "      <td>False</td>\n",
              "      <td>False</td>\n",
              "      <td>False</td>\n",
              "    </tr>\n",
              "    <tr>\n",
              "      <th>2</th>\n",
              "      <td>56.0</td>\n",
              "      <td>70.0</td>\n",
              "      <td>False</td>\n",
              "      <td>False</td>\n",
              "      <td>False</td>\n",
              "    </tr>\n",
              "    <tr>\n",
              "      <th>3</th>\n",
              "      <td>78.0</td>\n",
              "      <td>23.0</td>\n",
              "      <td>False</td>\n",
              "      <td>False</td>\n",
              "      <td>False</td>\n",
              "    </tr>\n",
              "    <tr>\n",
              "      <th>4</th>\n",
              "      <td>23.0</td>\n",
              "      <td>NaN</td>\n",
              "      <td>True</td>\n",
              "      <td>False</td>\n",
              "      <td>False</td>\n",
              "    </tr>\n",
              "    <tr>\n",
              "      <th>5</th>\n",
              "      <td>NaN</td>\n",
              "      <td>78.0</td>\n",
              "      <td>False</td>\n",
              "      <td>True</td>\n",
              "      <td>False</td>\n",
              "    </tr>\n",
              "    <tr>\n",
              "      <th>6</th>\n",
              "      <td>NaN</td>\n",
              "      <td>NaN</td>\n",
              "      <td>True</td>\n",
              "      <td>True</td>\n",
              "      <td>False</td>\n",
              "    </tr>\n",
              "  </tbody>\n",
              "</table>\n",
              "</div>"
            ],
            "text/plain": [
              "      A     B     B1     A1  ismissing\n",
              "0  12.0  90.0  False  False      False\n",
              "1  34.0  80.0  False  False      False\n",
              "2  56.0  70.0  False  False      False\n",
              "3  78.0  23.0  False  False      False\n",
              "4  23.0   NaN   True  False      False\n",
              "5   NaN  78.0  False   True      False\n",
              "6   NaN   NaN   True   True      False"
            ]
          },
          "metadata": {
            "tags": []
          },
          "execution_count": 39
        }
      ]
    },
    {
      "cell_type": "code",
      "metadata": {
        "id": "Df7t1wvb5ajd",
        "colab_type": "code",
        "colab": {}
      },
      "source": [
        "# memory footprint support libraries/code\n",
        "!ln -sf /opt/bin/nvidia-smi /usr/bin/nvidia-smi\n",
        "!pip install gputil\n",
        "!pip install psutil\n",
        "!pip install humanize\n",
        "import psutil\n",
        "import humanize\n",
        "import os\n",
        "import GPUtil as GPU\n",
        "GPUs = GPU.getGPUs()\n",
        "# XXX: only one GPU on Colab and isn’t guaranteed\n",
        "gpu = GPUs[0]\n",
        "def printm():\n",
        " process = psutil.Process(os.getpid())\n",
        " print(\"Gen RAM Free: \" + humanize.naturalsize( psutil.virtual_memory().available ), \" | Proc size: \" + humanize.naturalsize( process.memory_info().rss))\n",
        " print(\"GPU RAM Free: {0:.0f}MB | Used: {1:.0f}MB | Util {2:3.0f}% | Total {3:.0f}MB\".format(gpu.memoryFree, gpu.memoryUsed, gpu.memoryUtil*100, gpu.memoryTotal))\n",
        "printm() "
      ],
      "execution_count": 0,
      "outputs": []
    }
  ]
}