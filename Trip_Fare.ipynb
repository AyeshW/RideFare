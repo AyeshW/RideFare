{
  "nbformat": 4,
  "nbformat_minor": 0,
  "metadata": {
    "colab": {
      "name": "Trip Fare.ipynb",
      "provenance": [],
      "collapsed_sections": [],
      "authorship_tag": "ABX9TyMqMuE13WBmAccEgxKEwMDJ",
      "include_colab_link": true
    },
    "kernelspec": {
      "name": "python3",
      "display_name": "Python 3"
    },
    "accelerator": "GPU"
  },
  "cells": [
    {
      "cell_type": "markdown",
      "metadata": {
        "id": "view-in-github",
        "colab_type": "text"
      },
      "source": [
        "<a href=\"https://colab.research.google.com/github/AyeshW/TaxiFare/blob/master/Trip_Fare.ipynb\" target=\"_parent\"><img src=\"https://colab.research.google.com/assets/colab-badge.svg\" alt=\"Open In Colab\"/></a>"
      ]
    },
    {
      "cell_type": "code",
      "metadata": {
        "id": "f_J_FSBD0S1L",
        "colab_type": "code",
        "outputId": "0774b4ce-baf2-4d80-e17a-09f0d6af3f19",
        "colab": {
          "base_uri": "https://localhost:8080/",
          "height": 34
        }
      },
      "source": [
        "from google.colab import drive, files\n",
        "drive.mount('/content/gdrive')"
      ],
      "execution_count": 2,
      "outputs": [
        {
          "output_type": "stream",
          "text": [
            "Drive already mounted at /content/gdrive; to attempt to forcibly remount, call drive.mount(\"/content/gdrive\", force_remount=True).\n"
          ],
          "name": "stdout"
        }
      ]
    },
    {
      "cell_type": "code",
      "metadata": {
        "id": "K0nRre1O3u3X",
        "colab_type": "code",
        "colab": {}
      },
      "source": [
        "import pandas as pd\n",
        "import numpy as np\n",
        "\n",
        "pd.set_option(\"display.max_columns\", 100)"
      ],
      "execution_count": 0,
      "outputs": []
    },
    {
      "cell_type": "code",
      "metadata": {
        "id": "Dj61qdUs4HJ5",
        "colab_type": "code",
        "colab": {}
      },
      "source": [
        "df = pd.read_csv(\n",
        "    \"/content/gdrive/My Drive/Colab Notebooks/TaxiFare/train.csv\", \n",
        "    index_col=\"tripid\"\n",
        ")\n",
        "print(df.dtypes)\n",
        "df.head()"
      ],
      "execution_count": 0,
      "outputs": []
    },
    {
      "cell_type": "code",
      "metadata": {
        "id": "Od_K_TUa4p2V",
        "colab_type": "code",
        "colab": {}
      },
      "source": [
        "label_df = pd.DataFrame(df['label'])\n",
        "feature_df = df.drop(columns='label')\n",
        "feature_df.head()"
      ],
      "execution_count": 0,
      "outputs": []
    },
    {
      "cell_type": "code",
      "metadata": {
        "id": "t-lP0AD8__L2",
        "colab_type": "code",
        "colab": {}
      },
      "source": [
        "label_df['label_copy'] = label_df['label']\n",
        "labels ={\"label\": {\"correct\": 1, \"incorrect\": 0}}\n",
        "label_df.replace(labels, inplace=True)\n",
        "label_df.head()"
      ],
      "execution_count": 0,
      "outputs": []
    },
    {
      "cell_type": "code",
      "metadata": {
        "id": "ua1t-DpEFfG2",
        "colab_type": "code",
        "outputId": "856d8e58-5291-4ba5-fa02-1613331f8f6c",
        "colab": {
          "base_uri": "https://localhost:8080/",
          "height": 68
        }
      },
      "source": [
        "label_df['label'].value_counts()"
      ],
      "execution_count": 7,
      "outputs": [
        {
          "output_type": "execute_result",
          "data": {
            "text/plain": [
              "1    15495\n",
              "0     1681\n",
              "Name: label, dtype: int64"
            ]
          },
          "metadata": {
            "tags": []
          },
          "execution_count": 7
        }
      ]
    },
    {
      "cell_type": "code",
      "metadata": {
        "id": "cTSxMeijGPPw",
        "colab_type": "code",
        "outputId": "c158aba2-2120-4f9f-b2d7-c5203bba99e7",
        "colab": {
          "base_uri": "https://localhost:8080/",
          "height": 235
        }
      },
      "source": [
        "label_df.drop(columns='label_copy', inplace=True)\n",
        "label_df.head()"
      ],
      "execution_count": 8,
      "outputs": [
        {
          "output_type": "execute_result",
          "data": {
            "text/html": [
              "<div>\n",
              "<style scoped>\n",
              "    .dataframe tbody tr th:only-of-type {\n",
              "        vertical-align: middle;\n",
              "    }\n",
              "\n",
              "    .dataframe tbody tr th {\n",
              "        vertical-align: top;\n",
              "    }\n",
              "\n",
              "    .dataframe thead th {\n",
              "        text-align: right;\n",
              "    }\n",
              "</style>\n",
              "<table border=\"1\" class=\"dataframe\">\n",
              "  <thead>\n",
              "    <tr style=\"text-align: right;\">\n",
              "      <th></th>\n",
              "      <th>label</th>\n",
              "    </tr>\n",
              "    <tr>\n",
              "      <th>tripid</th>\n",
              "      <th></th>\n",
              "    </tr>\n",
              "  </thead>\n",
              "  <tbody>\n",
              "    <tr>\n",
              "      <th>189123628</th>\n",
              "      <td>1</td>\n",
              "    </tr>\n",
              "    <tr>\n",
              "      <th>189125358</th>\n",
              "      <td>1</td>\n",
              "    </tr>\n",
              "    <tr>\n",
              "      <th>189125719</th>\n",
              "      <td>1</td>\n",
              "    </tr>\n",
              "    <tr>\n",
              "      <th>189127273</th>\n",
              "      <td>1</td>\n",
              "    </tr>\n",
              "    <tr>\n",
              "      <th>189128020</th>\n",
              "      <td>1</td>\n",
              "    </tr>\n",
              "  </tbody>\n",
              "</table>\n",
              "</div>"
            ],
            "text/plain": [
              "           label\n",
              "tripid          \n",
              "189123628      1\n",
              "189125358      1\n",
              "189125719      1\n",
              "189127273      1\n",
              "189128020      1"
            ]
          },
          "metadata": {
            "tags": []
          },
          "execution_count": 8
        }
      ]
    },
    {
      "cell_type": "code",
      "metadata": {
        "id": "wn79paxMPfF_",
        "colab_type": "code",
        "colab": {}
      },
      "source": [
        "def set_trip_time(df):\n",
        "    df['pickup_time'] = pd.to_datetime(df['pickup_time'])\n",
        "    df['drop_time'] = pd.to_datetime(df['drop_time'])\n",
        "    df['trip_time'] = (df['drop_time'] - df['pickup_time']).dt.total_seconds()\n",
        "    df.drop(columns=['pickup_time', 'drop_time'], inplace=True)\n",
        "\n",
        "set_trip_time(feature_df)\n",
        "feature_df.head()"
      ],
      "execution_count": 0,
      "outputs": []
    },
    {
      "cell_type": "code",
      "metadata": {
        "id": "1yVBRtIrshZT",
        "colab_type": "code",
        "colab": {}
      },
      "source": [
        "def get_distance(lat1, lon1, lat2, lon2):\n",
        "    # haversine_distance\n",
        "   r = 6371\n",
        "   phi1 = np.radians(lat1)\n",
        "   phi2 = np.radians(lat2)\n",
        "   lamb1 = np.radians(lon1)\n",
        "   lamb2 = np.radians(lon2)\n",
        "\n",
        "   delta_phi = phi2 - phi1\n",
        "   delta_lambda = lamb2 - lamb1\n",
        "   a = np.sin(delta_phi / 2)**2 + np.cos(phi1) * np.cos(phi2) *   np.sin(delta_lambda / 2)**2\n",
        "   res = r * 2 * np.arctan2(np.sqrt(a), np.sqrt(1 - a))\n",
        "   return np.round(res, 3)\n",
        "\n",
        "def set_distance(feature_df):\n",
        "    distances = []\n",
        "    for row in feature_df.itertuples(index=False):\n",
        "        distances.append(get_distance(row.pick_lat, row.pick_lon, row.drop_lat, row.drop_lon))\n",
        "    \n",
        "    feature_df['trip_distance'] = distances\n",
        "    feature_df.drop(columns=['pick_lat', 'pick_lon', 'drop_lat', 'drop_lon'], inplace=True)\n",
        "\n",
        "# Calling the set_distance to set a distance column and remove coordinates columns\n",
        "set_distance(feature_df)\n",
        "feature_df.head()"
      ],
      "execution_count": 0,
      "outputs": []
    },
    {
      "cell_type": "code",
      "metadata": {
        "id": "9A6VMcHFDNKe",
        "colab_type": "code",
        "colab": {}
      },
      "source": [
        "feature_df.describe()"
      ],
      "execution_count": 0,
      "outputs": []
    },
    {
      "cell_type": "code",
      "metadata": {
        "id": "P-_IDhSNHHAn",
        "colab_type": "code",
        "colab": {}
      },
      "source": [
        "def set_time_error(feature_df):\n",
        "    time_errors = []\n",
        "    feature_df['time_error'] = (feature_df['duration'] - feature_df['trip_time'])**2\n",
        "    #feature_df.drop(columns=['duration', 'trip_time'], inplace=True)\n",
        "\n",
        "set_time_error(feature_df)\n",
        "feature_df.head()"
      ],
      "execution_count": 0,
      "outputs": []
    },
    {
      "cell_type": "code",
      "metadata": {
        "id": "agtN40lTxo9O",
        "colab_type": "code",
        "colab": {}
      },
      "source": [
        "def feature_process(feature_df):\n",
        "    set_trip_time(feature_df)\n",
        "    set_distance(feature_df)\n",
        "    set_time_error(feature_df)"
      ],
      "execution_count": 0,
      "outputs": []
    },
    {
      "cell_type": "code",
      "metadata": {
        "id": "_mwzGILBa1fJ",
        "colab_type": "code",
        "outputId": "310f2f5e-ce0b-4fab-c0a9-05e1e4535a4c",
        "colab": {
          "base_uri": "https://localhost:8080/",
          "height": 34
        }
      },
      "source": [
        "(feature_df.shape, label_df.shape)"
      ],
      "execution_count": 14,
      "outputs": [
        {
          "output_type": "execute_result",
          "data": {
            "text/plain": [
              "((17176, 9), (17176, 1))"
            ]
          },
          "metadata": {
            "tags": []
          },
          "execution_count": 14
        }
      ]
    },
    {
      "cell_type": "code",
      "metadata": {
        "id": "k7QdXRTGe6Tf",
        "colab_type": "code",
        "outputId": "bf40b40e-f905-45ff-8ee2-3c29326c7bfe",
        "colab": {
          "base_uri": "https://localhost:8080/",
          "height": 187
        }
      },
      "source": [
        "feature_df.dtypes"
      ],
      "execution_count": 15,
      "outputs": [
        {
          "output_type": "execute_result",
          "data": {
            "text/plain": [
              "additional_fare              float64\n",
              "duration                     float64\n",
              "meter_waiting                float64\n",
              "meter_waiting_fare           float64\n",
              "meter_waiting_till_pickup    float64\n",
              "fare                         float64\n",
              "trip_time                    float64\n",
              "trip_distance                float64\n",
              "time_error                   float64\n",
              "dtype: object"
            ]
          },
          "metadata": {
            "tags": []
          },
          "execution_count": 15
        }
      ]
    },
    {
      "cell_type": "code",
      "metadata": {
        "id": "LQdWtk_3ntlY",
        "colab_type": "code",
        "outputId": "e7ebb18b-063b-4c4b-c418-f5b2ecbb3270",
        "colab": {
          "base_uri": "https://localhost:8080/",
          "height": 187
        }
      },
      "source": [
        "feature_df.isnull().sum()"
      ],
      "execution_count": 16,
      "outputs": [
        {
          "output_type": "execute_result",
          "data": {
            "text/plain": [
              "additional_fare              202\n",
              "duration                     202\n",
              "meter_waiting                202\n",
              "meter_waiting_fare           202\n",
              "meter_waiting_till_pickup    202\n",
              "fare                         137\n",
              "trip_time                      0\n",
              "trip_distance                  0\n",
              "time_error                   202\n",
              "dtype: int64"
            ]
          },
          "metadata": {
            "tags": []
          },
          "execution_count": 16
        }
      ]
    },
    {
      "cell_type": "markdown",
      "metadata": {
        "id": "ZRlrXB2na--b",
        "colab_type": "text"
      },
      "source": [
        "# Visualizing Data\n"
      ]
    },
    {
      "cell_type": "code",
      "metadata": {
        "id": "QgpFiXOLfXq1",
        "colab_type": "code",
        "outputId": "d0d62f0f-6fa1-408f-caed-1a079a20338d",
        "colab": {
          "base_uri": "https://localhost:8080/",
          "height": 405
        }
      },
      "source": [
        "from sklearn.decomposition import PCA\n",
        "from sklearn.impute import SimpleImputer\n",
        "import seaborn as sns\n",
        "\n",
        "%matplotlib inline\n",
        "import matplotlib.pyplot as plt\n",
        "\n",
        "imputer = SimpleImputer()\n",
        "data = imputer.fit_transform(feature_df)\n",
        "pca = PCA(n_components=2)\n",
        "pca_result = pca.fit_transform(data)\n",
        "\n",
        "temp_df = pd.DataFrame({'x': pca_result[:,0], 'y': pca_result[:,1], 'label': label_df['label']})\n",
        "\n",
        "# For reproducability of the results\n",
        "np.random.seed(42)\n",
        "rndperm = np.random.permutation(temp_df.shape[0])\n",
        "\n",
        "plt.figure(figsize=(5,5))\n",
        "sns.scatterplot(\n",
        "    x=\"x\", y=\"y\",\n",
        "    hue=\"label\",\n",
        "    palette=sns.color_palette(\"hls\", 2),\n",
        "    data=temp_df,\n",
        "    legend=\"full\",\n",
        "    alpha=0.6\n",
        ")"
      ],
      "execution_count": 17,
      "outputs": [
        {
          "output_type": "stream",
          "text": [
            "/usr/local/lib/python3.6/dist-packages/statsmodels/tools/_testing.py:19: FutureWarning: pandas.util.testing is deprecated. Use the functions in the public API at pandas.testing instead.\n",
            "  import pandas.util.testing as tm\n"
          ],
          "name": "stderr"
        },
        {
          "output_type": "execute_result",
          "data": {
            "text/plain": [
              "<matplotlib.axes._subplots.AxesSubplot at 0x7f7bb7515f60>"
            ]
          },
          "metadata": {
            "tags": []
          },
          "execution_count": 17
        },
        {
          "output_type": "display_data",
          "data": {
            "image/png": "[encoded data removed]",
            "text/plain": [
              "<Figure size 360x360 with 1 Axes>"
            ]
          },
          "metadata": {
            "tags": [],
            "needs_background": "light"
          }
        }
      ]
    },
    {
      "cell_type": "markdown",
      "metadata": {
        "id": "gaEGCpol15TP",
        "colab_type": "text"
      },
      "source": [
        "# Building Models"
      ]
    },
    {
      "cell_type": "code",
      "metadata": {
        "id": "KfSrgd1X13y5",
        "colab_type": "code",
        "colab": {}
      },
      "source": [
        "from sklearn.preprocessing import StandardScaler, MinMaxScaler\n",
        "from sklearn.impute import SimpleImputer\n",
        "from sklearn.compose import ColumnTransformer\n",
        "\n",
        "from sklearn.naive_bayes import MultinomialNB, BernoulliNB\n",
        "from sklearn.linear_model import LogisticRegression, SGDClassifier\n",
        "from sklearn.svm import LinearSVC\n",
        "from sklearn.ensemble import RandomForestClassifier\n",
        "\n",
        "from sklearn.pipeline import Pipeline\n",
        "\n",
        "from sklearn.model_selection import train_test_split, GridSearchCV, cross_val_score\n",
        "\n",
        "from sklearn.metrics import f1_score\n",
        "\n",
        "RANDOM_SEED = 6    # Set a random seed for reproducibility!"
      ],
      "execution_count": 0,
      "outputs": []
    },
    {
      "cell_type": "markdown",
      "metadata": {
        "id": "hZyhYZV73THz",
        "colab_type": "text"
      },
      "source": [
        "## Setting-up the Pre-Processor"
      ]
    },
    {
      "cell_type": "code",
      "metadata": {
        "id": "9kz0psA43aQo",
        "colab_type": "code",
        "colab": {}
      },
      "source": [
        "# chain preprocessing into a Pipeline object\n",
        "# each step is a tuple of (name you chose, sklearn transformer)\n",
        "\n",
        "# SimpleImputer(strategy='median', add_indicator=False) - RandomForest model\n",
        "# SimpleImputer(strategy='median', add_indicator=True) - LogisticRegression\n",
        "preprocessor = Pipeline([\n",
        "    ('simple_imputer', SimpleImputer(strategy='median', add_indicator=True)),\n",
        "    ('scaler', MinMaxScaler())\n",
        "])"
      ],
      "execution_count": 0,
      "outputs": []
    },
    {
      "cell_type": "markdown",
      "metadata": {
        "id": "850dqckx4bOP",
        "colab_type": "text"
      },
      "source": [
        "## Selecting the best model"
      ]
    },
    {
      "cell_type": "code",
      "metadata": {
        "id": "JJKvqbqc4ijY",
        "colab_type": "code",
        "colab": {
          "base_uri": "https://localhost:8080/",
          "height": 496
        },
        "outputId": "7b1900c1-0fe3-4355-a884-6a0f6a31af18"
      },
      "source": [
        "#%%script false --no-raise-error\n",
        "models = [\n",
        "    RandomForestClassifier(class_weight={1: 0.8, 0: 0.2}, criterion='entropy', max_depth=15, max_features=5, min_impurity_decrease=0, n_estimators=300, random_state=6),\n",
        "    LogisticRegression(C=100, class_weight={1: 0.2, 0: 0.8}, max_iter=100, penalty='l1', solver='liblinear', random_state=0, n_jobs=-1)\n",
        "    #MultinomialNB(),\n",
        "    #BernoulliNB(),\n",
        "    #LogisticRegression(random_state=0),\n",
        "    #SGDClassifier(),\n",
        "    #LinearSVC()\n",
        "]\n",
        "\n",
        "processed_models = {}\n",
        "for model in models:\n",
        "    name = model.__class__.__name__\n",
        "    processed_models[name] = Pipeline([(\"preprocessor\", preprocessor),\n",
        "                                      (\"estimator\", model)])\n",
        "    \n",
        "CV = 5\n",
        "cv_df = pd.DataFrame(index=range(CV * len(models)))\n",
        "entries = []\n",
        "for (name, model) in processed_models.items():\n",
        "  f1_scores = cross_val_score(model, feature_df, label_df.label, scoring='f1_macro', cv=CV)\n",
        "  for fold_idx, f1 in enumerate(f1_scores):\n",
        "    entries.append((name, fold_idx, f1))\n",
        "cv_df = pd.DataFrame(entries, columns=['model_name', 'fold_idx', 'f1_score'])\n",
        "\n",
        "print(cv_df)\n",
        "print(cv_df.groupby('model_name').f1_score.mean())"
      ],
      "execution_count": 26,
      "outputs": [
        {
          "output_type": "stream",
          "text": [
            "/usr/local/lib/python3.6/dist-packages/sklearn/linear_model/_logistic.py:1539: UserWarning: 'n_jobs' > 1 does not have any effect when 'solver' is set to 'liblinear'. Got 'n_jobs' = 2.\n",
            "  \" = {}.\".format(effective_n_jobs(self.n_jobs)))\n",
            "/usr/local/lib/python3.6/dist-packages/sklearn/linear_model/_logistic.py:1539: UserWarning: 'n_jobs' > 1 does not have any effect when 'solver' is set to 'liblinear'. Got 'n_jobs' = 2.\n",
            "  \" = {}.\".format(effective_n_jobs(self.n_jobs)))\n",
            "/usr/local/lib/python3.6/dist-packages/sklearn/linear_model/_logistic.py:1539: UserWarning: 'n_jobs' > 1 does not have any effect when 'solver' is set to 'liblinear'. Got 'n_jobs' = 2.\n",
            "  \" = {}.\".format(effective_n_jobs(self.n_jobs)))\n",
            "/usr/local/lib/python3.6/dist-packages/sklearn/linear_model/_logistic.py:1539: UserWarning: 'n_jobs' > 1 does not have any effect when 'solver' is set to 'liblinear'. Got 'n_jobs' = 2.\n",
            "  \" = {}.\".format(effective_n_jobs(self.n_jobs)))\n",
            "/usr/local/lib/python3.6/dist-packages/sklearn/linear_model/_logistic.py:1539: UserWarning: 'n_jobs' > 1 does not have any effect when 'solver' is set to 'liblinear'. Got 'n_jobs' = 2.\n",
            "  \" = {}.\".format(effective_n_jobs(self.n_jobs)))\n"
          ],
          "name": "stderr"
        },
        {
          "output_type": "stream",
          "text": [
            "               model_name  fold_idx  f1_score\n",
            "0  RandomForestClassifier         0  0.832875\n",
            "1  RandomForestClassifier         1  0.785866\n",
            "2  RandomForestClassifier         2  0.802353\n",
            "3  RandomForestClassifier         3  0.819904\n",
            "4  RandomForestClassifier         4  0.796857\n",
            "5      LogisticRegression         0  0.703534\n",
            "6      LogisticRegression         1  0.702486\n",
            "7      LogisticRegression         2  0.713934\n",
            "8      LogisticRegression         3  0.736526\n",
            "9      LogisticRegression         4  0.749623\n",
            "model_name\n",
            "LogisticRegression        0.721221\n",
            "RandomForestClassifier    0.807571\n",
            "Name: f1_score, dtype: float64\n"
          ],
          "name": "stdout"
        },
        {
          "output_type": "stream",
          "text": [
            "/usr/local/lib/python3.6/dist-packages/sklearn/svm/_base.py:947: ConvergenceWarning: Liblinear failed to converge, increase the number of iterations.\n",
            "  \"the number of iterations.\", ConvergenceWarning)\n"
          ],
          "name": "stderr"
        }
      ]
    },
    {
      "cell_type": "markdown",
      "metadata": {
        "id": "8L1mqhouMjqu",
        "colab_type": "text"
      },
      "source": [
        "## Hyper-Parameter Tuning"
      ]
    },
    {
      "cell_type": "code",
      "metadata": {
        "id": "DO-C3DwLLOjq",
        "colab_type": "code",
        "colab": {
          "base_uri": "https://localhost:8080/",
          "height": 547
        },
        "outputId": "06633efe-c80e-4b8b-a4f9-d31a57c63f54"
      },
      "source": [
        "%%script false --no-raise-error\n",
        "# RandomForestClassifier(class_weight={1: 0.8, 0: 0.2}, criterion='entropy', max_depth=15, max_features=5, min_impurity_decrease=0, n_estimators=300, random_state=6, n_jobs=-1)\n",
        "# LogisticRegression(C=100, class_weight={1: 0.2, 0: 0.8}, max_iter=100, penalty=l1', solver=liblinear')\n",
        "cross_pipeline = Pipeline([\n",
        "    (\"preprocessor\", preprocessor),\n",
        "    (\"estimators\", LogisticRegression(C=100, class_weight={1: 0.2, 0: 0.8}, max_iter=100, penalty='l1', solver='liblinear', random_state=0, n_jobs=-1)),\n",
        "])\n",
        "\n",
        "# estimator parameter tuning - Random Forest\n",
        "criterion = ['gini', 'entropy']\n",
        "n_estimators = [100, 200, 300, 50]\n",
        "max_depth = [3, 5, 10, 15]\n",
        "max_features = [5, 'log2', 'auto']\n",
        "min_impurity_decrease = [0, 0.2, 0.5, 1.0]\n",
        "class_weight = [{1:0.5, 0:0.5}, {1:0.2, 0:0.8}, {1:0.8, 0:0.2}, {1:0.3, 0:0.7}]\n",
        "\n",
        "param_grid1 = dict(estimators__criterion =criterion,\n",
        "                  estimators__n_estimators =n_estimators,\n",
        "                  estimators__max_depth=max_depth,\n",
        "                  estimators__max_features =max_features,\n",
        "                  estimators__min_impurity_decrease=min_impurity_decrease,\n",
        "                  estimators__class_weight=class_weight)\n",
        "\n",
        "# estimator parameter tuning - Linear Regression\n",
        "penalty = ['l1', 'l2'] # , 'elasticnet'\n",
        "C = [0.001, 0.01, 0.1, 1, 10, 100]\n",
        "class_weight = [{1:0.5, 0:0.5}, {1:0.2, 0:0.8}, {1:0.8, 0:0.2}, {1:0.3, 0:0.7}]\n",
        "solver = ['newton-cg', 'lbfgs', 'liblinear', 'sag', 'saga']\n",
        "max_iter = [100, 200, 300]\n",
        "\n",
        "param_grid2 = dict(estimators__penalty = penalty,\n",
        "                  estimators__C = C,\n",
        "                  estimators__max_iter = max_iter,\n",
        "                  estimators__solver = solver,\n",
        "                  estimators__class_weight=class_weight)\n",
        "\n",
        "# preprocessor parameter tuning\n",
        "strategy = ['mean', 'median', 'most_frequent']\n",
        "indicator = [True, False]\n",
        "param_grid3 = dict(preprocessor__simple_imputer__strategy = strategy,\n",
        "                   preprocessor__simple_imputer__add_indicator = indicator)\n",
        "\n",
        "X_trainc, X_evalc, y_trainc, y_evalc = train_test_split(\n",
        "    feature_df,\n",
        "    label_df,\n",
        "    test_size=0.33,\n",
        "    shuffle=True,\n",
        "    stratify=label_df,\n",
        "    random_state=RANDOM_SEED\n",
        ")\n",
        "\n",
        "grid = GridSearchCV(estimator=cross_pipeline,\n",
        "                    param_grid=param_grid3,\n",
        "                    scoring='f1_macro',\n",
        "                    verbose=1,\n",
        "                    n_jobs=-1)\n",
        "grid.fit(X_trainc, y_trainc)\n",
        "\n",
        "print(\"Model: Random Forest\")\n",
        "print(\"Best param: \",grid.best_params_)\n",
        "print(\"Best estimator: \", grid.best_estimator_)\n",
        "#print(cross_pipeline.get_params().keys())"
      ],
      "execution_count": 24,
      "outputs": [
        {
          "output_type": "stream",
          "text": [
            "Fitting 5 folds for each of 6 candidates, totalling 30 fits\n"
          ],
          "name": "stdout"
        },
        {
          "output_type": "stream",
          "text": [
            "[Parallel(n_jobs=-1)]: Using backend LokyBackend with 2 concurrent workers.\n",
            "[Parallel(n_jobs=-1)]: Done  30 out of  30 | elapsed:   10.8s finished\n",
            "/usr/local/lib/python3.6/dist-packages/sklearn/utils/validation.py:760: DataConversionWarning: A column-vector y was passed when a 1d array was expected. Please change the shape of y to (n_samples, ), for example using ravel().\n",
            "  y = column_or_1d(y, warn=True)\n",
            "/usr/local/lib/python3.6/dist-packages/sklearn/linear_model/_logistic.py:1539: UserWarning: 'n_jobs' > 1 does not have any effect when 'solver' is set to 'liblinear'. Got 'n_jobs' = 2.\n",
            "  \" = {}.\".format(effective_n_jobs(self.n_jobs)))\n"
          ],
          "name": "stderr"
        },
        {
          "output_type": "stream",
          "text": [
            "Model: Random Forest\n",
            "Best param:  {'preprocessor__simple_imputer__add_indicator': True, 'preprocessor__simple_imputer__strategy': 'median'}\n",
            "Best estimator:  Pipeline(memory=None,\n",
            "         steps=[('preprocessor',\n",
            "                 Pipeline(memory=None,\n",
            "                          steps=[('simple_imputer',\n",
            "                                  SimpleImputer(add_indicator=True, copy=True,\n",
            "                                                fill_value=None,\n",
            "                                                missing_values=nan,\n",
            "                                                strategy='median', verbose=0)),\n",
            "                                 ('scaler',\n",
            "                                  MinMaxScaler(copy=True,\n",
            "                                               feature_range=(0, 1)))],\n",
            "                          verbose=False)),\n",
            "                ('estimators',\n",
            "                 LogisticRegression(C=100, class_weight={0: 0.8, 1: 0.2},\n",
            "                                    dual=False, fit_intercept=True,\n",
            "                                    intercept_scaling=1, l1_ratio=None,\n",
            "                                    max_iter=100, multi_class='auto', n_jobs=-1,\n",
            "                                    penalty='l1', random_state=0,\n",
            "                                    solver='liblinear', tol=0.0001, verbose=0,\n",
            "                                    warm_start=False))],\n",
            "         verbose=False)\n"
          ],
          "name": "stdout"
        }
      ]
    },
    {
      "cell_type": "markdown",
      "metadata": {
        "id": "RKoj1iZsAFVe",
        "colab_type": "text"
      },
      "source": [
        "# Train & Evaluation"
      ]
    },
    {
      "cell_type": "code",
      "metadata": {
        "id": "jDDIvPJrAMrS",
        "colab_type": "code",
        "colab": {}
      },
      "source": [
        "estimator=RandomForestClassifier(class_weight={1: 0.8, 0: 0.2}, criterion='entropy', max_depth=15, max_features=5, min_impurity_decrease=0, n_estimators=300, random_state=6)\n",
        "\n",
        "full_pipeline = Pipeline([\n",
        "    (\"preprocessor\", preprocessor),\n",
        "    (\"estimators\", estimator),\n",
        "])"
      ],
      "execution_count": 0,
      "outputs": []
    },
    {
      "cell_type": "code",
      "metadata": {
        "id": "4s8CUKpIAv9E",
        "colab_type": "code",
        "colab": {}
      },
      "source": [
        "X_train, X_eval, y_train, y_eval = train_test_split(\n",
        "    feature_df,\n",
        "    label_df,\n",
        "    test_size=0.33,\n",
        "    shuffle=True,\n",
        "    stratify=label_df,\n",
        "    random_state=RANDOM_SEED\n",
        ")"
      ],
      "execution_count": 0,
      "outputs": []
    },
    {
      "cell_type": "code",
      "metadata": {
        "id": "RcSrwte2BQ4s",
        "colab_type": "code",
        "outputId": "3d3702e0-a8c0-45f9-abe5-3555702df040",
        "colab": {
          "base_uri": "https://localhost:8080/",
          "height": 122
        }
      },
      "source": [
        "%%time\n",
        "\n",
        "# Train model\n",
        "full_pipeline.fit(X_train, y_train)\n",
        "\n",
        "# Predict on evaluation set\n",
        "preds = full_pipeline.predict(X_eval)\n",
        "print(preds)"
      ],
      "execution_count": 0,
      "outputs": [
        {
          "output_type": "stream",
          "text": [
            "/usr/local/lib/python3.6/dist-packages/sklearn/pipeline.py:354: DataConversionWarning: A column-vector y was passed when a 1d array was expected. Please change the shape of y to (n_samples,), for example using ravel().\n",
            "  self._final_estimator.fit(Xt, y, **fit_params)\n"
          ],
          "name": "stderr"
        },
        {
          "output_type": "stream",
          "text": [
            "[1 1 1 ... 1 1 1]\n",
            "CPU times: user 15.5 s, sys: 16.9 ms, total: 15.5 s\n",
            "Wall time: 15.5 s\n"
          ],
          "name": "stdout"
        }
      ]
    },
    {
      "cell_type": "code",
      "metadata": {
        "id": "-vlv_NE0BmsL",
        "colab_type": "code",
        "outputId": "ebd55d19-d36a-4a53-e65d-0f5629add1c4",
        "colab": {
          "base_uri": "https://localhost:8080/",
          "height": 34
        }
      },
      "source": [
        "print(\"Macro F1_Score: {}\".format(f1_score(y_eval, preds))) #, average='macro'"
      ],
      "execution_count": 0,
      "outputs": [
        {
          "output_type": "stream",
          "text": [
            "Macro F1_Score: 0.9728172125636347\n"
          ],
          "name": "stdout"
        }
      ]
    },
    {
      "cell_type": "code",
      "metadata": {
        "id": "_AegykXIDbjo",
        "colab_type": "code",
        "outputId": "6e19a415-fd1c-45b4-e15d-c4529a50dcdc",
        "colab": {
          "base_uri": "https://localhost:8080/",
          "height": 298
        }
      },
      "source": [
        "from sklearn.metrics import confusion_matrix\n",
        "import seaborn as sns\n",
        "\n",
        "conf_mat = confusion_matrix(y_eval, preds)\n",
        "sns.heatmap(conf_mat, annot=True, fmt='d')\n",
        "plt.ylabel('Actual')\n",
        "plt.xlabel('Predicted')"
      ],
      "execution_count": 0,
      "outputs": [
        {
          "output_type": "execute_result",
          "data": {
            "text/plain": [
              "Text(0.5, 15.0, 'Predicted')"
            ]
          },
          "metadata": {
            "tags": []
          },
          "execution_count": 25
        },
        {
          "output_type": "display_data",
          "data": {
            "image/png": "[encoded data removed]",
            "text/plain": [
              "<Figure size 432x288 with 2 Axes>"
            ]
          },
          "metadata": {
            "tags": [],
            "needs_background": "light"
          }
        }
      ]
    },
    {
      "cell_type": "markdown",
      "metadata": {
        "id": "yqHJ9S1XuctN",
        "colab_type": "text"
      },
      "source": [
        "# Predicting on Test Data"
      ]
    },
    {
      "cell_type": "code",
      "metadata": {
        "id": "Xoj24z2SB2E5",
        "colab_type": "code",
        "outputId": "1d9103a3-6e51-408d-8224-1f16a451f42b",
        "colab": {
          "base_uri": "https://localhost:8080/",
          "height": 105
        }
      },
      "source": [
        "%%time \n",
        "\n",
        "full_pipeline.fit(feature_df, label_df)\n",
        "None"
      ],
      "execution_count": 0,
      "outputs": [
        {
          "output_type": "stream",
          "text": [
            "/usr/local/lib/python3.6/dist-packages/sklearn/pipeline.py:354: DataConversionWarning: A column-vector y was passed when a 1d array was expected. Please change the shape of y to (n_samples,), for example using ravel().\n",
            "  self._final_estimator.fit(Xt, y, **fit_params)\n"
          ],
          "name": "stderr"
        },
        {
          "output_type": "stream",
          "text": [
            "CPU times: user 22.6 s, sys: 17.6 ms, total: 22.6 s\n",
            "Wall time: 22.6 s\n"
          ],
          "name": "stdout"
        }
      ]
    },
    {
      "cell_type": "code",
      "metadata": {
        "id": "QZ0BZym5CByg",
        "colab_type": "code",
        "colab": {}
      },
      "source": [
        "test_features_df = pd.read_csv(\"/content/gdrive/My Drive/Colab Notebooks/TaxiFare/test.csv\", \n",
        "                               index_col=\"tripid\")"
      ],
      "execution_count": 0,
      "outputs": []
    },
    {
      "cell_type": "code",
      "metadata": {
        "id": "aaHgpNAgCvIf",
        "colab_type": "code",
        "outputId": "247f050c-2655-459f-99d4-2f8dd6188ae3",
        "colab": {
          "base_uri": "https://localhost:8080/",
          "height": 34
        }
      },
      "source": [
        "feature_process(test_features_df)\n",
        "test_predictions = full_pipeline.predict(test_features_df)\n",
        "test_predictions"
      ],
      "execution_count": 0,
      "outputs": [
        {
          "output_type": "execute_result",
          "data": {
            "text/plain": [
              "array([1, 1, 1, ..., 1, 1, 1])"
            ]
          },
          "metadata": {
            "tags": []
          },
          "execution_count": 33
        }
      ]
    },
    {
      "cell_type": "code",
      "metadata": {
        "id": "1ODZXlr1DE3w",
        "colab_type": "code",
        "colab": {}
      },
      "source": [
        "submission_df = pd.read_csv(\"/content/gdrive/My Drive/Colab Notebooks/TaxiFare/sample_submission.csv\", \n",
        "                            index_col=\"tripid\")"
      ],
      "execution_count": 0,
      "outputs": []
    },
    {
      "cell_type": "code",
      "metadata": {
        "id": "b6Q1R1DqDKBQ",
        "colab_type": "code",
        "outputId": "d0d40cd5-5a3c-4c31-c52e-a4124556f182",
        "colab": {
          "base_uri": "https://localhost:8080/",
          "height": 235
        }
      },
      "source": [
        "# Make sure we have the rows in the same order\n",
        "np.testing.assert_array_equal(test_features_df.index.values, \n",
        "                              submission_df.index.values)\n",
        "\n",
        "# Save predictions to submission data frame\n",
        "submission_df[\"prediction\"] = test_predictions\n",
        "\n",
        "submission_df.head()"
      ],
      "execution_count": 0,
      "outputs": [
        {
          "output_type": "execute_result",
          "data": {
            "text/html": [
              "<div>\n",
              "<style scoped>\n",
              "    .dataframe tbody tr th:only-of-type {\n",
              "        vertical-align: middle;\n",
              "    }\n",
              "\n",
              "    .dataframe tbody tr th {\n",
              "        vertical-align: top;\n",
              "    }\n",
              "\n",
              "    .dataframe thead th {\n",
              "        text-align: right;\n",
              "    }\n",
              "</style>\n",
              "<table border=\"1\" class=\"dataframe\">\n",
              "  <thead>\n",
              "    <tr style=\"text-align: right;\">\n",
              "      <th></th>\n",
              "      <th>prediction</th>\n",
              "    </tr>\n",
              "    <tr>\n",
              "      <th>tripid</th>\n",
              "      <th></th>\n",
              "    </tr>\n",
              "  </thead>\n",
              "  <tbody>\n",
              "    <tr>\n",
              "      <th>213284604</th>\n",
              "      <td>1</td>\n",
              "    </tr>\n",
              "    <tr>\n",
              "      <th>213286352</th>\n",
              "      <td>1</td>\n",
              "    </tr>\n",
              "    <tr>\n",
              "      <th>213293973</th>\n",
              "      <td>1</td>\n",
              "    </tr>\n",
              "    <tr>\n",
              "      <th>213294622</th>\n",
              "      <td>1</td>\n",
              "    </tr>\n",
              "    <tr>\n",
              "      <th>213298687</th>\n",
              "      <td>1</td>\n",
              "    </tr>\n",
              "  </tbody>\n",
              "</table>\n",
              "</div>"
            ],
            "text/plain": [
              "           prediction\n",
              "tripid               \n",
              "213284604           1\n",
              "213286352           1\n",
              "213293973           1\n",
              "213294622           1\n",
              "213298687           1"
            ]
          },
          "metadata": {
            "tags": []
          },
          "execution_count": 35
        }
      ]
    },
    {
      "cell_type": "code",
      "metadata": {
        "id": "DYVYuiR6DcbN",
        "colab_type": "code",
        "colab": {}
      },
      "source": [
        "submission_df.to_csv('/content/gdrive/My Drive/Colab Notebooks/H1N1/data/my_submission.csv', index=True)"
      ],
      "execution_count": 0,
      "outputs": []
    },
    {
      "cell_type": "code",
      "metadata": {
        "id": "keljbWu05m60",
        "colab_type": "code",
        "outputId": "0036235c-209c-4b70-9401-c32c6832e080",
        "colab": {
          "base_uri": "https://localhost:8080/",
          "height": 187
        }
      },
      "source": [
        "!head /content/gdrive/My\\ Drive/Colab\\ Notebooks/H1N1/data/my_submission.csv"
      ],
      "execution_count": 0,
      "outputs": [
        {
          "output_type": "stream",
          "text": [
            "tripid,prediction\n",
            "213284604,1\n",
            "213286352,1\n",
            "213293973,1\n",
            "213294622,1\n",
            "213298687,1\n",
            "213299545,1\n",
            "213302332,1\n",
            "213302671,1\n",
            "213305594,1\n"
          ],
          "name": "stdout"
        }
      ]
    },
    {
      "cell_type": "code",
      "metadata": {
        "id": "O8h2SMNEciHs",
        "colab_type": "code",
        "outputId": "4a94ba57-1cde-447d-93ca-5a1625f02e3b",
        "colab": {
          "base_uri": "https://localhost:8080/",
          "height": 333
        }
      },
      "source": [
        "dat = pd.DataFrame({'A': [12,34,56,78, 23,None, None], 'B': [90,80,70,23,None, 78, None]})\n",
        "dat['B1'] = dat['B'].isnull()\n",
        "dat['A1'] = dat['A'].isnull()\n",
        "dat['ismissing'] = dat['A1'] == dat['B']\n",
        "dat"
      ],
      "execution_count": 0,
      "outputs": [
        {
          "output_type": "error",
          "ename": "ValueError",
          "evalue": "ignored",
          "traceback": [
            "\u001b[0;31m---------------------------------------------------------------------------\u001b[0m",
            "\u001b[0;31mValueError\u001b[0m                                Traceback (most recent call last)",
            "\u001b[0;32m<ipython-input-12-3b262b20c68a>\u001b[0m in \u001b[0;36m<module>\u001b[0;34m()\u001b[0m\n\u001b[1;32m      2\u001b[0m \u001b[0mdat\u001b[0m\u001b[0;34m[\u001b[0m\u001b[0;34m'B1'\u001b[0m\u001b[0;34m]\u001b[0m \u001b[0;34m=\u001b[0m \u001b[0mdat\u001b[0m\u001b[0;34m[\u001b[0m\u001b[0;34m'B'\u001b[0m\u001b[0;34m]\u001b[0m\u001b[0;34m.\u001b[0m\u001b[0misnull\u001b[0m\u001b[0;34m(\u001b[0m\u001b[0;34m)\u001b[0m\u001b[0;34m\u001b[0m\u001b[0;34m\u001b[0m\u001b[0m\n\u001b[1;32m      3\u001b[0m \u001b[0mdat\u001b[0m\u001b[0;34m[\u001b[0m\u001b[0;34m'A1'\u001b[0m\u001b[0;34m]\u001b[0m \u001b[0;34m=\u001b[0m \u001b[0mdat\u001b[0m\u001b[0;34m[\u001b[0m\u001b[0;34m'A'\u001b[0m\u001b[0;34m]\u001b[0m\u001b[0;34m.\u001b[0m\u001b[0misnull\u001b[0m\u001b[0;34m(\u001b[0m\u001b[0;34m)\u001b[0m\u001b[0;34m\u001b[0m\u001b[0;34m\u001b[0m\u001b[0m\n\u001b[0;32m----> 4\u001b[0;31m \u001b[0mdat\u001b[0m\u001b[0;34m[\u001b[0m\u001b[0;34m'ismissing'\u001b[0m\u001b[0;34m]\u001b[0m \u001b[0;34m=\u001b[0m \u001b[0mdat\u001b[0m\u001b[0;34m[\u001b[0m\u001b[0;34m'A1'\u001b[0m\u001b[0;34m]\u001b[0m \u001b[0;34m==\u001b[0m \u001b[0mdat\u001b[0m\u001b[0;34m[\u001b[0m\u001b[0;34m'B'\u001b[0m\u001b[0;34m]\u001b[0m \u001b[0;34m==\u001b[0m \u001b[0;32mNone\u001b[0m\u001b[0;34m\u001b[0m\u001b[0;34m\u001b[0m\u001b[0m\n\u001b[0m\u001b[1;32m      5\u001b[0m \u001b[0mdat\u001b[0m\u001b[0;34m\u001b[0m\u001b[0;34m\u001b[0m\u001b[0m\n",
            "\u001b[0;32m/usr/local/lib/python3.6/dist-packages/pandas/core/generic.py\u001b[0m in \u001b[0;36m__nonzero__\u001b[0;34m(self)\u001b[0m\n\u001b[1;32m   1477\u001b[0m     \u001b[0;32mdef\u001b[0m \u001b[0m__nonzero__\u001b[0m\u001b[0;34m(\u001b[0m\u001b[0mself\u001b[0m\u001b[0;34m)\u001b[0m\u001b[0;34m:\u001b[0m\u001b[0;34m\u001b[0m\u001b[0;34m\u001b[0m\u001b[0m\n\u001b[1;32m   1478\u001b[0m         raise ValueError(\n\u001b[0;32m-> 1479\u001b[0;31m             \u001b[0;34mf\"The truth value of a {type(self).__name__} is ambiguous. \"\u001b[0m\u001b[0;34m\u001b[0m\u001b[0;34m\u001b[0m\u001b[0m\n\u001b[0m\u001b[1;32m   1480\u001b[0m             \u001b[0;34m\"Use a.empty, a.bool(), a.item(), a.any() or a.all().\"\u001b[0m\u001b[0;34m\u001b[0m\u001b[0;34m\u001b[0m\u001b[0m\n\u001b[1;32m   1481\u001b[0m         )\n",
            "\u001b[0;31mValueError\u001b[0m: The truth value of a Series is ambiguous. Use a.empty, a.bool(), a.item(), a.any() or a.all()."
          ]
        }
      ]
    },
    {
      "cell_type": "code",
      "metadata": {
        "id": "2vRyfhCud2XD",
        "colab_type": "code",
        "colab": {}
      },
      "source": [
        ""
      ],
      "execution_count": 0,
      "outputs": []
    }
  ]
}