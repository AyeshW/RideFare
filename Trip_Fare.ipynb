{
  "nbformat": 4,
  "nbformat_minor": 0,
  "metadata": {
    "colab": {
      "name": "Trip Fare.ipynb",
      "provenance": [],
      "collapsed_sections": [],
      "authorship_tag": "ABX9TyPEkPer280K5viXC5QEX3aF"
    },
    "kernelspec": {
      "name": "python3",
      "display_name": "Python 3"
    }
  },
  "cells": [
    {
      "cell_type": "code",
      "metadata": {
        "id": "f_J_FSBD0S1L",
        "colab_type": "code",
        "outputId": "8dd7f881-6b1d-4f5e-a18b-be8c44474107",
        "colab": {
          "base_uri": "https://localhost:8080/",
          "height": 122
        }
      },
      "source": [
        "from google.colab import drive, files\n",
        "drive.mount('/content/gdrive')"
      ],
      "execution_count": 0,
      "outputs": [
        {
          "output_type": "stream",
          "text": [
            "Go to this URL in a browser: https://accounts.google.com/o/oauth2/auth?client_id=947318989803-6bn6qk8qdgf4n4g3pfee6491hc0brc4i.apps.googleusercontent.com&redirect_uri=urn%3aietf%3awg%3aoauth%3a2.0%3aoob&response_type=code&scope=email%20https%3a%2f%2fwww.googleapis.com%2fauth%2fdocs.test%20https%3a%2f%2fwww.googleapis.com%2fauth%2fdrive%20https%3a%2f%2fwww.googleapis.com%2fauth%2fdrive.photos.readonly%20https%3a%2f%2fwww.googleapis.com%2fauth%2fpeopleapi.readonly\n",
            "\n",
            "Enter your authorization code:\n",
            "··········\n",
            "Mounted at /content/gdrive\n"
          ],
          "name": "stdout"
        }
      ]
    },
    {
      "cell_type": "code",
      "metadata": {
        "id": "MfCo5DxDOflW",
        "colab_type": "code",
        "outputId": "fef3f15d-ddb6-469e-d810-9fe6f4d635db",
        "colab": {
          "base_uri": "https://localhost:8080/",
          "height": 34
        }
      },
      "source": [
        "import tensorflow as tf\n",
        "tf.test.gpu_device_name()"
      ],
      "execution_count": 0,
      "outputs": [
        {
          "output_type": "execute_result",
          "data": {
            "text/plain": [
              "''"
            ]
          },
          "metadata": {
            "tags": []
          },
          "execution_count": 2
        }
      ]
    },
    {
      "cell_type": "code",
      "metadata": {
        "id": "K0nRre1O3u3X",
        "colab_type": "code",
        "colab": {}
      },
      "source": [
        "import pandas as pd\n",
        "import numpy as np\n",
        "\n",
        "pd.set_option(\"display.max_columns\", 100)"
      ],
      "execution_count": 0,
      "outputs": []
    },
    {
      "cell_type": "code",
      "metadata": {
        "id": "Dj61qdUs4HJ5",
        "colab_type": "code",
        "colab": {}
      },
      "source": [
        "df = pd.read_csv(\n",
        "    \"/content/gdrive/My Drive/Colab Notebooks/TaxiFare/train.csv\", \n",
        "    index_col=\"tripid\"\n",
        ")\n",
        "print(df.dtypes)\n",
        "df.head()"
      ],
      "execution_count": 0,
      "outputs": []
    },
    {
      "cell_type": "code",
      "metadata": {
        "id": "Od_K_TUa4p2V",
        "colab_type": "code",
        "colab": {}
      },
      "source": [
        "label_df = pd.DataFrame(df['label'])\n",
        "feature_df = df.drop(columns='label')\n",
        "feature_df.head()"
      ],
      "execution_count": 0,
      "outputs": []
    },
    {
      "cell_type": "code",
      "metadata": {
        "id": "t-lP0AD8__L2",
        "colab_type": "code",
        "colab": {}
      },
      "source": [
        "label_df['label_copy'] = label_df['label']\n",
        "labels ={\"label\": {\"correct\": 1, \"incorrect\": 0}}\n",
        "label_df.replace(labels, inplace=True)\n",
        "label_df.head()"
      ],
      "execution_count": 0,
      "outputs": []
    },
    {
      "cell_type": "code",
      "metadata": {
        "id": "ua1t-DpEFfG2",
        "colab_type": "code",
        "outputId": "125d0420-e790-48c1-ff09-87575689e788",
        "colab": {
          "base_uri": "https://localhost:8080/",
          "height": 68
        }
      },
      "source": [
        "label_df['label'].value_counts()"
      ],
      "execution_count": 0,
      "outputs": [
        {
          "output_type": "execute_result",
          "data": {
            "text/plain": [
              "1    15495\n",
              "0     1681\n",
              "Name: label, dtype: int64"
            ]
          },
          "metadata": {
            "tags": []
          },
          "execution_count": 7
        }
      ]
    },
    {
      "cell_type": "code",
      "metadata": {
        "id": "cTSxMeijGPPw",
        "colab_type": "code",
        "colab": {}
      },
      "source": [
        "label_df.drop(columns='label_copy', inplace=True)\n",
        "label_df.head()"
      ],
      "execution_count": 0,
      "outputs": []
    },
    {
      "cell_type": "code",
      "metadata": {
        "id": "wn79paxMPfF_",
        "colab_type": "code",
        "colab": {}
      },
      "source": [
        "def set_trip_time(df):\n",
        "    df['pickup_time'] = pd.to_datetime(df['pickup_time'])\n",
        "    df['drop_time'] = pd.to_datetime(df['drop_time'])\n",
        "    df['trip_time'] = (df['drop_time'] - df['pickup_time']).dt.total_seconds()\n",
        "    df.drop(columns=['pickup_time', 'drop_time'], inplace=True)\n",
        "\n",
        "set_trip_time(feature_df)"
      ],
      "execution_count": 0,
      "outputs": []
    },
    {
      "cell_type": "code",
      "metadata": {
        "id": "1yVBRtIrshZT",
        "colab_type": "code",
        "colab": {}
      },
      "source": [
        "def get_distance(lat1, lon1, lat2, lon2):\n",
        "    # haversine_distance\n",
        "   r = 6371\n",
        "   phi1 = np.radians(lat1)\n",
        "   phi2 = np.radians(lat2)\n",
        "   lamb1 = np.radians(lon1)\n",
        "   lamb2 = np.radians(lon2)\n",
        "\n",
        "   delta_phi = phi2 - phi1\n",
        "   delta_lambda = lamb2 - lamb1\n",
        "   a = np.sin(delta_phi / 2)**2 + np.cos(phi1) * np.cos(phi2) *   np.sin(delta_lambda / 2)**2\n",
        "   res = r * 2 * np.arctan2(np.sqrt(a), np.sqrt(1 - a))\n",
        "   return np.round(res, 3)\n",
        "\n",
        "def set_distance(feature_df):\n",
        "    distances = []\n",
        "    for row in feature_df.itertuples(index=False):\n",
        "        distances.append(get_distance(row.pick_lat, row.pick_lon, row.drop_lat, row.drop_lon))\n",
        "    \n",
        "    feature_df['trip_distance'] = distances\n",
        "    feature_df.drop(columns=['pick_lat', 'pick_lon', 'drop_lat', 'drop_lon'], inplace=True)\n",
        "\n",
        "# Calling the set_distance to set a distance column and remove coordinates columns\n",
        "set_distance(feature_df)"
      ],
      "execution_count": 0,
      "outputs": []
    },
    {
      "cell_type": "code",
      "metadata": {
        "id": "P-_IDhSNHHAn",
        "colab_type": "code",
        "colab": {}
      },
      "source": [
        "\n",
        "def set_time_error(feature_df):\n",
        "    time_errors = []\n",
        "    feature_df['time_error'] = (feature_df['duration'] - feature_df['trip_time'])**2\n",
        "    #feature_df.drop(columns=['duration', 'trip_time'], inplace=True)\n",
        "\n",
        "set_time_error(feature_df)"
      ],
      "execution_count": 0,
      "outputs": []
    },
    {
      "cell_type": "code",
      "metadata": {
        "id": "bapffGZ7Rd6d",
        "colab_type": "code",
        "colab": {}
      },
      "source": [
        "def add_missing_col(df):\n",
        "    '''\n",
        "        This function adds an additional binary column to the df based on all\n",
        "        additional_fare, duration, meter_waiting, meter_waiting_fare, meter_waiting_till_pickup, time_error\n",
        "        has NaN values\n",
        "    '''\n",
        "    df['ismissing'] = np.where(df[['additional_fare', 'duration', 'meter_waiting', 'meter_waiting_fare', 'meter_waiting_till_pickup', 'time_error']].isnull().all(1), 1, 0)\n",
        "\n",
        "add_missing_col(feature_df)\n",
        "feature_df.head()"
      ],
      "execution_count": 0,
      "outputs": []
    },
    {
      "cell_type": "code",
      "metadata": {
        "id": "agtN40lTxo9O",
        "colab_type": "code",
        "colab": {}
      },
      "source": [
        "def feature_process(feature_df):\n",
        "    set_trip_time(feature_df)\n",
        "    set_distance(feature_df)\n",
        "    set_time_error(feature_df)\n",
        "    add_missing_col(feature_df)"
      ],
      "execution_count": 0,
      "outputs": []
    },
    {
      "cell_type": "code",
      "metadata": {
        "id": "_mwzGILBa1fJ",
        "colab_type": "code",
        "outputId": "96554c08-fbb6-4407-f380-f24ecbd4d0a8",
        "colab": {
          "base_uri": "https://localhost:8080/",
          "height": 34
        }
      },
      "source": [
        "(feature_df.shape, label_df.shape)"
      ],
      "execution_count": 0,
      "outputs": [
        {
          "output_type": "execute_result",
          "data": {
            "text/plain": [
              "((17176, 10), (17176, 1))"
            ]
          },
          "metadata": {
            "tags": []
          },
          "execution_count": 14
        }
      ]
    },
    {
      "cell_type": "code",
      "metadata": {
        "id": "k7QdXRTGe6Tf",
        "colab_type": "code",
        "outputId": "340c8a7f-55e2-4298-c091-8ba1bcca24a6",
        "colab": {
          "base_uri": "https://localhost:8080/",
          "height": 204
        }
      },
      "source": [
        "feature_df.dtypes"
      ],
      "execution_count": 0,
      "outputs": [
        {
          "output_type": "execute_result",
          "data": {
            "text/plain": [
              "additional_fare              float64\n",
              "duration                     float64\n",
              "meter_waiting                float64\n",
              "meter_waiting_fare           float64\n",
              "meter_waiting_till_pickup    float64\n",
              "fare                         float64\n",
              "trip_time                    float64\n",
              "trip_distance                float64\n",
              "time_error                   float64\n",
              "ismissing                      int64\n",
              "dtype: object"
            ]
          },
          "metadata": {
            "tags": []
          },
          "execution_count": 15
        }
      ]
    },
    {
      "cell_type": "code",
      "metadata": {
        "id": "LQdWtk_3ntlY",
        "colab_type": "code",
        "outputId": "589c5a8a-8019-4126-9b7d-d4cc08062b90",
        "colab": {
          "base_uri": "https://localhost:8080/",
          "height": 204
        }
      },
      "source": [
        "feature_df.isnull().sum()"
      ],
      "execution_count": 0,
      "outputs": [
        {
          "output_type": "execute_result",
          "data": {
            "text/plain": [
              "additional_fare              202\n",
              "duration                     202\n",
              "meter_waiting                202\n",
              "meter_waiting_fare           202\n",
              "meter_waiting_till_pickup    202\n",
              "fare                         137\n",
              "trip_time                      0\n",
              "trip_distance                  0\n",
              "time_error                   202\n",
              "ismissing                      0\n",
              "dtype: int64"
            ]
          },
          "metadata": {
            "tags": []
          },
          "execution_count": 16
        }
      ]
    },
    {
      "cell_type": "markdown",
      "metadata": {
        "id": "ZRlrXB2na--b",
        "colab_type": "text"
      },
      "source": [
        "# Visualizing Data\n"
      ]
    },
    {
      "cell_type": "code",
      "metadata": {
        "id": "QgpFiXOLfXq1",
        "colab_type": "code",
        "colab": {}
      },
      "source": [
        "%%script false --no-raise-error\n",
        "from sklearn.decomposition import PCA\n",
        "from sklearn.impute import SimpleImputer\n",
        "import seaborn as sns\n",
        "\n",
        "%matplotlib inline\n",
        "import matplotlib.pyplot as plt\n",
        "\n",
        "imputer = SimpleImputer()\n",
        "data = imputer.fit_transform(feature_df)\n",
        "pca = PCA(n_components=2)\n",
        "pca_result = pca.fit_transform(data)\n",
        "\n",
        "temp_df = pd.DataFrame({'x': pca_result[:,0], 'y': pca_result[:,1], 'label': label_df['label']})\n",
        "\n",
        "# For reproducability of the results\n",
        "np.random.seed(42)\n",
        "rndperm = np.random.permutation(temp_df.shape[0])\n",
        "\n",
        "plt.figure(figsize=(5,5))\n",
        "sns.scatterplot(\n",
        "    x=\"x\", y=\"y\",\n",
        "    hue=\"label\",\n",
        "    palette=sns.color_palette(\"hls\", 2),\n",
        "    data=temp_df,\n",
        "    legend=\"full\",\n",
        "    alpha=0.6\n",
        ")"
      ],
      "execution_count": 0,
      "outputs": []
    },
    {
      "cell_type": "markdown",
      "metadata": {
        "id": "HoivUBYgbcW6",
        "colab_type": "text"
      },
      "source": [
        "# Outlier Handling"
      ]
    },
    {
      "cell_type": "markdown",
      "metadata": {
        "id": "E29vgAjyKNfM",
        "colab_type": "text"
      },
      "source": [
        "## Visualizing Boxplots"
      ]
    },
    {
      "cell_type": "code",
      "metadata": {
        "id": "kHXHeq4PbWMC",
        "colab_type": "code",
        "outputId": "f2a837b2-f11e-4629-eb73-e229eda7f433",
        "colab": {
          "base_uri": "https://localhost:8080/",
          "height": 380
        }
      },
      "source": [
        "%matplotlib inline\n",
        "import matplotlib.pyplot as plt\n",
        "import seaborn as sns\n",
        "from sklearn.impute import SimpleImputer\n",
        "\n",
        "columns = feature_df.columns\n",
        "simple_imputer = SimpleImputer(strategy='median')\n",
        "data = simple_imputer.fit_transform(feature_df)\n",
        "data = pd.DataFrame(data=data, columns=columns)\n",
        "fig, axs = plt.subplots(3,3)\n",
        "\n",
        "axs[0,0].boxplot(data['additional_fare'], 0, 'gD')\n",
        "axs[0,0].set_title('additional fare')\n",
        "\n",
        "axs[0,1].boxplot(data['duration'], 0, 'gD')\n",
        "axs[0,1].set_title('duration')\n",
        "\n",
        "axs[0,2].boxplot(data['fare'], 0, 'gD')\n",
        "axs[0,2].set_title('fare')\n",
        "\n",
        "axs[1,0].boxplot(data['meter_waiting'], 0, 'gD')\n",
        "axs[1,0].set_title('meter_waiting')\n",
        "\n",
        "axs[1,1].boxplot(data['meter_waiting_fare'], 0, 'gD')\n",
        "axs[1,1].set_title('meter_waiting_fare')\n",
        "\n",
        "axs[1,2].boxplot(data['meter_waiting_till_pickup'], 0, 'gD')\n",
        "axs[1,2].set_title('meter_waiting_till_pickup')\n",
        "\n",
        "axs[2,0].boxplot(data['time_error'], 0, 'gD')\n",
        "axs[2,0].set_title('time_error')\n",
        "\n",
        "axs[2,1].boxplot(data['trip_distance'], 0, 'gD')\n",
        "axs[2,1].set_title('trip_distance')\n",
        "\n",
        "axs[2,2].boxplot(data['trip_time'], 0, 'gD')\n",
        "axs[2,2].set_title('trip_time')\n",
        "\n",
        "fig.subplots_adjust(left=0.08, right=0.98, bottom=0.05, top=0.9,\n",
        "                    hspace=0.4, wspace=0.3)\n",
        "\n",
        "plt.figure(figsize=(10,10))\n",
        "\n",
        "plt.show()"
      ],
      "execution_count": 0,
      "outputs": [
        {
          "output_type": "stream",
          "text": [
            "/usr/local/lib/python3.6/dist-packages/statsmodels/tools/_testing.py:19: FutureWarning: pandas.util.testing is deprecated. Use the functions in the public API at pandas.testing instead.\n",
            "  import pandas.util.testing as tm\n"
          ],
          "name": "stderr"
        },
        {
          "output_type": "display_data",
          "data": {
            "image/png": "[encoded data removed]",
            "text/plain": [
              "<Figure size 432x288 with 9 Axes>"
            ]
          },
          "metadata": {
            "tags": [],
            "needs_background": "light"
          }
        },
        {
          "output_type": "display_data",
          "data": {
            "text/plain": [
              "<Figure size 720x720 with 0 Axes>"
            ]
          },
          "metadata": {
            "tags": []
          }
        }
      ]
    },
    {
      "cell_type": "markdown",
      "metadata": {
        "id": "u2OVgJqaKWfO",
        "colab_type": "text"
      },
      "source": [
        "## Z-Score"
      ]
    },
    {
      "cell_type": "code",
      "metadata": {
        "id": "15ZmS9G7KZBu",
        "colab_type": "code",
        "outputId": "cc5ea648-f19c-477a-a2d6-b65d20fce5a8",
        "colab": {
          "base_uri": "https://localhost:8080/",
          "height": 663
        }
      },
      "source": [
        "from scipy import stats\n",
        "from sklearn.impute import SimpleImputer\n",
        "\n",
        "columns = feature_df.columns\n",
        "simple_imputer = SimpleImputer(strategy='median')\n",
        "data = simple_imputer.fit_transform(feature_df)\n",
        "data = pd.DataFrame(data=data, columns=columns)\n",
        "\n",
        "z = np.abs(stats.zscore(data.drop(columns='ismissing')))\n",
        "print(z)\n",
        "\n",
        "outliers = np.where(z > 3)[0]\n",
        "print(\"\\nNumber of outliers = {}\\n\".format(len(set(outliers))))\n",
        "\n",
        "print(outliers)"
      ],
      "execution_count": 0,
      "outputs": [
        {
          "output_type": "stream",
          "text": [
            "[[0.03233882 0.10662331 0.07075185 ... 0.10787629 0.00545727 0.02238322]\n",
            " [0.03233882 0.11195012 0.07187466 ... 0.11528258 0.03929498 0.02111593]\n",
            " [0.03233882 0.07528187 0.06775771 ... 0.07825113 0.03363375 0.0221894 ]\n",
            " ...\n",
            " [0.03233882 0.17735835 0.07661538 ... 0.18193918 0.08862708 0.01503293]\n",
            " [0.03233882 0.10365021 0.06339126 ... 0.10787629 0.04601363 0.01808934]\n",
            " [0.03233882 0.17748222 0.07511831 ... 0.18193918 0.0637518  0.01570385]]\n",
            "\n",
            "Number of outliers = 118\n",
            "\n",
            "[   20    30    74    74    74    74    74   280   280   280   280   280\n",
            "   410   467   467   467   467   467   486   694   694   694   694   694\n",
            "   920  1194  1194  1194  1732  1732  1732  1732  1732  1761  1765  1885\n",
            "  1885  1885  1885  1885  1924  1996  1996  1996  1996  1996  2042  2086\n",
            "  2115  2632  2632  2632  2632  2632  2847  2955  3031  3031  3031  3031\n",
            "  3031  3067  3067  3067  3067  3365  3365  3365  3365  3365  3365  3389\n",
            "  3389  3389  3389  3389  3397  3397  3397  3397  3397  3549  3572  3572\n",
            "  3572  3572  3572  3633  3633  3633  3633  3680  3690  3733  3793  3793\n",
            "  3793  3793  3827  3827  3827  3827  3827  3827  3859  3977  3977  3977\n",
            "  3977  3977  3987  3987  3987  3987  3987  4088  4088  4088  4088  4088\n",
            "  4090  4193  4193  4193  4193  4193  4284  4284  4284  4284  4284  4630\n",
            "  4630  4630  4630  4630  4737  4737  4737  4737  4737  4807  4807  4807\n",
            "  4807  4807  4819  4819  4819  4819  4819  4898  4898  4898  4898  4898\n",
            "  5000  5000  5000  5000  5000  5192  5339  5379  5379  5379  5379  5379\n",
            "  5437  5437  5437  5437  5437  5558  5581  5736  5736  5736  5736  5736\n",
            "  5785  5785  5785  5785  5785  5805  6275  6371  6371  6371  6371  6371\n",
            "  6498  6535  6764  6764  6764  6764  6764  6764  6770  6777  7011  7011\n",
            "  7011  7011  7011  7256  7375  7375  7375  7375  7375  7415  7415  7415\n",
            "  7415  7415  7872  8250  8250  8250  8250  8250  8328  8409  8409  8409\n",
            "  8464  8801  8923  9077  9077  9077  9077  9077  9093  9846  9846  9846\n",
            "  9846  9846  9896  9982  9982  9982 10286 10463 10495 10537 10839 10921\n",
            " 10993 11049 11226 11345 11345 11345 11345 11345 11353 11560 11560 11560\n",
            " 11560 11598 11849 11952 12193 12193 12193 12193 12193 12358 12358 12358\n",
            " 12358 12358 13044 13047 13055 13055 13055 13055 13055 13544 14043 14043\n",
            " 14043 14043 14045 14045 14045 14137 14138 14437 14437 14437 14437 14437\n",
            " 14443 14687 14932 14932 14932 14932 14932 14947 14947 14947 14947 14947\n",
            " 15292 15451 16121 16121 16121 16121 16121 16218 16742 16759 16759 16759\n",
            " 16759 16759 16811 16961]\n"
          ],
          "name": "stdout"
        }
      ]
    },
    {
      "cell_type": "code",
      "metadata": {
        "id": "gvNBtHukMPZw",
        "colab_type": "code",
        "outputId": "19fe8a73-3a99-4beb-e6b0-1772675905c5",
        "colab": {
          "base_uri": "https://localhost:8080/",
          "height": 34
        }
      },
      "source": [
        "data.shape"
      ],
      "execution_count": 0,
      "outputs": [
        {
          "output_type": "execute_result",
          "data": {
            "text/plain": [
              "(17176, 10)"
            ]
          },
          "metadata": {
            "tags": []
          },
          "execution_count": 20
        }
      ]
    },
    {
      "cell_type": "code",
      "metadata": {
        "id": "4S9cjlr1MX86",
        "colab_type": "code",
        "outputId": "4c0115a2-117c-4d8e-a6e9-34032f980793",
        "colab": {
          "base_uri": "https://localhost:8080/",
          "height": 34
        }
      },
      "source": [
        "data = data.drop(outliers)\n",
        "data.shape"
      ],
      "execution_count": 0,
      "outputs": [
        {
          "output_type": "execute_result",
          "data": {
            "text/plain": [
              "(17058, 10)"
            ]
          },
          "metadata": {
            "tags": []
          },
          "execution_count": 21
        }
      ]
    },
    {
      "cell_type": "code",
      "metadata": {
        "id": "4Eea4FqsWqxO",
        "colab_type": "code",
        "outputId": "40120303-3b32-409b-a9ef-6408eb5b85b9",
        "colab": {
          "base_uri": "https://localhost:8080/",
          "height": 34
        }
      },
      "source": [
        "qwe = np.where(label_df.loc[label_df.index[outliers]]['label']==0)\n",
        "len(set(qwe[0]))"
      ],
      "execution_count": 0,
      "outputs": [
        {
          "output_type": "execute_result",
          "data": {
            "text/plain": [
              "268"
            ]
          },
          "metadata": {
            "tags": []
          },
          "execution_count": 22
        }
      ]
    },
    {
      "cell_type": "code",
      "metadata": {
        "id": "9A6VMcHFDNKe",
        "colab_type": "code",
        "outputId": "daca9f05-1faf-4d0b-fe58-85c0663a6ae7",
        "colab": {
          "base_uri": "https://localhost:8080/",
          "height": 317
        }
      },
      "source": [
        "feature_df.describe()"
      ],
      "execution_count": 0,
      "outputs": [
        {
          "output_type": "execute_result",
          "data": {
            "text/html": [
              "<div>\n",
              "<style scoped>\n",
              "    .dataframe tbody tr th:only-of-type {\n",
              "        vertical-align: middle;\n",
              "    }\n",
              "\n",
              "    .dataframe tbody tr th {\n",
              "        vertical-align: top;\n",
              "    }\n",
              "\n",
              "    .dataframe thead th {\n",
              "        text-align: right;\n",
              "    }\n",
              "</style>\n",
              "<table border=\"1\" class=\"dataframe\">\n",
              "  <thead>\n",
              "    <tr style=\"text-align: right;\">\n",
              "      <th></th>\n",
              "      <th>additional_fare</th>\n",
              "      <th>duration</th>\n",
              "      <th>meter_waiting</th>\n",
              "      <th>meter_waiting_fare</th>\n",
              "      <th>meter_waiting_till_pickup</th>\n",
              "      <th>fare</th>\n",
              "      <th>trip_time</th>\n",
              "      <th>trip_distance</th>\n",
              "      <th>time_error</th>\n",
              "      <th>ismissing</th>\n",
              "    </tr>\n",
              "  </thead>\n",
              "  <tbody>\n",
              "    <tr>\n",
              "      <th>count</th>\n",
              "      <td>16974.000000</td>\n",
              "      <td>16974.000000</td>\n",
              "      <td>16974.000000</td>\n",
              "      <td>16974.000000</td>\n",
              "      <td>16974.000000</td>\n",
              "      <td>17039.000000</td>\n",
              "      <td>17176.000000</td>\n",
              "      <td>17176.000000</td>\n",
              "      <td>1.697400e+04</td>\n",
              "      <td>17176.000000</td>\n",
              "    </tr>\n",
              "    <tr>\n",
              "      <th>mean</th>\n",
              "      <td>13.719651</td>\n",
              "      <td>1702.858077</td>\n",
              "      <td>629.074231</td>\n",
              "      <td>32.057666</td>\n",
              "      <td>112.466832</td>\n",
              "      <td>312.655466</td>\n",
              "      <td>1713.929902</td>\n",
              "      <td>4.858258</td>\n",
              "      <td>1.551730e+03</td>\n",
              "      <td>0.011761</td>\n",
              "    </tr>\n",
              "    <tr>\n",
              "      <th>std</th>\n",
              "      <td>98.975052</td>\n",
              "      <td>8120.160818</td>\n",
              "      <td>8063.260669</td>\n",
              "      <td>465.483573</td>\n",
              "      <td>442.054812</td>\n",
              "      <td>605.300565</td>\n",
              "      <td>8101.459112</td>\n",
              "      <td>43.015847</td>\n",
              "      <td>6.747195e+04</td>\n",
              "      <td>0.107810</td>\n",
              "    </tr>\n",
              "    <tr>\n",
              "      <th>min</th>\n",
              "      <td>0.000000</td>\n",
              "      <td>0.000000</td>\n",
              "      <td>0.000000</td>\n",
              "      <td>0.000000</td>\n",
              "      <td>0.000000</td>\n",
              "      <td>0.000000</td>\n",
              "      <td>0.000000</td>\n",
              "      <td>0.000000</td>\n",
              "      <td>0.000000e+00</td>\n",
              "      <td>0.000000</td>\n",
              "    </tr>\n",
              "    <tr>\n",
              "      <th>25%</th>\n",
              "      <td>10.500000</td>\n",
              "      <td>548.000000</td>\n",
              "      <td>33.000000</td>\n",
              "      <td>0.000000</td>\n",
              "      <td>26.000000</td>\n",
              "      <td>125.515000</td>\n",
              "      <td>540.000000</td>\n",
              "      <td>1.486000</td>\n",
              "      <td>6.400000e+01</td>\n",
              "      <td>0.000000</td>\n",
              "    </tr>\n",
              "    <tr>\n",
              "      <th>50%</th>\n",
              "      <td>10.500000</td>\n",
              "      <td>1009.500000</td>\n",
              "      <td>123.000000</td>\n",
              "      <td>0.116600</td>\n",
              "      <td>73.000000</td>\n",
              "      <td>211.180000</td>\n",
              "      <td>1020.000000</td>\n",
              "      <td>3.218000</td>\n",
              "      <td>3.240000e+02</td>\n",
              "      <td>0.000000</td>\n",
              "    </tr>\n",
              "    <tr>\n",
              "      <th>75%</th>\n",
              "      <td>10.500000</td>\n",
              "      <td>1803.000000</td>\n",
              "      <td>351.000000</td>\n",
              "      <td>14.341800</td>\n",
              "      <td>144.000000</td>\n",
              "      <td>366.465000</td>\n",
              "      <td>1800.000000</td>\n",
              "      <td>6.161250</td>\n",
              "      <td>9.000000e+02</td>\n",
              "      <td>0.000000</td>\n",
              "    </tr>\n",
              "    <tr>\n",
              "      <th>max</th>\n",
              "      <td>12795.030000</td>\n",
              "      <td>453872.000000</td>\n",
              "      <td>453650.000000</td>\n",
              "      <td>26198.601400</td>\n",
              "      <td>51288.000000</td>\n",
              "      <td>26945.990000</td>\n",
              "      <td>453840.000000</td>\n",
              "      <td>5609.521000</td>\n",
              "      <td>7.667361e+06</td>\n",
              "      <td>1.000000</td>\n",
              "    </tr>\n",
              "  </tbody>\n",
              "</table>\n",
              "</div>"
            ],
            "text/plain": [
              "       additional_fare       duration  meter_waiting  meter_waiting_fare  \\\n",
              "count     16974.000000   16974.000000   16974.000000        16974.000000   \n",
              "mean         13.719651    1702.858077     629.074231           32.057666   \n",
              "std          98.975052    8120.160818    8063.260669          465.483573   \n",
              "min           0.000000       0.000000       0.000000            0.000000   \n",
              "25%          10.500000     548.000000      33.000000            0.000000   \n",
              "50%          10.500000    1009.500000     123.000000            0.116600   \n",
              "75%          10.500000    1803.000000     351.000000           14.341800   \n",
              "max       12795.030000  453872.000000  453650.000000        26198.601400   \n",
              "\n",
              "       meter_waiting_till_pickup          fare      trip_time  trip_distance  \\\n",
              "count               16974.000000  17039.000000   17176.000000   17176.000000   \n",
              "mean                  112.466832    312.655466    1713.929902       4.858258   \n",
              "std                   442.054812    605.300565    8101.459112      43.015847   \n",
              "min                     0.000000      0.000000       0.000000       0.000000   \n",
              "25%                    26.000000    125.515000     540.000000       1.486000   \n",
              "50%                    73.000000    211.180000    1020.000000       3.218000   \n",
              "75%                   144.000000    366.465000    1800.000000       6.161250   \n",
              "max                 51288.000000  26945.990000  453840.000000    5609.521000   \n",
              "\n",
              "         time_error     ismissing  \n",
              "count  1.697400e+04  17176.000000  \n",
              "mean   1.551730e+03      0.011761  \n",
              "std    6.747195e+04      0.107810  \n",
              "min    0.000000e+00      0.000000  \n",
              "25%    6.400000e+01      0.000000  \n",
              "50%    3.240000e+02      0.000000  \n",
              "75%    9.000000e+02      0.000000  \n",
              "max    7.667361e+06      1.000000  "
            ]
          },
          "metadata": {
            "tags": []
          },
          "execution_count": 23
        }
      ]
    },
    {
      "cell_type": "code",
      "metadata": {
        "id": "riFOFHO2PUL0",
        "colab_type": "code",
        "outputId": "02a16f0e-99e7-463e-ef3d-ed5a358a0d44",
        "colab": {
          "base_uri": "https://localhost:8080/",
          "height": 317
        }
      },
      "source": [
        "data.describe()"
      ],
      "execution_count": 0,
      "outputs": [
        {
          "output_type": "execute_result",
          "data": {
            "text/html": [
              "<div>\n",
              "<style scoped>\n",
              "    .dataframe tbody tr th:only-of-type {\n",
              "        vertical-align: middle;\n",
              "    }\n",
              "\n",
              "    .dataframe tbody tr th {\n",
              "        vertical-align: top;\n",
              "    }\n",
              "\n",
              "    .dataframe thead th {\n",
              "        text-align: right;\n",
              "    }\n",
              "</style>\n",
              "<table border=\"1\" class=\"dataframe\">\n",
              "  <thead>\n",
              "    <tr style=\"text-align: right;\">\n",
              "      <th></th>\n",
              "      <th>additional_fare</th>\n",
              "      <th>duration</th>\n",
              "      <th>meter_waiting</th>\n",
              "      <th>meter_waiting_fare</th>\n",
              "      <th>meter_waiting_till_pickup</th>\n",
              "      <th>fare</th>\n",
              "      <th>trip_time</th>\n",
              "      <th>trip_distance</th>\n",
              "      <th>time_error</th>\n",
              "      <th>ismissing</th>\n",
              "    </tr>\n",
              "  </thead>\n",
              "  <tbody>\n",
              "    <tr>\n",
              "      <th>count</th>\n",
              "      <td>17058.000000</td>\n",
              "      <td>17058.000000</td>\n",
              "      <td>17058.000000</td>\n",
              "      <td>17058.000000</td>\n",
              "      <td>17058.000000</td>\n",
              "      <td>17058.000000</td>\n",
              "      <td>17058.000000</td>\n",
              "      <td>17058.000000</td>\n",
              "      <td>17058.000000</td>\n",
              "      <td>17058.000000</td>\n",
              "    </tr>\n",
              "    <tr>\n",
              "      <th>mean</th>\n",
              "      <td>12.924170</td>\n",
              "      <td>1375.349367</td>\n",
              "      <td>318.276586</td>\n",
              "      <td>14.173981</td>\n",
              "      <td>104.997362</td>\n",
              "      <td>284.680186</td>\n",
              "      <td>1383.499824</td>\n",
              "      <td>4.482866</td>\n",
              "      <td>603.576386</td>\n",
              "      <td>0.011549</td>\n",
              "    </tr>\n",
              "    <tr>\n",
              "      <th>std</th>\n",
              "      <td>12.569029</td>\n",
              "      <td>1348.724111</td>\n",
              "      <td>678.141600</td>\n",
              "      <td>38.507518</td>\n",
              "      <td>118.720299</td>\n",
              "      <td>242.299795</td>\n",
              "      <td>1360.800959</td>\n",
              "      <td>4.378016</td>\n",
              "      <td>814.831309</td>\n",
              "      <td>0.106846</td>\n",
              "    </tr>\n",
              "    <tr>\n",
              "      <th>min</th>\n",
              "      <td>0.000000</td>\n",
              "      <td>22.000000</td>\n",
              "      <td>0.000000</td>\n",
              "      <td>0.000000</td>\n",
              "      <td>0.000000</td>\n",
              "      <td>0.000000</td>\n",
              "      <td>0.000000</td>\n",
              "      <td>0.000000</td>\n",
              "      <td>0.000000</td>\n",
              "      <td>0.000000</td>\n",
              "    </tr>\n",
              "    <tr>\n",
              "      <th>25%</th>\n",
              "      <td>10.500000</td>\n",
              "      <td>551.000000</td>\n",
              "      <td>33.000000</td>\n",
              "      <td>0.000000</td>\n",
              "      <td>26.000000</td>\n",
              "      <td>125.752500</td>\n",
              "      <td>540.000000</td>\n",
              "      <td>1.487000</td>\n",
              "      <td>64.000000</td>\n",
              "      <td>0.000000</td>\n",
              "    </tr>\n",
              "    <tr>\n",
              "      <th>50%</th>\n",
              "      <td>10.500000</td>\n",
              "      <td>1009.500000</td>\n",
              "      <td>123.000000</td>\n",
              "      <td>0.116600</td>\n",
              "      <td>73.000000</td>\n",
              "      <td>211.180000</td>\n",
              "      <td>1020.000000</td>\n",
              "      <td>3.212000</td>\n",
              "      <td>324.000000</td>\n",
              "      <td>0.000000</td>\n",
              "    </tr>\n",
              "    <tr>\n",
              "      <th>75%</th>\n",
              "      <td>10.500000</td>\n",
              "      <td>1767.750000</td>\n",
              "      <td>341.000000</td>\n",
              "      <td>13.581707</td>\n",
              "      <td>142.000000</td>\n",
              "      <td>361.015000</td>\n",
              "      <td>1800.000000</td>\n",
              "      <td>6.133000</td>\n",
              "      <td>900.000000</td>\n",
              "      <td>0.000000</td>\n",
              "    </tr>\n",
              "    <tr>\n",
              "      <th>max</th>\n",
              "      <td>221.000000</td>\n",
              "      <td>23860.000000</td>\n",
              "      <td>23326.000000</td>\n",
              "      <td>1302.060600</td>\n",
              "      <td>1427.000000</td>\n",
              "      <td>2112.970000</td>\n",
              "      <td>23820.000000</td>\n",
              "      <td>45.027000</td>\n",
              "      <td>47089.000000</td>\n",
              "      <td>1.000000</td>\n",
              "    </tr>\n",
              "  </tbody>\n",
              "</table>\n",
              "</div>"
            ],
            "text/plain": [
              "       additional_fare      duration  meter_waiting  meter_waiting_fare  \\\n",
              "count     17058.000000  17058.000000   17058.000000        17058.000000   \n",
              "mean         12.924170   1375.349367     318.276586           14.173981   \n",
              "std          12.569029   1348.724111     678.141600           38.507518   \n",
              "min           0.000000     22.000000       0.000000            0.000000   \n",
              "25%          10.500000    551.000000      33.000000            0.000000   \n",
              "50%          10.500000   1009.500000     123.000000            0.116600   \n",
              "75%          10.500000   1767.750000     341.000000           13.581707   \n",
              "max         221.000000  23860.000000   23326.000000         1302.060600   \n",
              "\n",
              "       meter_waiting_till_pickup          fare     trip_time  trip_distance  \\\n",
              "count               17058.000000  17058.000000  17058.000000   17058.000000   \n",
              "mean                  104.997362    284.680186   1383.499824       4.482866   \n",
              "std                   118.720299    242.299795   1360.800959       4.378016   \n",
              "min                     0.000000      0.000000      0.000000       0.000000   \n",
              "25%                    26.000000    125.752500    540.000000       1.487000   \n",
              "50%                    73.000000    211.180000   1020.000000       3.212000   \n",
              "75%                   142.000000    361.015000   1800.000000       6.133000   \n",
              "max                  1427.000000   2112.970000  23820.000000      45.027000   \n",
              "\n",
              "         time_error     ismissing  \n",
              "count  17058.000000  17058.000000  \n",
              "mean     603.576386      0.011549  \n",
              "std      814.831309      0.106846  \n",
              "min        0.000000      0.000000  \n",
              "25%       64.000000      0.000000  \n",
              "50%      324.000000      0.000000  \n",
              "75%      900.000000      0.000000  \n",
              "max    47089.000000      1.000000  "
            ]
          },
          "metadata": {
            "tags": []
          },
          "execution_count": 24
        }
      ]
    },
    {
      "cell_type": "code",
      "metadata": {
        "id": "inCHUsyZSa-g",
        "colab_type": "code",
        "outputId": "dad281af-6444-4d7d-a3cb-31ddf76e1f42",
        "colab": {
          "base_uri": "https://localhost:8080/",
          "height": 51
        }
      },
      "source": [
        "def remove_outliers(xdf, ydf):\n",
        "    columns = xdf.columns\n",
        "    index = xdf.index.values\n",
        "    simple_imputer = SimpleImputer(strategy='median')\n",
        "    data = simple_imputer.fit_transform(xdf)\n",
        "    xdf = pd.DataFrame(data=data, columns=columns, index=index)\n",
        "    xdf.index.name = 'tripid'\n",
        "    z = np.abs(stats.zscore(xdf.drop(columns='ismissing')))\n",
        "    outliers = np.where(z > 3)[0]\n",
        "    xdf = xdf.drop(xdf.index[outliers])\n",
        "    ydf = ydf.drop(ydf.index[outliers])\n",
        "\n",
        "    return (xdf, ydf)\n",
        "\n",
        "print(\"Before: {}|{}\".format(feature_df.shape, label_df.shape))\n",
        "feature_df, label_df = remove_outliers(feature_df, label_df)\n",
        "print(\"After: {}|{}\".format(feature_df.shape, label_df.shape))"
      ],
      "execution_count": 0,
      "outputs": [
        {
          "output_type": "stream",
          "text": [
            "Before: (17176, 10)|(17176, 1)\n",
            "After: (17058, 10)|(17058, 1)\n"
          ],
          "name": "stdout"
        }
      ]
    },
    {
      "cell_type": "code",
      "metadata": {
        "id": "1Ec52zm3Ztot",
        "colab_type": "code",
        "outputId": "5b03f951-4e5d-43c5-be74-b4a1dd21721b",
        "colab": {
          "base_uri": "https://localhost:8080/",
          "height": 68
        }
      },
      "source": [
        "label_df['label'].value_counts()\n",
        "# Here 82 incorrect labeled records has been deleted as outliers"
      ],
      "execution_count": 0,
      "outputs": [
        {
          "output_type": "execute_result",
          "data": {
            "text/plain": [
              "1    15459\n",
              "0     1599\n",
              "Name: label, dtype: int64"
            ]
          },
          "metadata": {
            "tags": []
          },
          "execution_count": 26
        }
      ]
    },
    {
      "cell_type": "markdown",
      "metadata": {
        "id": "hlD9koQIJ0yB",
        "colab_type": "text"
      },
      "source": [
        "## Feature Coorelation"
      ]
    },
    {
      "cell_type": "code",
      "metadata": {
        "id": "lng0vhrSC-pS",
        "colab_type": "code",
        "outputId": "722a0642-190e-4f9b-91ba-8b5895ae4bb0",
        "colab": {
          "base_uri": "https://localhost:8080/",
          "height": 337
        }
      },
      "source": [
        "%matplotlib inline\n",
        "import matplotlib.pyplot as plt\n",
        "\n",
        "corr_df = feature_df.copy()\n",
        "columns = corr_df.columns\n",
        "\n",
        "cor = []\n",
        "for col in columns:\n",
        "    cor.append(corr_df[col].corr(label_df['label'], method=\"pearson\"))\n",
        "\n",
        "plt.figure(figsize=(40,10))\n",
        "plt.title(\"Feature Coorelation\")\n",
        "sns.barplot(x=columns, y=cor)\n",
        "plt.ylabel(\"Pearson Coeerelation\")"
      ],
      "execution_count": 0,
      "outputs": [
        {
          "output_type": "execute_result",
          "data": {
            "text/plain": [
              "Text(0, 0.5, 'Pearson Coeerelation')"
            ]
          },
          "metadata": {
            "tags": []
          },
          "execution_count": 27
        },
        {
          "output_type": "display_data",
          "data": {
            "image/png": "[encoded data removed]",
            "text/plain": [
              "<Figure size 2880x720 with 1 Axes>"
            ]
          },
          "metadata": {
            "tags": [],
            "needs_background": "light"
          }
        }
      ]
    },
    {
      "cell_type": "markdown",
      "metadata": {
        "id": "gaEGCpol15TP",
        "colab_type": "text"
      },
      "source": [
        "# Building Models"
      ]
    },
    {
      "cell_type": "code",
      "metadata": {
        "id": "KfSrgd1X13y5",
        "colab_type": "code",
        "colab": {}
      },
      "source": [
        "from sklearn.preprocessing import StandardScaler, MinMaxScaler\n",
        "from sklearn.impute import SimpleImputer\n",
        "from sklearn.compose import ColumnTransformer\n",
        "\n",
        "from sklearn.naive_bayes import MultinomialNB, BernoulliNB\n",
        "from sklearn.linear_model import LogisticRegression, SGDClassifier\n",
        "from sklearn.svm import LinearSVC\n",
        "from sklearn.ensemble import RandomForestClassifier\n",
        "from xgboost.sklearn import XGBClassifier\n",
        "\n",
        "from sklearn.pipeline import Pipeline\n",
        "\n",
        "from sklearn.model_selection import train_test_split, GridSearchCV, cross_val_score\n",
        "\n",
        "from sklearn.metrics import f1_score\n",
        "\n",
        "RANDOM_SEED = 6    # Set a random seed for reproducibility!"
      ],
      "execution_count": 0,
      "outputs": []
    },
    {
      "cell_type": "markdown",
      "metadata": {
        "id": "hZyhYZV73THz",
        "colab_type": "text"
      },
      "source": [
        "## Setting-up the Pre-Processor"
      ]
    },
    {
      "cell_type": "code",
      "metadata": {
        "id": "9kz0psA43aQo",
        "colab_type": "code",
        "colab": {}
      },
      "source": [
        "# chain preprocessing into a Pipeline object\n",
        "# each step is a tuple of (name you chose, sklearn transformer)\n",
        "\n",
        "# SimpleImputer(strategy='median', add_indicator=False) - RandomForest model\n",
        "# SimpleImputer(strategy='median', add_indicator=True) - LogisticRegression\n",
        "# SimpleImputer(strategy='most_frequent', add_indicator=True) -XGBClassifier\n",
        "preprocessor = Pipeline([\n",
        "    ('simple_imputer', SimpleImputer(strategy='median')), #, add_indicator=True\n",
        "    ('scaler', MinMaxScaler())\n",
        "])"
      ],
      "execution_count": 0,
      "outputs": []
    },
    {
      "cell_type": "markdown",
      "metadata": {
        "id": "850dqckx4bOP",
        "colab_type": "text"
      },
      "source": [
        "## Selecting the best model"
      ]
    },
    {
      "cell_type": "code",
      "metadata": {
        "id": "JJKvqbqc4ijY",
        "colab_type": "code",
        "colab": {}
      },
      "source": [
        "%%script false --no-raise-error\n",
        "models = [\n",
        "    XGBClassifier(max_depth=7, learning_rate=0.01, n_estimators=500, eval_metric='rmse') #, objective='binary:hinge'\n",
        "    #RandomForestClassifier(class_weight={1: 0.8, 0: 0.2}, criterion='entropy', max_depth=15, max_features=5, min_impurity_decrease=0, n_estimators=300, random_state=6),\n",
        "    #LogisticRegression(C=100, class_weight={1: 0.2, 0: 0.8}, max_iter=100, penalty='l1', solver='liblinear', random_state=0, n_jobs=-1)\n",
        "    #MultinomialNB(),\n",
        "    #BernoulliNB(),\n",
        "    #LogisticRegression(random_state=0),\n",
        "    #SGDClassifier(),\n",
        "    #LinearSVC()\n",
        "]\n",
        "\n",
        "processed_models = {}\n",
        "for model in models:\n",
        "    name = model.__class__.__name__\n",
        "    processed_models[name] = Pipeline([(\"preprocessor\", preprocessor),\n",
        "                                      (\"estimator\", model)])\n",
        "    \n",
        "CV = 5\n",
        "cv_df = pd.DataFrame(index=range(CV * len(models)))\n",
        "entries = []\n",
        "for (name, model) in processed_models.items():\n",
        "  f1_scores = cross_val_score(model, feature_df, label_df.label, scoring='f1_macro', cv=CV)\n",
        "  for fold_idx, f1 in enumerate(f1_scores):\n",
        "    entries.append((name, fold_idx, f1))\n",
        "cv_df = pd.DataFrame(entries, columns=['model_name', 'fold_idx', 'f1_score'])\n",
        "\n",
        "print(cv_df)\n",
        "print(cv_df.groupby('model_name').f1_score.mean())"
      ],
      "execution_count": 0,
      "outputs": []
    },
    {
      "cell_type": "markdown",
      "metadata": {
        "id": "8L1mqhouMjqu",
        "colab_type": "text"
      },
      "source": [
        "## Hyper-Parameter Tuning"
      ]
    },
    {
      "cell_type": "markdown",
      "metadata": {
        "id": "hhJ8N1Jnokag",
        "colab_type": "text"
      },
      "source": [
        "## Grid Search"
      ]
    },
    {
      "cell_type": "code",
      "metadata": {
        "id": "DO-C3DwLLOjq",
        "colab_type": "code",
        "colab": {}
      },
      "source": [
        "%%script false --no-raise-error\n",
        "# RandomForestClassifier(class_weight={1: 0.8, 0: 0.2}, criterion='entropy', max_depth=15, max_features=5, min_impurity_decrease=0, n_estimators=300, random_state=6, n_jobs=-1)\n",
        "# LogisticRegression(C=100, class_weight={1: 0.2, 0: 0.8}, max_iter=100, penalty='l1', solver='liblinear', random_state=0, n_jobs=-1)\n",
        "cross_pipeline = Pipeline([\n",
        "    (\"preprocessor\", preprocessor),\n",
        "    (\"estimators\", XGBClassifier(booster='dart', objective='binary:logitraw', n_estimators=1000, max_depth=8, learning_rate=0.03, eval_metric='mae')),\n",
        "])\n",
        "\n",
        "# estimator parameter tuning - Random Forest\n",
        "criterion = ['gini', 'entropy']\n",
        "n_estimators = [100, 200, 300, 50]\n",
        "max_depth = [3, 5, 10, 15]\n",
        "max_features = [5, 'log2', 'auto']\n",
        "min_impurity_decrease = [0, 0.2, 0.5, 1.0]\n",
        "class_weight = [{1:0.5, 0:0.5}, {1:0.2, 0:0.8}, {1:0.8, 0:0.2}, {1:0.3, 0:0.7}]\n",
        "\n",
        "param_grid1 = dict(estimators__criterion =criterion,\n",
        "                  estimators__n_estimators =n_estimators,\n",
        "                  estimators__max_depth=max_depth,\n",
        "                  estimators__max_features =max_features,\n",
        "                  estimators__min_impurity_decrease=min_impurity_decrease,\n",
        "                  estimators__class_weight=class_weight)\n",
        "\n",
        "# estimator parameter tuning - Linear Regression\n",
        "penalty = ['l1', 'l2'] # , 'elasticnet'\n",
        "C = [0.001, 0.01, 0.1, 1, 10, 100]\n",
        "class_weight = [{1:0.5, 0:0.5}, {1:0.2, 0:0.8}, {1:0.8, 0:0.2}, {1:0.3, 0:0.7}]\n",
        "solver = ['newton-cg', 'lbfgs', 'liblinear', 'sag', 'saga']\n",
        "max_iter = [100, 200, 300]\n",
        "\n",
        "param_grid2 = dict(estimators__penalty = penalty,\n",
        "                  estimators__C = C,\n",
        "                  estimators__max_iter = max_iter,\n",
        "                  estimators__solver = solver,\n",
        "                  estimators__class_weight=class_weight)\n",
        "\n",
        "# estimator parameter tuning - XGBoost\n",
        "booster = ['gbtree', 'dart']\n",
        "max_depth = [5, 8, 10]\n",
        "learning_rate = [0.01, 0.05, 0.1, 0.4]\n",
        "n_estimators = [500, 800, 1000]\n",
        "eval_metric = ['rmse', 'mae', 'logloss']\n",
        "objective = ['reg:logistic', 'binary:logistic', 'binary:logitraw', 'binary:hinge']\n",
        "\n",
        "param_grid3 = dict(estimators__booster = booster,\n",
        "                   estimators__max_depth = max_depth,\n",
        "                   estimators__learning_rate = learning_rate,\n",
        "                   estimators__n_estimators = n_estimators,\n",
        "                   estimators__eval_metric = eval_metric,\n",
        "                   estimators__objective = objective)\n",
        "\n",
        "# preprocessor parameter tuning\n",
        "strategy = ['mean', 'median', 'most_frequent']\n",
        "indicator = [True, False]\n",
        "param_grid4 = dict(preprocessor__simple_imputer__strategy = strategy,\n",
        "                   preprocessor__simple_imputer__add_indicator = indicator)\n",
        "\n",
        "X_trainc, X_evalc, y_trainc, y_evalc = train_test_split(\n",
        "    feature_df,\n",
        "    label_df,\n",
        "    test_size=0.33,\n",
        "    shuffle=True,\n",
        "    stratify=label_df,\n",
        "    random_state=RANDOM_SEED\n",
        ")\n",
        "\n",
        "grid = GridSearchCV(estimator=cross_pipeline,\n",
        "                    param_grid=param_grid4,\n",
        "                    scoring='f1_macro',\n",
        "                    verbose=1,\n",
        "                    n_jobs=-1)\n",
        "grid.fit(X_trainc, y_trainc)\n",
        "\n",
        "print(\"Model: Random Forest\")\n",
        "print(\"Best param: \",grid.best_params_)\n",
        "print(\"Best estimator: \", grid.best_estimator_)\n",
        "#print(cross_pipeline.get_params().keys())"
      ],
      "execution_count": 0,
      "outputs": []
    },
    {
      "cell_type": "markdown",
      "metadata": {
        "id": "HsqLOqCiosGb",
        "colab_type": "text"
      },
      "source": [
        "# Random Search"
      ]
    },
    {
      "cell_type": "code",
      "metadata": {
        "id": "guAn5R4tqEyC",
        "colab_type": "code",
        "colab": {}
      },
      "source": [
        "%%script false --no-raise-error\n",
        "from sklearn.model_selection import RandomizedSearchCV, StratifiedKFold\n",
        "\n",
        "cross_pipeline = Pipeline([\n",
        "    (\"preprocessor\", preprocessor),\n",
        "    (\"estimators\", XGBClassifier(\n",
        "                      silent=True, nthread=6, tree_method='hist', eval_metric='auc')),\n",
        "])\n",
        "\n",
        "# estimator parameter tuning - XGBoost\n",
        "booster = ['gbtree', 'dart']\n",
        "max_depth = [4, 5, 6, 8, 10, 12]\n",
        "learning_rate = [0.01, 0.03, 0.05, 0.1, 0.2]\n",
        "n_estimators = [500, 800, 1000]\n",
        "eval_metric = ['rmse', 'mae', 'logloss']\n",
        "objective = ['reg:logistic', 'binary:logistic', 'binary:logitraw', 'binary:hinge']\n",
        "\n",
        "param_grid1 = dict(estimators__booster = booster,\n",
        "                   estimators__max_depth = max_depth,\n",
        "                   estimators__learning_rate = learning_rate,\n",
        "                   estimators__n_estimators = n_estimators,\n",
        "                   estimators__eval_metric = eval_metric,\n",
        "                   estimators__objective = objective)\n",
        "\n",
        "param_grid2={\n",
        "  \"estimators__learning_rate\"    : [ 0.01, 0.02, 0.03, 0.04, 0.05, 0.1 ] ,\n",
        "  \"estimators__max_depth\"        : [ 3, 4, 5, 6, 8, 10, 12, 15 ],\n",
        "  \"estimators__min_child_weight\" : [ 1, 3, 5, 7 ],\n",
        "  \"estimators__subsample\"        : [0.8, 0.9, 1.0],\n",
        "  \"estimators__gamma\"            : [ 0.0, 0.1, 0.2 , 0.3, 0.4 ],\n",
        "  \"estimators__colsample_bytree\" : [ 0.7, 0.8, 0.9, 1 ]\n",
        " }\n",
        "\n",
        "skf = StratifiedKFold(n_splits=5, shuffle = True, random_state = 1001)\n",
        "\n",
        "random_grid = RandomizedSearchCV(estimator=cross_pipeline, \n",
        "                                 param_distributions = param_grid1, \n",
        "                                 n_iter=10, \n",
        "                                 scoring='f1_macro', \n",
        "                                 n_jobs=4, \n",
        "                                 cv=skf.split(feature_df,label_df), \n",
        "                                 verbose=3, \n",
        "                                 random_state=1001)\n",
        "\n",
        "random_grid.fit(feature_df, label_df)\n",
        "print(\"Best Params: \", random_grid.best_params_)\n",
        "print(\"Best Estimator: \", random_grid.best_estimator_)"
      ],
      "execution_count": 0,
      "outputs": []
    },
    {
      "cell_type": "code",
      "metadata": {
        "id": "Dod2s2WhGduY",
        "colab_type": "code",
        "colab": {}
      },
      "source": [
        "random_grid.best_score_"
      ],
      "execution_count": 0,
      "outputs": []
    },
    {
      "cell_type": "markdown",
      "metadata": {
        "id": "RKoj1iZsAFVe",
        "colab_type": "text"
      },
      "source": [
        "# Train & Evaluation"
      ]
    },
    {
      "cell_type": "markdown",
      "metadata": {
        "id": "oM8S_pcwjQyT",
        "colab_type": "text"
      },
      "source": [
        "### Building XGBoostWithEarlyStop esitimators to use with pipelines"
      ]
    },
    {
      "cell_type": "code",
      "metadata": {
        "id": "jiQNIcf4TPkK",
        "colab_type": "code",
        "colab": {}
      },
      "source": [
        "from sklearn.base import BaseEstimator\n",
        "from sklearn.model_selection import train_test_split\n",
        "from xgboost import XGBRegressor, XGBClassifier\n",
        "\n",
        "class XGBoostWithEarlyStop(BaseEstimator):\n",
        "    def __init__(self, early_stopping_rounds=100, test_size=0.2, \n",
        "                 eval_metric=['error','logloss'], **estimator_params):\n",
        "        self.early_stopping_rounds = early_stopping_rounds\n",
        "        self.test_size = test_size\n",
        "        self.eval_metric=eval_metric        \n",
        "        if self.estimator is not None:\n",
        "            self.set_params(**estimator_params)\n",
        "\n",
        "    def set_params(self, **params):\n",
        "        return self.estimator.set_params(**params)\n",
        "\n",
        "    def get_params(self, **params):\n",
        "        return self.estimator.get_params()\n",
        "\n",
        "    def fit(self, X, y):\n",
        "        x_train, x_val, y_train, y_val = train_test_split(X, y, test_size=self.test_size, random_state=6)\n",
        "        self.estimator.fit(x_train, y_train, \n",
        "                           early_stopping_rounds=self.early_stopping_rounds, \n",
        "                           eval_metric=self.eval_metric, eval_set=[(x_train, y_train),(x_val, y_val)])\n",
        "        return self\n",
        "\n",
        "    def predict(self, X):\n",
        "        return self.estimator.predict(X)\n",
        "\n",
        "class XGBoostRegressorWithEarlyStop(XGBoostWithEarlyStop):\n",
        "    def __init__(self, *args, **kwargs):\n",
        "        self.estimator = XGBRegressor()\n",
        "        super(XGBoostRegressorWithEarlyStop, self).__init__(*args, **kwargs)\n",
        "\n",
        "class XGBoostClassifierWithEarlyStop(XGBoostWithEarlyStop):\n",
        "    def __init__(self, *args, **kwargs):\n",
        "        self.estimator = XGBClassifier()\n",
        "        super(XGBoostClassifierWithEarlyStop, self).__init__(*args, **kwargs)"
      ],
      "execution_count": 0,
      "outputs": []
    },
    {
      "cell_type": "code",
      "metadata": {
        "id": "_XRCzgSvkoo3",
        "colab_type": "code",
        "colab": {}
      },
      "source": [
        "estimator = XGBoostClassifierWithEarlyStop(max_depth=10, learning_rate=0.01, n_estimators=1000) #, eval_metric='rmse'"
      ],
      "execution_count": 0,
      "outputs": []
    },
    {
      "cell_type": "code",
      "metadata": {
        "id": "jDDIvPJrAMrS",
        "colab_type": "code",
        "colab": {}
      },
      "source": [
        "#estimator=RandomForestClassifier(class_weight={1: 0.8, 0: 0.2}, criterion='entropy', max_depth=15, max_features=5, min_impurity_decrease=0, n_estimators=300, random_state=6)\n",
        "#estimator = LogisticRegression(C=100, class_weight={1: 0.2, 0: 0.8}, max_iter=100, penalty='l1', solver='liblinear', random_state=0, n_jobs=-1)\n",
        "# XGBClassifier(max_depth=10, learning_rate=0.01, n_estimators=1000, eval_metric='rmse') #, objective='binary:hinge'\n",
        "#subsample=0.8, min_child_weight=1, max_depth=8/4, learning_rate=0.05, gamma=0.2, colsample_bytree=1, n_estimators=1000, objective='binary:logistic', silent=True, nthread=6, tree_method='hist', eval_metric='auc'\n",
        "\n",
        "# estimator = XGBClassifier(booster='dart', subsample=0.8, min_child_weight=7, max_depth=15, learning_rate=0.01, gamma=0.4, colsample_bytree=1,\n",
        "#                           colsample_bynode=1, colsample_bylevel=1, base_score=0.5, n_estimators=1000, objective='binary:logistic',\n",
        "#                       importance_type='gain', max_delta_step=0, missing=None, monotone_constrains=None, silent=True, \n",
        "#                       njobs=6, num_parallel_tree=1, nthread=6, random_state=0, eval_metric='auc', reg_alpha=0, reg_lambda=1, scale_pos_weight=1, tree_method='hist', \n",
        "#                       validate_parameters=False)\n",
        "\n",
        "# estimator = XGBClassifier(max_depth=10, learning_rate=0.01, n_estimators=1000, eval_metric='rmse')\n",
        "\n",
        "# estimator = XGBClassifier(booster='dart', subsample=0.8, min_child_weight=1, max_depth=12, learning_rate=0.05, gamma=0.2, colsample_bytree=1,\n",
        "#                           colsample_bynode=1, colsample_bylevel=1, base_score=0.5, n_estimators=1000, objective='binary:logitraw',\n",
        "#                       importance_type='gain', max_delta_step=0, missing=None, monotone_constrains=None, silent=True, \n",
        "#                       njobs=6, num_parallel_tree=1, nthread=6, random_state=0, eval_metric='rmse', reg_alpha=0, reg_lambda=1, scale_pos_weight=1, tree_method='hist', \n",
        "#                       validate_parameters=False)\n",
        "full_pipeline = Pipeline([\n",
        "    (\"preprocessor\", preprocessor),\n",
        "    (\"estimators\", estimator),\n",
        "])"
      ],
      "execution_count": 0,
      "outputs": []
    },
    {
      "cell_type": "code",
      "metadata": {
        "id": "GhhDqyHYrre0",
        "colab_type": "code",
        "outputId": "361fdd58-4062-4929-a18d-7b091a7313df",
        "colab": {
          "base_uri": "https://localhost:8080/",
          "height": 34
        }
      },
      "source": [
        "feature_df.shape"
      ],
      "execution_count": 0,
      "outputs": [
        {
          "output_type": "execute_result",
          "data": {
            "text/plain": [
              "(17058, 10)"
            ]
          },
          "metadata": {
            "tags": []
          },
          "execution_count": 411
        }
      ]
    },
    {
      "cell_type": "code",
      "metadata": {
        "id": "4s8CUKpIAv9E",
        "colab_type": "code",
        "colab": {}
      },
      "source": [
        "X_train, X_eval, y_train, y_eval = train_test_split(\n",
        "    feature_df,\n",
        "    label_df,\n",
        "    test_size=0.33,\n",
        "    shuffle=True,\n",
        "    stratify=label_df,\n",
        "    random_state=RANDOM_SEED\n",
        ")"
      ],
      "execution_count": 0,
      "outputs": []
    },
    {
      "cell_type": "code",
      "metadata": {
        "id": "RcSrwte2BQ4s",
        "colab_type": "code",
        "outputId": "f515fea2-f304-41eb-b937-98f828b8e796",
        "colab": {
          "base_uri": "https://localhost:8080/",
          "height": 1000
        }
      },
      "source": [
        "%%time\n",
        "\n",
        "# Train model\n",
        "full_pipeline.fit(X_train, y_train)\n",
        "\n",
        "# Predict on evaluation set\n",
        "preds = full_pipeline.predict(X_eval)\n",
        "print(preds)"
      ],
      "execution_count": 0,
      "outputs": [
        {
          "output_type": "stream",
          "text": [
            "[0]\tvalidation_0-error:0.045067\tvalidation_0-logloss:0.684871\tvalidation_1-error:0.060805\tvalidation_1-logloss:0.685068\n",
            "Multiple eval metrics have been passed: 'validation_1-logloss' will be used for early stopping.\n",
            "\n",
            "Will train until validation_1-logloss hasn't improved in 100 rounds.\n",
            "[1]\tvalidation_0-error:0.044848\tvalidation_0-logloss:0.676854\tvalidation_1-error:0.060805\tvalidation_1-logloss:0.677162\n",
            "[2]\tvalidation_0-error:0.045614\tvalidation_0-logloss:0.66894\tvalidation_1-error:0.060367\tvalidation_1-logloss:0.669409\n",
            "[3]\tvalidation_0-error:0.045504\tvalidation_0-logloss:0.661219\tvalidation_1-error:0.061242\tvalidation_1-logloss:0.661809\n",
            "[4]\tvalidation_0-error:0.045614\tvalidation_0-logloss:0.653662\tvalidation_1-error:0.060805\tvalidation_1-logloss:0.654356\n",
            "[5]\tvalidation_0-error:0.045614\tvalidation_0-logloss:0.646147\tvalidation_1-error:0.06168\tvalidation_1-logloss:0.647078\n",
            "[6]\tvalidation_0-error:0.045723\tvalidation_0-logloss:0.638844\tvalidation_1-error:0.061242\tvalidation_1-logloss:0.639894\n",
            "[7]\tvalidation_0-error:0.045504\tvalidation_0-logloss:0.631664\tvalidation_1-error:0.06168\tvalidation_1-logloss:0.632862\n"
          ],
          "name": "stdout"
        },
        {
          "output_type": "stream",
          "text": [
            "/usr/local/lib/python3.6/dist-packages/sklearn/preprocessing/_label.py:235: DataConversionWarning: A column-vector y was passed when a 1d array was expected. Please change the shape of y to (n_samples, ), for example using ravel().\n",
            "  y = column_or_1d(y, warn=True)\n",
            "/usr/local/lib/python3.6/dist-packages/sklearn/preprocessing/_label.py:268: DataConversionWarning: A column-vector y was passed when a 1d array was expected. Please change the shape of y to (n_samples, ), for example using ravel().\n",
            "  y = column_or_1d(y, warn=True)\n"
          ],
          "name": "stderr"
        },
        {
          "output_type": "stream",
          "text": [
            "[8]\tvalidation_0-error:0.045285\tvalidation_0-logloss:0.62478\tvalidation_1-error:0.06168\tvalidation_1-logloss:0.626097\n",
            "[9]\tvalidation_0-error:0.044957\tvalidation_0-logloss:0.618028\tvalidation_1-error:0.06168\tvalidation_1-logloss:0.619422\n",
            "[10]\tvalidation_0-error:0.045285\tvalidation_0-logloss:0.611151\tvalidation_1-error:0.062992\tvalidation_1-logloss:0.612794\n",
            "[11]\tvalidation_0-error:0.044629\tvalidation_0-logloss:0.604642\tvalidation_1-error:0.060367\tvalidation_1-logloss:0.60637\n",
            "[12]\tvalidation_0-error:0.04441\tvalidation_0-logloss:0.598218\tvalidation_1-error:0.060805\tvalidation_1-logloss:0.600033\n",
            "[13]\tvalidation_0-error:0.044192\tvalidation_0-logloss:0.591872\tvalidation_1-error:0.060367\tvalidation_1-logloss:0.593804\n",
            "[14]\tvalidation_0-error:0.044301\tvalidation_0-logloss:0.585541\tvalidation_1-error:0.05993\tvalidation_1-logloss:0.587647\n",
            "[15]\tvalidation_0-error:0.044301\tvalidation_0-logloss:0.57938\tvalidation_1-error:0.05993\tvalidation_1-logloss:0.581662\n",
            "[16]\tvalidation_0-error:0.044957\tvalidation_0-logloss:0.57337\tvalidation_1-error:0.05993\tvalidation_1-logloss:0.575763\n",
            "[17]\tvalidation_0-error:0.04452\tvalidation_0-logloss:0.567348\tvalidation_1-error:0.05993\tvalidation_1-logloss:0.569908\n",
            "[18]\tvalidation_0-error:0.044739\tvalidation_0-logloss:0.56146\tvalidation_1-error:0.05993\tvalidation_1-logloss:0.564134\n",
            "[19]\tvalidation_0-error:0.043863\tvalidation_0-logloss:0.555668\tvalidation_1-error:0.060367\tvalidation_1-logloss:0.558447\n",
            "[20]\tvalidation_0-error:0.043754\tvalidation_0-logloss:0.549898\tvalidation_1-error:0.060805\tvalidation_1-logloss:0.552862\n",
            "[21]\tvalidation_0-error:0.043863\tvalidation_0-logloss:0.544214\tvalidation_1-error:0.060367\tvalidation_1-logloss:0.547396\n",
            "[22]\tvalidation_0-error:0.043645\tvalidation_0-logloss:0.538822\tvalidation_1-error:0.060805\tvalidation_1-logloss:0.542079\n",
            "[23]\tvalidation_0-error:0.043863\tvalidation_0-logloss:0.533386\tvalidation_1-error:0.060805\tvalidation_1-logloss:0.536765\n",
            "[24]\tvalidation_0-error:0.044192\tvalidation_0-logloss:0.527994\tvalidation_1-error:0.060805\tvalidation_1-logloss:0.531574\n",
            "[25]\tvalidation_0-error:0.044192\tvalidation_0-logloss:0.52277\tvalidation_1-error:0.060805\tvalidation_1-logloss:0.526443\n",
            "[26]\tvalidation_0-error:0.043754\tvalidation_0-logloss:0.51764\tvalidation_1-error:0.061242\tvalidation_1-logloss:0.521478\n",
            "[27]\tvalidation_0-error:0.043645\tvalidation_0-logloss:0.512501\tvalidation_1-error:0.061242\tvalidation_1-logloss:0.516497\n",
            "[28]\tvalidation_0-error:0.043754\tvalidation_0-logloss:0.507582\tvalidation_1-error:0.061242\tvalidation_1-logloss:0.511681\n",
            "[29]\tvalidation_0-error:0.043754\tvalidation_0-logloss:0.502607\tvalidation_1-error:0.060805\tvalidation_1-logloss:0.506829\n",
            "[30]\tvalidation_0-error:0.043426\tvalidation_0-logloss:0.497708\tvalidation_1-error:0.060805\tvalidation_1-logloss:0.502093\n",
            "[31]\tvalidation_0-error:0.043754\tvalidation_0-logloss:0.492922\tvalidation_1-error:0.05993\tvalidation_1-logloss:0.497431\n",
            "[32]\tvalidation_0-error:0.043973\tvalidation_0-logloss:0.48825\tvalidation_1-error:0.060805\tvalidation_1-logloss:0.492953\n",
            "[33]\tvalidation_0-error:0.043426\tvalidation_0-logloss:0.483608\tvalidation_1-error:0.060805\tvalidation_1-logloss:0.488398\n",
            "[34]\tvalidation_0-error:0.043645\tvalidation_0-logloss:0.478954\tvalidation_1-error:0.05993\tvalidation_1-logloss:0.483963\n",
            "[35]\tvalidation_0-error:0.043754\tvalidation_0-logloss:0.474458\tvalidation_1-error:0.061242\tvalidation_1-logloss:0.479598\n",
            "[36]\tvalidation_0-error:0.043317\tvalidation_0-logloss:0.469958\tvalidation_1-error:0.060805\tvalidation_1-logloss:0.475266\n",
            "[37]\tvalidation_0-error:0.043426\tvalidation_0-logloss:0.465629\tvalidation_1-error:0.060805\tvalidation_1-logloss:0.471052\n",
            "[38]\tvalidation_0-error:0.043317\tvalidation_0-logloss:0.461257\tvalidation_1-error:0.061242\tvalidation_1-logloss:0.466857\n",
            "[39]\tvalidation_0-error:0.043317\tvalidation_0-logloss:0.45708\tvalidation_1-error:0.061242\tvalidation_1-logloss:0.462754\n",
            "[40]\tvalidation_0-error:0.043317\tvalidation_0-logloss:0.452882\tvalidation_1-error:0.060805\tvalidation_1-logloss:0.458764\n",
            "[41]\tvalidation_0-error:0.043317\tvalidation_0-logloss:0.448763\tvalidation_1-error:0.060805\tvalidation_1-logloss:0.454745\n",
            "[42]\tvalidation_0-error:0.042879\tvalidation_0-logloss:0.444718\tvalidation_1-error:0.060367\tvalidation_1-logloss:0.450838\n",
            "[43]\tvalidation_0-error:0.042988\tvalidation_0-logloss:0.440713\tvalidation_1-error:0.060805\tvalidation_1-logloss:0.447019\n",
            "[44]\tvalidation_0-error:0.042988\tvalidation_0-logloss:0.436738\tvalidation_1-error:0.061242\tvalidation_1-logloss:0.443235\n",
            "[45]\tvalidation_0-error:0.042988\tvalidation_0-logloss:0.432898\tvalidation_1-error:0.061242\tvalidation_1-logloss:0.439503\n",
            "[46]\tvalidation_0-error:0.042879\tvalidation_0-logloss:0.429079\tvalidation_1-error:0.061242\tvalidation_1-logloss:0.435843\n",
            "[47]\tvalidation_0-error:0.042879\tvalidation_0-logloss:0.425297\tvalidation_1-error:0.062117\tvalidation_1-logloss:0.432239\n",
            "[48]\tvalidation_0-error:0.042879\tvalidation_0-logloss:0.421565\tvalidation_1-error:0.062117\tvalidation_1-logloss:0.428691\n",
            "[49]\tvalidation_0-error:0.042879\tvalidation_0-logloss:0.417895\tvalidation_1-error:0.062117\tvalidation_1-logloss:0.425165\n",
            "[50]\tvalidation_0-error:0.042988\tvalidation_0-logloss:0.414316\tvalidation_1-error:0.06168\tvalidation_1-logloss:0.421701\n",
            "[51]\tvalidation_0-error:0.042988\tvalidation_0-logloss:0.410732\tvalidation_1-error:0.062117\tvalidation_1-logloss:0.418299\n",
            "[52]\tvalidation_0-error:0.04277\tvalidation_0-logloss:0.40722\tvalidation_1-error:0.06168\tvalidation_1-logloss:0.414943\n",
            "[53]\tvalidation_0-error:0.04277\tvalidation_0-logloss:0.40377\tvalidation_1-error:0.06168\tvalidation_1-logloss:0.411652\n",
            "[54]\tvalidation_0-error:0.04277\tvalidation_0-logloss:0.400391\tvalidation_1-error:0.062117\tvalidation_1-logloss:0.408407\n",
            "[55]\tvalidation_0-error:0.04277\tvalidation_0-logloss:0.397033\tvalidation_1-error:0.062117\tvalidation_1-logloss:0.405219\n",
            "[56]\tvalidation_0-error:0.04277\tvalidation_0-logloss:0.393749\tvalidation_1-error:0.062555\tvalidation_1-logloss:0.402097\n",
            "[57]\tvalidation_0-error:0.04277\tvalidation_0-logloss:0.390467\tvalidation_1-error:0.062555\tvalidation_1-logloss:0.398993\n",
            "[58]\tvalidation_0-error:0.04266\tvalidation_0-logloss:0.387273\tvalidation_1-error:0.062555\tvalidation_1-logloss:0.395928\n",
            "[59]\tvalidation_0-error:0.04266\tvalidation_0-logloss:0.38411\tvalidation_1-error:0.062555\tvalidation_1-logloss:0.39293\n",
            "[60]\tvalidation_0-error:0.042551\tvalidation_0-logloss:0.380982\tvalidation_1-error:0.062555\tvalidation_1-logloss:0.389951\n",
            "[61]\tvalidation_0-error:0.04266\tvalidation_0-logloss:0.377887\tvalidation_1-error:0.062555\tvalidation_1-logloss:0.387036\n",
            "[62]\tvalidation_0-error:0.042441\tvalidation_0-logloss:0.374875\tvalidation_1-error:0.062555\tvalidation_1-logloss:0.38413\n",
            "[63]\tvalidation_0-error:0.042551\tvalidation_0-logloss:0.371923\tvalidation_1-error:0.062992\tvalidation_1-logloss:0.381295\n",
            "[64]\tvalidation_0-error:0.042441\tvalidation_0-logloss:0.368964\tvalidation_1-error:0.062555\tvalidation_1-logloss:0.378486\n",
            "[65]\tvalidation_0-error:0.042332\tvalidation_0-logloss:0.366061\tvalidation_1-error:0.062555\tvalidation_1-logloss:0.375722\n",
            "[66]\tvalidation_0-error:0.042223\tvalidation_0-logloss:0.363173\tvalidation_1-error:0.062555\tvalidation_1-logloss:0.373011\n",
            "[67]\tvalidation_0-error:0.042113\tvalidation_0-logloss:0.360375\tvalidation_1-error:0.062555\tvalidation_1-logloss:0.370341\n",
            "[68]\tvalidation_0-error:0.042004\tvalidation_0-logloss:0.357568\tvalidation_1-error:0.062555\tvalidation_1-logloss:0.36769\n",
            "[69]\tvalidation_0-error:0.042004\tvalidation_0-logloss:0.35481\tvalidation_1-error:0.062555\tvalidation_1-logloss:0.365098\n",
            "[70]\tvalidation_0-error:0.042004\tvalidation_0-logloss:0.352113\tvalidation_1-error:0.062555\tvalidation_1-logloss:0.362538\n",
            "[71]\tvalidation_0-error:0.042113\tvalidation_0-logloss:0.349406\tvalidation_1-error:0.062555\tvalidation_1-logloss:0.359994\n",
            "[72]\tvalidation_0-error:0.042004\tvalidation_0-logloss:0.346802\tvalidation_1-error:0.062555\tvalidation_1-logloss:0.357494\n",
            "[73]\tvalidation_0-error:0.041785\tvalidation_0-logloss:0.344159\tvalidation_1-error:0.062555\tvalidation_1-logloss:0.355039\n",
            "[74]\tvalidation_0-error:0.041895\tvalidation_0-logloss:0.341632\tvalidation_1-error:0.062555\tvalidation_1-logloss:0.352589\n",
            "[75]\tvalidation_0-error:0.041785\tvalidation_0-logloss:0.339078\tvalidation_1-error:0.062555\tvalidation_1-logloss:0.35019\n",
            "[76]\tvalidation_0-error:0.041676\tvalidation_0-logloss:0.336568\tvalidation_1-error:0.062555\tvalidation_1-logloss:0.347817\n",
            "[77]\tvalidation_0-error:0.041785\tvalidation_0-logloss:0.334097\tvalidation_1-error:0.062555\tvalidation_1-logloss:0.345468\n",
            "[78]\tvalidation_0-error:0.041785\tvalidation_0-logloss:0.331578\tvalidation_1-error:0.062555\tvalidation_1-logloss:0.343138\n",
            "[79]\tvalidation_0-error:0.041895\tvalidation_0-logloss:0.329213\tvalidation_1-error:0.062992\tvalidation_1-logloss:0.340865\n",
            "[80]\tvalidation_0-error:0.041785\tvalidation_0-logloss:0.326778\tvalidation_1-error:0.062992\tvalidation_1-logloss:0.338603\n",
            "[81]\tvalidation_0-error:0.041566\tvalidation_0-logloss:0.324424\tvalidation_1-error:0.062992\tvalidation_1-logloss:0.336384\n",
            "[82]\tvalidation_0-error:0.041566\tvalidation_0-logloss:0.32206\tvalidation_1-error:0.062992\tvalidation_1-logloss:0.334151\n",
            "[83]\tvalidation_0-error:0.041566\tvalidation_0-logloss:0.31976\tvalidation_1-error:0.062992\tvalidation_1-logloss:0.332012\n",
            "[84]\tvalidation_0-error:0.041238\tvalidation_0-logloss:0.317511\tvalidation_1-error:0.062992\tvalidation_1-logloss:0.329863\n",
            "[85]\tvalidation_0-error:0.041348\tvalidation_0-logloss:0.315222\tvalidation_1-error:0.062992\tvalidation_1-logloss:0.32776\n",
            "[86]\tvalidation_0-error:0.041238\tvalidation_0-logloss:0.313044\tvalidation_1-error:0.062992\tvalidation_1-logloss:0.325697\n",
            "[87]\tvalidation_0-error:0.041129\tvalidation_0-logloss:0.310828\tvalidation_1-error:0.062992\tvalidation_1-logloss:0.323675\n",
            "[88]\tvalidation_0-error:0.041129\tvalidation_0-logloss:0.308709\tvalidation_1-error:0.062992\tvalidation_1-logloss:0.321672\n",
            "[89]\tvalidation_0-error:0.041129\tvalidation_0-logloss:0.306548\tvalidation_1-error:0.062992\tvalidation_1-logloss:0.31967\n",
            "[90]\tvalidation_0-error:0.041129\tvalidation_0-logloss:0.304435\tvalidation_1-error:0.062992\tvalidation_1-logloss:0.317633\n",
            "[91]\tvalidation_0-error:0.041129\tvalidation_0-logloss:0.302373\tvalidation_1-error:0.062555\tvalidation_1-logloss:0.31566\n",
            "[92]\tvalidation_0-error:0.041348\tvalidation_0-logloss:0.300296\tvalidation_1-error:0.062992\tvalidation_1-logloss:0.313707\n",
            "[93]\tvalidation_0-error:0.041348\tvalidation_0-logloss:0.298249\tvalidation_1-error:0.062992\tvalidation_1-logloss:0.311835\n",
            "[94]\tvalidation_0-error:0.041348\tvalidation_0-logloss:0.296273\tvalidation_1-error:0.062555\tvalidation_1-logloss:0.309936\n",
            "[95]\tvalidation_0-error:0.041457\tvalidation_0-logloss:0.294285\tvalidation_1-error:0.062992\tvalidation_1-logloss:0.308092\n",
            "[96]\tvalidation_0-error:0.041129\tvalidation_0-logloss:0.29232\tvalidation_1-error:0.062555\tvalidation_1-logloss:0.306289\n",
            "[97]\tvalidation_0-error:0.041129\tvalidation_0-logloss:0.290421\tvalidation_1-error:0.062555\tvalidation_1-logloss:0.304464\n",
            "[98]\tvalidation_0-error:0.041238\tvalidation_0-logloss:0.288516\tvalidation_1-error:0.062555\tvalidation_1-logloss:0.302667\n",
            "[99]\tvalidation_0-error:0.04091\tvalidation_0-logloss:0.286637\tvalidation_1-error:0.062555\tvalidation_1-logloss:0.300935\n",
            "[100]\tvalidation_0-error:0.04091\tvalidation_0-logloss:0.28481\tvalidation_1-error:0.062555\tvalidation_1-logloss:0.299208\n",
            "[101]\tvalidation_0-error:0.04091\tvalidation_0-logloss:0.282841\tvalidation_1-error:0.062555\tvalidation_1-logloss:0.297365\n",
            "[102]\tvalidation_0-error:0.040801\tvalidation_0-logloss:0.28093\tvalidation_1-error:0.062555\tvalidation_1-logloss:0.295618\n",
            "[103]\tvalidation_0-error:0.04091\tvalidation_0-logloss:0.279155\tvalidation_1-error:0.062555\tvalidation_1-logloss:0.293948\n",
            "[104]\tvalidation_0-error:0.04091\tvalidation_0-logloss:0.277357\tvalidation_1-error:0.06168\tvalidation_1-logloss:0.292288\n",
            "[105]\tvalidation_0-error:0.040801\tvalidation_0-logloss:0.275475\tvalidation_1-error:0.062555\tvalidation_1-logloss:0.290527\n",
            "[106]\tvalidation_0-error:0.040582\tvalidation_0-logloss:0.273636\tvalidation_1-error:0.061242\tvalidation_1-logloss:0.288808\n",
            "[107]\tvalidation_0-error:0.040691\tvalidation_0-logloss:0.271882\tvalidation_1-error:0.061242\tvalidation_1-logloss:0.287209\n",
            "[108]\tvalidation_0-error:0.040363\tvalidation_0-logloss:0.270178\tvalidation_1-error:0.061242\tvalidation_1-logloss:0.285637\n",
            "[109]\tvalidation_0-error:0.040473\tvalidation_0-logloss:0.268384\tvalidation_1-error:0.061242\tvalidation_1-logloss:0.283981\n",
            "[110]\tvalidation_0-error:0.040363\tvalidation_0-logloss:0.266735\tvalidation_1-error:0.061242\tvalidation_1-logloss:0.282493\n",
            "[111]\tvalidation_0-error:0.040144\tvalidation_0-logloss:0.264991\tvalidation_1-error:0.061242\tvalidation_1-logloss:0.28088\n",
            "[112]\tvalidation_0-error:0.040035\tvalidation_0-logloss:0.263353\tvalidation_1-error:0.061242\tvalidation_1-logloss:0.2794\n",
            "[113]\tvalidation_0-error:0.039926\tvalidation_0-logloss:0.261768\tvalidation_1-error:0.061242\tvalidation_1-logloss:0.277974\n",
            "[114]\tvalidation_0-error:0.039816\tvalidation_0-logloss:0.260079\tvalidation_1-error:0.060805\tvalidation_1-logloss:0.276418\n",
            "[115]\tvalidation_0-error:0.039816\tvalidation_0-logloss:0.258482\tvalidation_1-error:0.060805\tvalidation_1-logloss:0.274973\n",
            "[116]\tvalidation_0-error:0.039816\tvalidation_0-logloss:0.256836\tvalidation_1-error:0.060805\tvalidation_1-logloss:0.273456\n",
            "[117]\tvalidation_0-error:0.039816\tvalidation_0-logloss:0.255285\tvalidation_1-error:0.060367\tvalidation_1-logloss:0.272065\n",
            "[118]\tvalidation_0-error:0.039707\tvalidation_0-logloss:0.253794\tvalidation_1-error:0.060367\tvalidation_1-logloss:0.270647\n",
            "[119]\tvalidation_0-error:0.039816\tvalidation_0-logloss:0.252194\tvalidation_1-error:0.060805\tvalidation_1-logloss:0.269187\n",
            "[120]\tvalidation_0-error:0.039707\tvalidation_0-logloss:0.250775\tvalidation_1-error:0.060805\tvalidation_1-logloss:0.267855\n",
            "[121]\tvalidation_0-error:0.039707\tvalidation_0-logloss:0.249207\tvalidation_1-error:0.060367\tvalidation_1-logloss:0.266422\n",
            "[122]\tvalidation_0-error:0.039597\tvalidation_0-logloss:0.247668\tvalidation_1-error:0.060367\tvalidation_1-logloss:0.265015\n",
            "[123]\tvalidation_0-error:0.039816\tvalidation_0-logloss:0.246274\tvalidation_1-error:0.060367\tvalidation_1-logloss:0.263706\n",
            "[124]\tvalidation_0-error:0.039597\tvalidation_0-logloss:0.244763\tvalidation_1-error:0.060367\tvalidation_1-logloss:0.262329\n",
            "[125]\tvalidation_0-error:0.039488\tvalidation_0-logloss:0.243263\tvalidation_1-error:0.060367\tvalidation_1-logloss:0.260966\n",
            "[126]\tvalidation_0-error:0.039488\tvalidation_0-logloss:0.241795\tvalidation_1-error:0.060805\tvalidation_1-logloss:0.259631\n",
            "[127]\tvalidation_0-error:0.039379\tvalidation_0-logloss:0.240462\tvalidation_1-error:0.060805\tvalidation_1-logloss:0.258407\n",
            "[128]\tvalidation_0-error:0.039379\tvalidation_0-logloss:0.239031\tvalidation_1-error:0.060805\tvalidation_1-logloss:0.257073\n",
            "[129]\tvalidation_0-error:0.039269\tvalidation_0-logloss:0.237687\tvalidation_1-error:0.060805\tvalidation_1-logloss:0.255869\n",
            "[130]\tvalidation_0-error:0.039051\tvalidation_0-logloss:0.236391\tvalidation_1-error:0.060805\tvalidation_1-logloss:0.254676\n",
            "[131]\tvalidation_0-error:0.038941\tvalidation_0-logloss:0.235111\tvalidation_1-error:0.060805\tvalidation_1-logloss:0.253545\n",
            "[132]\tvalidation_0-error:0.038941\tvalidation_0-logloss:0.233833\tvalidation_1-error:0.060805\tvalidation_1-logloss:0.252381\n",
            "[133]\tvalidation_0-error:0.038941\tvalidation_0-logloss:0.232575\tvalidation_1-error:0.060805\tvalidation_1-logloss:0.251247\n",
            "[134]\tvalidation_0-error:0.038941\tvalidation_0-logloss:0.231333\tvalidation_1-error:0.060367\tvalidation_1-logloss:0.250152\n",
            "[135]\tvalidation_0-error:0.038722\tvalidation_0-logloss:0.230074\tvalidation_1-error:0.060367\tvalidation_1-logloss:0.249053\n",
            "[136]\tvalidation_0-error:0.038722\tvalidation_0-logloss:0.228894\tvalidation_1-error:0.05993\tvalidation_1-logloss:0.24799\n",
            "[137]\tvalidation_0-error:0.038722\tvalidation_0-logloss:0.227638\tvalidation_1-error:0.05993\tvalidation_1-logloss:0.246872\n",
            "[138]\tvalidation_0-error:0.038613\tvalidation_0-logloss:0.226389\tvalidation_1-error:0.05993\tvalidation_1-logloss:0.245763\n",
            "[139]\tvalidation_0-error:0.038613\tvalidation_0-logloss:0.225218\tvalidation_1-error:0.05993\tvalidation_1-logloss:0.244703\n",
            "[140]\tvalidation_0-error:0.038722\tvalidation_0-logloss:0.223962\tvalidation_1-error:0.059493\tvalidation_1-logloss:0.243562\n",
            "[141]\tvalidation_0-error:0.038722\tvalidation_0-logloss:0.222765\tvalidation_1-error:0.059055\tvalidation_1-logloss:0.242493\n",
            "[142]\tvalidation_0-error:0.038613\tvalidation_0-logloss:0.22159\tvalidation_1-error:0.059055\tvalidation_1-logloss:0.241447\n",
            "[143]\tvalidation_0-error:0.038613\tvalidation_0-logloss:0.220482\tvalidation_1-error:0.059055\tvalidation_1-logloss:0.240445\n",
            "[144]\tvalidation_0-error:0.038504\tvalidation_0-logloss:0.219371\tvalidation_1-error:0.059493\tvalidation_1-logloss:0.239457\n",
            "[145]\tvalidation_0-error:0.038504\tvalidation_0-logloss:0.218152\tvalidation_1-error:0.058618\tvalidation_1-logloss:0.238353\n",
            "[146]\tvalidation_0-error:0.038285\tvalidation_0-logloss:0.21703\tvalidation_1-error:0.058618\tvalidation_1-logloss:0.237359\n",
            "[147]\tvalidation_0-error:0.038285\tvalidation_0-logloss:0.215914\tvalidation_1-error:0.059055\tvalidation_1-logloss:0.23636\n",
            "[148]\tvalidation_0-error:0.038394\tvalidation_0-logloss:0.214682\tvalidation_1-error:0.058618\tvalidation_1-logloss:0.235315\n",
            "[149]\tvalidation_0-error:0.038394\tvalidation_0-logloss:0.213535\tvalidation_1-error:0.058618\tvalidation_1-logloss:0.234266\n",
            "[150]\tvalidation_0-error:0.038285\tvalidation_0-logloss:0.212362\tvalidation_1-error:0.058618\tvalidation_1-logloss:0.23325\n",
            "[151]\tvalidation_0-error:0.038175\tvalidation_0-logloss:0.211239\tvalidation_1-error:0.058618\tvalidation_1-logloss:0.232238\n",
            "[152]\tvalidation_0-error:0.038175\tvalidation_0-logloss:0.210131\tvalidation_1-error:0.058618\tvalidation_1-logloss:0.231255\n",
            "[153]\tvalidation_0-error:0.038175\tvalidation_0-logloss:0.209032\tvalidation_1-error:0.058618\tvalidation_1-logloss:0.230269\n",
            "[154]\tvalidation_0-error:0.038066\tvalidation_0-logloss:0.207937\tvalidation_1-error:0.059055\tvalidation_1-logloss:0.229297\n",
            "[155]\tvalidation_0-error:0.038066\tvalidation_0-logloss:0.206802\tvalidation_1-error:0.059055\tvalidation_1-logloss:0.228326\n",
            "[156]\tvalidation_0-error:0.037957\tvalidation_0-logloss:0.205743\tvalidation_1-error:0.058618\tvalidation_1-logloss:0.227372\n",
            "[157]\tvalidation_0-error:0.037847\tvalidation_0-logloss:0.204622\tvalidation_1-error:0.05818\tvalidation_1-logloss:0.226424\n",
            "[158]\tvalidation_0-error:0.037957\tvalidation_0-logloss:0.203519\tvalidation_1-error:0.05818\tvalidation_1-logloss:0.22549\n",
            "[159]\tvalidation_0-error:0.037738\tvalidation_0-logloss:0.202418\tvalidation_1-error:0.05818\tvalidation_1-logloss:0.22458\n",
            "[160]\tvalidation_0-error:0.037738\tvalidation_0-logloss:0.201393\tvalidation_1-error:0.05818\tvalidation_1-logloss:0.223673\n",
            "[161]\tvalidation_0-error:0.037738\tvalidation_0-logloss:0.20032\tvalidation_1-error:0.05818\tvalidation_1-logloss:0.222784\n",
            "[162]\tvalidation_0-error:0.037629\tvalidation_0-logloss:0.199371\tvalidation_1-error:0.05818\tvalidation_1-logloss:0.222\n",
            "[163]\tvalidation_0-error:0.037519\tvalidation_0-logloss:0.19842\tvalidation_1-error:0.05818\tvalidation_1-logloss:0.221226\n",
            "[164]\tvalidation_0-error:0.037519\tvalidation_0-logloss:0.19741\tvalidation_1-error:0.05818\tvalidation_1-logloss:0.220364\n",
            "[165]\tvalidation_0-error:0.0373\tvalidation_0-logloss:0.196483\tvalidation_1-error:0.05818\tvalidation_1-logloss:0.219602\n",
            "[166]\tvalidation_0-error:0.037191\tvalidation_0-logloss:0.195458\tvalidation_1-error:0.05818\tvalidation_1-logloss:0.218743\n",
            "[167]\tvalidation_0-error:0.036972\tvalidation_0-logloss:0.194556\tvalidation_1-error:0.05818\tvalidation_1-logloss:0.217999\n",
            "[168]\tvalidation_0-error:0.036972\tvalidation_0-logloss:0.193527\tvalidation_1-error:0.05818\tvalidation_1-logloss:0.217169\n",
            "[169]\tvalidation_0-error:0.036863\tvalidation_0-logloss:0.192649\tvalidation_1-error:0.05818\tvalidation_1-logloss:0.21645\n",
            "[170]\tvalidation_0-error:0.036972\tvalidation_0-logloss:0.191736\tvalidation_1-error:0.057743\tvalidation_1-logloss:0.21567\n",
            "[171]\tvalidation_0-error:0.036863\tvalidation_0-logloss:0.190748\tvalidation_1-error:0.057743\tvalidation_1-logloss:0.214869\n",
            "[172]\tvalidation_0-error:0.036863\tvalidation_0-logloss:0.189893\tvalidation_1-error:0.057305\tvalidation_1-logloss:0.21418\n",
            "[173]\tvalidation_0-error:0.036863\tvalidation_0-logloss:0.188871\tvalidation_1-error:0.057743\tvalidation_1-logloss:0.213399\n",
            "[174]\tvalidation_0-error:0.036972\tvalidation_0-logloss:0.187848\tvalidation_1-error:0.057743\tvalidation_1-logloss:0.212632\n",
            "[175]\tvalidation_0-error:0.036972\tvalidation_0-logloss:0.186839\tvalidation_1-error:0.057743\tvalidation_1-logloss:0.211868\n",
            "[176]\tvalidation_0-error:0.036972\tvalidation_0-logloss:0.185876\tvalidation_1-error:0.057743\tvalidation_1-logloss:0.211115\n",
            "[177]\tvalidation_0-error:0.036863\tvalidation_0-logloss:0.18489\tvalidation_1-error:0.05818\tvalidation_1-logloss:0.210364\n",
            "[178]\tvalidation_0-error:0.036753\tvalidation_0-logloss:0.183933\tvalidation_1-error:0.057743\tvalidation_1-logloss:0.20963\n",
            "[179]\tvalidation_0-error:0.036535\tvalidation_0-logloss:0.183039\tvalidation_1-error:0.057305\tvalidation_1-logloss:0.208933\n",
            "[180]\tvalidation_0-error:0.036425\tvalidation_0-logloss:0.182043\tvalidation_1-error:0.057743\tvalidation_1-logloss:0.208206\n",
            "[181]\tvalidation_0-error:0.036425\tvalidation_0-logloss:0.181065\tvalidation_1-error:0.057743\tvalidation_1-logloss:0.207482\n",
            "[182]\tvalidation_0-error:0.036425\tvalidation_0-logloss:0.180103\tvalidation_1-error:0.057743\tvalidation_1-logloss:0.206774\n",
            "[183]\tvalidation_0-error:0.036207\tvalidation_0-logloss:0.179244\tvalidation_1-error:0.057743\tvalidation_1-logloss:0.206123\n",
            "[184]\tvalidation_0-error:0.036207\tvalidation_0-logloss:0.178309\tvalidation_1-error:0.057305\tvalidation_1-logloss:0.20545\n",
            "[185]\tvalidation_0-error:0.035988\tvalidation_0-logloss:0.177519\tvalidation_1-error:0.056868\tvalidation_1-logloss:0.204815\n",
            "[186]\tvalidation_0-error:0.035988\tvalidation_0-logloss:0.176602\tvalidation_1-error:0.05643\tvalidation_1-logloss:0.204165\n",
            "[187]\tvalidation_0-error:0.035878\tvalidation_0-logloss:0.175778\tvalidation_1-error:0.055993\tvalidation_1-logloss:0.203535\n",
            "[188]\tvalidation_0-error:0.035878\tvalidation_0-logloss:0.175027\tvalidation_1-error:0.055993\tvalidation_1-logloss:0.202946\n",
            "[189]\tvalidation_0-error:0.035878\tvalidation_0-logloss:0.174274\tvalidation_1-error:0.055993\tvalidation_1-logloss:0.202354\n",
            "[190]\tvalidation_0-error:0.035878\tvalidation_0-logloss:0.17354\tvalidation_1-error:0.055993\tvalidation_1-logloss:0.201787\n",
            "[191]\tvalidation_0-error:0.035878\tvalidation_0-logloss:0.17272\tvalidation_1-error:0.055993\tvalidation_1-logloss:0.201146\n",
            "[192]\tvalidation_0-error:0.035878\tvalidation_0-logloss:0.171919\tvalidation_1-error:0.055993\tvalidation_1-logloss:0.200509\n",
            "[193]\tvalidation_0-error:0.035769\tvalidation_0-logloss:0.17109\tvalidation_1-error:0.055993\tvalidation_1-logloss:0.199876\n",
            "[194]\tvalidation_0-error:0.03566\tvalidation_0-logloss:0.170297\tvalidation_1-error:0.055556\tvalidation_1-logloss:0.199267\n",
            "[195]\tvalidation_0-error:0.03566\tvalidation_0-logloss:0.169522\tvalidation_1-error:0.055556\tvalidation_1-logloss:0.198685\n",
            "[196]\tvalidation_0-error:0.03566\tvalidation_0-logloss:0.168792\tvalidation_1-error:0.055118\tvalidation_1-logloss:0.198055\n",
            "[197]\tvalidation_0-error:0.03566\tvalidation_0-logloss:0.168012\tvalidation_1-error:0.055118\tvalidation_1-logloss:0.197486\n",
            "[198]\tvalidation_0-error:0.03555\tvalidation_0-logloss:0.167297\tvalidation_1-error:0.054681\tvalidation_1-logloss:0.196871\n",
            "[199]\tvalidation_0-error:0.035441\tvalidation_0-logloss:0.166588\tvalidation_1-error:0.054681\tvalidation_1-logloss:0.196257\n",
            "[200]\tvalidation_0-error:0.035331\tvalidation_0-logloss:0.165892\tvalidation_1-error:0.054681\tvalidation_1-logloss:0.195659\n",
            "[201]\tvalidation_0-error:0.035331\tvalidation_0-logloss:0.165207\tvalidation_1-error:0.053806\tvalidation_1-logloss:0.195071\n",
            "[202]\tvalidation_0-error:0.035331\tvalidation_0-logloss:0.164463\tvalidation_1-error:0.053806\tvalidation_1-logloss:0.194518\n",
            "[203]\tvalidation_0-error:0.035331\tvalidation_0-logloss:0.163787\tvalidation_1-error:0.053368\tvalidation_1-logloss:0.193943\n",
            "[204]\tvalidation_0-error:0.035441\tvalidation_0-logloss:0.163121\tvalidation_1-error:0.053368\tvalidation_1-logloss:0.193379\n",
            "[205]\tvalidation_0-error:0.035222\tvalidation_0-logloss:0.162459\tvalidation_1-error:0.053368\tvalidation_1-logloss:0.192818\n",
            "[206]\tvalidation_0-error:0.035113\tvalidation_0-logloss:0.161808\tvalidation_1-error:0.053368\tvalidation_1-logloss:0.192263\n",
            "[207]\tvalidation_0-error:0.035113\tvalidation_0-logloss:0.161087\tvalidation_1-error:0.053368\tvalidation_1-logloss:0.191753\n",
            "[208]\tvalidation_0-error:0.035113\tvalidation_0-logloss:0.16044\tvalidation_1-error:0.053368\tvalidation_1-logloss:0.191214\n",
            "[209]\tvalidation_0-error:0.035003\tvalidation_0-logloss:0.159815\tvalidation_1-error:0.052931\tvalidation_1-logloss:0.190674\n",
            "[210]\tvalidation_0-error:0.035003\tvalidation_0-logloss:0.159193\tvalidation_1-error:0.052931\tvalidation_1-logloss:0.190146\n",
            "[211]\tvalidation_0-error:0.034894\tvalidation_0-logloss:0.15848\tvalidation_1-error:0.052493\tvalidation_1-logloss:0.189665\n",
            "[212]\tvalidation_0-error:0.034785\tvalidation_0-logloss:0.157875\tvalidation_1-error:0.052493\tvalidation_1-logloss:0.18915\n",
            "[213]\tvalidation_0-error:0.034785\tvalidation_0-logloss:0.157295\tvalidation_1-error:0.052493\tvalidation_1-logloss:0.188702\n",
            "[214]\tvalidation_0-error:0.034785\tvalidation_0-logloss:0.156639\tvalidation_1-error:0.052493\tvalidation_1-logloss:0.188216\n",
            "[215]\tvalidation_0-error:0.034894\tvalidation_0-logloss:0.156077\tvalidation_1-error:0.052493\tvalidation_1-logloss:0.187771\n",
            "[216]\tvalidation_0-error:0.034894\tvalidation_0-logloss:0.155519\tvalidation_1-error:0.052931\tvalidation_1-logloss:0.187327\n",
            "[217]\tvalidation_0-error:0.034894\tvalidation_0-logloss:0.15499\tvalidation_1-error:0.052931\tvalidation_1-logloss:0.18689\n",
            "[218]\tvalidation_0-error:0.035003\tvalidation_0-logloss:0.154449\tvalidation_1-error:0.052931\tvalidation_1-logloss:0.186463\n",
            "[219]\tvalidation_0-error:0.034894\tvalidation_0-logloss:0.153888\tvalidation_1-error:0.052931\tvalidation_1-logloss:0.186033\n",
            "[220]\tvalidation_0-error:0.034675\tvalidation_0-logloss:0.153304\tvalidation_1-error:0.052931\tvalidation_1-logloss:0.18558\n",
            "[221]\tvalidation_0-error:0.034566\tvalidation_0-logloss:0.152651\tvalidation_1-error:0.052931\tvalidation_1-logloss:0.185145\n",
            "[222]\tvalidation_0-error:0.034566\tvalidation_0-logloss:0.152088\tvalidation_1-error:0.052931\tvalidation_1-logloss:0.184683\n",
            "[223]\tvalidation_0-error:0.034566\tvalidation_0-logloss:0.151482\tvalidation_1-error:0.052931\tvalidation_1-logloss:0.184226\n",
            "[224]\tvalidation_0-error:0.034675\tvalidation_0-logloss:0.150883\tvalidation_1-error:0.052931\tvalidation_1-logloss:0.183774\n",
            "[225]\tvalidation_0-error:0.034566\tvalidation_0-logloss:0.150292\tvalidation_1-error:0.052931\tvalidation_1-logloss:0.183333\n",
            "[226]\tvalidation_0-error:0.034566\tvalidation_0-logloss:0.149703\tvalidation_1-error:0.052931\tvalidation_1-logloss:0.182906\n",
            "[227]\tvalidation_0-error:0.034456\tvalidation_0-logloss:0.149123\tvalidation_1-error:0.053368\tvalidation_1-logloss:0.182485\n",
            "[228]\tvalidation_0-error:0.034456\tvalidation_0-logloss:0.148591\tvalidation_1-error:0.053368\tvalidation_1-logloss:0.182084\n",
            "[229]\tvalidation_0-error:0.034238\tvalidation_0-logloss:0.148055\tvalidation_1-error:0.053368\tvalidation_1-logloss:0.181709\n",
            "[230]\tvalidation_0-error:0.034019\tvalidation_0-logloss:0.147528\tvalidation_1-error:0.053368\tvalidation_1-logloss:0.181335\n",
            "[231]\tvalidation_0-error:0.034128\tvalidation_0-logloss:0.147007\tvalidation_1-error:0.052931\tvalidation_1-logloss:0.18099\n",
            "[232]\tvalidation_0-error:0.034128\tvalidation_0-logloss:0.146443\tvalidation_1-error:0.053368\tvalidation_1-logloss:0.180593\n",
            "[233]\tvalidation_0-error:0.034128\tvalidation_0-logloss:0.145921\tvalidation_1-error:0.052931\tvalidation_1-logloss:0.180235\n",
            "[234]\tvalidation_0-error:0.033909\tvalidation_0-logloss:0.145416\tvalidation_1-error:0.052931\tvalidation_1-logloss:0.179876\n",
            "[235]\tvalidation_0-error:0.033909\tvalidation_0-logloss:0.144906\tvalidation_1-error:0.052056\tvalidation_1-logloss:0.179533\n",
            "[236]\tvalidation_0-error:0.033909\tvalidation_0-logloss:0.144362\tvalidation_1-error:0.052493\tvalidation_1-logloss:0.179147\n",
            "[237]\tvalidation_0-error:0.033909\tvalidation_0-logloss:0.143871\tvalidation_1-error:0.052493\tvalidation_1-logloss:0.178827\n",
            "[238]\tvalidation_0-error:0.033909\tvalidation_0-logloss:0.143386\tvalidation_1-error:0.052493\tvalidation_1-logloss:0.178515\n",
            "[239]\tvalidation_0-error:0.033909\tvalidation_0-logloss:0.142847\tvalidation_1-error:0.052493\tvalidation_1-logloss:0.178146\n",
            "[240]\tvalidation_0-error:0.033909\tvalidation_0-logloss:0.142369\tvalidation_1-error:0.052493\tvalidation_1-logloss:0.177825\n",
            "[241]\tvalidation_0-error:0.033909\tvalidation_0-logloss:0.141894\tvalidation_1-error:0.052931\tvalidation_1-logloss:0.177517\n",
            "[242]\tvalidation_0-error:0.0338\tvalidation_0-logloss:0.141357\tvalidation_1-error:0.052493\tvalidation_1-logloss:0.177177\n",
            "[243]\tvalidation_0-error:0.0338\tvalidation_0-logloss:0.14089\tvalidation_1-error:0.052931\tvalidation_1-logloss:0.176862\n",
            "[244]\tvalidation_0-error:0.0338\tvalidation_0-logloss:0.14037\tvalidation_1-error:0.052931\tvalidation_1-logloss:0.176509\n",
            "[245]\tvalidation_0-error:0.0338\tvalidation_0-logloss:0.139917\tvalidation_1-error:0.052931\tvalidation_1-logloss:0.176192\n",
            "[246]\tvalidation_0-error:0.0338\tvalidation_0-logloss:0.139469\tvalidation_1-error:0.052931\tvalidation_1-logloss:0.17587\n",
            "[247]\tvalidation_0-error:0.0338\tvalidation_0-logloss:0.138916\tvalidation_1-error:0.052931\tvalidation_1-logloss:0.175518\n",
            "[248]\tvalidation_0-error:0.0338\tvalidation_0-logloss:0.138354\tvalidation_1-error:0.052931\tvalidation_1-logloss:0.175148\n",
            "[249]\tvalidation_0-error:0.033691\tvalidation_0-logloss:0.137912\tvalidation_1-error:0.052931\tvalidation_1-logloss:0.174848\n",
            "[250]\tvalidation_0-error:0.033691\tvalidation_0-logloss:0.137378\tvalidation_1-error:0.052931\tvalidation_1-logloss:0.174512\n",
            "[251]\tvalidation_0-error:0.033581\tvalidation_0-logloss:0.136888\tvalidation_1-error:0.052931\tvalidation_1-logloss:0.174221\n",
            "[252]\tvalidation_0-error:0.033472\tvalidation_0-logloss:0.13636\tvalidation_1-error:0.052931\tvalidation_1-logloss:0.173912\n",
            "[253]\tvalidation_0-error:0.033363\tvalidation_0-logloss:0.135782\tvalidation_1-error:0.052931\tvalidation_1-logloss:0.173545\n",
            "[254]\tvalidation_0-error:0.033363\tvalidation_0-logloss:0.135267\tvalidation_1-error:0.052931\tvalidation_1-logloss:0.173259\n",
            "[255]\tvalidation_0-error:0.033144\tvalidation_0-logloss:0.134752\tvalidation_1-error:0.052931\tvalidation_1-logloss:0.172943\n",
            "[256]\tvalidation_0-error:0.033253\tvalidation_0-logloss:0.134193\tvalidation_1-error:0.052931\tvalidation_1-logloss:0.172594\n",
            "[257]\tvalidation_0-error:0.033144\tvalidation_0-logloss:0.133693\tvalidation_1-error:0.052931\tvalidation_1-logloss:0.172311\n",
            "[258]\tvalidation_0-error:0.033034\tvalidation_0-logloss:0.133191\tvalidation_1-error:0.052931\tvalidation_1-logloss:0.172059\n",
            "[259]\tvalidation_0-error:0.032925\tvalidation_0-logloss:0.132743\tvalidation_1-error:0.052931\tvalidation_1-logloss:0.171793\n",
            "[260]\tvalidation_0-error:0.032925\tvalidation_0-logloss:0.132207\tvalidation_1-error:0.052931\tvalidation_1-logloss:0.171462\n",
            "[261]\tvalidation_0-error:0.032816\tvalidation_0-logloss:0.131709\tvalidation_1-error:0.052493\tvalidation_1-logloss:0.171197\n",
            "[262]\tvalidation_0-error:0.032816\tvalidation_0-logloss:0.131201\tvalidation_1-error:0.052931\tvalidation_1-logloss:0.170861\n",
            "[263]\tvalidation_0-error:0.032378\tvalidation_0-logloss:0.130678\tvalidation_1-error:0.052056\tvalidation_1-logloss:0.170565\n",
            "[264]\tvalidation_0-error:0.032378\tvalidation_0-logloss:0.130169\tvalidation_1-error:0.052056\tvalidation_1-logloss:0.170257\n",
            "[265]\tvalidation_0-error:0.032378\tvalidation_0-logloss:0.129713\tvalidation_1-error:0.052056\tvalidation_1-logloss:0.169993\n",
            "[266]\tvalidation_0-error:0.032269\tvalidation_0-logloss:0.129237\tvalidation_1-error:0.052056\tvalidation_1-logloss:0.169691\n",
            "[267]\tvalidation_0-error:0.032269\tvalidation_0-logloss:0.128776\tvalidation_1-error:0.052056\tvalidation_1-logloss:0.169371\n",
            "[268]\tvalidation_0-error:0.032269\tvalidation_0-logloss:0.128288\tvalidation_1-error:0.052056\tvalidation_1-logloss:0.169065\n",
            "[269]\tvalidation_0-error:0.032269\tvalidation_0-logloss:0.127829\tvalidation_1-error:0.052056\tvalidation_1-logloss:0.16879\n",
            "[270]\tvalidation_0-error:0.032269\tvalidation_0-logloss:0.12737\tvalidation_1-error:0.052056\tvalidation_1-logloss:0.168482\n",
            "[271]\tvalidation_0-error:0.032159\tvalidation_0-logloss:0.126915\tvalidation_1-error:0.052056\tvalidation_1-logloss:0.168171\n",
            "[272]\tvalidation_0-error:0.032159\tvalidation_0-logloss:0.126474\tvalidation_1-error:0.052056\tvalidation_1-logloss:0.167879\n",
            "[273]\tvalidation_0-error:0.031831\tvalidation_0-logloss:0.12603\tvalidation_1-error:0.052056\tvalidation_1-logloss:0.167576\n",
            "[274]\tvalidation_0-error:0.031831\tvalidation_0-logloss:0.125595\tvalidation_1-error:0.052056\tvalidation_1-logloss:0.167271\n",
            "[275]\tvalidation_0-error:0.031831\tvalidation_0-logloss:0.12517\tvalidation_1-error:0.052056\tvalidation_1-logloss:0.166972\n",
            "[276]\tvalidation_0-error:0.031831\tvalidation_0-logloss:0.124733\tvalidation_1-error:0.052056\tvalidation_1-logloss:0.166679\n",
            "[277]\tvalidation_0-error:0.031722\tvalidation_0-logloss:0.124318\tvalidation_1-error:0.052056\tvalidation_1-logloss:0.166412\n",
            "[278]\tvalidation_0-error:0.031394\tvalidation_0-logloss:0.123905\tvalidation_1-error:0.052056\tvalidation_1-logloss:0.166127\n",
            "[279]\tvalidation_0-error:0.031284\tvalidation_0-logloss:0.123494\tvalidation_1-error:0.052056\tvalidation_1-logloss:0.165864\n",
            "[280]\tvalidation_0-error:0.031394\tvalidation_0-logloss:0.123083\tvalidation_1-error:0.052056\tvalidation_1-logloss:0.165584\n",
            "[281]\tvalidation_0-error:0.031394\tvalidation_0-logloss:0.122668\tvalidation_1-error:0.052056\tvalidation_1-logloss:0.165339\n",
            "[282]\tvalidation_0-error:0.031394\tvalidation_0-logloss:0.122275\tvalidation_1-error:0.052056\tvalidation_1-logloss:0.165097\n",
            "[283]\tvalidation_0-error:0.031394\tvalidation_0-logloss:0.121878\tvalidation_1-error:0.052056\tvalidation_1-logloss:0.164839\n",
            "[284]\tvalidation_0-error:0.031503\tvalidation_0-logloss:0.121516\tvalidation_1-error:0.052056\tvalidation_1-logloss:0.164615\n",
            "[285]\tvalidation_0-error:0.031394\tvalidation_0-logloss:0.12116\tvalidation_1-error:0.052056\tvalidation_1-logloss:0.164392\n",
            "[286]\tvalidation_0-error:0.031284\tvalidation_0-logloss:0.120775\tvalidation_1-error:0.052056\tvalidation_1-logloss:0.16412\n",
            "[287]\tvalidation_0-error:0.031175\tvalidation_0-logloss:0.120397\tvalidation_1-error:0.052056\tvalidation_1-logloss:0.163888\n",
            "[288]\tvalidation_0-error:0.031175\tvalidation_0-logloss:0.120023\tvalidation_1-error:0.052056\tvalidation_1-logloss:0.163621\n",
            "[289]\tvalidation_0-error:0.031175\tvalidation_0-logloss:0.119651\tvalidation_1-error:0.052493\tvalidation_1-logloss:0.163353\n",
            "[290]\tvalidation_0-error:0.030847\tvalidation_0-logloss:0.119271\tvalidation_1-error:0.052493\tvalidation_1-logloss:0.163105\n",
            "[291]\tvalidation_0-error:0.030847\tvalidation_0-logloss:0.118899\tvalidation_1-error:0.052493\tvalidation_1-logloss:0.162894\n",
            "[292]\tvalidation_0-error:0.030847\tvalidation_0-logloss:0.118531\tvalidation_1-error:0.052493\tvalidation_1-logloss:0.162693\n",
            "[293]\tvalidation_0-error:0.030847\tvalidation_0-logloss:0.118174\tvalidation_1-error:0.052493\tvalidation_1-logloss:0.162468\n",
            "[294]\tvalidation_0-error:0.030518\tvalidation_0-logloss:0.117813\tvalidation_1-error:0.052493\tvalidation_1-logloss:0.162264\n",
            "[295]\tvalidation_0-error:0.030518\tvalidation_0-logloss:0.117461\tvalidation_1-error:0.052493\tvalidation_1-logloss:0.162075\n",
            "[296]\tvalidation_0-error:0.030409\tvalidation_0-logloss:0.117051\tvalidation_1-error:0.052493\tvalidation_1-logloss:0.161845\n",
            "[297]\tvalidation_0-error:0.030409\tvalidation_0-logloss:0.116705\tvalidation_1-error:0.052493\tvalidation_1-logloss:0.161651\n",
            "[298]\tvalidation_0-error:0.030409\tvalidation_0-logloss:0.116363\tvalidation_1-error:0.052493\tvalidation_1-logloss:0.161458\n",
            "[299]\tvalidation_0-error:0.030409\tvalidation_0-logloss:0.116044\tvalidation_1-error:0.052493\tvalidation_1-logloss:0.161288\n",
            "[300]\tvalidation_0-error:0.0303\tvalidation_0-logloss:0.11571\tvalidation_1-error:0.052493\tvalidation_1-logloss:0.161104\n",
            "[301]\tvalidation_0-error:0.030409\tvalidation_0-logloss:0.11545\tvalidation_1-error:0.052056\tvalidation_1-logloss:0.160945\n",
            "[302]\tvalidation_0-error:0.030409\tvalidation_0-logloss:0.115087\tvalidation_1-error:0.052056\tvalidation_1-logloss:0.160706\n",
            "[303]\tvalidation_0-error:0.030409\tvalidation_0-logloss:0.114833\tvalidation_1-error:0.052056\tvalidation_1-logloss:0.160552\n",
            "[304]\tvalidation_0-error:0.0303\tvalidation_0-logloss:0.114511\tvalidation_1-error:0.052056\tvalidation_1-logloss:0.160321\n",
            "[305]\tvalidation_0-error:0.03019\tvalidation_0-logloss:0.114204\tvalidation_1-error:0.052056\tvalidation_1-logloss:0.160183\n",
            "[306]\tvalidation_0-error:0.029862\tvalidation_0-logloss:0.113885\tvalidation_1-error:0.052056\tvalidation_1-logloss:0.159958\n",
            "[307]\tvalidation_0-error:0.029862\tvalidation_0-logloss:0.113566\tvalidation_1-error:0.051619\tvalidation_1-logloss:0.159735\n",
            "[308]\tvalidation_0-error:0.029753\tvalidation_0-logloss:0.113258\tvalidation_1-error:0.051619\tvalidation_1-logloss:0.159585\n",
            "[309]\tvalidation_0-error:0.029643\tvalidation_0-logloss:0.112951\tvalidation_1-error:0.051619\tvalidation_1-logloss:0.159356\n",
            "[310]\tvalidation_0-error:0.029534\tvalidation_0-logloss:0.112648\tvalidation_1-error:0.051619\tvalidation_1-logloss:0.159209\n",
            "[311]\tvalidation_0-error:0.029534\tvalidation_0-logloss:0.112341\tvalidation_1-error:0.051619\tvalidation_1-logloss:0.159002\n",
            "[312]\tvalidation_0-error:0.029534\tvalidation_0-logloss:0.112044\tvalidation_1-error:0.051619\tvalidation_1-logloss:0.158869\n",
            "[313]\tvalidation_0-error:0.029534\tvalidation_0-logloss:0.111749\tvalidation_1-error:0.051619\tvalidation_1-logloss:0.158667\n",
            "[314]\tvalidation_0-error:0.029315\tvalidation_0-logloss:0.111394\tvalidation_1-error:0.051619\tvalidation_1-logloss:0.158463\n",
            "[315]\tvalidation_0-error:0.029206\tvalidation_0-logloss:0.111023\tvalidation_1-error:0.051181\tvalidation_1-logloss:0.158205\n",
            "[316]\tvalidation_0-error:0.029206\tvalidation_0-logloss:0.110669\tvalidation_1-error:0.051181\tvalidation_1-logloss:0.158005\n",
            "[317]\tvalidation_0-error:0.029206\tvalidation_0-logloss:0.110366\tvalidation_1-error:0.051619\tvalidation_1-logloss:0.157821\n",
            "[318]\tvalidation_0-error:0.029096\tvalidation_0-logloss:0.110028\tvalidation_1-error:0.051619\tvalidation_1-logloss:0.157636\n",
            "[319]\tvalidation_0-error:0.028768\tvalidation_0-logloss:0.10967\tvalidation_1-error:0.051619\tvalidation_1-logloss:0.157439\n",
            "[320]\tvalidation_0-error:0.028659\tvalidation_0-logloss:0.109316\tvalidation_1-error:0.051619\tvalidation_1-logloss:0.1572\n",
            "[321]\tvalidation_0-error:0.02855\tvalidation_0-logloss:0.108967\tvalidation_1-error:0.051619\tvalidation_1-logloss:0.157017\n",
            "[322]\tvalidation_0-error:0.02855\tvalidation_0-logloss:0.108615\tvalidation_1-error:0.051619\tvalidation_1-logloss:0.156778\n",
            "[323]\tvalidation_0-error:0.02855\tvalidation_0-logloss:0.10839\tvalidation_1-error:0.051619\tvalidation_1-logloss:0.156687\n",
            "[324]\tvalidation_0-error:0.02844\tvalidation_0-logloss:0.108045\tvalidation_1-error:0.051181\tvalidation_1-logloss:0.156479\n",
            "[325]\tvalidation_0-error:0.02844\tvalidation_0-logloss:0.107751\tvalidation_1-error:0.050744\tvalidation_1-logloss:0.15628\n",
            "[326]\tvalidation_0-error:0.02844\tvalidation_0-logloss:0.107462\tvalidation_1-error:0.051181\tvalidation_1-logloss:0.156076\n",
            "[327]\tvalidation_0-error:0.02844\tvalidation_0-logloss:0.107237\tvalidation_1-error:0.051181\tvalidation_1-logloss:0.155993\n",
            "[328]\tvalidation_0-error:0.028331\tvalidation_0-logloss:0.10695\tvalidation_1-error:0.051181\tvalidation_1-logloss:0.155813\n",
            "[329]\tvalidation_0-error:0.028331\tvalidation_0-logloss:0.106586\tvalidation_1-error:0.051181\tvalidation_1-logloss:0.155604\n",
            "[330]\tvalidation_0-error:0.028331\tvalidation_0-logloss:0.106308\tvalidation_1-error:0.051181\tvalidation_1-logloss:0.1554\n",
            "[331]\tvalidation_0-error:0.028221\tvalidation_0-logloss:0.106033\tvalidation_1-error:0.051181\tvalidation_1-logloss:0.155228\n",
            "[332]\tvalidation_0-error:0.028221\tvalidation_0-logloss:0.105822\tvalidation_1-error:0.051181\tvalidation_1-logloss:0.155117\n",
            "[333]\tvalidation_0-error:0.028112\tvalidation_0-logloss:0.105466\tvalidation_1-error:0.051181\tvalidation_1-logloss:0.154902\n",
            "[334]\tvalidation_0-error:0.028112\tvalidation_0-logloss:0.105167\tvalidation_1-error:0.051181\tvalidation_1-logloss:0.154707\n",
            "[335]\tvalidation_0-error:0.028112\tvalidation_0-logloss:0.104897\tvalidation_1-error:0.051181\tvalidation_1-logloss:0.154542\n",
            "[336]\tvalidation_0-error:0.028112\tvalidation_0-logloss:0.104691\tvalidation_1-error:0.051181\tvalidation_1-logloss:0.154441\n",
            "[337]\tvalidation_0-error:0.028112\tvalidation_0-logloss:0.104318\tvalidation_1-error:0.050744\tvalidation_1-logloss:0.154226\n",
            "[338]\tvalidation_0-error:0.028112\tvalidation_0-logloss:0.104056\tvalidation_1-error:0.050306\tvalidation_1-logloss:0.154054\n",
            "[339]\tvalidation_0-error:0.028221\tvalidation_0-logloss:0.103687\tvalidation_1-error:0.050306\tvalidation_1-logloss:0.153851\n",
            "[340]\tvalidation_0-error:0.028221\tvalidation_0-logloss:0.103441\tvalidation_1-error:0.050306\tvalidation_1-logloss:0.153686\n",
            "[341]\tvalidation_0-error:0.028112\tvalidation_0-logloss:0.103226\tvalidation_1-error:0.050306\tvalidation_1-logloss:0.153601\n",
            "[342]\tvalidation_0-error:0.028112\tvalidation_0-logloss:0.102943\tvalidation_1-error:0.050744\tvalidation_1-logloss:0.15344\n",
            "[343]\tvalidation_0-error:0.028112\tvalidation_0-logloss:0.102738\tvalidation_1-error:0.050744\tvalidation_1-logloss:0.153355\n",
            "[344]\tvalidation_0-error:0.028112\tvalidation_0-logloss:0.102384\tvalidation_1-error:0.050744\tvalidation_1-logloss:0.153163\n",
            "[345]\tvalidation_0-error:0.028003\tvalidation_0-logloss:0.102159\tvalidation_1-error:0.050744\tvalidation_1-logloss:0.153064\n",
            "[346]\tvalidation_0-error:0.027893\tvalidation_0-logloss:0.101948\tvalidation_1-error:0.050744\tvalidation_1-logloss:0.152982\n",
            "[347]\tvalidation_0-error:0.027893\tvalidation_0-logloss:0.101716\tvalidation_1-error:0.050744\tvalidation_1-logloss:0.152909\n",
            "[348]\tvalidation_0-error:0.028003\tvalidation_0-logloss:0.101496\tvalidation_1-error:0.050744\tvalidation_1-logloss:0.152818\n",
            "[349]\tvalidation_0-error:0.027784\tvalidation_0-logloss:0.10116\tvalidation_1-error:0.050306\tvalidation_1-logloss:0.152611\n",
            "[350]\tvalidation_0-error:0.027784\tvalidation_0-logloss:0.100868\tvalidation_1-error:0.050306\tvalidation_1-logloss:0.152532\n",
            "[351]\tvalidation_0-error:0.027674\tvalidation_0-logloss:0.100657\tvalidation_1-error:0.050306\tvalidation_1-logloss:0.152445\n",
            "[352]\tvalidation_0-error:0.027565\tvalidation_0-logloss:0.100341\tvalidation_1-error:0.050306\tvalidation_1-logloss:0.152318\n",
            "[353]\tvalidation_0-error:0.027456\tvalidation_0-logloss:0.100123\tvalidation_1-error:0.050306\tvalidation_1-logloss:0.152218\n",
            "[354]\tvalidation_0-error:0.027456\tvalidation_0-logloss:0.09991\tvalidation_1-error:0.050306\tvalidation_1-logloss:0.152124\n",
            "[355]\tvalidation_0-error:0.027346\tvalidation_0-logloss:0.099719\tvalidation_1-error:0.049869\tvalidation_1-logloss:0.152061\n",
            "[356]\tvalidation_0-error:0.027237\tvalidation_0-logloss:0.099503\tvalidation_1-error:0.049869\tvalidation_1-logloss:0.151964\n",
            "[357]\tvalidation_0-error:0.027346\tvalidation_0-logloss:0.099294\tvalidation_1-error:0.049869\tvalidation_1-logloss:0.151876\n",
            "[358]\tvalidation_0-error:0.027346\tvalidation_0-logloss:0.09908\tvalidation_1-error:0.049869\tvalidation_1-logloss:0.151787\n",
            "[359]\tvalidation_0-error:0.027237\tvalidation_0-logloss:0.09887\tvalidation_1-error:0.049869\tvalidation_1-logloss:0.151695\n",
            "[360]\tvalidation_0-error:0.027237\tvalidation_0-logloss:0.09868\tvalidation_1-error:0.049869\tvalidation_1-logloss:0.151586\n",
            "[361]\tvalidation_0-error:0.027018\tvalidation_0-logloss:0.098472\tvalidation_1-error:0.049869\tvalidation_1-logloss:0.151498\n",
            "[362]\tvalidation_0-error:0.027018\tvalidation_0-logloss:0.098265\tvalidation_1-error:0.049869\tvalidation_1-logloss:0.151422\n",
            "[363]\tvalidation_0-error:0.026909\tvalidation_0-logloss:0.098055\tvalidation_1-error:0.050306\tvalidation_1-logloss:0.15134\n",
            "[364]\tvalidation_0-error:0.02669\tvalidation_0-logloss:0.097854\tvalidation_1-error:0.050306\tvalidation_1-logloss:0.151257\n",
            "[365]\tvalidation_0-error:0.026581\tvalidation_0-logloss:0.097582\tvalidation_1-error:0.049869\tvalidation_1-logloss:0.151199\n",
            "[366]\tvalidation_0-error:0.026362\tvalidation_0-logloss:0.097386\tvalidation_1-error:0.050306\tvalidation_1-logloss:0.151108\n",
            "[367]\tvalidation_0-error:0.026471\tvalidation_0-logloss:0.097157\tvalidation_1-error:0.050306\tvalidation_1-logloss:0.150983\n",
            "[368]\tvalidation_0-error:0.026252\tvalidation_0-logloss:0.096888\tvalidation_1-error:0.050306\tvalidation_1-logloss:0.150926\n",
            "[369]\tvalidation_0-error:0.026143\tvalidation_0-logloss:0.096664\tvalidation_1-error:0.050306\tvalidation_1-logloss:0.150814\n",
            "[370]\tvalidation_0-error:0.026034\tvalidation_0-logloss:0.096438\tvalidation_1-error:0.050306\tvalidation_1-logloss:0.150688\n",
            "[371]\tvalidation_0-error:0.026143\tvalidation_0-logloss:0.096271\tvalidation_1-error:0.050744\tvalidation_1-logloss:0.150648\n",
            "[372]\tvalidation_0-error:0.026034\tvalidation_0-logloss:0.096013\tvalidation_1-error:0.051181\tvalidation_1-logloss:0.150599\n",
            "[373]\tvalidation_0-error:0.026143\tvalidation_0-logloss:0.095795\tvalidation_1-error:0.051181\tvalidation_1-logloss:0.150493\n",
            "[374]\tvalidation_0-error:0.026034\tvalidation_0-logloss:0.095574\tvalidation_1-error:0.051181\tvalidation_1-logloss:0.150399\n",
            "[375]\tvalidation_0-error:0.025924\tvalidation_0-logloss:0.095324\tvalidation_1-error:0.051181\tvalidation_1-logloss:0.150286\n",
            "[376]\tvalidation_0-error:0.025924\tvalidation_0-logloss:0.095075\tvalidation_1-error:0.051181\tvalidation_1-logloss:0.150229\n",
            "[377]\tvalidation_0-error:0.025815\tvalidation_0-logloss:0.094831\tvalidation_1-error:0.051181\tvalidation_1-logloss:0.150124\n",
            "[378]\tvalidation_0-error:0.025815\tvalidation_0-logloss:0.094755\tvalidation_1-error:0.051181\tvalidation_1-logloss:0.150087\n",
            "[379]\tvalidation_0-error:0.025706\tvalidation_0-logloss:0.094632\tvalidation_1-error:0.051181\tvalidation_1-logloss:0.150011\n",
            "[380]\tvalidation_0-error:0.025706\tvalidation_0-logloss:0.094396\tvalidation_1-error:0.051181\tvalidation_1-logloss:0.149906\n",
            "[381]\tvalidation_0-error:0.025596\tvalidation_0-logloss:0.094312\tvalidation_1-error:0.051181\tvalidation_1-logloss:0.149867\n",
            "[382]\tvalidation_0-error:0.025706\tvalidation_0-logloss:0.094082\tvalidation_1-error:0.051181\tvalidation_1-logloss:0.149779\n",
            "[383]\tvalidation_0-error:0.025706\tvalidation_0-logloss:0.093994\tvalidation_1-error:0.051181\tvalidation_1-logloss:0.14975\n",
            "[384]\tvalidation_0-error:0.025596\tvalidation_0-logloss:0.093845\tvalidation_1-error:0.051181\tvalidation_1-logloss:0.149693\n",
            "[385]\tvalidation_0-error:0.025487\tvalidation_0-logloss:0.093703\tvalidation_1-error:0.051181\tvalidation_1-logloss:0.149622\n",
            "[386]\tvalidation_0-error:0.025487\tvalidation_0-logloss:0.093474\tvalidation_1-error:0.051181\tvalidation_1-logloss:0.149527\n",
            "[387]\tvalidation_0-error:0.025487\tvalidation_0-logloss:0.093397\tvalidation_1-error:0.051181\tvalidation_1-logloss:0.149492\n",
            "[388]\tvalidation_0-error:0.025487\tvalidation_0-logloss:0.093089\tvalidation_1-error:0.050744\tvalidation_1-logloss:0.149343\n",
            "[389]\tvalidation_0-error:0.025377\tvalidation_0-logloss:0.092947\tvalidation_1-error:0.050744\tvalidation_1-logloss:0.149298\n",
            "[390]\tvalidation_0-error:0.025377\tvalidation_0-logloss:0.09264\tvalidation_1-error:0.050744\tvalidation_1-logloss:0.149146\n",
            "[391]\tvalidation_0-error:0.025377\tvalidation_0-logloss:0.092504\tvalidation_1-error:0.049869\tvalidation_1-logloss:0.149083\n",
            "[392]\tvalidation_0-error:0.025377\tvalidation_0-logloss:0.092206\tvalidation_1-error:0.049869\tvalidation_1-logloss:0.14894\n",
            "[393]\tvalidation_0-error:0.025377\tvalidation_0-logloss:0.091911\tvalidation_1-error:0.049869\tvalidation_1-logloss:0.148796\n",
            "[394]\tvalidation_0-error:0.025377\tvalidation_0-logloss:0.091756\tvalidation_1-error:0.049869\tvalidation_1-logloss:0.148777\n",
            "[395]\tvalidation_0-error:0.025377\tvalidation_0-logloss:0.091457\tvalidation_1-error:0.049869\tvalidation_1-logloss:0.148673\n",
            "[396]\tvalidation_0-error:0.025487\tvalidation_0-logloss:0.091161\tvalidation_1-error:0.049869\tvalidation_1-logloss:0.148522\n",
            "[397]\tvalidation_0-error:0.025268\tvalidation_0-logloss:0.090867\tvalidation_1-error:0.050306\tvalidation_1-logloss:0.14838\n",
            "[398]\tvalidation_0-error:0.025268\tvalidation_0-logloss:0.090576\tvalidation_1-error:0.050306\tvalidation_1-logloss:0.14827\n",
            "[399]\tvalidation_0-error:0.025159\tvalidation_0-logloss:0.090295\tvalidation_1-error:0.050306\tvalidation_1-logloss:0.14821\n",
            "[400]\tvalidation_0-error:0.025159\tvalidation_0-logloss:0.090006\tvalidation_1-error:0.050306\tvalidation_1-logloss:0.148114\n",
            "[401]\tvalidation_0-error:0.025049\tvalidation_0-logloss:0.089902\tvalidation_1-error:0.050306\tvalidation_1-logloss:0.148064\n",
            "[402]\tvalidation_0-error:0.025049\tvalidation_0-logloss:0.089631\tvalidation_1-error:0.050306\tvalidation_1-logloss:0.148014\n",
            "[403]\tvalidation_0-error:0.025049\tvalidation_0-logloss:0.08953\tvalidation_1-error:0.050306\tvalidation_1-logloss:0.147963\n",
            "[404]\tvalidation_0-error:0.025159\tvalidation_0-logloss:0.089262\tvalidation_1-error:0.049869\tvalidation_1-logloss:0.147911\n",
            "[405]\tvalidation_0-error:0.025049\tvalidation_0-logloss:0.089165\tvalidation_1-error:0.049869\tvalidation_1-logloss:0.147866\n",
            "[406]\tvalidation_0-error:0.02494\tvalidation_0-logloss:0.088899\tvalidation_1-error:0.049869\tvalidation_1-logloss:0.147813\n",
            "[407]\tvalidation_0-error:0.02483\tvalidation_0-logloss:0.088644\tvalidation_1-error:0.049869\tvalidation_1-logloss:0.14775\n",
            "[408]\tvalidation_0-error:0.02483\tvalidation_0-logloss:0.088551\tvalidation_1-error:0.049869\tvalidation_1-logloss:0.147698\n",
            "[409]\tvalidation_0-error:0.024721\tvalidation_0-logloss:0.088292\tvalidation_1-error:0.049869\tvalidation_1-logloss:0.147652\n",
            "[410]\tvalidation_0-error:0.024721\tvalidation_0-logloss:0.088223\tvalidation_1-error:0.049869\tvalidation_1-logloss:0.147638\n",
            "[411]\tvalidation_0-error:0.024612\tvalidation_0-logloss:0.087976\tvalidation_1-error:0.049869\tvalidation_1-logloss:0.147586\n",
            "[412]\tvalidation_0-error:0.024721\tvalidation_0-logloss:0.087711\tvalidation_1-error:0.050306\tvalidation_1-logloss:0.14748\n",
            "[413]\tvalidation_0-error:0.024721\tvalidation_0-logloss:0.087625\tvalidation_1-error:0.050306\tvalidation_1-logloss:0.147471\n",
            "[414]\tvalidation_0-error:0.024721\tvalidation_0-logloss:0.087525\tvalidation_1-error:0.050306\tvalidation_1-logloss:0.147443\n",
            "[415]\tvalidation_0-error:0.024721\tvalidation_0-logloss:0.087409\tvalidation_1-error:0.050306\tvalidation_1-logloss:0.147423\n",
            "[416]\tvalidation_0-error:0.024612\tvalidation_0-logloss:0.087151\tvalidation_1-error:0.050306\tvalidation_1-logloss:0.147326\n",
            "[417]\tvalidation_0-error:0.024612\tvalidation_0-logloss:0.087041\tvalidation_1-error:0.050306\tvalidation_1-logloss:0.147276\n",
            "[418]\tvalidation_0-error:0.024612\tvalidation_0-logloss:0.086959\tvalidation_1-error:0.050306\tvalidation_1-logloss:0.147268\n",
            "[419]\tvalidation_0-error:0.024502\tvalidation_0-logloss:0.086848\tvalidation_1-error:0.050306\tvalidation_1-logloss:0.147252\n",
            "[420]\tvalidation_0-error:0.024721\tvalidation_0-logloss:0.086595\tvalidation_1-error:0.050306\tvalidation_1-logloss:0.147157\n",
            "[421]\tvalidation_0-error:0.024721\tvalidation_0-logloss:0.086491\tvalidation_1-error:0.050306\tvalidation_1-logloss:0.147116\n",
            "[422]\tvalidation_0-error:0.024612\tvalidation_0-logloss:0.086415\tvalidation_1-error:0.050306\tvalidation_1-logloss:0.147106\n",
            "[423]\tvalidation_0-error:0.024502\tvalidation_0-logloss:0.08631\tvalidation_1-error:0.050306\tvalidation_1-logloss:0.147064\n",
            "[424]\tvalidation_0-error:0.024502\tvalidation_0-logloss:0.086065\tvalidation_1-error:0.050306\tvalidation_1-logloss:0.146979\n",
            "[425]\tvalidation_0-error:0.024393\tvalidation_0-logloss:0.085818\tvalidation_1-error:0.050306\tvalidation_1-logloss:0.146884\n",
            "[426]\tvalidation_0-error:0.024393\tvalidation_0-logloss:0.085714\tvalidation_1-error:0.050306\tvalidation_1-logloss:0.146869\n",
            "[427]\tvalidation_0-error:0.024393\tvalidation_0-logloss:0.085613\tvalidation_1-error:0.050306\tvalidation_1-logloss:0.146832\n",
            "[428]\tvalidation_0-error:0.024174\tvalidation_0-logloss:0.085387\tvalidation_1-error:0.050744\tvalidation_1-logloss:0.146752\n",
            "[429]\tvalidation_0-error:0.024174\tvalidation_0-logloss:0.085155\tvalidation_1-error:0.050744\tvalidation_1-logloss:0.146669\n",
            "[430]\tvalidation_0-error:0.024174\tvalidation_0-logloss:0.085068\tvalidation_1-error:0.050306\tvalidation_1-logloss:0.146651\n",
            "[431]\tvalidation_0-error:0.024174\tvalidation_0-logloss:0.084843\tvalidation_1-error:0.050306\tvalidation_1-logloss:0.146651\n",
            "[432]\tvalidation_0-error:0.024065\tvalidation_0-logloss:0.084747\tvalidation_1-error:0.050306\tvalidation_1-logloss:0.146616\n",
            "[433]\tvalidation_0-error:0.024065\tvalidation_0-logloss:0.084649\tvalidation_1-error:0.050744\tvalidation_1-logloss:0.146576\n",
            "[434]\tvalidation_0-error:0.023846\tvalidation_0-logloss:0.084428\tvalidation_1-error:0.050744\tvalidation_1-logloss:0.146582\n",
            "[435]\tvalidation_0-error:0.023846\tvalidation_0-logloss:0.08422\tvalidation_1-error:0.050744\tvalidation_1-logloss:0.146517\n",
            "[436]\tvalidation_0-error:0.023955\tvalidation_0-logloss:0.084004\tvalidation_1-error:0.050744\tvalidation_1-logloss:0.14652\n",
            "[437]\tvalidation_0-error:0.023846\tvalidation_0-logloss:0.083911\tvalidation_1-error:0.050744\tvalidation_1-logloss:0.146476\n",
            "[438]\tvalidation_0-error:0.023846\tvalidation_0-logloss:0.083832\tvalidation_1-error:0.051181\tvalidation_1-logloss:0.146461\n",
            "[439]\tvalidation_0-error:0.023955\tvalidation_0-logloss:0.083623\tvalidation_1-error:0.051181\tvalidation_1-logloss:0.146465\n",
            "[440]\tvalidation_0-error:0.023955\tvalidation_0-logloss:0.083464\tvalidation_1-error:0.051181\tvalidation_1-logloss:0.146429\n",
            "[441]\tvalidation_0-error:0.023846\tvalidation_0-logloss:0.083374\tvalidation_1-error:0.051181\tvalidation_1-logloss:0.146396\n",
            "[442]\tvalidation_0-error:0.023955\tvalidation_0-logloss:0.083161\tvalidation_1-error:0.051181\tvalidation_1-logloss:0.146423\n",
            "[443]\tvalidation_0-error:0.023955\tvalidation_0-logloss:0.083093\tvalidation_1-error:0.051181\tvalidation_1-logloss:0.146427\n",
            "[444]\tvalidation_0-error:0.023955\tvalidation_0-logloss:0.083055\tvalidation_1-error:0.051181\tvalidation_1-logloss:0.146426\n",
            "[445]\tvalidation_0-error:0.023955\tvalidation_0-logloss:0.08285\tvalidation_1-error:0.051181\tvalidation_1-logloss:0.146436\n",
            "[446]\tvalidation_0-error:0.023955\tvalidation_0-logloss:0.082713\tvalidation_1-error:0.051181\tvalidation_1-logloss:0.146429\n",
            "[447]\tvalidation_0-error:0.023955\tvalidation_0-logloss:0.082675\tvalidation_1-error:0.051181\tvalidation_1-logloss:0.146434\n",
            "[448]\tvalidation_0-error:0.023955\tvalidation_0-logloss:0.082467\tvalidation_1-error:0.050744\tvalidation_1-logloss:0.146474\n",
            "[449]\tvalidation_0-error:0.023955\tvalidation_0-logloss:0.082383\tvalidation_1-error:0.051181\tvalidation_1-logloss:0.146458\n",
            "[450]\tvalidation_0-error:0.023955\tvalidation_0-logloss:0.08218\tvalidation_1-error:0.050744\tvalidation_1-logloss:0.146477\n",
            "[451]\tvalidation_0-error:0.023846\tvalidation_0-logloss:0.082142\tvalidation_1-error:0.050744\tvalidation_1-logloss:0.146487\n",
            "[452]\tvalidation_0-error:0.023846\tvalidation_0-logloss:0.081974\tvalidation_1-error:0.051181\tvalidation_1-logloss:0.14646\n",
            "[453]\tvalidation_0-error:0.023846\tvalidation_0-logloss:0.081771\tvalidation_1-error:0.051181\tvalidation_1-logloss:0.146486\n",
            "[454]\tvalidation_0-error:0.023846\tvalidation_0-logloss:0.081689\tvalidation_1-error:0.051181\tvalidation_1-logloss:0.146471\n",
            "[455]\tvalidation_0-error:0.023846\tvalidation_0-logloss:0.081651\tvalidation_1-error:0.051181\tvalidation_1-logloss:0.146476\n",
            "[456]\tvalidation_0-error:0.023737\tvalidation_0-logloss:0.081451\tvalidation_1-error:0.051181\tvalidation_1-logloss:0.146502\n",
            "[457]\tvalidation_0-error:0.023627\tvalidation_0-logloss:0.081326\tvalidation_1-error:0.051181\tvalidation_1-logloss:0.146479\n",
            "[458]\tvalidation_0-error:0.023737\tvalidation_0-logloss:0.081241\tvalidation_1-error:0.051181\tvalidation_1-logloss:0.146478\n",
            "[459]\tvalidation_0-error:0.023518\tvalidation_0-logloss:0.081046\tvalidation_1-error:0.051181\tvalidation_1-logloss:0.146511\n",
            "[460]\tvalidation_0-error:0.023408\tvalidation_0-logloss:0.080926\tvalidation_1-error:0.051181\tvalidation_1-logloss:0.146463\n",
            "[461]\tvalidation_0-error:0.023408\tvalidation_0-logloss:0.080769\tvalidation_1-error:0.051181\tvalidation_1-logloss:0.146433\n",
            "[462]\tvalidation_0-error:0.023299\tvalidation_0-logloss:0.080612\tvalidation_1-error:0.051181\tvalidation_1-logloss:0.146403\n",
            "[463]\tvalidation_0-error:0.023299\tvalidation_0-logloss:0.080419\tvalidation_1-error:0.050744\tvalidation_1-logloss:0.146427\n",
            "[464]\tvalidation_0-error:0.023299\tvalidation_0-logloss:0.080215\tvalidation_1-error:0.050744\tvalidation_1-logloss:0.146405\n",
            "[465]\tvalidation_0-error:0.023299\tvalidation_0-logloss:0.080017\tvalidation_1-error:0.050744\tvalidation_1-logloss:0.146376\n",
            "[466]\tvalidation_0-error:0.023299\tvalidation_0-logloss:0.079821\tvalidation_1-error:0.050744\tvalidation_1-logloss:0.146384\n",
            "[467]\tvalidation_0-error:0.02319\tvalidation_0-logloss:0.079623\tvalidation_1-error:0.050744\tvalidation_1-logloss:0.146364\n",
            "[468]\tvalidation_0-error:0.02319\tvalidation_0-logloss:0.079425\tvalidation_1-error:0.050744\tvalidation_1-logloss:0.14635\n",
            "[469]\tvalidation_0-error:0.02308\tvalidation_0-logloss:0.079231\tvalidation_1-error:0.050744\tvalidation_1-logloss:0.146334\n",
            "[470]\tvalidation_0-error:0.02319\tvalidation_0-logloss:0.07915\tvalidation_1-error:0.050744\tvalidation_1-logloss:0.146331\n",
            "[471]\tvalidation_0-error:0.02308\tvalidation_0-logloss:0.078961\tvalidation_1-error:0.050744\tvalidation_1-logloss:0.146314\n",
            "[472]\tvalidation_0-error:0.02308\tvalidation_0-logloss:0.078768\tvalidation_1-error:0.051181\tvalidation_1-logloss:0.146321\n",
            "[473]\tvalidation_0-error:0.02308\tvalidation_0-logloss:0.078582\tvalidation_1-error:0.051181\tvalidation_1-logloss:0.146302\n",
            "[474]\tvalidation_0-error:0.022643\tvalidation_0-logloss:0.078391\tvalidation_1-error:0.051181\tvalidation_1-logloss:0.146314\n",
            "[475]\tvalidation_0-error:0.022752\tvalidation_0-logloss:0.078181\tvalidation_1-error:0.051181\tvalidation_1-logloss:0.146287\n",
            "[476]\tvalidation_0-error:0.022752\tvalidation_0-logloss:0.077964\tvalidation_1-error:0.051619\tvalidation_1-logloss:0.146229\n",
            "[477]\tvalidation_0-error:0.022643\tvalidation_0-logloss:0.077795\tvalidation_1-error:0.051619\tvalidation_1-logloss:0.146212\n",
            "[478]\tvalidation_0-error:0.022533\tvalidation_0-logloss:0.07764\tvalidation_1-error:0.051619\tvalidation_1-logloss:0.146203\n",
            "[479]\tvalidation_0-error:0.022424\tvalidation_0-logloss:0.077464\tvalidation_1-error:0.051181\tvalidation_1-logloss:0.146164\n",
            "[480]\tvalidation_0-error:0.022315\tvalidation_0-logloss:0.077288\tvalidation_1-error:0.051181\tvalidation_1-logloss:0.146146\n",
            "[481]\tvalidation_0-error:0.022315\tvalidation_0-logloss:0.077105\tvalidation_1-error:0.050744\tvalidation_1-logloss:0.146129\n",
            "[482]\tvalidation_0-error:0.022096\tvalidation_0-logloss:0.076957\tvalidation_1-error:0.050744\tvalidation_1-logloss:0.146096\n",
            "[483]\tvalidation_0-error:0.022096\tvalidation_0-logloss:0.07679\tvalidation_1-error:0.050744\tvalidation_1-logloss:0.146077\n",
            "[484]\tvalidation_0-error:0.021986\tvalidation_0-logloss:0.076581\tvalidation_1-error:0.050744\tvalidation_1-logloss:0.146031\n",
            "[485]\tvalidation_0-error:0.021877\tvalidation_0-logloss:0.076418\tvalidation_1-error:0.050744\tvalidation_1-logloss:0.145991\n",
            "[486]\tvalidation_0-error:0.021877\tvalidation_0-logloss:0.076254\tvalidation_1-error:0.050744\tvalidation_1-logloss:0.14597\n",
            "[487]\tvalidation_0-error:0.021877\tvalidation_0-logloss:0.076052\tvalidation_1-error:0.050744\tvalidation_1-logloss:0.145909\n",
            "[488]\tvalidation_0-error:0.021877\tvalidation_0-logloss:0.075872\tvalidation_1-error:0.050744\tvalidation_1-logloss:0.145902\n",
            "[489]\tvalidation_0-error:0.021877\tvalidation_0-logloss:0.075712\tvalidation_1-error:0.051181\tvalidation_1-logloss:0.14588\n",
            "[490]\tvalidation_0-error:0.021877\tvalidation_0-logloss:0.075558\tvalidation_1-error:0.051619\tvalidation_1-logloss:0.145872\n",
            "[491]\tvalidation_0-error:0.021877\tvalidation_0-logloss:0.075379\tvalidation_1-error:0.051619\tvalidation_1-logloss:0.145878\n",
            "[492]\tvalidation_0-error:0.021877\tvalidation_0-logloss:0.075237\tvalidation_1-error:0.051619\tvalidation_1-logloss:0.145884\n",
            "[493]\tvalidation_0-error:0.021877\tvalidation_0-logloss:0.075081\tvalidation_1-error:0.051619\tvalidation_1-logloss:0.145885\n",
            "[494]\tvalidation_0-error:0.021768\tvalidation_0-logloss:0.074904\tvalidation_1-error:0.051619\tvalidation_1-logloss:0.145856\n",
            "[495]\tvalidation_0-error:0.021658\tvalidation_0-logloss:0.074791\tvalidation_1-error:0.051619\tvalidation_1-logloss:0.145848\n",
            "[496]\tvalidation_0-error:0.021658\tvalidation_0-logloss:0.0747\tvalidation_1-error:0.051619\tvalidation_1-logloss:0.145844\n",
            "[497]\tvalidation_0-error:0.021658\tvalidation_0-logloss:0.074557\tvalidation_1-error:0.051619\tvalidation_1-logloss:0.145856\n",
            "[498]\tvalidation_0-error:0.021658\tvalidation_0-logloss:0.074431\tvalidation_1-error:0.051619\tvalidation_1-logloss:0.145797\n",
            "[499]\tvalidation_0-error:0.021658\tvalidation_0-logloss:0.074273\tvalidation_1-error:0.052056\tvalidation_1-logloss:0.145816\n",
            "[500]\tvalidation_0-error:0.021658\tvalidation_0-logloss:0.074112\tvalidation_1-error:0.051181\tvalidation_1-logloss:0.145729\n",
            "[501]\tvalidation_0-error:0.021658\tvalidation_0-logloss:0.074001\tvalidation_1-error:0.051181\tvalidation_1-logloss:0.145708\n",
            "[502]\tvalidation_0-error:0.021658\tvalidation_0-logloss:0.073849\tvalidation_1-error:0.052056\tvalidation_1-logloss:0.145683\n",
            "[503]\tvalidation_0-error:0.021549\tvalidation_0-logloss:0.07369\tvalidation_1-error:0.051619\tvalidation_1-logloss:0.145604\n",
            "[504]\tvalidation_0-error:0.021221\tvalidation_0-logloss:0.073583\tvalidation_1-error:0.051619\tvalidation_1-logloss:0.145596\n",
            "[505]\tvalidation_0-error:0.021221\tvalidation_0-logloss:0.073416\tvalidation_1-error:0.051619\tvalidation_1-logloss:0.145576\n",
            "[506]\tvalidation_0-error:0.021221\tvalidation_0-logloss:0.073261\tvalidation_1-error:0.051619\tvalidation_1-logloss:0.14557\n",
            "[507]\tvalidation_0-error:0.02133\tvalidation_0-logloss:0.073173\tvalidation_1-error:0.051619\tvalidation_1-logloss:0.145562\n",
            "[508]\tvalidation_0-error:0.02133\tvalidation_0-logloss:0.073047\tvalidation_1-error:0.051619\tvalidation_1-logloss:0.145547\n",
            "[509]\tvalidation_0-error:0.021111\tvalidation_0-logloss:0.072901\tvalidation_1-error:0.051619\tvalidation_1-logloss:0.145543\n",
            "[510]\tvalidation_0-error:0.021111\tvalidation_0-logloss:0.072749\tvalidation_1-error:0.051619\tvalidation_1-logloss:0.145533\n",
            "[511]\tvalidation_0-error:0.021111\tvalidation_0-logloss:0.072574\tvalidation_1-error:0.051619\tvalidation_1-logloss:0.145518\n",
            "[512]\tvalidation_0-error:0.021111\tvalidation_0-logloss:0.072471\tvalidation_1-error:0.052056\tvalidation_1-logloss:0.145505\n",
            "[513]\tvalidation_0-error:0.021002\tvalidation_0-logloss:0.072399\tvalidation_1-error:0.052056\tvalidation_1-logloss:0.145507\n",
            "[514]\tvalidation_0-error:0.021002\tvalidation_0-logloss:0.072298\tvalidation_1-error:0.052056\tvalidation_1-logloss:0.145519\n",
            "[515]\tvalidation_0-error:0.021002\tvalidation_0-logloss:0.07215\tvalidation_1-error:0.052056\tvalidation_1-logloss:0.145533\n",
            "[516]\tvalidation_0-error:0.020893\tvalidation_0-logloss:0.071999\tvalidation_1-error:0.052056\tvalidation_1-logloss:0.145444\n",
            "[517]\tvalidation_0-error:0.020893\tvalidation_0-logloss:0.071858\tvalidation_1-error:0.052056\tvalidation_1-logloss:0.145421\n",
            "[518]\tvalidation_0-error:0.020674\tvalidation_0-logloss:0.071703\tvalidation_1-error:0.052056\tvalidation_1-logloss:0.145392\n",
            "[519]\tvalidation_0-error:0.020674\tvalidation_0-logloss:0.071555\tvalidation_1-error:0.052056\tvalidation_1-logloss:0.145314\n",
            "[520]\tvalidation_0-error:0.020674\tvalidation_0-logloss:0.071417\tvalidation_1-error:0.052056\tvalidation_1-logloss:0.145293\n",
            "[521]\tvalidation_0-error:0.020564\tvalidation_0-logloss:0.071338\tvalidation_1-error:0.052056\tvalidation_1-logloss:0.145278\n",
            "[522]\tvalidation_0-error:0.020564\tvalidation_0-logloss:0.071261\tvalidation_1-error:0.052056\tvalidation_1-logloss:0.145253\n",
            "[523]\tvalidation_0-error:0.020564\tvalidation_0-logloss:0.071109\tvalidation_1-error:0.052056\tvalidation_1-logloss:0.145237\n",
            "[524]\tvalidation_0-error:0.020346\tvalidation_0-logloss:0.070986\tvalidation_1-error:0.052056\tvalidation_1-logloss:0.145213\n",
            "[525]\tvalidation_0-error:0.020346\tvalidation_0-logloss:0.070837\tvalidation_1-error:0.052056\tvalidation_1-logloss:0.145186\n",
            "[526]\tvalidation_0-error:0.020346\tvalidation_0-logloss:0.070688\tvalidation_1-error:0.052056\tvalidation_1-logloss:0.14517\n",
            "[527]\tvalidation_0-error:0.020346\tvalidation_0-logloss:0.070557\tvalidation_1-error:0.052056\tvalidation_1-logloss:0.145149\n",
            "[528]\tvalidation_0-error:0.020346\tvalidation_0-logloss:0.070423\tvalidation_1-error:0.052056\tvalidation_1-logloss:0.145096\n",
            "[529]\tvalidation_0-error:0.020346\tvalidation_0-logloss:0.070284\tvalidation_1-error:0.052056\tvalidation_1-logloss:0.14507\n",
            "[530]\tvalidation_0-error:0.020346\tvalidation_0-logloss:0.070165\tvalidation_1-error:0.052056\tvalidation_1-logloss:0.145045\n",
            "[531]\tvalidation_0-error:0.020346\tvalidation_0-logloss:0.070015\tvalidation_1-error:0.052056\tvalidation_1-logloss:0.145067\n",
            "[532]\tvalidation_0-error:0.020346\tvalidation_0-logloss:0.069888\tvalidation_1-error:0.052056\tvalidation_1-logloss:0.145077\n",
            "[533]\tvalidation_0-error:0.020346\tvalidation_0-logloss:0.069718\tvalidation_1-error:0.052056\tvalidation_1-logloss:0.145057\n",
            "[534]\tvalidation_0-error:0.020346\tvalidation_0-logloss:0.069582\tvalidation_1-error:0.052056\tvalidation_1-logloss:0.145024\n",
            "[535]\tvalidation_0-error:0.020346\tvalidation_0-logloss:0.069468\tvalidation_1-error:0.052056\tvalidation_1-logloss:0.145018\n",
            "[536]\tvalidation_0-error:0.020346\tvalidation_0-logloss:0.069352\tvalidation_1-error:0.052056\tvalidation_1-logloss:0.144994\n",
            "[537]\tvalidation_0-error:0.020346\tvalidation_0-logloss:0.069193\tvalidation_1-error:0.052056\tvalidation_1-logloss:0.145018\n",
            "[538]\tvalidation_0-error:0.020346\tvalidation_0-logloss:0.069032\tvalidation_1-error:0.052056\tvalidation_1-logloss:0.145043\n",
            "[539]\tvalidation_0-error:0.020346\tvalidation_0-logloss:0.068907\tvalidation_1-error:0.052056\tvalidation_1-logloss:0.145065\n",
            "[540]\tvalidation_0-error:0.020346\tvalidation_0-logloss:0.068823\tvalidation_1-error:0.052056\tvalidation_1-logloss:0.145037\n",
            "[541]\tvalidation_0-error:0.020346\tvalidation_0-logloss:0.068692\tvalidation_1-error:0.052056\tvalidation_1-logloss:0.145012\n",
            "[542]\tvalidation_0-error:0.020346\tvalidation_0-logloss:0.068643\tvalidation_1-error:0.052056\tvalidation_1-logloss:0.145026\n",
            "[543]\tvalidation_0-error:0.020236\tvalidation_0-logloss:0.068513\tvalidation_1-error:0.052056\tvalidation_1-logloss:0.145047\n",
            "[544]\tvalidation_0-error:0.020127\tvalidation_0-logloss:0.068432\tvalidation_1-error:0.052056\tvalidation_1-logloss:0.145015\n",
            "[545]\tvalidation_0-error:0.020018\tvalidation_0-logloss:0.068303\tvalidation_1-error:0.052056\tvalidation_1-logloss:0.144993\n",
            "[546]\tvalidation_0-error:0.020018\tvalidation_0-logloss:0.06822\tvalidation_1-error:0.052056\tvalidation_1-logloss:0.144968\n",
            "[547]\tvalidation_0-error:0.020018\tvalidation_0-logloss:0.06814\tvalidation_1-error:0.052056\tvalidation_1-logloss:0.144933\n",
            "[548]\tvalidation_0-error:0.020018\tvalidation_0-logloss:0.068058\tvalidation_1-error:0.052056\tvalidation_1-logloss:0.144914\n",
            "[549]\tvalidation_0-error:0.019908\tvalidation_0-logloss:0.067932\tvalidation_1-error:0.052056\tvalidation_1-logloss:0.144888\n",
            "[550]\tvalidation_0-error:0.019908\tvalidation_0-logloss:0.067885\tvalidation_1-error:0.052056\tvalidation_1-logloss:0.144899\n",
            "[551]\tvalidation_0-error:0.019908\tvalidation_0-logloss:0.067803\tvalidation_1-error:0.052056\tvalidation_1-logloss:0.144877\n",
            "[552]\tvalidation_0-error:0.019799\tvalidation_0-logloss:0.067738\tvalidation_1-error:0.052056\tvalidation_1-logloss:0.144871\n",
            "[553]\tvalidation_0-error:0.019799\tvalidation_0-logloss:0.067667\tvalidation_1-error:0.052056\tvalidation_1-logloss:0.144835\n",
            "[554]\tvalidation_0-error:0.019799\tvalidation_0-logloss:0.067571\tvalidation_1-error:0.052056\tvalidation_1-logloss:0.144819\n",
            "[555]\tvalidation_0-error:0.019799\tvalidation_0-logloss:0.067495\tvalidation_1-error:0.052056\tvalidation_1-logloss:0.144793\n",
            "[556]\tvalidation_0-error:0.019799\tvalidation_0-logloss:0.067418\tvalidation_1-error:0.052056\tvalidation_1-logloss:0.144773\n",
            "[557]\tvalidation_0-error:0.019689\tvalidation_0-logloss:0.067319\tvalidation_1-error:0.052056\tvalidation_1-logloss:0.144756\n",
            "[558]\tvalidation_0-error:0.019689\tvalidation_0-logloss:0.067244\tvalidation_1-error:0.052056\tvalidation_1-logloss:0.144743\n",
            "[559]\tvalidation_0-error:0.01958\tvalidation_0-logloss:0.067147\tvalidation_1-error:0.052056\tvalidation_1-logloss:0.144716\n",
            "[560]\tvalidation_0-error:0.019361\tvalidation_0-logloss:0.067069\tvalidation_1-error:0.052056\tvalidation_1-logloss:0.144687\n",
            "[561]\tvalidation_0-error:0.019252\tvalidation_0-logloss:0.066997\tvalidation_1-error:0.052056\tvalidation_1-logloss:0.144658\n",
            "[562]\tvalidation_0-error:0.019252\tvalidation_0-logloss:0.066855\tvalidation_1-error:0.052056\tvalidation_1-logloss:0.14462\n",
            "[563]\tvalidation_0-error:0.019252\tvalidation_0-logloss:0.066792\tvalidation_1-error:0.052056\tvalidation_1-logloss:0.144612\n",
            "[564]\tvalidation_0-error:0.019252\tvalidation_0-logloss:0.066731\tvalidation_1-error:0.052056\tvalidation_1-logloss:0.144612\n",
            "[565]\tvalidation_0-error:0.019252\tvalidation_0-logloss:0.066659\tvalidation_1-error:0.052056\tvalidation_1-logloss:0.144594\n",
            "[566]\tvalidation_0-error:0.019252\tvalidation_0-logloss:0.066535\tvalidation_1-error:0.052056\tvalidation_1-logloss:0.144597\n",
            "[567]\tvalidation_0-error:0.019142\tvalidation_0-logloss:0.066466\tvalidation_1-error:0.052056\tvalidation_1-logloss:0.144575\n",
            "[568]\tvalidation_0-error:0.019142\tvalidation_0-logloss:0.06642\tvalidation_1-error:0.052056\tvalidation_1-logloss:0.144591\n",
            "[569]\tvalidation_0-error:0.019142\tvalidation_0-logloss:0.066349\tvalidation_1-error:0.051619\tvalidation_1-logloss:0.144577\n",
            "[570]\tvalidation_0-error:0.019033\tvalidation_0-logloss:0.066255\tvalidation_1-error:0.051619\tvalidation_1-logloss:0.144558\n",
            "[571]\tvalidation_0-error:0.019033\tvalidation_0-logloss:0.066184\tvalidation_1-error:0.051619\tvalidation_1-logloss:0.144552\n",
            "[572]\tvalidation_0-error:0.019033\tvalidation_0-logloss:0.066092\tvalidation_1-error:0.051619\tvalidation_1-logloss:0.14454\n",
            "[573]\tvalidation_0-error:0.018814\tvalidation_0-logloss:0.065955\tvalidation_1-error:0.051619\tvalidation_1-logloss:0.144484\n",
            "[574]\tvalidation_0-error:0.018814\tvalidation_0-logloss:0.065889\tvalidation_1-error:0.051619\tvalidation_1-logloss:0.144472\n",
            "[575]\tvalidation_0-error:0.018705\tvalidation_0-logloss:0.06574\tvalidation_1-error:0.051619\tvalidation_1-logloss:0.144442\n",
            "[576]\tvalidation_0-error:0.018705\tvalidation_0-logloss:0.065622\tvalidation_1-error:0.051619\tvalidation_1-logloss:0.144447\n",
            "[577]\tvalidation_0-error:0.018705\tvalidation_0-logloss:0.065552\tvalidation_1-error:0.051619\tvalidation_1-logloss:0.144443\n",
            "[578]\tvalidation_0-error:0.018705\tvalidation_0-logloss:0.065479\tvalidation_1-error:0.051619\tvalidation_1-logloss:0.144437\n",
            "[579]\tvalidation_0-error:0.018705\tvalidation_0-logloss:0.065386\tvalidation_1-error:0.051619\tvalidation_1-logloss:0.144417\n",
            "[580]\tvalidation_0-error:0.018705\tvalidation_0-logloss:0.065255\tvalidation_1-error:0.051619\tvalidation_1-logloss:0.144372\n",
            "[581]\tvalidation_0-error:0.018595\tvalidation_0-logloss:0.065187\tvalidation_1-error:0.051619\tvalidation_1-logloss:0.144371\n",
            "[582]\tvalidation_0-error:0.018595\tvalidation_0-logloss:0.065041\tvalidation_1-error:0.051619\tvalidation_1-logloss:0.14435\n",
            "[583]\tvalidation_0-error:0.018486\tvalidation_0-logloss:0.064989\tvalidation_1-error:0.051619\tvalidation_1-logloss:0.144332\n",
            "[584]\tvalidation_0-error:0.018486\tvalidation_0-logloss:0.064933\tvalidation_1-error:0.051619\tvalidation_1-logloss:0.144326\n",
            "[585]\tvalidation_0-error:0.018486\tvalidation_0-logloss:0.064804\tvalidation_1-error:0.051619\tvalidation_1-logloss:0.144288\n",
            "[586]\tvalidation_0-error:0.018377\tvalidation_0-logloss:0.064666\tvalidation_1-error:0.051619\tvalidation_1-logloss:0.144277\n",
            "[587]\tvalidation_0-error:0.018377\tvalidation_0-logloss:0.064535\tvalidation_1-error:0.051619\tvalidation_1-logloss:0.144293\n",
            "[588]\tvalidation_0-error:0.018267\tvalidation_0-logloss:0.064478\tvalidation_1-error:0.051619\tvalidation_1-logloss:0.144276\n",
            "[589]\tvalidation_0-error:0.018158\tvalidation_0-logloss:0.064401\tvalidation_1-error:0.051619\tvalidation_1-logloss:0.144242\n",
            "[590]\tvalidation_0-error:0.018158\tvalidation_0-logloss:0.064345\tvalidation_1-error:0.051619\tvalidation_1-logloss:0.144231\n",
            "[591]\tvalidation_0-error:0.018158\tvalidation_0-logloss:0.064258\tvalidation_1-error:0.051619\tvalidation_1-logloss:0.144241\n",
            "[592]\tvalidation_0-error:0.018049\tvalidation_0-logloss:0.064201\tvalidation_1-error:0.051619\tvalidation_1-logloss:0.144229\n",
            "[593]\tvalidation_0-error:0.017939\tvalidation_0-logloss:0.064088\tvalidation_1-error:0.051619\tvalidation_1-logloss:0.144208\n",
            "[594]\tvalidation_0-error:0.017939\tvalidation_0-logloss:0.06401\tvalidation_1-error:0.051619\tvalidation_1-logloss:0.144178\n",
            "[595]\tvalidation_0-error:0.017939\tvalidation_0-logloss:0.063927\tvalidation_1-error:0.051619\tvalidation_1-logloss:0.14418\n",
            "[596]\tvalidation_0-error:0.017939\tvalidation_0-logloss:0.063884\tvalidation_1-error:0.051619\tvalidation_1-logloss:0.144194\n",
            "[597]\tvalidation_0-error:0.017939\tvalidation_0-logloss:0.063845\tvalidation_1-error:0.051619\tvalidation_1-logloss:0.144221\n",
            "[598]\tvalidation_0-error:0.01783\tvalidation_0-logloss:0.063739\tvalidation_1-error:0.051619\tvalidation_1-logloss:0.144215\n",
            "[599]\tvalidation_0-error:0.01783\tvalidation_0-logloss:0.063658\tvalidation_1-error:0.051619\tvalidation_1-logloss:0.144217\n",
            "[600]\tvalidation_0-error:0.01772\tvalidation_0-logloss:0.06362\tvalidation_1-error:0.051619\tvalidation_1-logloss:0.144233\n",
            "[601]\tvalidation_0-error:0.01772\tvalidation_0-logloss:0.063541\tvalidation_1-error:0.051619\tvalidation_1-logloss:0.144202\n",
            "[602]\tvalidation_0-error:0.01772\tvalidation_0-logloss:0.063503\tvalidation_1-error:0.051619\tvalidation_1-logloss:0.144226\n",
            "[603]\tvalidation_0-error:0.01772\tvalidation_0-logloss:0.0634\tvalidation_1-error:0.051619\tvalidation_1-logloss:0.144222\n",
            "[604]\tvalidation_0-error:0.01772\tvalidation_0-logloss:0.063331\tvalidation_1-error:0.051619\tvalidation_1-logloss:0.144183\n",
            "[605]\tvalidation_0-error:0.01772\tvalidation_0-logloss:0.063228\tvalidation_1-error:0.051619\tvalidation_1-logloss:0.14417\n",
            "[606]\tvalidation_0-error:0.017611\tvalidation_0-logloss:0.063077\tvalidation_1-error:0.052056\tvalidation_1-logloss:0.144184\n",
            "[607]\tvalidation_0-error:0.017611\tvalidation_0-logloss:0.063025\tvalidation_1-error:0.052056\tvalidation_1-logloss:0.144161\n",
            "[608]\tvalidation_0-error:0.017611\tvalidation_0-logloss:0.062969\tvalidation_1-error:0.051619\tvalidation_1-logloss:0.144169\n",
            "[609]\tvalidation_0-error:0.017611\tvalidation_0-logloss:0.062894\tvalidation_1-error:0.051619\tvalidation_1-logloss:0.144152\n",
            "[610]\tvalidation_0-error:0.017611\tvalidation_0-logloss:0.062844\tvalidation_1-error:0.051619\tvalidation_1-logloss:0.144129\n",
            "[611]\tvalidation_0-error:0.017611\tvalidation_0-logloss:0.062766\tvalidation_1-error:0.051619\tvalidation_1-logloss:0.144097\n",
            "[612]\tvalidation_0-error:0.017611\tvalidation_0-logloss:0.062714\tvalidation_1-error:0.051619\tvalidation_1-logloss:0.14409\n",
            "[613]\tvalidation_0-error:0.017502\tvalidation_0-logloss:0.062622\tvalidation_1-error:0.051619\tvalidation_1-logloss:0.144096\n",
            "[614]\tvalidation_0-error:0.017502\tvalidation_0-logloss:0.062571\tvalidation_1-error:0.051619\tvalidation_1-logloss:0.144084\n",
            "[615]\tvalidation_0-error:0.017502\tvalidation_0-logloss:0.062526\tvalidation_1-error:0.051619\tvalidation_1-logloss:0.144068\n",
            "[616]\tvalidation_0-error:0.017502\tvalidation_0-logloss:0.062486\tvalidation_1-error:0.051619\tvalidation_1-logloss:0.144082\n",
            "[617]\tvalidation_0-error:0.017502\tvalidation_0-logloss:0.06244\tvalidation_1-error:0.051619\tvalidation_1-logloss:0.144091\n",
            "[618]\tvalidation_0-error:0.017502\tvalidation_0-logloss:0.062349\tvalidation_1-error:0.051619\tvalidation_1-logloss:0.14409\n",
            "[619]\tvalidation_0-error:0.017392\tvalidation_0-logloss:0.062301\tvalidation_1-error:0.051619\tvalidation_1-logloss:0.144081\n",
            "[620]\tvalidation_0-error:0.017392\tvalidation_0-logloss:0.06225\tvalidation_1-error:0.051619\tvalidation_1-logloss:0.144083\n",
            "[621]\tvalidation_0-error:0.017283\tvalidation_0-logloss:0.062192\tvalidation_1-error:0.051619\tvalidation_1-logloss:0.1441\n",
            "[622]\tvalidation_0-error:0.017283\tvalidation_0-logloss:0.06215\tvalidation_1-error:0.051619\tvalidation_1-logloss:0.144102\n",
            "[623]\tvalidation_0-error:0.017283\tvalidation_0-logloss:0.062093\tvalidation_1-error:0.051619\tvalidation_1-logloss:0.144114\n",
            "[624]\tvalidation_0-error:0.017283\tvalidation_0-logloss:0.062042\tvalidation_1-error:0.051619\tvalidation_1-logloss:0.144122\n",
            "[625]\tvalidation_0-error:0.017283\tvalidation_0-logloss:0.062\tvalidation_1-error:0.051619\tvalidation_1-logloss:0.144119\n",
            "[626]\tvalidation_0-error:0.017283\tvalidation_0-logloss:0.061964\tvalidation_1-error:0.051181\tvalidation_1-logloss:0.144132\n",
            "[627]\tvalidation_0-error:0.017173\tvalidation_0-logloss:0.061912\tvalidation_1-error:0.051181\tvalidation_1-logloss:0.144141\n",
            "[628]\tvalidation_0-error:0.017283\tvalidation_0-logloss:0.061768\tvalidation_1-error:0.051181\tvalidation_1-logloss:0.144167\n",
            "[629]\tvalidation_0-error:0.017283\tvalidation_0-logloss:0.061722\tvalidation_1-error:0.051181\tvalidation_1-logloss:0.144192\n",
            "[630]\tvalidation_0-error:0.017283\tvalidation_0-logloss:0.061685\tvalidation_1-error:0.051181\tvalidation_1-logloss:0.144204\n",
            "[631]\tvalidation_0-error:0.017283\tvalidation_0-logloss:0.061634\tvalidation_1-error:0.051181\tvalidation_1-logloss:0.144215\n",
            "[632]\tvalidation_0-error:0.017064\tvalidation_0-logloss:0.061546\tvalidation_1-error:0.051181\tvalidation_1-logloss:0.144217\n",
            "[633]\tvalidation_0-error:0.017064\tvalidation_0-logloss:0.061499\tvalidation_1-error:0.051181\tvalidation_1-logloss:0.144239\n",
            "[634]\tvalidation_0-error:0.017064\tvalidation_0-logloss:0.061421\tvalidation_1-error:0.051181\tvalidation_1-logloss:0.144236\n",
            "[635]\tvalidation_0-error:0.016845\tvalidation_0-logloss:0.061329\tvalidation_1-error:0.051181\tvalidation_1-logloss:0.144228\n",
            "[636]\tvalidation_0-error:0.016845\tvalidation_0-logloss:0.061241\tvalidation_1-error:0.051181\tvalidation_1-logloss:0.14423\n",
            "[637]\tvalidation_0-error:0.016845\tvalidation_0-logloss:0.061219\tvalidation_1-error:0.051181\tvalidation_1-logloss:0.144225\n",
            "[638]\tvalidation_0-error:0.016845\tvalidation_0-logloss:0.061179\tvalidation_1-error:0.051181\tvalidation_1-logloss:0.144228\n",
            "[639]\tvalidation_0-error:0.016845\tvalidation_0-logloss:0.061095\tvalidation_1-error:0.051181\tvalidation_1-logloss:0.14423\n",
            "[640]\tvalidation_0-error:0.016845\tvalidation_0-logloss:0.061019\tvalidation_1-error:0.051181\tvalidation_1-logloss:0.144234\n",
            "[641]\tvalidation_0-error:0.016845\tvalidation_0-logloss:0.060974\tvalidation_1-error:0.051181\tvalidation_1-logloss:0.144257\n",
            "[642]\tvalidation_0-error:0.016845\tvalidation_0-logloss:0.060917\tvalidation_1-error:0.050744\tvalidation_1-logloss:0.144252\n",
            "[643]\tvalidation_0-error:0.016736\tvalidation_0-logloss:0.060871\tvalidation_1-error:0.050744\tvalidation_1-logloss:0.144257\n",
            "[644]\tvalidation_0-error:0.016736\tvalidation_0-logloss:0.060833\tvalidation_1-error:0.050744\tvalidation_1-logloss:0.144266\n",
            "[645]\tvalidation_0-error:0.016736\tvalidation_0-logloss:0.060752\tvalidation_1-error:0.050744\tvalidation_1-logloss:0.144265\n",
            "[646]\tvalidation_0-error:0.016627\tvalidation_0-logloss:0.060696\tvalidation_1-error:0.050744\tvalidation_1-logloss:0.144267\n",
            "[647]\tvalidation_0-error:0.016627\tvalidation_0-logloss:0.060672\tvalidation_1-error:0.050744\tvalidation_1-logloss:0.144274\n",
            "[648]\tvalidation_0-error:0.016627\tvalidation_0-logloss:0.060617\tvalidation_1-error:0.050744\tvalidation_1-logloss:0.144282\n",
            "[649]\tvalidation_0-error:0.016627\tvalidation_0-logloss:0.060538\tvalidation_1-error:0.050744\tvalidation_1-logloss:0.144273\n",
            "[650]\tvalidation_0-error:0.016517\tvalidation_0-logloss:0.060497\tvalidation_1-error:0.050744\tvalidation_1-logloss:0.144298\n",
            "[651]\tvalidation_0-error:0.016517\tvalidation_0-logloss:0.060443\tvalidation_1-error:0.050744\tvalidation_1-logloss:0.144309\n",
            "[652]\tvalidation_0-error:0.016517\tvalidation_0-logloss:0.060403\tvalidation_1-error:0.050744\tvalidation_1-logloss:0.144315\n",
            "[653]\tvalidation_0-error:0.016517\tvalidation_0-logloss:0.060349\tvalidation_1-error:0.050744\tvalidation_1-logloss:0.144332\n",
            "[654]\tvalidation_0-error:0.016408\tvalidation_0-logloss:0.060307\tvalidation_1-error:0.050744\tvalidation_1-logloss:0.144326\n",
            "[655]\tvalidation_0-error:0.016408\tvalidation_0-logloss:0.060284\tvalidation_1-error:0.050744\tvalidation_1-logloss:0.144332\n",
            "[656]\tvalidation_0-error:0.016408\tvalidation_0-logloss:0.060231\tvalidation_1-error:0.050744\tvalidation_1-logloss:0.144353\n",
            "[657]\tvalidation_0-error:0.016408\tvalidation_0-logloss:0.060188\tvalidation_1-error:0.050744\tvalidation_1-logloss:0.144368\n",
            "[658]\tvalidation_0-error:0.016408\tvalidation_0-logloss:0.060135\tvalidation_1-error:0.050744\tvalidation_1-logloss:0.144375\n",
            "[659]\tvalidation_0-error:0.016408\tvalidation_0-logloss:0.060092\tvalidation_1-error:0.050744\tvalidation_1-logloss:0.14439\n",
            "[660]\tvalidation_0-error:0.016408\tvalidation_0-logloss:0.06002\tvalidation_1-error:0.050744\tvalidation_1-logloss:0.144401\n",
            "[661]\tvalidation_0-error:0.016298\tvalidation_0-logloss:0.059974\tvalidation_1-error:0.050744\tvalidation_1-logloss:0.144414\n",
            "[662]\tvalidation_0-error:0.016298\tvalidation_0-logloss:0.059953\tvalidation_1-error:0.050744\tvalidation_1-logloss:0.144426\n",
            "[663]\tvalidation_0-error:0.016298\tvalidation_0-logloss:0.059895\tvalidation_1-error:0.050744\tvalidation_1-logloss:0.144411\n",
            "[664]\tvalidation_0-error:0.016408\tvalidation_0-logloss:0.059816\tvalidation_1-error:0.050744\tvalidation_1-logloss:0.144421\n",
            "[665]\tvalidation_0-error:0.016408\tvalidation_0-logloss:0.059758\tvalidation_1-error:0.050744\tvalidation_1-logloss:0.144402\n",
            "[666]\tvalidation_0-error:0.016298\tvalidation_0-logloss:0.059673\tvalidation_1-error:0.050744\tvalidation_1-logloss:0.144418\n",
            "[667]\tvalidation_0-error:0.01608\tvalidation_0-logloss:0.059651\tvalidation_1-error:0.050744\tvalidation_1-logloss:0.144421\n",
            "[668]\tvalidation_0-error:0.01608\tvalidation_0-logloss:0.05961\tvalidation_1-error:0.050744\tvalidation_1-logloss:0.144434\n",
            "[669]\tvalidation_0-error:0.01608\tvalidation_0-logloss:0.059555\tvalidation_1-error:0.050744\tvalidation_1-logloss:0.144433\n",
            "[670]\tvalidation_0-error:0.01608\tvalidation_0-logloss:0.059493\tvalidation_1-error:0.051181\tvalidation_1-logloss:0.144424\n",
            "[671]\tvalidation_0-error:0.01608\tvalidation_0-logloss:0.059474\tvalidation_1-error:0.051181\tvalidation_1-logloss:0.144434\n",
            "[672]\tvalidation_0-error:0.01608\tvalidation_0-logloss:0.059431\tvalidation_1-error:0.051181\tvalidation_1-logloss:0.144442\n",
            "[673]\tvalidation_0-error:0.01608\tvalidation_0-logloss:0.059374\tvalidation_1-error:0.051181\tvalidation_1-logloss:0.144426\n",
            "[674]\tvalidation_0-error:0.01608\tvalidation_0-logloss:0.059354\tvalidation_1-error:0.051181\tvalidation_1-logloss:0.144438\n",
            "[675]\tvalidation_0-error:0.01608\tvalidation_0-logloss:0.059309\tvalidation_1-error:0.051181\tvalidation_1-logloss:0.144444\n",
            "[676]\tvalidation_0-error:0.016189\tvalidation_0-logloss:0.059278\tvalidation_1-error:0.051181\tvalidation_1-logloss:0.144466\n",
            "[677]\tvalidation_0-error:0.01608\tvalidation_0-logloss:0.059226\tvalidation_1-error:0.051181\tvalidation_1-logloss:0.144472\n",
            "[678]\tvalidation_0-error:0.01608\tvalidation_0-logloss:0.059148\tvalidation_1-error:0.051181\tvalidation_1-logloss:0.144493\n",
            "[679]\tvalidation_0-error:0.01608\tvalidation_0-logloss:0.059062\tvalidation_1-error:0.051181\tvalidation_1-logloss:0.144517\n",
            "[680]\tvalidation_0-error:0.01608\tvalidation_0-logloss:0.059031\tvalidation_1-error:0.051181\tvalidation_1-logloss:0.144531\n",
            "[681]\tvalidation_0-error:0.01608\tvalidation_0-logloss:0.058982\tvalidation_1-error:0.051181\tvalidation_1-logloss:0.144535\n",
            "[682]\tvalidation_0-error:0.01608\tvalidation_0-logloss:0.058963\tvalidation_1-error:0.051181\tvalidation_1-logloss:0.14455\n",
            "[683]\tvalidation_0-error:0.01608\tvalidation_0-logloss:0.058925\tvalidation_1-error:0.051181\tvalidation_1-logloss:0.144558\n",
            "[684]\tvalidation_0-error:0.01608\tvalidation_0-logloss:0.058886\tvalidation_1-error:0.051181\tvalidation_1-logloss:0.144571\n",
            "[685]\tvalidation_0-error:0.01608\tvalidation_0-logloss:0.058825\tvalidation_1-error:0.051181\tvalidation_1-logloss:0.144554\n",
            "[686]\tvalidation_0-error:0.01608\tvalidation_0-logloss:0.058807\tvalidation_1-error:0.051181\tvalidation_1-logloss:0.144563\n",
            "[687]\tvalidation_0-error:0.01608\tvalidation_0-logloss:0.05875\tvalidation_1-error:0.051181\tvalidation_1-logloss:0.144543\n",
            "[688]\tvalidation_0-error:0.01608\tvalidation_0-logloss:0.05873\tvalidation_1-error:0.051181\tvalidation_1-logloss:0.144547\n",
            "[689]\tvalidation_0-error:0.01608\tvalidation_0-logloss:0.058687\tvalidation_1-error:0.051181\tvalidation_1-logloss:0.144563\n",
            "[690]\tvalidation_0-error:0.01597\tvalidation_0-logloss:0.058611\tvalidation_1-error:0.051181\tvalidation_1-logloss:0.144587\n",
            "[691]\tvalidation_0-error:0.01597\tvalidation_0-logloss:0.058593\tvalidation_1-error:0.051181\tvalidation_1-logloss:0.144589\n",
            "[692]\tvalidation_0-error:0.01597\tvalidation_0-logloss:0.058563\tvalidation_1-error:0.051181\tvalidation_1-logloss:0.144616\n",
            "[693]\tvalidation_0-error:0.01597\tvalidation_0-logloss:0.058512\tvalidation_1-error:0.051181\tvalidation_1-logloss:0.144609\n",
            "[694]\tvalidation_0-error:0.01597\tvalidation_0-logloss:0.058373\tvalidation_1-error:0.051181\tvalidation_1-logloss:0.144623\n",
            "[695]\tvalidation_0-error:0.01597\tvalidation_0-logloss:0.058342\tvalidation_1-error:0.051181\tvalidation_1-logloss:0.144626\n",
            "[696]\tvalidation_0-error:0.01597\tvalidation_0-logloss:0.058291\tvalidation_1-error:0.051181\tvalidation_1-logloss:0.144626\n",
            "[697]\tvalidation_0-error:0.01597\tvalidation_0-logloss:0.058246\tvalidation_1-error:0.051181\tvalidation_1-logloss:0.144637\n",
            "[698]\tvalidation_0-error:0.015861\tvalidation_0-logloss:0.058186\tvalidation_1-error:0.051181\tvalidation_1-logloss:0.144632\n",
            "[699]\tvalidation_0-error:0.015861\tvalidation_0-logloss:0.058143\tvalidation_1-error:0.051181\tvalidation_1-logloss:0.144637\n",
            "[700]\tvalidation_0-error:0.015861\tvalidation_0-logloss:0.058115\tvalidation_1-error:0.051619\tvalidation_1-logloss:0.144649\n",
            "[701]\tvalidation_0-error:0.015861\tvalidation_0-logloss:0.058044\tvalidation_1-error:0.051619\tvalidation_1-logloss:0.144676\n",
            "[702]\tvalidation_0-error:0.015751\tvalidation_0-logloss:0.058024\tvalidation_1-error:0.051619\tvalidation_1-logloss:0.144679\n",
            "[703]\tvalidation_0-error:0.015751\tvalidation_0-logloss:0.058007\tvalidation_1-error:0.051619\tvalidation_1-logloss:0.14469\n",
            "[704]\tvalidation_0-error:0.015751\tvalidation_0-logloss:0.057875\tvalidation_1-error:0.051619\tvalidation_1-logloss:0.144693\n",
            "[705]\tvalidation_0-error:0.015751\tvalidation_0-logloss:0.057847\tvalidation_1-error:0.051619\tvalidation_1-logloss:0.144715\n",
            "[706]\tvalidation_0-error:0.015751\tvalidation_0-logloss:0.05783\tvalidation_1-error:0.051619\tvalidation_1-logloss:0.144721\n",
            "[707]\tvalidation_0-error:0.015751\tvalidation_0-logloss:0.057772\tvalidation_1-error:0.051619\tvalidation_1-logloss:0.144709\n",
            "[708]\tvalidation_0-error:0.015751\tvalidation_0-logloss:0.057733\tvalidation_1-error:0.051619\tvalidation_1-logloss:0.144709\n",
            "[709]\tvalidation_0-error:0.015642\tvalidation_0-logloss:0.057695\tvalidation_1-error:0.051619\tvalidation_1-logloss:0.144711\n",
            "[710]\tvalidation_0-error:0.015423\tvalidation_0-logloss:0.057653\tvalidation_1-error:0.051181\tvalidation_1-logloss:0.144716\n",
            "[711]\tvalidation_0-error:0.015423\tvalidation_0-logloss:0.057625\tvalidation_1-error:0.051181\tvalidation_1-logloss:0.144735\n",
            "[712]\tvalidation_0-error:0.015533\tvalidation_0-logloss:0.057569\tvalidation_1-error:0.051181\tvalidation_1-logloss:0.144713\n",
            "[713]\tvalidation_0-error:0.015533\tvalidation_0-logloss:0.057552\tvalidation_1-error:0.051181\tvalidation_1-logloss:0.144719\n",
            "[714]\tvalidation_0-error:0.015314\tvalidation_0-logloss:0.057535\tvalidation_1-error:0.051181\tvalidation_1-logloss:0.144734\n",
            "[715]\tvalidation_0-error:0.015423\tvalidation_0-logloss:0.057507\tvalidation_1-error:0.051181\tvalidation_1-logloss:0.144751\n",
            "Stopping. Best iteration:\n",
            "[615]\tvalidation_0-error:0.017502\tvalidation_0-logloss:0.062526\tvalidation_1-error:0.051619\tvalidation_1-logloss:0.144068\n",
            "\n",
            "[1 1 1 ... 1 1 1]\n",
            "CPU times: user 17.5 s, sys: 203 ms, total: 17.7 s\n",
            "Wall time: 17.5 s\n"
          ],
          "name": "stdout"
        }
      ]
    },
    {
      "cell_type": "markdown",
      "metadata": {
        "id": "aHuQLizEyKNn",
        "colab_type": "text"
      },
      "source": [
        "### Plot error for checking for overfitting"
      ]
    },
    {
      "cell_type": "code",
      "metadata": {
        "id": "oYneHKh7yHaO",
        "colab_type": "code",
        "outputId": "d944cc4c-1749-4506-a2e7-87c4def7b573",
        "colab": {
          "base_uri": "https://localhost:8080/",
          "height": 545
        }
      },
      "source": [
        "\n",
        "# retrieve performance metrics\n",
        "results = full_pipeline[-1].estimator.evals_result()\n",
        "epochs = len(results['validation_0']['error'])\n",
        "x_axis = range(0, epochs)\n",
        "# plot log loss\n",
        "fig, ax = plt.subplots()\n",
        "ax.plot(x_axis, results['validation_0']['logloss'], label='Train')\n",
        "ax.plot(x_axis, results['validation_1']['logloss'], label='Test')\n",
        "ax.legend()\n",
        "plt.ylabel('Log Loss')\n",
        "plt.title('XGBoost Log Loss')\n",
        "plt.show()\n",
        "# plot classification error\n",
        "fig, ax = plt.subplots()\n",
        "ax.plot(x_axis, results['validation_0']['error'], label='Train')\n",
        "ax.plot(x_axis, results['validation_1']['error'], label='Test')\n",
        "ax.legend()\n",
        "plt.ylabel('Classification Error')\n",
        "plt.title('XGBoost Classification Error')\n",
        "plt.show()"
      ],
      "execution_count": 0,
      "outputs": [
        {
          "output_type": "display_data",
          "data": {
            "image/png": "[encoded data removed]",
            "text/plain": [
              "<Figure size 432x288 with 1 Axes>"
            ]
          },
          "metadata": {
            "tags": [],
            "needs_background": "light"
          }
        },
        {
          "output_type": "display_data",
          "data": {
            "image/png": "[encoded data removed]",
            "text/plain": [
              "<Figure size 432x288 with 1 Axes>"
            ]
          },
          "metadata": {
            "tags": [],
            "needs_background": "light"
          }
        }
      ]
    },
    {
      "cell_type": "markdown",
      "metadata": {
        "id": "H5uaastetN-n",
        "colab_type": "text"
      },
      "source": [
        "## Identify Feature Importances"
      ]
    },
    {
      "cell_type": "code",
      "metadata": {
        "id": "JFtSscvLoQS3",
        "colab_type": "code",
        "outputId": "139ad165-2a6d-4128-a6f4-7f6168a8f672",
        "colab": {
          "base_uri": "https://localhost:8080/",
          "height": 352
        }
      },
      "source": [
        "print(full_pipeline[-1].estimator.feature_importances_)\n",
        "importances = full_pipeline[-1].estimator.feature_importances_\n",
        "feature_cols = X_train.columns\n",
        "\n",
        "importance_dict = {}\n",
        "for i in range(len(feature_cols)):\n",
        "    importance_dict[feature_cols[i]] = importances[i]\n",
        "\n",
        "print(importance_dict)\n",
        "\n",
        "import matplotlib.pyplot as plt\n",
        "indices = np.argsort(importances)\n",
        "# Plot the feature importances of the forest\n",
        "plt.figure()\n",
        "plt.title(\"Feature importances\")\n",
        "plt.barh(range(X_train.shape[1]), importances[indices],\n",
        "       color=\"b\", align=\"center\")\n",
        "# If you want to define your own labels,\n",
        "# change indices to a list of labels on the following line.\n",
        "plt.yticks(range(X_train.shape[1]), indices)\n",
        "plt.ylim([-1, X_train.shape[1]])\n",
        "plt.show()"
      ],
      "execution_count": 0,
      "outputs": [
        {
          "output_type": "stream",
          "text": [
            "[0.0470946  0.10631599 0.02840188 0.04584975 0.0228886  0.05372417\n",
            " 0.10287575 0.05214478 0.01694643 0.523758  ]\n",
            "{'additional_fare': 0.047094602, 'duration': 0.10631599, 'meter_waiting': 0.028401883, 'meter_waiting_fare': 0.04584975, 'meter_waiting_till_pickup': 0.022888603, 'fare': 0.053724166, 'trip_time': 0.10287575, 'trip_distance': 0.052144777, 'time_error': 0.016946431, 'ismissing': 0.523758}\n"
          ],
          "name": "stdout"
        },
        {
          "output_type": "display_data",
          "data": {
            "image/png": "[encoded data removed]",
            "text/plain": [
              "<Figure size 432x288 with 1 Axes>"
            ]
          },
          "metadata": {
            "tags": [],
            "needs_background": "light"
          }
        }
      ]
    },
    {
      "cell_type": "code",
      "metadata": {
        "id": "_l_QCfwE1Xin",
        "colab_type": "code",
        "outputId": "58ef86df-3a54-4286-ce78-591e2c1591e7",
        "colab": {
          "base_uri": "https://localhost:8080/",
          "height": 122
        }
      },
      "source": [
        "estimator = XGBClassifier(max_depth=10, learning_rate=0.01, n_estimators=1000, reg_lambda=1.7, eval_metric='rmse')\n",
        "\n",
        "full_pipeline = Pipeline([\n",
        "    (\"preprocessor\", preprocessor),\n",
        "    (\"estimators\", estimator),\n",
        "])\n",
        "\n",
        "X_train, X_eval, y_train, y_eval = train_test_split(\n",
        "    feature_df,\n",
        "    label_df,\n",
        "    test_size=0.33,\n",
        "    shuffle=True,\n",
        "    stratify=label_df,\n",
        "    random_state=RANDOM_SEED\n",
        ")\n",
        "\n",
        "# Train model\n",
        "full_pipeline.fit(X_train, y_train)\n",
        "\n",
        "# Predict on evaluation set\n",
        "preds = full_pipeline.predict(X_eval)\n",
        "print(preds)"
      ],
      "execution_count": 0,
      "outputs": [
        {
          "output_type": "stream",
          "text": [
            "/usr/local/lib/python3.6/dist-packages/sklearn/preprocessing/_label.py:235: DataConversionWarning: A column-vector y was passed when a 1d array was expected. Please change the shape of y to (n_samples, ), for example using ravel().\n",
            "  y = column_or_1d(y, warn=True)\n",
            "/usr/local/lib/python3.6/dist-packages/sklearn/preprocessing/_label.py:268: DataConversionWarning: A column-vector y was passed when a 1d array was expected. Please change the shape of y to (n_samples, ), for example using ravel().\n",
            "  y = column_or_1d(y, warn=True)\n"
          ],
          "name": "stderr"
        },
        {
          "output_type": "stream",
          "text": [
            "[1 1 1 ... 1 1 1]\n"
          ],
          "name": "stdout"
        }
      ]
    },
    {
      "cell_type": "code",
      "metadata": {
        "id": "-vlv_NE0BmsL",
        "colab_type": "code",
        "outputId": "0b2e29cd-64ac-43ba-9fc4-174671829620",
        "colab": {
          "base_uri": "https://localhost:8080/",
          "height": 51
        }
      },
      "source": [
        "%%script false --no-raise-error\n",
        "# Submission 3\n",
        "print(\"F1_Score: {}\".format(f1_score(y_eval, preds)))\n",
        "print(\"Macro F1_Score: {}\".format(f1_score(y_eval, preds, average='macro')))"
      ],
      "execution_count": 0,
      "outputs": [
        {
          "output_type": "stream",
          "text": [
            "F1_Score: 0.9728376035445965\n",
            "Macro F1_Score: 0.8389292620233442\n"
          ],
          "name": "stdout"
        }
      ]
    },
    {
      "cell_type": "code",
      "metadata": {
        "id": "r7_wH-NLDUGu",
        "colab_type": "code",
        "outputId": "248974d6-d1c6-428d-b26f-cd830cc0a717",
        "colab": {
          "base_uri": "https://localhost:8080/",
          "height": 51
        }
      },
      "source": [
        "%%script false --no-raise-error\n",
        "# Submission 4 - XGB with half of the parameter tuning - booster='dart', objective='binary:logitraw', n_estimators=1000, max_depth=8, learning_rate=0.03, eval_metric='mae'\n",
        "# Imputer - most_frequent\n",
        "print(\"F1_Score: {}\".format(f1_score(y_eval, preds)))\n",
        "print(\"Macro F1_Score: {}\".format(f1_score(y_eval, preds, average='macro')))"
      ],
      "execution_count": 0,
      "outputs": [
        {
          "output_type": "stream",
          "text": [
            "F1_Score: 0.9719752609199845\n",
            "Macro F1_Score: 0.8395229839953459\n"
          ],
          "name": "stdout"
        }
      ]
    },
    {
      "cell_type": "code",
      "metadata": {
        "id": "FWpI2RGENo5y",
        "colab_type": "code",
        "outputId": "8b56f571-7071-486f-e105-76139027518a",
        "colab": {
          "base_uri": "https://localhost:8080/",
          "height": 51
        }
      },
      "source": [
        "%%script false --no-raise-error\n",
        "# Submission 4 - XGB with half of the parameter tuning - booster='dart', objective='binary:logitraw', n_estimators=1000, max_depth=8, learning_rate=0.03, eval_metric='mae'\n",
        "# Imputer - median\n",
        "print(\"F1_Score: {}\".format(f1_score(y_eval, preds)))\n",
        "print(\"Macro F1_Score: {}\".format(f1_score(y_eval, preds, average='macro')))"
      ],
      "execution_count": 0,
      "outputs": [
        {
          "output_type": "stream",
          "text": [
            "F1_Score: 0.9720745965793796\n",
            "Macro F1_Score: 0.8399301193210346\n"
          ],
          "name": "stdout"
        }
      ]
    },
    {
      "cell_type": "code",
      "metadata": {
        "id": "pyAf1qPQYNqV",
        "colab_type": "code",
        "outputId": "a1d832f4-781b-4d37-d57e-b649a220ec81",
        "colab": {
          "base_uri": "https://localhost:8080/",
          "height": 51
        }
      },
      "source": [
        "%%script false --no-raise-error\n",
        "# Submission 5/6 - XGB with half of the parameter tuning - booster='dart', objective='binary:logitraw', n_estimators=1000, max_depth=10, learning_rate=0.03, eval_metric='mae'\n",
        "# Imputer - median \n",
        "print(\"F1_Score: {}\".format(f1_score(y_eval, preds)))\n",
        "print(\"Macro F1_Score: {}\".format(f1_score(y_eval, preds, average='macro')))"
      ],
      "execution_count": 0,
      "outputs": [
        {
          "output_type": "stream",
          "text": [
            "F1_Score: 0.9724717473196176\n",
            "Macro F1_Score: 0.8415658228983875\n"
          ],
          "name": "stdout"
        }
      ]
    },
    {
      "cell_type": "code",
      "metadata": {
        "id": "K2uocE1ImkKD",
        "colab_type": "code",
        "outputId": "f5ac6c69-d094-4e89-fcd6-e4c4718569ea",
        "colab": {
          "base_uri": "https://localhost:8080/",
          "height": 51
        }
      },
      "source": [
        "%%script false --no-raise-error\n",
        "# Submission xxx - XGB with half of the parameter tuning\n",
        "# Imputer - median \n",
        "print(\"F1_Score: {}\".format(f1_score(y_eval, preds)))\n",
        "print(\"Macro F1_Score: {}\".format(f1_score(y_eval, preds, average='macro')))"
      ],
      "execution_count": 0,
      "outputs": [
        {
          "output_type": "stream",
          "text": [
            "F1_Score: 0.9713020030816641\n",
            "Macro F1_Score: 0.8294665151676665\n"
          ],
          "name": "stdout"
        }
      ]
    },
    {
      "cell_type": "code",
      "metadata": {
        "id": "tPDYFtRYlLvt",
        "colab_type": "code",
        "outputId": "5a037d65-d88f-48be-dc2d-e70829d8f5ae",
        "colab": {
          "base_uri": "https://localhost:8080/",
          "height": 51
        }
      },
      "source": [
        "%%script false --no-raise-error\n",
        "# Submission 7 - XGB with half of the parameter tuning - booster='dart', objective='binary:logitraw', n_estimators=1000, max_depth=10, learning_rate=0.03, eval_metric='mae'\n",
        "# Outliers handled\n",
        "print(\"F1_Score: {}\".format(f1_score(y_eval, preds)))\n",
        "print(\"Macro F1_Score: {}\".format(f1_score(y_eval, preds, average='macro')))"
      ],
      "execution_count": 0,
      "outputs": [
        {
          "output_type": "stream",
          "text": [
            "F1_Score: 0.9734496124031007\n",
            "Macro F1_Score: 0.8409801253504865\n"
          ],
          "name": "stdout"
        }
      ]
    },
    {
      "cell_type": "code",
      "metadata": {
        "id": "gWBan6PG13i0",
        "colab_type": "code",
        "outputId": "3927034b-2f1c-4766-e40e-0c4962de2e73",
        "colab": {
          "base_uri": "https://localhost:8080/",
          "height": 51
        }
      },
      "source": [
        "%%script false --no-raise-error\n",
        "# Submission 8 - max_depth=10, learning_rate=0.01, n_estimators=1000, eval_metric='rmse' with outlier handling\n",
        "print(\"F1_Score: {}\".format(f1_score(y_eval, preds)))\n",
        "print(\"Macro F1_Score: {}\".format(f1_score(y_eval, preds, average='macro')))"
      ],
      "execution_count": 0,
      "outputs": [
        {
          "output_type": "stream",
          "text": [
            "F1_Score: 0.9736359246740706\n",
            "Macro F1_Score: 0.8359892330552674\n"
          ],
          "name": "stdout"
        }
      ]
    },
    {
      "cell_type": "code",
      "metadata": {
        "id": "i0CoyJcV3Zx0",
        "colab_type": "code",
        "outputId": "f46bd5c8-7ae0-419d-cebd-eb6f1ffca5be",
        "colab": {
          "base_uri": "https://localhost:8080/",
          "height": 51
        }
      },
      "source": [
        "%%script false --no-raise-error\n",
        "# Submission 9 - objective = 'binary:hinge', max_depth=10, learning_rate=0.01, n_estimators=1000, eval_metric='rmse' with outlier handling\n",
        "print(\"F1_Score: {}\".format(f1_score(y_eval, preds)))\n",
        "print(\"Macro F1_Score: {}\".format(f1_score(y_eval, preds, average='macro')))\n",
        "\n",
        "# leaderboard loss from submission 8"
      ],
      "execution_count": 0,
      "outputs": [
        {
          "output_type": "stream",
          "text": [
            "F1_Score: 0.9729886726691839\n",
            "Macro F1_Score: 0.8366554534130022\n"
          ],
          "name": "stdout"
        }
      ]
    },
    {
      "cell_type": "code",
      "metadata": {
        "id": "hnivTIhJFz51",
        "colab_type": "code",
        "outputId": "47cb2f9e-0f49-43cb-e647-23b9b4401bf1",
        "colab": {
          "base_uri": "https://localhost:8080/",
          "height": 51
        }
      },
      "source": [
        "%%script false --no-raise-error\n",
        "# Submission 10 - submission 8 without time-error\n",
        "print(\"F1_Score: {}\".format(f1_score(y_eval, preds)))\n",
        "print(\"Macro F1_Score: {}\".format(f1_score(y_eval, preds, average='macro')))"
      ],
      "execution_count": 0,
      "outputs": [
        {
          "output_type": "stream",
          "text": [
            "F1_Score: 0.9732393005506715\n",
            "Macro F1_Score: 0.8349219503848648\n"
          ],
          "name": "stdout"
        }
      ]
    },
    {
      "cell_type": "code",
      "metadata": {
        "id": "ZqxJpLSWJ9YP",
        "colab_type": "code",
        "outputId": "7bcde5e8-e5e9-4129-ca66-8814ce1eb985",
        "colab": {
          "base_uri": "https://localhost:8080/",
          "height": 51
        }
      },
      "source": [
        "%%script false --no-raise-error\n",
        "# Submission 11 - Submission 8 with ismissing column\n",
        "print(\"F1_Score: {}\".format(f1_score(y_eval, preds)))\n",
        "print(\"Macro F1_Score: {}\".format(f1_score(y_eval, preds, average='macro')))\n",
        "\n",
        "#3nd best model"
      ],
      "execution_count": 0,
      "outputs": [
        {
          "output_type": "stream",
          "text": [
            "F1_Score: 0.9733539293299864\n",
            "Macro F1_Score: 0.8336836165496939\n"
          ],
          "name": "stdout"
        }
      ]
    },
    {
      "cell_type": "code",
      "metadata": {
        "id": "HN2MRuknhsjf",
        "colab_type": "code",
        "outputId": "4bad42d7-5cb9-4cef-a5b9-01c8683be986",
        "colab": {
          "base_uri": "https://localhost:8080/",
          "height": 51
        }
      },
      "source": [
        "# XGBClassifier(booster='dart', subsample=0.8, min_child_weight=1, max_depth=12, learning_rate=0.05, gamma=0.2, colsample_bytree=1,\n",
        "#                           colsample_bynode=1, colsample_bylevel=1, base_score=0.5, n_estimators=1000, objective='binary:logitraw',\n",
        "#                       importance_type='gain', max_delta_step=0, missing=None, monotone_constrains=None, silent=True, \n",
        "#                       njobs=6, num_parallel_tree=1, nthread=6, random_state=0, eval_metric='rmse', reg_alpha=0, reg_lambda=1, scale_pos_weight=1, tree_method='hist', \n",
        "#                       validate_parameters=False)\n",
        "\n",
        "# Did not submit as with low score\n",
        "print(\"F1_Score: {}\".format(f1_score(y_eval, preds)))\n",
        "print(\"Macro F1_Score: {}\".format(f1_score(y_eval, preds, average='macro')))"
      ],
      "execution_count": 0,
      "outputs": [
        {
          "output_type": "stream",
          "text": [
            "F1_Score: 0.9721146398140975\n",
            "Macro F1_Score: 0.8315508821388085\n"
          ],
          "name": "stdout"
        }
      ]
    },
    {
      "cell_type": "code",
      "metadata": {
        "id": "9PflrD1Qm0Ex",
        "colab_type": "code",
        "outputId": "88ceabb1-37de-4b58-8f7d-aa426c09693e",
        "colab": {
          "base_uri": "https://localhost:8080/",
          "height": 51
        }
      },
      "source": [
        "# Submission 13 - submission 11 with learning_rate=0.05, eval_metric='logloss'\n",
        "print(\"F1_Score: {}\".format(f1_score(y_eval, preds)))\n",
        "print(\"Macro F1_Score: {}\".format(f1_score(y_eval, preds, average='macro')))"
      ],
      "execution_count": 0,
      "outputs": [
        {
          "output_type": "stream",
          "text": [
            "F1_Score: 0.9731245166279968\n",
            "Macro F1_Score: 0.8348155334231686\n"
          ],
          "name": "stdout"
        }
      ]
    },
    {
      "cell_type": "code",
      "metadata": {
        "id": "iBKdKukXP4ra",
        "colab_type": "code",
        "outputId": "6a2a912b-40a7-49e2-a6f9-987d4aa2e665",
        "colab": {
          "base_uri": "https://localhost:8080/",
          "height": 51
        }
      },
      "source": [
        "# Submission 14 - Submission 13 with reg_lambda=1.5\n",
        "print(\"F1_Score: {}\".format(f1_score(y_eval, preds)))\n",
        "print(\"Macro F1_Score: {}\".format(f1_score(y_eval, preds, average='macro')))\n",
        "\n",
        "#4rd best model"
      ],
      "execution_count": 0,
      "outputs": [
        {
          "output_type": "stream",
          "text": [
            "F1_Score: 0.9730304494925085\n",
            "Macro F1_Score: 0.8340562083528116\n"
          ],
          "name": "stdout"
        }
      ]
    },
    {
      "cell_type": "code",
      "metadata": {
        "id": "RijTZVDRUVmX",
        "colab_type": "code",
        "outputId": "205f738c-2ae4-4c01-c145-5fb2a8c3d03e",
        "colab": {
          "base_uri": "https://localhost:8080/",
          "height": 51
        }
      },
      "source": [
        "# Submission 15 - Submission 11 with reg_lambda=1.7\n",
        "print(\"F1_Score: {}\".format(f1_score(y_eval, preds)))\n",
        "print(\"Macro F1_Score: {}\".format(f1_score(y_eval, preds, average='macro')))\n",
        "\n",
        "#2rd best model"
      ],
      "execution_count": 0,
      "outputs": [
        {
          "output_type": "stream",
          "text": [
            "F1_Score: 0.9737451737451738\n",
            "Macro F1_Score: 0.8357614757614757\n"
          ],
          "name": "stdout"
        }
      ]
    },
    {
      "cell_type": "code",
      "metadata": {
        "id": "_AegykXIDbjo",
        "colab_type": "code",
        "outputId": "be62d466-d8f3-4431-95ed-775217e2088b",
        "colab": {
          "base_uri": "https://localhost:8080/",
          "height": 298
        }
      },
      "source": [
        "from sklearn.metrics import confusion_matrix\n",
        "import seaborn as sns\n",
        "\n",
        "conf_mat = confusion_matrix(y_eval, preds)\n",
        "sns.heatmap(conf_mat, annot=True, fmt='d')\n",
        "plt.ylabel('Actual')\n",
        "plt.xlabel('Predicted')"
      ],
      "execution_count": 0,
      "outputs": [
        {
          "output_type": "execute_result",
          "data": {
            "text/plain": [
              "Text(0.5, 15.0, 'Predicted')"
            ]
          },
          "metadata": {
            "tags": []
          },
          "execution_count": 137
        },
        {
          "output_type": "display_data",
          "data": {
            "image/png": "[encoded data removed]",
            "text/plain": [
              "<Figure size 432x288 with 2 Axes>"
            ]
          },
          "metadata": {
            "tags": [],
            "needs_background": "light"
          }
        }
      ]
    },
    {
      "cell_type": "markdown",
      "metadata": {
        "id": "yqHJ9S1XuctN",
        "colab_type": "text"
      },
      "source": [
        "# Predicting on Test Data"
      ]
    },
    {
      "cell_type": "code",
      "metadata": {
        "id": "Xoj24z2SB2E5",
        "colab_type": "code",
        "outputId": "b76f073a-b31d-43fa-9e61-ec889a72bdd9",
        "colab": {
          "base_uri": "https://localhost:8080/",
          "height": 139
        }
      },
      "source": [
        "%%time \n",
        "\n",
        "full_pipeline.fit(feature_df, label_df)\n",
        "None"
      ],
      "execution_count": 0,
      "outputs": [
        {
          "output_type": "stream",
          "text": [
            "/usr/local/lib/python3.6/dist-packages/sklearn/preprocessing/_label.py:235: DataConversionWarning: A column-vector y was passed when a 1d array was expected. Please change the shape of y to (n_samples, ), for example using ravel().\n",
            "  y = column_or_1d(y, warn=True)\n",
            "/usr/local/lib/python3.6/dist-packages/sklearn/preprocessing/_label.py:268: DataConversionWarning: A column-vector y was passed when a 1d array was expected. Please change the shape of y to (n_samples, ), for example using ravel().\n",
            "  y = column_or_1d(y, warn=True)\n"
          ],
          "name": "stderr"
        },
        {
          "output_type": "stream",
          "text": [
            "CPU times: user 31 s, sys: 66.8 ms, total: 31.1 s\n",
            "Wall time: 31.1 s\n"
          ],
          "name": "stdout"
        }
      ]
    },
    {
      "cell_type": "code",
      "metadata": {
        "id": "QZ0BZym5CByg",
        "colab_type": "code",
        "colab": {}
      },
      "source": [
        "test_features_df = pd.read_csv(\"/content/gdrive/My Drive/Colab Notebooks/TaxiFare/test.csv\", \n",
        "                               index_col=\"tripid\")\n",
        "\n",
        "feature_process(test_features_df)\n",
        "print(test_features_df.shape)\n",
        "test_features_df.head()"
      ],
      "execution_count": 0,
      "outputs": []
    },
    {
      "cell_type": "code",
      "metadata": {
        "id": "pt80k6nOc0LS",
        "colab_type": "code",
        "outputId": "851fd03f-98bf-4ae9-8d2f-09635d875929",
        "colab": {
          "base_uri": "https://localhost:8080/",
          "height": 204
        }
      },
      "source": [
        "test_features_df.isna().sum()"
      ],
      "execution_count": 0,
      "outputs": [
        {
          "output_type": "execute_result",
          "data": {
            "text/plain": [
              "additional_fare              0\n",
              "duration                     0\n",
              "meter_waiting                0\n",
              "meter_waiting_fare           0\n",
              "meter_waiting_till_pickup    0\n",
              "fare                         0\n",
              "trip_time                    0\n",
              "trip_distance                0\n",
              "time_error                   0\n",
              "ismissing                    0\n",
              "dtype: int64"
            ]
          },
          "metadata": {
            "tags": []
          },
          "execution_count": 140
        }
      ]
    },
    {
      "cell_type": "code",
      "metadata": {
        "id": "aaHgpNAgCvIf",
        "colab_type": "code",
        "outputId": "3b750ee7-33ac-47c4-beff-2ac25c3e5bce",
        "colab": {
          "base_uri": "https://localhost:8080/",
          "height": 34
        }
      },
      "source": [
        "test_predictions = full_pipeline.predict(test_features_df)\n",
        "test_predictions"
      ],
      "execution_count": 0,
      "outputs": [
        {
          "output_type": "execute_result",
          "data": {
            "text/plain": [
              "array([1, 1, 1, ..., 1, 1, 1])"
            ]
          },
          "metadata": {
            "tags": []
          },
          "execution_count": 141
        }
      ]
    },
    {
      "cell_type": "code",
      "metadata": {
        "id": "1ODZXlr1DE3w",
        "colab_type": "code",
        "colab": {}
      },
      "source": [
        "submission_df = pd.read_csv(\"/content/gdrive/My Drive/Colab Notebooks/TaxiFare/sample_submission.csv\", \n",
        "                            index_col=\"tripid\")"
      ],
      "execution_count": 0,
      "outputs": []
    },
    {
      "cell_type": "code",
      "metadata": {
        "id": "b6Q1R1DqDKBQ",
        "colab_type": "code",
        "colab": {}
      },
      "source": [
        "# Make sure we have the rows in the same order\n",
        "np.testing.assert_array_equal(test_features_df.index.values, \n",
        "                              submission_df.index.values)\n",
        "\n",
        "# Save predictions to submission data frame\n",
        "submission_df[\"prediction\"] = test_predictions\n",
        "\n",
        "submission_df.head()"
      ],
      "execution_count": 0,
      "outputs": []
    },
    {
      "cell_type": "code",
      "metadata": {
        "id": "DYVYuiR6DcbN",
        "colab_type": "code",
        "colab": {}
      },
      "source": [
        "submission_df.to_csv('/content/gdrive/My Drive/Colab Notebooks/TaxiFare/my_submission.csv', index=True)"
      ],
      "execution_count": 0,
      "outputs": []
    },
    {
      "cell_type": "code",
      "metadata": {
        "id": "keljbWu05m60",
        "colab_type": "code",
        "colab": {}
      },
      "source": [
        "!head /content/gdrive/My\\ Drive/Colab\\ Notebooks/TaxiFare/my_submission.csv"
      ],
      "execution_count": 0,
      "outputs": []
    },
    {
      "cell_type": "code",
      "metadata": {
        "id": "Df7t1wvb5ajd",
        "colab_type": "code",
        "colab": {}
      },
      "source": [
        "%%script false --no-raise-error\n",
        "# memory footprint support libraries/code\n",
        "!ln -sf /opt/bin/nvidia-smi /usr/bin/nvidia-smi\n",
        "!pip install gputil\n",
        "!pip install psutil\n",
        "!pip install humanize\n",
        "import psutil\n",
        "import humanize\n",
        "import os\n",
        "import GPUtil as GPU\n",
        "GPUs = GPU.getGPUs()\n",
        "# XXX: only one GPU on Colab and isn’t guaranteed\n",
        "gpu = GPUs[0]\n",
        "def printm():\n",
        " process = psutil.Process(os.getpid())\n",
        " print(\"Gen RAM Free: \" + humanize.naturalsize( psutil.virtual_memory().available ), \" | Proc size: \" + humanize.naturalsize( process.memory_info().rss))\n",
        " print(\"GPU RAM Free: {0:.0f}MB | Used: {1:.0f}MB | Util {2:3.0f}% | Total {3:.0f}MB\".format(gpu.memoryFree, gpu.memoryUsed, gpu.memoryUtil*100, gpu.memoryTotal))\n",
        "printm() "
      ],
      "execution_count": 0,
      "outputs": []
    }
  ]
}